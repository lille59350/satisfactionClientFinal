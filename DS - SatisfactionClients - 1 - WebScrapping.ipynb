{
 "cells": [
  {
   "cell_type": "code",
   "execution_count": 3,
   "id": "16ee25c2",
   "metadata": {},
   "outputs": [],
   "source": [
    "import pandas as pd\n",
    "import requests\n",
    "from bs4 import BeautifulSoup"
   ]
  },
  {
   "cell_type": "code",
   "execution_count": 4,
   "id": "91183cee",
   "metadata": {},
   "outputs": [
    {
     "data": {
      "text/plain": [
       "<Response [200]>"
      ]
     },
     "execution_count": 4,
     "metadata": {},
     "output_type": "execute_result"
    }
   ],
   "source": [
    "url = 'https://fr.trustpilot.com/review/www.cdiscount.com'\n",
    "html = requests.get(url)\n",
    "html"
   ]
  },
  {
   "cell_type": "code",
   "execution_count": 104,
   "id": "2a76aeff",
   "metadata": {
    "scrolled": true
   },
   "outputs": [
    {
     "name": "stdout",
     "output_type": "stream",
     "text": [
      "MJMARTIN JEAN CLAUDE4 avisFRll y a 3 joursSur invitationdes bon produit livraison en bonne état…des bon produit livraison en bonne état et rapide merci a vousDate de l'expérience: 19 janvier 2023\n"
     ]
    }
   ],
   "source": [
    "# transformation de la page en un document exploitable\n",
    "# Selon le parsers choisi (html.parser, lxml, lxml-xml, xml, html5lib)\n",
    "soup = BeautifulSoup(html.text, 'html.parser')\n",
    "\n",
    "# affichage de manière agencé avec la methode pretiffy\n",
    "soup.prettify()\n",
    "\n",
    "# Chercher à partir de la valeur d'une balise tous les éléments d'un commentaire\n",
    "comment = soup.find_all('div', {\"class\" : \"styles_cardWrapper__LcCPA styles_show__HUXRb styles_reviewCard__9HxJJ\"})\n",
    "print(comment[2].text)"
   ]
  },
  {
   "cell_type": "code",
   "execution_count": 138,
   "id": "28a720c0",
   "metadata": {},
   "outputs": [
    {
     "name": "stdout",
     "output_type": "stream",
     "text": [
      "5\n",
      "Date de l'expérience: 14 janvier 2023\n"
     ]
    }
   ],
   "source": [
    "# chercher dans la balise précédente les sous balises correspondant au pays, à la note et au commentaire\n",
    "\n",
    "note = comment[0].find('div', {\"class\" : \"styles_reviewHeader__iU9Px\"})['data-service-review-rating']\n",
    "print(note)\n",
    "\n",
    "commentaire = comment[0].find('p').text\n",
    "print(commentaire)"
   ]
  },
  {
   "cell_type": "code",
   "execution_count": 5,
   "id": "68090436",
   "metadata": {
    "scrolled": true
   },
   "outputs": [
    {
     "name": "stdout",
     "output_type": "stream",
     "text": [
      "le temps de calcul est de 15230.77 secondes\n"
     ]
    }
   ],
   "source": [
    "from time import sleep\n",
    "from time import time\n",
    "t0 = time()\n",
    "\n",
    "# recherche sur plusieurs pages\n",
    "nb_pages = 6000\n",
    "liste_url = []\n",
    "page = 1\n",
    "while page <= nb_pages :\n",
    "    liste_url.append('https://fr.trustpilot.com/review/www.cdiscount.com?page='+str(page))\n",
    "    page = page + 1\n",
    "\n",
    "liste_note = []\n",
    "liste_commentaire = []\n",
    "\n",
    "for url in liste_url:\n",
    "    html = requests.get(url)\n",
    "    soup = BeautifulSoup(html.text, 'html.parser')\n",
    "    comment = soup.find_all('div', {\"class\" : \"styles_cardWrapper__LcCPA styles_show__HUXRb styles_reviewCard__9HxJJ\"})\n",
    "    for nb_avis in range(len(comment)):\n",
    "        liste_note.append(comment[nb_avis].find('div', {\"class\" : \"styles_reviewHeader__iU9Px\"})['data-service-review-rating'])\n",
    "        try :\n",
    "            liste_commentaire.append(comment[nb_avis].find('p', {\"class\" : \"typography_body-l__KUYFJ\"}).text)\n",
    "        except:\n",
    "            liste_commentaire.append('NaN')\n",
    "    sleep(2)\n",
    "\n",
    "dico = {'note' : liste_note, 'commentaire' : liste_commentaire}\n",
    "df = pd.DataFrame(dico)\n",
    "\n",
    "print('le temps de calcul est de {:.2f} secondes'.format(time()-t0))"
   ]
  },
  {
   "cell_type": "code",
   "execution_count": 7,
   "id": "cd6585b8",
   "metadata": {},
   "outputs": [
    {
     "data": {
      "text/html": [
       "<div>\n",
       "<style scoped>\n",
       "    .dataframe tbody tr th:only-of-type {\n",
       "        vertical-align: middle;\n",
       "    }\n",
       "\n",
       "    .dataframe tbody tr th {\n",
       "        vertical-align: top;\n",
       "    }\n",
       "\n",
       "    .dataframe thead th {\n",
       "        text-align: right;\n",
       "    }\n",
       "</style>\n",
       "<table border=\"1\" class=\"dataframe\">\n",
       "  <thead>\n",
       "    <tr style=\"text-align: right;\">\n",
       "      <th></th>\n",
       "      <th>note</th>\n",
       "      <th>commentaire</th>\n",
       "    </tr>\n",
       "  </thead>\n",
       "  <tbody>\n",
       "    <tr>\n",
       "      <th>119890</th>\n",
       "      <td>5</td>\n",
       "      <td>depuis des années que j'achète sur Cdiscount, ...</td>\n",
       "    </tr>\n",
       "    <tr>\n",
       "      <th>119891</th>\n",
       "      <td>5</td>\n",
       "      <td>comme toujours aucun souci avec je recommande ...</td>\n",
       "    </tr>\n",
       "    <tr>\n",
       "      <th>119892</th>\n",
       "      <td>5</td>\n",
       "      <td>NaN</td>\n",
       "    </tr>\n",
       "    <tr>\n",
       "      <th>119893</th>\n",
       "      <td>1</td>\n",
       "      <td>Cdiscount est devenu une blague, trois command...</td>\n",
       "    </tr>\n",
       "    <tr>\n",
       "      <th>119894</th>\n",
       "      <td>4</td>\n",
       "      <td>rien a dire a par pour le delais de livraison</td>\n",
       "    </tr>\n",
       "    <tr>\n",
       "      <th>119895</th>\n",
       "      <td>4</td>\n",
       "      <td>FRAIS DE LIVRAISON RESTENT TRES CHERS!!!!</td>\n",
       "    </tr>\n",
       "    <tr>\n",
       "      <th>119896</th>\n",
       "      <td>3</td>\n",
       "      <td>Je trouve désolant de découvrir les tarifs de ...</td>\n",
       "    </tr>\n",
       "    <tr>\n",
       "      <th>119897</th>\n",
       "      <td>5</td>\n",
       "      <td>NaN</td>\n",
       "    </tr>\n",
       "    <tr>\n",
       "      <th>119898</th>\n",
       "      <td>4</td>\n",
       "      <td>NaN</td>\n",
       "    </tr>\n",
       "    <tr>\n",
       "      <th>119899</th>\n",
       "      <td>4</td>\n",
       "      <td>NaN</td>\n",
       "    </tr>\n",
       "  </tbody>\n",
       "</table>\n",
       "</div>"
      ],
      "text/plain": [
       "       note                                        commentaire\n",
       "119890    5  depuis des années que j'achète sur Cdiscount, ...\n",
       "119891    5  comme toujours aucun souci avec je recommande ...\n",
       "119892    5                                                NaN\n",
       "119893    1  Cdiscount est devenu une blague, trois command...\n",
       "119894    4      rien a dire a par pour le delais de livraison\n",
       "119895    4          FRAIS DE LIVRAISON RESTENT TRES CHERS!!!!\n",
       "119896    3  Je trouve désolant de découvrir les tarifs de ...\n",
       "119897    5                                                NaN\n",
       "119898    4                                                NaN\n",
       "119899    4                                                NaN"
      ]
     },
     "execution_count": 7,
     "metadata": {},
     "output_type": "execute_result"
    }
   ],
   "source": [
    "df.tail(10)"
   ]
  },
  {
   "cell_type": "code",
   "execution_count": 8,
   "id": "2add8f3e",
   "metadata": {},
   "outputs": [
    {
     "name": "stderr",
     "output_type": "stream",
     "text": [
      "C:\\Users\\t.fourtouill\\Anaconda3\\lib\\site-packages\\seaborn\\_decorators.py:36: FutureWarning: Pass the following variable as a keyword arg: x. From version 0.12, the only valid positional argument will be `data`, and passing other arguments without an explicit keyword will result in an error or misinterpretation.\n",
      "  warnings.warn(\n"
     ]
    },
    {
     "data": {
      "text/plain": [
       "<AxesSubplot:xlabel='note', ylabel='count'>"
      ]
     },
     "execution_count": 8,
     "metadata": {},
     "output_type": "execute_result"
    },
    {
     "data": {
      "image/png": "[encoded data removed]",
      "text/plain": [
       "<Figure size 432x288 with 1 Axes>"
      ]
     },
     "metadata": {
      "needs_background": "light"
     },
     "output_type": "display_data"
    }
   ],
   "source": [
    "import seaborn as sns\n",
    "sns.countplot(df['note'])"
   ]
  },
  {
   "cell_type": "code",
   "execution_count": 6,
   "id": "164f559e",
   "metadata": {},
   "outputs": [],
   "source": [
    "df.to_csv('datasets/SatisfactionClients/cdiscount.csv')"
   ]
  }
 ],
 "metadata": {
  "kernelspec": {
   "display_name": "Python 3 (ipykernel)",
   "language": "python",
   "name": "python3"
  },
  "language_info": {
   "codemirror_mode": {
    "name": "ipython",
    "version": 3
   },
   "file_extension": ".py",
   "mimetype": "text/x-python",
   "name": "python",
   "nbconvert_exporter": "python",
   "pygments_lexer": "ipython3",
   "version": "3.9.7"
  }
 },
 "nbformat": 4,
 "nbformat_minor": 5
}

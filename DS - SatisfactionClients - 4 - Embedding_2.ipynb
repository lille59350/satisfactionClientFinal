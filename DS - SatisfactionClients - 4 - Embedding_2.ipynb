{
 "cells": [
  {
   "cell_type": "code",
   "execution_count": 39,
   "id": "196d79a4",
   "metadata": {},
   "outputs": [],
   "source": [
    "import pandas as pd\n",
    "import numpy as np\n",
    "import matplotlib.pyplot as plt\n",
    "import seaborn as sns\n",
    "from time import time\n",
    "import itertools\n",
    "import keras\n",
    "import tensorflow"
   ]
  },
  {
   "cell_type": "code",
   "execution_count": 40,
   "id": "6b85a034",
   "metadata": {},
   "outputs": [],
   "source": [
    "pd.options.display.max_colwidth=800\n",
    "pd.set_option('display.max_rows', 500)\n",
    "pd.set_option('display.max_columns', 500)"
   ]
  },
  {
   "cell_type": "code",
   "execution_count": 41,
   "id": "119a889d",
   "metadata": {},
   "outputs": [
    {
     "data": {
      "text/html": [
       "<div>\n",
       "<style scoped>\n",
       "    .dataframe tbody tr th:only-of-type {\n",
       "        vertical-align: middle;\n",
       "    }\n",
       "\n",
       "    .dataframe tbody tr th {\n",
       "        vertical-align: top;\n",
       "    }\n",
       "\n",
       "    .dataframe thead th {\n",
       "        text-align: right;\n",
       "    }\n",
       "</style>\n",
       "<table border=\"1\" class=\"dataframe\">\n",
       "  <thead>\n",
       "    <tr style=\"text-align: right;\">\n",
       "      <th></th>\n",
       "      <th>note</th>\n",
       "      <th>commentaire</th>\n",
       "    </tr>\n",
       "  </thead>\n",
       "  <tbody>\n",
       "    <tr>\n",
       "      <th>0</th>\n",
       "      <td>1</td>\n",
       "      <td>après avoir soutenu livreur poste déclaration colis livre vient m'aviser colis suite non réclamation vient tre retourné l'expéditeur donc tous menteurs colis n'a donc jamais livré voici preuve flagrante discount persiste demandant malgré cette déclaration tas justificatifs inutiles menteurs voleurs</td>\n",
       "    </tr>\n",
       "    <tr>\n",
       "      <th>1</th>\n",
       "      <td>1</td>\n",
       "      <td>service client abonnés absents invite chercher commentaires seuls ceux passent reste extr tout difficile avertir personnellement commandé réfrigérateur livre mauvaise référence depuis mois propose uniquement reprise sans livraison donc fais comment aliments réfrigérateur combiné mise demeure etc fonctionne</td>\n",
       "    </tr>\n",
       "  </tbody>\n",
       "</table>\n",
       "</div>"
      ],
      "text/plain": [
       "   note  \\\n",
       "0     1   \n",
       "1     1   \n",
       "\n",
       "                                                                                                                                                                                                                                                                                                            commentaire  \n",
       "0          après avoir soutenu livreur poste déclaration colis livre vient m'aviser colis suite non réclamation vient tre retourné l'expéditeur donc tous menteurs colis n'a donc jamais livré voici preuve flagrante discount persiste demandant malgré cette déclaration tas justificatifs inutiles menteurs voleurs   \n",
       "1  service client abonnés absents invite chercher commentaires seuls ceux passent reste extr tout difficile avertir personnellement commandé réfrigérateur livre mauvaise référence depuis mois propose uniquement reprise sans livraison donc fais comment aliments réfrigérateur combiné mise demeure etc fonctionne   "
      ]
     },
     "execution_count": 41,
     "metadata": {},
     "output_type": "execute_result"
    }
   ],
   "source": [
    "df = pd.read_csv('datasets/SatisfactionClients/cdiscount2.csv')\n",
    "df_test = pd.read_csv('datasets/SatisfactionClients/amazon_test1.csv')\n",
    "df.head(2)"
   ]
  },
  {
   "cell_type": "code",
   "execution_count": 42,
   "id": "d4bae705",
   "metadata": {},
   "outputs": [
    {
     "data": {
      "text/plain": [
       "note            0\n",
       "commentaire    54\n",
       "dtype: int64"
      ]
     },
     "execution_count": 42,
     "metadata": {},
     "output_type": "execute_result"
    }
   ],
   "source": [
    "df.isna().sum()"
   ]
  },
  {
   "cell_type": "code",
   "execution_count": 43,
   "id": "e5b1e976",
   "metadata": {},
   "outputs": [],
   "source": [
    "df = df[df['commentaire'].isna()==False]"
   ]
  },
  {
   "cell_type": "code",
   "execution_count": 44,
   "id": "f13e334a",
   "metadata": {},
   "outputs": [],
   "source": [
    "# séparation de la variable cible et des variables explicatives\n",
    "X = df['commentaire']\n",
    "y = df['note'].values"
   ]
  },
  {
   "cell_type": "code",
   "execution_count": 45,
   "id": "6269af3d",
   "metadata": {},
   "outputs": [],
   "source": [
    "# séparation du jeu de données en un dataset d'entrainement et un dataset de test\n",
    "from sklearn.model_selection import train_test_split\n",
    "X_train, X_test, y_train, y_test = train_test_split(X, y, test_size=0.2, shuffle=True)"
   ]
  },
  {
   "cell_type": "code",
   "execution_count": 46,
   "id": "0673da10",
   "metadata": {},
   "outputs": [
    {
     "name": "stdout",
     "output_type": "stream",
     "text": [
      "(67552,)\n",
      "(16888,)\n",
      "(100, 3)\n"
     ]
    }
   ],
   "source": [
    "print(X_train.shape)\n",
    "print(X_test.shape)\n",
    "print(df_test.shape)"
   ]
  },
  {
   "cell_type": "code",
   "execution_count": 47,
   "id": "d40a7b61",
   "metadata": {},
   "outputs": [],
   "source": [
    "from keras.preprocessing.text import Tokenizer\n",
    "from keras.preprocessing.sequence import pad_sequences"
   ]
  },
  {
   "cell_type": "code",
   "execution_count": 48,
   "id": "7709d894",
   "metadata": {},
   "outputs": [],
   "source": [
    "# tokenisation des commentaires\n",
    "num_words=5000\n",
    "tk = Tokenizer(num_words=num_words, lower=True)"
   ]
  },
  {
   "cell_type": "code",
   "execution_count": 49,
   "id": "014744b9",
   "metadata": {},
   "outputs": [],
   "source": [
    "# entrainement de la tokenisation sur le X_train\n",
    "tk.fit_on_texts(X_train)"
   ]
  },
  {
   "cell_type": "code",
   "execution_count": 50,
   "id": "5faa7d54",
   "metadata": {},
   "outputs": [
    {
     "data": {
      "text/plain": [
       "35574"
      ]
     },
     "execution_count": 50,
     "metadata": {},
     "output_type": "execute_result"
    }
   ],
   "source": [
    "# nb de ligne de la matrice\n",
    "word_index = tk.word_index\n",
    "len(tk.word_index)"
   ]
  },
  {
   "cell_type": "code",
   "execution_count": 51,
   "id": "8a275671",
   "metadata": {},
   "outputs": [
    {
     "data": {
      "text/plain": [
       "5000"
      ]
     },
     "execution_count": 51,
     "metadata": {},
     "output_type": "execute_result"
    }
   ],
   "source": [
    "# nb de colonnes dans la matrice\n",
    "vocabulary_size = tk.num_words\n",
    "vocabulary_size"
   ]
  },
  {
   "cell_type": "code",
   "execution_count": 52,
   "id": "c937c451",
   "metadata": {},
   "outputs": [],
   "source": [
    "# mise sous vecteur des commentaires\n",
    "X_seq_train = tk.texts_to_sequences(X_train)\n",
    "X_seq_test = tk.texts_to_sequences(X_test)"
   ]
  },
  {
   "cell_type": "code",
   "execution_count": 53,
   "id": "204ad175",
   "metadata": {},
   "outputs": [
    {
     "name": "stdout",
     "output_type": "stream",
     "text": [
      "[3, 511, 14, 4, 91, 1381, 4, 1420, 427, 66, 3332, 14, 4, 346, 258, 866, 1389, 13, 17, 318, 296, 119, 640, 1463, 17, 82, 1642]\n",
      "[37, 35]\n",
      "[76, 463, 1227, 177, 98, 20, 550, 20, 705, 148, 152, 28]\n",
      "[1, 118, 3333, 641, 1, 29, 957, 150, 28, 63, 935, 1353, 1, 69, 225, 5, 81, 15, 608]\n",
      "[217, 527, 1, 287, 3552, 184, 43, 356, 28, 270, 77, 2021]\n"
     ]
    }
   ],
   "source": [
    "# affichage de la vectorisation réalisée\n",
    "for x in range(0,5):\n",
    "    print(X_seq_train[x])"
   ]
  },
  {
   "cell_type": "code",
   "execution_count": 54,
   "id": "e647906d",
   "metadata": {},
   "outputs": [
    {
     "data": {
      "text/plain": [
       "Text(0.5, 1.0, 'commentaires bruts')"
      ]
     },
     "execution_count": 54,
     "metadata": {},
     "output_type": "execute_result"
    },
    {
     "data": {
      "image/png": "[encoded data removed]",
      "text/plain": [
       "<Figure size 864x288 with 1 Axes>"
      ]
     },
     "metadata": {
      "needs_background": "light"
     },
     "output_type": "display_data"
    }
   ],
   "source": [
    "# affichage du nb de mots par commentaire pour nous aider à déterminer le nb de mots à choisir dans la matrice \n",
    "df['split'] = df['commentaire'].apply(lambda x: len(x.split(' ')))\n",
    "\n",
    "plt.figure(figsize=(12, 4))\n",
    "plt.subplot(121)\n",
    "plt.hist(df['split'])\n",
    "plt.xlim([0, 300])\n",
    "plt.title('commentaires bruts')"
   ]
  },
  {
   "cell_type": "code",
   "execution_count": 55,
   "id": "aa8ad6cf",
   "metadata": {},
   "outputs": [],
   "source": [
    "# transformation en matrice de même longueur par maxlen défini ci-dessous. Avec des 0 si colonne inférieure à maxlen\n",
    "max_words = 130\n",
    "X_pad_train = pad_sequences(X_seq_train, maxlen=max_words, padding='post')\n",
    "X_pad_test= pad_sequences(X_seq_test, maxlen=max_words, padding='post')"
   ]
  },
  {
   "cell_type": "code",
   "execution_count": 56,
   "id": "e5651d36",
   "metadata": {},
   "outputs": [
    {
     "name": "stdout",
     "output_type": "stream",
     "text": [
      "(67552, 130)\n"
     ]
    },
    {
     "data": {
      "text/plain": [
       "array([[   3,  511,   14, ...,    0,    0,    0],\n",
       "       [  37,   35,    0, ...,    0,    0,    0],\n",
       "       [  76,  463, 1227, ...,    0,    0,    0],\n",
       "       ...,\n",
       "       [   9,  463,   15, ...,    0,    0,    0],\n",
       "       [  26,   11,    3, ...,    0,    0,    0],\n",
       "       [2697,   75,   30, ...,    0,    0,    0]])"
      ]
     },
     "execution_count": 56,
     "metadata": {},
     "output_type": "execute_result"
    }
   ],
   "source": [
    "# affice de la matrice\n",
    "print(X_pad_train.shape)\n",
    "X_pad_train"
   ]
  },
  {
   "cell_type": "code",
   "execution_count": 57,
   "id": "a509121c",
   "metadata": {},
   "outputs": [
    {
     "name": "stdout",
     "output_type": "stream",
     "text": [
      "Model: \"sequential_2\"\n",
      "_________________________________________________________________\n",
      " Layer (type)                Output Shape              Param #   \n",
      "=================================================================\n",
      " embedding_2 (Embedding)     (None, 130, 100)          500000    \n",
      "                                                                 \n",
      " global_average_pooling1d_2   (None, 100)              0         \n",
      " (GlobalAveragePooling1D)                                        \n",
      "                                                                 \n",
      " dense (Dense)               (None, 32)                3232      \n",
      "                                                                 \n",
      " dropout (Dropout)           (None, 32)                0         \n",
      "                                                                 \n",
      " dense_1 (Dense)             (None, 32)                1056      \n",
      "                                                                 \n",
      " dropout_1 (Dropout)         (None, 32)                0         \n",
      "                                                                 \n",
      " dense_2 (Dense)             (None, 6)                 198       \n",
      "                                                                 \n",
      "=================================================================\n",
      "Total params: 504,486\n",
      "Trainable params: 504,486\n",
      "Non-trainable params: 0\n",
      "_________________________________________________________________\n"
     ]
    }
   ],
   "source": [
    "# Création des couches du modèle\n",
    "\n",
    "from tensorflow.keras.models import Sequential\n",
    "from tensorflow.keras.layers import Dense, GlobalAveragePooling1D, Input, Embedding, Dropout, LSTM\n",
    "\n",
    "embedding_size = 100\n",
    "\n",
    "model_embedding_1 = Sequential()\n",
    "model_embedding_1.add(Embedding(input_dim=vocabulary_size, output_dim=embedding_size, input_length=max_words, embeddings_initializer='uniform'))  # On reprend le nb de mot choisi dans la tokenisation\n",
    "model_embedding_1.add(GlobalAveragePooling1D())\n",
    "model_embedding_1.add(Dense(32))\n",
    "model_embedding_1.add(Dropout(0.3))\n",
    "model_embedding_1.add(Dense(32))\n",
    "model_embedding_1.add(Dropout(0.3))\n",
    "model_embedding_1.add(Dense(units=6, activation='softmax')) # En sortie le nb de units devra correspondre aux nb de variables cibles\n",
    "\n",
    "model_embedding_1.summary()"
   ]
  },
  {
   "cell_type": "code",
   "execution_count": 58,
   "id": "36bca453",
   "metadata": {},
   "outputs": [],
   "source": [
    "# timer pour mesurer le temps écoulé entre les epochs de début et de fin de callback\n",
    "from tensorflow.keras.callbacks import Callback\n",
    "from timeit import default_timer as timer\n",
    "\n",
    "class TimingCallback(Callback):\n",
    "    def __init__(self, logs={}):\n",
    "        self.logs=[]\n",
    "    def on_epoch_begin(self, epoch, logs={}):\n",
    "        self.starttime = timer()\n",
    "    def on_epoch_end(self, epoch, logs={}):\n",
    "        self.logs.append(timer()-self.starttime)\n",
    "\n",
    "# instanciation la fonction TimingCallback()\n",
    "time_callback = TimingCallback()"
   ]
  },
  {
   "cell_type": "code",
   "execution_count": 59,
   "id": "4f9cb05f",
   "metadata": {},
   "outputs": [],
   "source": [
    "# Création des callback\n",
    "from tensorflow.keras.callbacks import EarlyStopping\n",
    "\n",
    "early_stop = EarlyStopping(monitor='val_loss',\n",
    "                          min_delta=0.01,\n",
    "                          patience=3,\n",
    "                          mode='min',\n",
    "                          restore_best_weights=True,\n",
    "                          verbose=1)"
   ]
  },
  {
   "cell_type": "code",
   "execution_count": 60,
   "id": "bbfcec82",
   "metadata": {},
   "outputs": [],
   "source": [
    "model_embedding_1.compile(loss='sparse_categorical_crossentropy', optimizer='adam', metrics=['accuracy'])"
   ]
  },
  {
   "cell_type": "code",
   "execution_count": 61,
   "id": "6a48774e",
   "metadata": {},
   "outputs": [
    {
     "name": "stdout",
     "output_type": "stream",
     "text": [
      "Epoch 1/10\n",
      "1900/1900 [==============================] - 26s 14ms/step - loss: 0.9027 - accuracy: 0.6635 - val_loss: 0.7952 - val_accuracy: 0.6812\n",
      "Epoch 2/10\n",
      "1900/1900 [==============================] - 25s 13ms/step - loss: 0.7711 - accuracy: 0.6991 - val_loss: 0.7457 - val_accuracy: 0.7117\n",
      "Epoch 3/10\n",
      "1900/1900 [==============================] - 24s 12ms/step - loss: 0.7320 - accuracy: 0.7105 - val_loss: 0.7489 - val_accuracy: 0.7114\n",
      "Epoch 4/10\n",
      "1900/1900 [==============================] - 23s 12ms/step - loss: 0.7118 - accuracy: 0.7179 - val_loss: 0.7503 - val_accuracy: 0.7111\n",
      "Epoch 5/10\n",
      "1898/1900 [============================>.] - ETA: 0s - loss: 0.7020 - accuracy: 0.7210Restoring model weights from the end of the best epoch: 2.\n",
      "1900/1900 [==============================] - 25s 13ms/step - loss: 0.7019 - accuracy: 0.7210 - val_loss: 0.7594 - val_accuracy: 0.7097\n",
      "Epoch 5: early stopping\n"
     ]
    }
   ],
   "source": [
    "batch_size = 32\n",
    "epochs = 10\n",
    "history = model_embedding_1.fit(X_pad_train, y_train, batch_size=batch_size, epochs=epochs, validation_split=0.1,\n",
    "                               callbacks=[early_stop, time_callback])"
   ]
  },
  {
   "cell_type": "code",
   "execution_count": 62,
   "id": "9ae167f8",
   "metadata": {},
   "outputs": [
    {
     "name": "stdout",
     "output_type": "stream",
     "text": [
      "528/528 [==============================] - 2s 4ms/step - loss: 0.7507 - accuracy: 0.7049\n"
     ]
    },
    {
     "data": {
      "text/plain": [
       "[0.7507073879241943, 0.7049384117126465]"
      ]
     },
     "execution_count": 62,
     "metadata": {},
     "output_type": "execute_result"
    }
   ],
   "source": [
    "model_embedding_1.evaluate(X_pad_test, y_test, verbose=1)"
   ]
  },
  {
   "cell_type": "markdown",
   "id": "6aa031ba",
   "metadata": {},
   "source": [
    "### Calcul des prédictions sur le le de test cdiscount"
   ]
  },
  {
   "cell_type": "code",
   "execution_count": 63,
   "id": "047e9d1c",
   "metadata": {},
   "outputs": [
    {
     "name": "stdout",
     "output_type": "stream",
     "text": [
      "528/528 [==============================] - 2s 3ms/step\n"
     ]
    }
   ],
   "source": [
    "# création des prédictions du eu de test cdiscount à partir du modèle\n",
    "predict_cdiscount = model_embedding_1.predict(X_pad_test, verbose=1)"
   ]
  },
  {
   "cell_type": "code",
   "execution_count": 64,
   "id": "839cd186",
   "metadata": {},
   "outputs": [
    {
     "data": {
      "text/plain": [
       "array([5, 1, 1, ..., 5, 5, 5], dtype=int64)"
      ]
     },
     "execution_count": 64,
     "metadata": {},
     "output_type": "execute_result"
    }
   ],
   "source": [
    "predict_cdiscount_class = predict_cdiscount.argmax(axis=1)\n",
    "predict_cdiscount_class"
   ]
  },
  {
   "cell_type": "code",
   "execution_count": 65,
   "id": "c60286b3",
   "metadata": {},
   "outputs": [
    {
     "name": "stderr",
     "output_type": "stream",
     "text": [
      "C:\\Users\\t.fourtouill\\Anaconda3\\lib\\site-packages\\seaborn\\_decorators.py:36: FutureWarning: Pass the following variable as a keyword arg: x. From version 0.12, the only valid positional argument will be `data`, and passing other arguments without an explicit keyword will result in an error or misinterpretation.\n",
      "  warnings.warn(\n"
     ]
    },
    {
     "data": {
      "image/png": "[encoded data removed]",
      "text/plain": [
       "<Figure size 432x288 with 1 Axes>"
      ]
     },
     "metadata": {
      "needs_background": "light"
     },
     "output_type": "display_data"
    }
   ],
   "source": [
    "sns.countplot(predict_cdiscount_class)\n",
    "plt.show();"
   ]
  },
  {
   "cell_type": "markdown",
   "id": "33371e69",
   "metadata": {},
   "source": [
    "### Calcul des prédictions sur le jeu de test amazon"
   ]
  },
  {
   "cell_type": "code",
   "execution_count": 66,
   "id": "fa5e08ab",
   "metadata": {},
   "outputs": [
    {
     "data": {
      "text/html": [
       "<div>\n",
       "<style scoped>\n",
       "    .dataframe tbody tr th:only-of-type {\n",
       "        vertical-align: middle;\n",
       "    }\n",
       "\n",
       "    .dataframe tbody tr th {\n",
       "        vertical-align: top;\n",
       "    }\n",
       "\n",
       "    .dataframe thead th {\n",
       "        text-align: right;\n",
       "    }\n",
       "</style>\n",
       "<table border=\"1\" class=\"dataframe\">\n",
       "  <thead>\n",
       "    <tr style=\"text-align: right;\">\n",
       "      <th></th>\n",
       "      <th>Unnamed: 0</th>\n",
       "      <th>note</th>\n",
       "      <th>commentaire</th>\n",
       "    </tr>\n",
       "  </thead>\n",
       "  <tbody>\n",
       "    <tr>\n",
       "      <th>0</th>\n",
       "      <td>0</td>\n",
       "      <td>1</td>\n",
       "      <td>MENZZONous aimerions savoir pourquoi vous ne retournez pas l'argent de vos clients et vous continuez à trouver des excuses à ce sujet. Les personnes qui donnent leur avis sur les réseaux sociaux vous bloqueront et leurs mails ne recevront pas de réponse. Pensez-vous que c'est normal?</td>\n",
       "    </tr>\n",
       "    <tr>\n",
       "      <th>1</th>\n",
       "      <td>1</td>\n",
       "      <td>1</td>\n",
       "      <td>Voulant acheter un pare soleil  de marque pour mon appareil photo le prix étant de 28 € environ quel a pas était ma surprise de voir ce prix  grimper  à 45 € en l'espace  de 5 mn et tous ça  sur le site Amazon y a t'il d'autres  personnes à qui cela est  arrivé , je serai curieux  de  lire vos témoignages  ( pratiques de voyous)</td>\n",
       "    </tr>\n",
       "  </tbody>\n",
       "</table>\n",
       "</div>"
      ],
      "text/plain": [
       "   Unnamed: 0  note  \\\n",
       "0           0     1   \n",
       "1           1     1   \n",
       "\n",
       "                                                                                                                                                                                                                                                                                                                                  commentaire  \n",
       "0                                                MENZZONous aimerions savoir pourquoi vous ne retournez pas l'argent de vos clients et vous continuez à trouver des excuses à ce sujet. Les personnes qui donnent leur avis sur les réseaux sociaux vous bloqueront et leurs mails ne recevront pas de réponse. Pensez-vous que c'est normal?  \n",
       "1  Voulant acheter un pare soleil  de marque pour mon appareil photo le prix étant de 28 € environ quel a pas était ma surprise de voir ce prix  grimper  à 45 € en l'espace  de 5 mn et tous ça  sur le site Amazon y a t'il d'autres  personnes à qui cela est  arrivé , je serai curieux  de  lire vos témoignages  ( pratiques de voyous)  "
      ]
     },
     "execution_count": 66,
     "metadata": {},
     "output_type": "execute_result"
    }
   ],
   "source": [
    "df_test.head(2)"
   ]
  },
  {
   "cell_type": "code",
   "execution_count": 67,
   "id": "cf9c42c4",
   "metadata": {},
   "outputs": [
    {
     "data": {
      "text/plain": [
       "Unnamed: 0     0\n",
       "note           0\n",
       "commentaire    0\n",
       "dtype: int64"
      ]
     },
     "execution_count": 67,
     "metadata": {},
     "output_type": "execute_result"
    }
   ],
   "source": [
    "df_test.isna().sum()"
   ]
  },
  {
   "cell_type": "code",
   "execution_count": 68,
   "id": "09478ff9",
   "metadata": {},
   "outputs": [],
   "source": [
    "df_test = df_test.drop(columns=['Unnamed: 0'], axis=1)"
   ]
  },
  {
   "cell_type": "code",
   "execution_count": 69,
   "id": "11489f4b",
   "metadata": {},
   "outputs": [],
   "source": [
    "# séparation de la variable cible et des variables explicatives\n",
    "check_set = df_test['commentaire'].values"
   ]
  },
  {
   "cell_type": "code",
   "execution_count": 70,
   "id": "10065e99",
   "metadata": {},
   "outputs": [],
   "source": [
    "# vectorisation des token\n",
    "check_seq = tk.texts_to_sequences(check_set)"
   ]
  },
  {
   "cell_type": "code",
   "execution_count": 71,
   "id": "5197708f",
   "metadata": {},
   "outputs": [],
   "source": [
    "# mise sous matrice numpy\n",
    "check_pad = pad_sequences(check_seq, maxlen=max_words, padding='post')"
   ]
  },
  {
   "cell_type": "code",
   "execution_count": 72,
   "id": "1061496c",
   "metadata": {},
   "outputs": [
    {
     "data": {
      "text/plain": [
       "array([[ 310,  198,  643, ...,    0,    0,    0],\n",
       "       [2085,  162,  412, ...,    0,    0,    0],\n",
       "       [ 326,  109,   27, ...,    0,    0,    0],\n",
       "       ...,\n",
       "       [   4,    3,   19, ...,    0,    0,    0],\n",
       "       [   5,  726, 4095, ...,    0,    0,    0],\n",
       "       [   4,  170,  122, ...,    0,    0,    0]])"
      ]
     },
     "execution_count": 72,
     "metadata": {},
     "output_type": "execute_result"
    }
   ],
   "source": [
    "check_pad"
   ]
  },
  {
   "cell_type": "code",
   "execution_count": 73,
   "id": "bff87635",
   "metadata": {},
   "outputs": [
    {
     "name": "stdout",
     "output_type": "stream",
     "text": [
      "4/4 [==============================] - 0s 4ms/step\n"
     ]
    }
   ],
   "source": [
    "# création des prédictions du jeu de test amazon à partir du modèle\n",
    "check_predict = model_embedding_1.predict(check_pad, verbose=1)"
   ]
  },
  {
   "cell_type": "code",
   "execution_count": 74,
   "id": "3690b8c8",
   "metadata": {},
   "outputs": [
    {
     "name": "stdout",
     "output_type": "stream",
     "text": [
      "[[1.16120279e-03 3.47994626e-01 1.58260271e-01 2.68440694e-01\n",
      "  1.52605534e-01 7.15375841e-02]\n",
      " [1.17210043e-03 3.86758864e-01 1.65519938e-01 2.59378940e-01\n",
      "  1.28872395e-01 5.82978055e-02]\n",
      " [1.00536132e-03 3.97649556e-01 1.19611420e-01 1.87699273e-01\n",
      "  1.45201191e-01 1.48833185e-01]\n",
      " [1.07227080e-03 4.78054225e-01 1.56400755e-01 2.13045791e-01\n",
      "  9.59667861e-02 5.54601103e-02]\n",
      " [6.93689844e-06 9.66455638e-01 3.10760140e-02 2.45976890e-03\n",
      "  1.61128992e-06 4.38896741e-08]\n",
      " [5.65158807e-05 9.16732073e-01 6.68077171e-02 1.62329823e-02\n",
      "  1.53791305e-04 1.68916449e-05]\n",
      " [6.91137975e-05 9.00477409e-01 7.76640102e-02 2.15191189e-02\n",
      "  2.45129253e-04 2.52811969e-05]\n",
      " [1.68274244e-04 4.96834189e-01 3.12583596e-01 1.88825235e-01\n",
      "  1.57904043e-03 9.66640800e-06]\n",
      " [8.80424108e-04 5.02325833e-01 2.01236352e-01 2.37543792e-01\n",
      "  4.77397032e-02 1.02738859e-02]\n",
      " [1.87954593e-05 9.65064049e-01 3.08131576e-02 4.08523157e-03\n",
      "  1.63809073e-05 2.36527853e-06]\n",
      " [1.63982535e-04 7.14379549e-01 1.82386324e-01 1.00854643e-01\n",
      "  2.12403433e-03 9.15950077e-05]\n",
      " [5.05483127e-04 7.32959569e-01 1.32567674e-01 1.07690379e-01\n",
      "  1.77932270e-02 8.48356728e-03]\n",
      " [3.35453165e-04 8.05936515e-01 1.12955660e-01 7.08752796e-02\n",
      "  7.00579118e-03 2.89131980e-03]\n",
      " [1.08049298e-03 1.38939977e-01 9.58994254e-02 2.46416688e-01\n",
      "  3.24360520e-01 1.93302885e-01]\n",
      " [8.38351662e-06 9.69697535e-01 2.78343055e-02 2.45685596e-03\n",
      "  2.77151207e-06 1.43078253e-07]\n",
      " [5.40143701e-05 9.46574330e-01 4.31911945e-02 9.96467657e-03\n",
      "  1.62447803e-04 5.32851845e-05]\n",
      " [8.62160639e-04 5.54525197e-01 1.76409900e-01 2.01029018e-01\n",
      "  4.98877950e-02 1.72859486e-02]\n",
      " [2.04667431e-05 9.67231154e-01 2.85495091e-02 4.16842056e-03\n",
      "  2.48862161e-05 5.57083604e-06]\n",
      " [2.29529192e-04 7.90875018e-01 1.34630278e-01 7.10140914e-02\n",
      "  2.85235979e-03 3.98777687e-04]\n",
      " [1.27529027e-03 2.47868866e-01 2.18344241e-01 3.95657927e-01\n",
      "  1.21940456e-01 1.49132442e-02]\n",
      " [8.44166963e-04 2.93507129e-01 8.99757147e-02 1.63381964e-01\n",
      "  1.88757434e-01 2.63533592e-01]\n",
      " [1.24188547e-03 3.04322928e-01 1.65804043e-01 2.98566341e-01\n",
      "  1.67631507e-01 6.24332577e-02]\n",
      " [6.52045477e-04 6.12243414e-01 1.84546098e-01 1.73477054e-01\n",
      "  2.39134897e-02 5.16786333e-03]\n",
      " [1.41658293e-05 9.33119774e-01 5.95173649e-02 7.34105660e-03\n",
      "  7.45298166e-06 1.21902289e-07]\n",
      " [1.07776409e-03 9.62300226e-02 1.33549511e-01 3.98219258e-01\n",
      "  3.20227534e-01 5.06959036e-02]\n",
      " [5.89332558e-06 9.42116082e-01 5.39907701e-02 3.88640468e-03\n",
      "  7.79229879e-07 3.45652884e-09]\n",
      " [4.85285389e-04 7.32103229e-01 1.39781177e-01 1.08112074e-01\n",
      "  1.42919719e-02 5.22628613e-03]\n",
      " [3.64942644e-05 9.48113441e-01 4.34502922e-02 8.32007732e-03\n",
      "  6.80368466e-05 1.17718500e-05]\n",
      " [3.47846886e-04 4.10854906e-01 3.36577028e-01 2.48624682e-01\n",
      "  3.56705789e-03 2.85137448e-05]\n",
      " [1.15770788e-03 3.53248715e-01 2.11868897e-01 3.23316187e-01\n",
      "  9.33059379e-02 1.71025284e-02]\n",
      " [2.86683382e-04 8.01128387e-01 1.26247212e-01 6.80350885e-02\n",
      "  3.57017759e-03 7.32509186e-04]\n",
      " [8.65960377e-04 4.82165992e-01 2.06822515e-01 2.50604153e-01\n",
      "  4.98795547e-02 9.66183096e-03]\n",
      " [1.25126482e-03 2.77022779e-01 1.53300107e-01 2.91720718e-01\n",
      "  1.93835631e-01 8.28694627e-02]\n",
      " [1.54824345e-04 8.59506428e-01 1.00150406e-01 3.90338562e-02\n",
      "  1.00070285e-03 1.53847635e-04]\n",
      " [3.72588374e-06 9.74223137e-01 2.45067906e-02 1.26605423e-03\n",
      "  3.02823395e-07 4.66138284e-09]\n",
      " [1.26072997e-03 3.19129765e-01 1.76907405e-01 3.05198550e-01\n",
      "  1.49087951e-01 4.84155715e-02]\n",
      " [9.59786994e-04 5.36257207e-01 1.67037427e-01 2.02452406e-01\n",
      "  6.44581839e-02 2.88349800e-02]\n",
      " [4.65251622e-04 5.46802402e-01 2.44191110e-01 1.98762268e-01\n",
      "  9.31852218e-03 4.60448704e-04]\n",
      " [1.98034832e-04 1.93031430e-02 6.79356325e-03 2.07563974e-02\n",
      "  1.35701254e-01 8.17247570e-01]\n",
      " [3.31586954e-04 6.78038836e-01 1.92814976e-01 1.23701282e-01\n",
      "  4.76852478e-03 3.44732107e-04]\n",
      " [8.82555498e-04 2.43245289e-01 2.35585481e-01 4.21333313e-01\n",
      "  9.21406746e-02 6.81259250e-03]\n",
      " [8.53023841e-04 5.42568006e-02 1.27067119e-01 4.64376986e-01\n",
      "  3.29833150e-01 2.36130189e-02]\n",
      " [1.27292669e-03 3.47618699e-01 1.83497295e-01 2.97675848e-01\n",
      "  1.29416451e-01 4.05188575e-02]\n",
      " [7.50523977e-05 8.40412438e-01 1.23948067e-01 3.53558175e-02\n",
      "  2.02878175e-04 5.76196589e-06]\n",
      " [7.73654261e-04 1.52236238e-01 2.40338624e-01 5.07411182e-01\n",
      "  9.59163234e-02 3.32394429e-03]\n",
      " [1.01587793e-03 1.59497544e-01 1.11539550e-01 2.78319418e-01\n",
      "  3.03831428e-01 1.45796254e-01]\n",
      " [6.37816906e-04 7.01742768e-02 6.27519563e-02 2.12836310e-01\n",
      "  4.18172717e-01 2.35426933e-01]\n",
      " [1.76873152e-06 9.40186501e-01 5.78108765e-02 2.00078776e-03\n",
      "  3.05461683e-08 1.24858006e-11]\n",
      " [9.22143226e-04 1.70424506e-01 1.23758927e-01 3.07140082e-01\n",
      "  2.87315607e-01 1.10438727e-01]\n",
      " [3.96400021e-04 5.96747160e-01 2.38065541e-01 1.59710079e-01\n",
      "  4.88686003e-03 1.93956061e-04]\n",
      " [3.45143024e-04 4.78590399e-01 2.76257843e-01 2.36813709e-01\n",
      "  7.80217443e-03 1.90750550e-04]\n",
      " [1.57828661e-04 1.48580328e-03 7.59217609e-03 8.24062079e-02\n",
      "  7.25256562e-01 1.83101490e-01]\n",
      " [6.27989066e-04 2.75520161e-02 9.71394926e-02 4.57417011e-01\n",
      "  3.97508293e-01 1.97551753e-02]\n",
      " [1.13509086e-04 8.03052564e-04 4.47978498e-03 5.59481420e-02\n",
      "  7.12816358e-01 2.25839123e-01]\n",
      " [3.84185027e-04 3.03488635e-02 2.04325691e-02 7.50137344e-02\n",
      "  3.21462423e-01 5.52358210e-01]\n",
      " [1.25540420e-03 3.50463092e-01 1.68717995e-01 2.78584868e-01\n",
      "  1.42970353e-01 5.80083355e-02]\n",
      " [9.84805985e-04 1.53092176e-01 1.99772671e-01 4.64430779e-01\n",
      "  1.68100327e-01 1.36192786e-02]\n",
      " [2.55528605e-04 9.47022531e-03 9.19227675e-03 4.45467606e-02\n",
      "  3.27086031e-01 6.09449208e-01]\n",
      " [7.38436298e-04 5.59824929e-02 6.97802305e-02 2.57231176e-01\n",
      "  4.55273598e-01 1.60994083e-01]\n",
      " [1.60449010e-04 9.00798321e-01 6.44140616e-02 3.00461799e-02\n",
      "  2.55016796e-03 2.03085644e-03]\n",
      " [6.32059353e-04 5.27842820e-01 2.40893155e-01 2.14655071e-01\n",
      "  1.49197103e-02 1.05721096e-03]\n",
      " [1.73330027e-05 2.36080799e-04 2.72171601e-04 2.48673628e-03\n",
      "  1.15272254e-01 8.81715417e-01]\n",
      " [3.26291891e-04 2.58666673e-03 2.02183593e-02 1.94531426e-01\n",
      "  7.29344785e-01 5.29924259e-02]\n",
      " [1.06955806e-04 3.87575594e-03 3.03381635e-03 1.59483124e-02\n",
      "  2.00056151e-01 7.76978910e-01]\n",
      " [1.02736568e-03 2.33041614e-01 1.25566766e-01 2.65950441e-01\n",
      "  2.40787640e-01 1.33626178e-01]\n",
      " [2.78374588e-04 9.34197009e-03 1.26117105e-02 6.92576841e-02\n",
      "  4.43634897e-01 4.64875400e-01]\n",
      " [7.20042503e-04 3.38745825e-02 4.84539866e-02 2.02560216e-01\n",
      "  5.02016068e-01 2.12375149e-01]\n",
      " [2.62239046e-05 2.61918729e-04 6.77519594e-04 8.68054200e-03\n",
      "  3.23269159e-01 6.67084694e-01]\n",
      " [3.62152088e-04 7.46293664e-01 1.51031032e-01 9.53575149e-02\n",
      "  5.92659414e-03 1.02892646e-03]\n",
      " [1.21199315e-04 4.60465625e-03 4.03604750e-03 2.19467077e-02\n",
      "  2.45476291e-01 7.23815024e-01]\n",
      " [1.02168275e-03 5.60703278e-02 9.73246023e-02 3.51409495e-01\n",
      "  4.20719147e-01 7.34547600e-02]\n",
      " [6.78441429e-05 8.35583895e-04 1.51067728e-03 1.33049060e-02\n",
      "  2.98248649e-01 6.86032355e-01]\n",
      " [1.41839439e-06 5.10965174e-06 9.11543975e-06 1.66409794e-04\n",
      "  4.43198420e-02 9.55498159e-01]\n",
      " [3.51117633e-04 3.06686312e-02 2.75363661e-02 1.15236789e-01\n",
      "  4.21932459e-01 4.04274672e-01]\n",
      " [2.11096150e-04 7.30771840e-01 1.66166052e-01 9.91387889e-02\n",
      "  3.43758683e-03 2.74629798e-04]\n",
      " [1.01695186e-03 2.03911170e-01 1.22252986e-01 2.76390046e-01\n",
      "  2.62917191e-01 1.33511677e-01]\n",
      " [8.74396996e-04 6.22947276e-01 1.34057924e-01 1.44298285e-01\n",
      "  5.36021739e-02 4.42198962e-02]\n",
      " [7.87103363e-06 1.19022661e-04 8.55359904e-05 6.98138087e-04\n",
      "  4.70824242e-02 9.52006996e-01]\n",
      " [3.86398402e-04 7.03610014e-03 8.56441110e-02 5.86139321e-01\n",
      "  3.18626910e-01 2.16712756e-03]\n",
      " [1.71815758e-04 4.99846973e-03 5.91415679e-03 3.44982930e-02\n",
      "  3.37848753e-01 6.16568565e-01]\n",
      " [3.28135880e-04 2.24856175e-02 1.53837847e-02 5.91629483e-02\n",
      "  3.01432073e-01 6.01207435e-01]\n",
      " [6.20028935e-04 5.12625612e-02 4.67561334e-02 1.68367192e-01\n",
      "  4.25031036e-01 3.07963043e-01]\n",
      " [6.36441226e-04 1.02726251e-01 4.32014875e-02 1.08986780e-01\n",
      "  2.60099202e-01 4.84349847e-01]\n",
      " [2.59186947e-07 5.32866466e-07 9.10171480e-07 2.19805333e-05\n",
      "  1.66332070e-02 9.83343124e-01]\n",
      " [2.17551906e-06 6.54996165e-06 1.71255615e-05 3.56158067e-04\n",
      "  8.16171765e-02 9.18000817e-01]\n",
      " [1.89440208e-04 2.04657782e-02 7.60274427e-03 2.41649281e-02\n",
      "  1.52677238e-01 7.94899821e-01]\n",
      " [1.48769162e-04 9.24724817e-01 5.33710159e-02 1.95366181e-02\n",
      "  1.20744074e-03 1.01122505e-03]\n",
      " [1.08136564e-05 5.02846262e-04 1.72147178e-04 8.89878836e-04\n",
      "  3.34031098e-02 9.65021193e-01]\n",
      " [1.10431458e-03 1.72052532e-01 1.08797856e-01 2.57922322e-01\n",
      "  2.91863590e-01 1.68259382e-01]\n",
      " [1.02996151e-03 1.22938447e-01 8.67497921e-02 2.31146067e-01\n",
      "  3.39799017e-01 2.18336701e-01]\n",
      " [1.30337430e-04 9.30821616e-03 4.24308702e-03 1.62060130e-02\n",
      "  1.45840809e-01 8.24271500e-01]\n",
      " [3.92726952e-06 2.62726298e-05 3.60355771e-05 4.75975947e-04\n",
      "  6.11165687e-02 9.38341200e-01]\n",
      " [5.19251407e-05 2.19957181e-03 1.50638272e-03 8.53320584e-03\n",
      "  1.46400750e-01 8.41308177e-01]\n",
      " [1.10263252e-04 2.20036600e-03 3.04013258e-03 2.11265106e-02\n",
      "  3.07198942e-01 6.66323721e-01]\n",
      " [4.10037210e-05 6.87553664e-04 8.05083720e-04 6.32554153e-03\n",
      "  1.73389003e-01 8.18751872e-01]\n",
      " [6.04299537e-04 1.85492620e-01 4.43632565e-02 8.36038291e-02\n",
      "  1.65451795e-01 5.20484209e-01]\n",
      " [4.16628245e-05 1.03621860e-03 1.01228990e-03 7.21017877e-03\n",
      "  1.67707801e-01 8.22991788e-01]\n",
      " [5.81934182e-05 5.05033974e-03 1.43472617e-03 4.94605862e-03\n",
      "  6.41474873e-02 9.24363196e-01]\n",
      " [1.81971245e-05 9.64786741e-05 3.09244788e-04 4.78173792e-03\n",
      "  2.82064706e-01 7.12729692e-01]\n",
      " [5.94718722e-06 9.69824468e-05 6.70770751e-05 5.67377429e-04\n",
      "  4.24072444e-02 9.56855297e-01]]\n"
     ]
    }
   ],
   "source": [
    "print(check_predict)"
   ]
  },
  {
   "cell_type": "code",
   "execution_count": 75,
   "id": "918f024f",
   "metadata": {},
   "outputs": [
    {
     "data": {
      "text/plain": [
       "array([1, 1, 1, 1, 1, 1, 1, 1, 1, 1, 1, 1, 1, 4, 1, 1, 1, 1, 1, 3, 1, 1,\n",
       "       1, 1, 3, 1, 1, 1, 1, 1, 1, 1, 3, 1, 1, 1, 1, 1, 5, 1, 3, 3, 1, 1,\n",
       "       3, 4, 4, 1, 3, 1, 1, 4, 3, 4, 5, 1, 3, 5, 4, 1, 1, 5, 4, 5, 3, 5,\n",
       "       4, 5, 1, 5, 4, 5, 5, 4, 1, 3, 1, 5, 3, 5, 5, 4, 5, 5, 5, 5, 1, 5,\n",
       "       4, 4, 5, 5, 5, 5, 5, 5, 5, 5, 5, 5], dtype=int64)"
      ]
     },
     "execution_count": 75,
     "metadata": {},
     "output_type": "execute_result"
    }
   ],
   "source": [
    "check_predict_class = check_predict.argmax(axis=1)\n",
    "check_predict_class"
   ]
  },
  {
   "cell_type": "code",
   "execution_count": 76,
   "id": "819395e0",
   "metadata": {},
   "outputs": [
    {
     "name": "stderr",
     "output_type": "stream",
     "text": [
      "C:\\Users\\t.fourtouill\\Anaconda3\\lib\\site-packages\\seaborn\\_decorators.py:36: FutureWarning: Pass the following variable as a keyword arg: x. From version 0.12, the only valid positional argument will be `data`, and passing other arguments without an explicit keyword will result in an error or misinterpretation.\n",
      "  warnings.warn(\n"
     ]
    },
    {
     "data": {
      "image/png": "[encoded data removed]",
      "text/plain": [
       "<Figure size 432x288 with 1 Axes>"
      ]
     },
     "metadata": {
      "needs_background": "light"
     },
     "output_type": "display_data"
    }
   ],
   "source": [
    "sns.countplot(check_predict_class);"
   ]
  },
  {
   "cell_type": "code",
   "execution_count": 77,
   "id": "438bcba6",
   "metadata": {},
   "outputs": [
    {
     "data": {
      "text/html": [
       "<div>\n",
       "<style scoped>\n",
       "    .dataframe tbody tr th:only-of-type {\n",
       "        vertical-align: middle;\n",
       "    }\n",
       "\n",
       "    .dataframe tbody tr th {\n",
       "        vertical-align: top;\n",
       "    }\n",
       "\n",
       "    .dataframe thead th {\n",
       "        text-align: right;\n",
       "    }\n",
       "</style>\n",
       "<table border=\"1\" class=\"dataframe\">\n",
       "  <thead>\n",
       "    <tr style=\"text-align: right;\">\n",
       "      <th></th>\n",
       "      <th>commentaire</th>\n",
       "      <th>note</th>\n",
       "      <th>prediction</th>\n",
       "    </tr>\n",
       "  </thead>\n",
       "  <tbody>\n",
       "    <tr>\n",
       "      <th>0</th>\n",
       "      <td>MENZZONous aimerions savoir pourquoi vous ne retournez pas l'argent de vos clients et vous continuez à trouver des excuses à ce sujet. Les personnes qui donnent leur avis sur les réseaux sociaux vous bloqueront et leurs mails ne recevront pas de réponse. Pensez-vous que c'est normal?</td>\n",
       "      <td>1</td>\n",
       "      <td>1</td>\n",
       "    </tr>\n",
       "    <tr>\n",
       "      <th>1</th>\n",
       "      <td>Voulant acheter un pare soleil  de marque pour mon appareil photo le prix étant de 28 € environ quel a pas était ma surprise de voir ce prix  grimper  à 45 € en l'espace  de 5 mn et tous ça  sur le site Amazon y a t'il d'autres  personnes à qui cela est  arrivé , je serai curieux  de  lire vos témoignages  ( pratiques de voyous)</td>\n",
       "      <td>1</td>\n",
       "      <td>1</td>\n",
       "    </tr>\n",
       "    <tr>\n",
       "      <th>2</th>\n",
       "      <td>Comment souvent problème d'envoi ou réception de marchandise biensure service client au téléphone ce n est pas leur faute c est les gens de l emballage belle esprit d équipe je ne commanderai plus chez vous</td>\n",
       "      <td>1</td>\n",
       "      <td>1</td>\n",
       "    </tr>\n",
       "    <tr>\n",
       "      <th>3</th>\n",
       "      <td>L’arnaque des livreurs qui ne respectent pas les instructions des livraison, laissent le clos n’importe où le marquent livres alors qu ils ont pas livres! Le service client à part dire ; on va faire remonter l’info et ouvrir une enquête », ne fait rien! Avec l’argent qu engrange Amazon il s’agirait de s entourer de livreurs fiables !!</td>\n",
       "      <td>1</td>\n",
       "      <td>1</td>\n",
       "    </tr>\n",
       "    <tr>\n",
       "      <th>4</th>\n",
       "      <td>J’ai commandé un article très cher qui est supposé être neuf. A ma surprise en recevant le colis l l’article semble déjà ouvert/voir même déjà utilisé, le carton de l’article était déchiré.. étant la grosse somme que j’ai dépensé sur cet article je ne peux accepter de recevoir du reconditionné au prix du neuf. En demandant le retour Amazon refuse de me rembourser sur carte bancaire mais plutôt uniquement par avoir et ça c’est absurde car c’est pas de ma faute c’est la faute à Amazon, d’ailleurs pourquoi m’obliger à consommer par force une telle grosse somme sur leur site, moi je veux pas d’avoir je veux mon argent sur mon compte bancaire !!!! J’ai commencé les démarches pour ouvrir un contentieux contre Amazon !</td>\n",
       "      <td>1</td>\n",
       "      <td>1</td>\n",
       "    </tr>\n",
       "  </tbody>\n",
       "</table>\n",
       "</div>"
      ],
      "text/plain": [
       "                                                                                                                                                                                                                                                                                                                                                                                                                                                                                                                                                                                                                                                                                                                                         commentaire  \\\n",
       "0                                                                                                                                                                                                                                                                                                                                                                                                                                                       MENZZONous aimerions savoir pourquoi vous ne retournez pas l'argent de vos clients et vous continuez à trouver des excuses à ce sujet. Les personnes qui donnent leur avis sur les réseaux sociaux vous bloqueront et leurs mails ne recevront pas de réponse. Pensez-vous que c'est normal?   \n",
       "1                                                                                                                                                                                                                                                                                                                                                                                                         Voulant acheter un pare soleil  de marque pour mon appareil photo le prix étant de 28 € environ quel a pas était ma surprise de voir ce prix  grimper  à 45 € en l'espace  de 5 mn et tous ça  sur le site Amazon y a t'il d'autres  personnes à qui cela est  arrivé , je serai curieux  de  lire vos témoignages  ( pratiques de voyous)   \n",
       "2                                                                                                                                                                                                                                                                                                                                                                                                                                                                                                                                     Comment souvent problème d'envoi ou réception de marchandise biensure service client au téléphone ce n est pas leur faute c est les gens de l emballage belle esprit d équipe je ne commanderai plus chez vous   \n",
       "3                                                                                                                                                                                                                                                                                                                                                                                                   L’arnaque des livreurs qui ne respectent pas les instructions des livraison, laissent le clos n’importe où le marquent livres alors qu ils ont pas livres! Le service client à part dire ; on va faire remonter l’info et ouvrir une enquête », ne fait rien! Avec l’argent qu engrange Amazon il s’agirait de s entourer de livreurs fiables !!   \n",
       "4  J’ai commandé un article très cher qui est supposé être neuf. A ma surprise en recevant le colis l l’article semble déjà ouvert/voir même déjà utilisé, le carton de l’article était déchiré.. étant la grosse somme que j’ai dépensé sur cet article je ne peux accepter de recevoir du reconditionné au prix du neuf. En demandant le retour Amazon refuse de me rembourser sur carte bancaire mais plutôt uniquement par avoir et ça c’est absurde car c’est pas de ma faute c’est la faute à Amazon, d’ailleurs pourquoi m’obliger à consommer par force une telle grosse somme sur leur site, moi je veux pas d’avoir je veux mon argent sur mon compte bancaire !!!! J’ai commencé les démarches pour ouvrir un contentieux contre Amazon !   \n",
       "\n",
       "   note  prediction  \n",
       "0     1           1  \n",
       "1     1           1  \n",
       "2     1           1  \n",
       "3     1           1  \n",
       "4     1           1  "
      ]
     },
     "execution_count": 77,
     "metadata": {},
     "output_type": "execute_result"
    }
   ],
   "source": [
    "# comparaison des prédictions et des notes du jeu de test\n",
    "check_df = pd.DataFrame(list(zip(df_test.commentaire, df_test.note, check_predict_class)), columns=['commentaire', 'note', 'prediction'])\n",
    "check_df.head()"
   ]
  },
  {
   "cell_type": "code",
   "execution_count": 78,
   "id": "11ec7bbb",
   "metadata": {},
   "outputs": [
    {
     "name": "stdout",
     "output_type": "stream",
     "text": [
      "              precision    recall  f1-score   support\n",
      "\n",
      "           1       0.76      0.80      0.78      1967\n",
      "           2       0.22      0.00      0.01       522\n",
      "           3       0.35      0.20      0.26      1121\n",
      "           4       0.41      0.23      0.29      3448\n",
      "           5       0.76      0.95      0.84      9830\n",
      "\n",
      "    accuracy                           0.70     16888\n",
      "   macro avg       0.50      0.44      0.44     16888\n",
      "weighted avg       0.65      0.70      0.66     16888\n",
      "\n"
     ]
    },
    {
     "data": {
      "text/html": [
       "<div>\n",
       "<style scoped>\n",
       "    .dataframe tbody tr th:only-of-type {\n",
       "        vertical-align: middle;\n",
       "    }\n",
       "\n",
       "    .dataframe tbody tr th {\n",
       "        vertical-align: top;\n",
       "    }\n",
       "\n",
       "    .dataframe thead th {\n",
       "        text-align: right;\n",
       "    }\n",
       "</style>\n",
       "<table border=\"1\" class=\"dataframe\">\n",
       "  <thead>\n",
       "    <tr style=\"text-align: right;\">\n",
       "      <th>predictions</th>\n",
       "      <th>1</th>\n",
       "      <th>2</th>\n",
       "      <th>3</th>\n",
       "      <th>4</th>\n",
       "      <th>5</th>\n",
       "    </tr>\n",
       "    <tr>\n",
       "      <th>données réelles</th>\n",
       "      <th></th>\n",
       "      <th></th>\n",
       "      <th></th>\n",
       "      <th></th>\n",
       "      <th></th>\n",
       "    </tr>\n",
       "  </thead>\n",
       "  <tbody>\n",
       "    <tr>\n",
       "      <th>1</th>\n",
       "      <td>1572</td>\n",
       "      <td>5</td>\n",
       "      <td>127</td>\n",
       "      <td>114</td>\n",
       "      <td>149</td>\n",
       "    </tr>\n",
       "    <tr>\n",
       "      <th>2</th>\n",
       "      <td>203</td>\n",
       "      <td>2</td>\n",
       "      <td>109</td>\n",
       "      <td>125</td>\n",
       "      <td>83</td>\n",
       "    </tr>\n",
       "    <tr>\n",
       "      <th>3</th>\n",
       "      <td>193</td>\n",
       "      <td>2</td>\n",
       "      <td>226</td>\n",
       "      <td>420</td>\n",
       "      <td>280</td>\n",
       "    </tr>\n",
       "    <tr>\n",
       "      <th>4</th>\n",
       "      <td>75</td>\n",
       "      <td>0</td>\n",
       "      <td>161</td>\n",
       "      <td>782</td>\n",
       "      <td>2430</td>\n",
       "    </tr>\n",
       "    <tr>\n",
       "      <th>5</th>\n",
       "      <td>31</td>\n",
       "      <td>0</td>\n",
       "      <td>27</td>\n",
       "      <td>449</td>\n",
       "      <td>9323</td>\n",
       "    </tr>\n",
       "  </tbody>\n",
       "</table>\n",
       "</div>"
      ],
      "text/plain": [
       "predictions         1  2    3    4     5\n",
       "données réelles                         \n",
       "1                1572  5  127  114   149\n",
       "2                 203  2  109  125    83\n",
       "3                 193  2  226  420   280\n",
       "4                  75  0  161  782  2430\n",
       "5                  31  0   27  449  9323"
      ]
     },
     "metadata": {},
     "output_type": "display_data"
    },
    {
     "name": "stdout",
     "output_type": "stream",
     "text": [
      "              precision    recall  f1-score   support\n",
      "\n",
      "           1       0.38      0.90      0.54        20\n",
      "           2       0.00      0.00      0.00        20\n",
      "           3       0.50      0.30      0.37        20\n",
      "           4       0.31      0.20      0.24        20\n",
      "           5       0.57      0.80      0.67        20\n",
      "\n",
      "    accuracy                           0.44       100\n",
      "   macro avg       0.35      0.44      0.36       100\n",
      "weighted avg       0.35      0.44      0.36       100\n",
      "\n"
     ]
    },
    {
     "name": "stderr",
     "output_type": "stream",
     "text": [
      "C:\\Users\\t.fourtouill\\Anaconda3\\lib\\site-packages\\sklearn\\metrics\\_classification.py:1327: UndefinedMetricWarning: Precision and F-score are ill-defined and being set to 0.0 in labels with no predicted samples. Use `zero_division` parameter to control this behavior.\n",
      "  _warn_prf(average, modifier, msg_start, len(result))\n",
      "C:\\Users\\t.fourtouill\\Anaconda3\\lib\\site-packages\\sklearn\\metrics\\_classification.py:1327: UndefinedMetricWarning: Precision and F-score are ill-defined and being set to 0.0 in labels with no predicted samples. Use `zero_division` parameter to control this behavior.\n",
      "  _warn_prf(average, modifier, msg_start, len(result))\n",
      "C:\\Users\\t.fourtouill\\Anaconda3\\lib\\site-packages\\sklearn\\metrics\\_classification.py:1327: UndefinedMetricWarning: Precision and F-score are ill-defined and being set to 0.0 in labels with no predicted samples. Use `zero_division` parameter to control this behavior.\n",
      "  _warn_prf(average, modifier, msg_start, len(result))\n"
     ]
    },
    {
     "data": {
      "text/html": [
       "<div>\n",
       "<style scoped>\n",
       "    .dataframe tbody tr th:only-of-type {\n",
       "        vertical-align: middle;\n",
       "    }\n",
       "\n",
       "    .dataframe tbody tr th {\n",
       "        vertical-align: top;\n",
       "    }\n",
       "\n",
       "    .dataframe thead th {\n",
       "        text-align: right;\n",
       "    }\n",
       "</style>\n",
       "<table border=\"1\" class=\"dataframe\">\n",
       "  <thead>\n",
       "    <tr style=\"text-align: right;\">\n",
       "      <th>predictions</th>\n",
       "      <th>1</th>\n",
       "      <th>3</th>\n",
       "      <th>4</th>\n",
       "      <th>5</th>\n",
       "    </tr>\n",
       "    <tr>\n",
       "      <th>données réelles</th>\n",
       "      <th></th>\n",
       "      <th></th>\n",
       "      <th></th>\n",
       "      <th></th>\n",
       "    </tr>\n",
       "  </thead>\n",
       "  <tbody>\n",
       "    <tr>\n",
       "      <th>1</th>\n",
       "      <td>18</td>\n",
       "      <td>1</td>\n",
       "      <td>1</td>\n",
       "      <td>0</td>\n",
       "    </tr>\n",
       "    <tr>\n",
       "      <th>2</th>\n",
       "      <td>17</td>\n",
       "      <td>2</td>\n",
       "      <td>0</td>\n",
       "      <td>1</td>\n",
       "    </tr>\n",
       "    <tr>\n",
       "      <th>3</th>\n",
       "      <td>7</td>\n",
       "      <td>6</td>\n",
       "      <td>5</td>\n",
       "      <td>2</td>\n",
       "    </tr>\n",
       "    <tr>\n",
       "      <th>4</th>\n",
       "      <td>4</td>\n",
       "      <td>3</td>\n",
       "      <td>4</td>\n",
       "      <td>9</td>\n",
       "    </tr>\n",
       "    <tr>\n",
       "      <th>5</th>\n",
       "      <td>1</td>\n",
       "      <td>0</td>\n",
       "      <td>3</td>\n",
       "      <td>16</td>\n",
       "    </tr>\n",
       "  </tbody>\n",
       "</table>\n",
       "</div>"
      ],
      "text/plain": [
       "predictions       1  3  4   5\n",
       "données réelles              \n",
       "1                18  1  1   0\n",
       "2                17  2  0   1\n",
       "3                 7  6  5   2\n",
       "4                 4  3  4   9\n",
       "5                 1  0  3  16"
      ]
     },
     "metadata": {},
     "output_type": "display_data"
    },
    {
     "data": {
      "text/html": [
       "<div>\n",
       "<style scoped>\n",
       "    .dataframe tbody tr th:only-of-type {\n",
       "        vertical-align: middle;\n",
       "    }\n",
       "\n",
       "    .dataframe tbody tr th {\n",
       "        vertical-align: top;\n",
       "    }\n",
       "\n",
       "    .dataframe thead th {\n",
       "        text-align: right;\n",
       "    }\n",
       "</style>\n",
       "<table border=\"1\" class=\"dataframe\">\n",
       "  <thead>\n",
       "    <tr style=\"text-align: right;\">\n",
       "      <th>predictions</th>\n",
       "      <th>1</th>\n",
       "      <th>3</th>\n",
       "      <th>4</th>\n",
       "      <th>5</th>\n",
       "    </tr>\n",
       "    <tr>\n",
       "      <th>données réelles</th>\n",
       "      <th></th>\n",
       "      <th></th>\n",
       "      <th></th>\n",
       "      <th></th>\n",
       "    </tr>\n",
       "  </thead>\n",
       "  <tbody>\n",
       "    <tr>\n",
       "      <th>1</th>\n",
       "      <td>0.90</td>\n",
       "      <td>0.05</td>\n",
       "      <td>0.05</td>\n",
       "      <td>0.00</td>\n",
       "    </tr>\n",
       "    <tr>\n",
       "      <th>2</th>\n",
       "      <td>0.85</td>\n",
       "      <td>0.10</td>\n",
       "      <td>0.00</td>\n",
       "      <td>0.05</td>\n",
       "    </tr>\n",
       "    <tr>\n",
       "      <th>3</th>\n",
       "      <td>0.35</td>\n",
       "      <td>0.30</td>\n",
       "      <td>0.25</td>\n",
       "      <td>0.10</td>\n",
       "    </tr>\n",
       "    <tr>\n",
       "      <th>4</th>\n",
       "      <td>0.20</td>\n",
       "      <td>0.15</td>\n",
       "      <td>0.20</td>\n",
       "      <td>0.45</td>\n",
       "    </tr>\n",
       "    <tr>\n",
       "      <th>5</th>\n",
       "      <td>0.05</td>\n",
       "      <td>0.00</td>\n",
       "      <td>0.15</td>\n",
       "      <td>0.80</td>\n",
       "    </tr>\n",
       "  </tbody>\n",
       "</table>\n",
       "</div>"
      ],
      "text/plain": [
       "predictions         1     3     4     5\n",
       "données réelles                        \n",
       "1                0.90  0.05  0.05  0.00\n",
       "2                0.85  0.10  0.00  0.05\n",
       "3                0.35  0.30  0.25  0.10\n",
       "4                0.20  0.15  0.20  0.45\n",
       "5                0.05  0.00  0.15  0.80"
      ]
     },
     "metadata": {},
     "output_type": "display_data"
    },
    {
     "name": "stdout",
     "output_type": "stream",
     "text": [
      "les prédictions correctes sont supérieures à 50% pour 1 étoile(s) avec 90%\n",
      "les prédictions correctes sont supérieures à 50% pour 5 étoile(s) avec 80%\n"
     ]
    }
   ],
   "source": [
    "from sklearn.metrics import classification_report\n",
    "\n",
    "cr = classification_report(y_test, predict_cdiscount_class)\n",
    "print(cr)\n",
    "\n",
    "cm = pd.crosstab(y_test, predict_cdiscount_class, rownames=['données réelles'], colnames=['predictions'])\n",
    "display(cm)\n",
    "\n",
    "# vérification des résultats sur un jeu de test externe (100 commentaires amazon également répartis entre les étoiles)\n",
    "\n",
    "cm_test = classification_report(df_test.note, check_predict_class)\n",
    "print(cm_test)\n",
    "\n",
    "cm_test2 = pd.crosstab(df_test.note, check_predict_class, rownames=['données réelles'], colnames=['predictions'])\n",
    "display(cm_test2)\n",
    "\n",
    "cm_test3 = pd.crosstab(df_test.note, check_predict_class, rownames=['données réelles'], colnames=['predictions'], normalize=0)\n",
    "display(cm_test3)\n",
    "\n",
    "for i in cm_test3.index:\n",
    "    for j in cm_test3.columns :\n",
    "        if (i==j and cm_test3.loc[i, j] > 0.5) :\n",
    "            print(\"les prédictions correctes sont supérieures à 50% pour {} étoile(s) avec {:0.0%}\".format(i, cm_test3.loc[i, j]))"
   ]
  },
  {
   "cell_type": "code",
   "execution_count": 79,
   "id": "8b6366a5",
   "metadata": {},
   "outputs": [
    {
     "name": "stdout",
     "output_type": "stream",
     "text": [
      "INFO:tensorflow:Assets written to: datasets/SatisfactionClients/model_embedding2\\assets\n"
     ]
    }
   ],
   "source": [
    "import os\n",
    "path = \"/Users/t.fourtouill/Downloads/SatisfactionClients\"\n",
    "os.makedirs(path, exist_ok=True)\n",
    "model_embedding_1.save('datasets/SatisfactionClients/model_embedding2')"
   ]
  },
  {
   "cell_type": "markdown",
   "id": "30cfae91",
   "metadata": {},
   "source": [
    "### Evaluation sur 2 sentiments : négatif et positif"
   ]
  },
  {
   "cell_type": "markdown",
   "id": "f39073d9",
   "metadata": {},
   "source": [
    "* Le DataSet cdiscount a été retraité en renommant, les notes 1 et 2 en 0, les notes 4 et 5 en 1 et en supprimant les notes 3\n",
    "* Le but étant d'isoler de manière moins complexe les sentiments négatifs et les sentiments positifs et ainsi améliorer la qualité du résultat prédit"
   ]
  },
  {
   "cell_type": "code",
   "execution_count": 80,
   "id": "f997fc40",
   "metadata": {},
   "outputs": [],
   "source": [
    "df_0_1 = pd.read_csv('datasets/SatisfactionClients/cdiscount_0_1.csv')\n",
    "df_test_0_1 = pd.read_csv('datasets/SatisfactionClients/amazon_test1.csv')"
   ]
  },
  {
   "cell_type": "code",
   "execution_count": 81,
   "id": "f3d47f3c",
   "metadata": {},
   "outputs": [
    {
     "name": "stderr",
     "output_type": "stream",
     "text": [
      "C:\\Users\\t.fourtouill\\Anaconda3\\lib\\site-packages\\seaborn\\_decorators.py:36: FutureWarning: Pass the following variable as a keyword arg: x. From version 0.12, the only valid positional argument will be `data`, and passing other arguments without an explicit keyword will result in an error or misinterpretation.\n",
      "  warnings.warn(\n"
     ]
    },
    {
     "data": {
      "image/png": "[encoded data removed]",
      "text/plain": [
       "<Figure size 288x144 with 1 Axes>"
      ]
     },
     "metadata": {
      "needs_background": "light"
     },
     "output_type": "display_data"
    }
   ],
   "source": [
    "plt.figure(figsize=(4, 2))\n",
    "sns.countplot(df_0_1['note'])\n",
    "plt.show();"
   ]
  },
  {
   "cell_type": "code",
   "execution_count": 82,
   "id": "84544d53",
   "metadata": {},
   "outputs": [
    {
     "name": "stderr",
     "output_type": "stream",
     "text": [
      "C:\\Users\\t.fourtouill\\Anaconda3\\lib\\site-packages\\seaborn\\_decorators.py:36: FutureWarning: Pass the following variable as a keyword arg: x. From version 0.12, the only valid positional argument will be `data`, and passing other arguments without an explicit keyword will result in an error or misinterpretation.\n",
      "  warnings.warn(\n"
     ]
    },
    {
     "data": {
      "image/png": "[encoded data removed]",
      "text/plain": [
       "<Figure size 432x216 with 1 Axes>"
      ]
     },
     "metadata": {
      "needs_background": "light"
     },
     "output_type": "display_data"
    }
   ],
   "source": [
    "plt.figure(figsize=(6, 3))\n",
    "sns.countplot(df_test_0_1['note'])\n",
    "plt.show();"
   ]
  },
  {
   "cell_type": "code",
   "execution_count": 83,
   "id": "b8e99021",
   "metadata": {},
   "outputs": [
    {
     "data": {
      "text/plain": [
       "note            0\n",
       "commentaire    46\n",
       "dtype: int64"
      ]
     },
     "execution_count": 83,
     "metadata": {},
     "output_type": "execute_result"
    }
   ],
   "source": [
    "df_0_1.isna().sum()"
   ]
  },
  {
   "cell_type": "code",
   "execution_count": 84,
   "id": "0beee64a",
   "metadata": {},
   "outputs": [
    {
     "name": "stderr",
     "output_type": "stream",
     "text": [
      "C:\\Users\\t.fourtouill\\Anaconda3\\lib\\site-packages\\seaborn\\_decorators.py:36: FutureWarning: Pass the following variable as a keyword arg: x. From version 0.12, the only valid positional argument will be `data`, and passing other arguments without an explicit keyword will result in an error or misinterpretation.\n",
      "  warnings.warn(\n"
     ]
    },
    {
     "data": {
      "image/png": "[encoded data removed]",
      "text/plain": [
       "<Figure size 288x144 with 1 Axes>"
      ]
     },
     "metadata": {
      "needs_background": "light"
     },
     "output_type": "display_data"
    }
   ],
   "source": [
    "df_0_1 = df_0_1[df_0_1['commentaire'].isna()==False]\n",
    "df_0_1 = df_0_1[df_0_1['note']!=3]\n",
    "df_0_1['note'] = df_0_1['note'].replace({'1' : '0', '2' : '0', '4' : '1', '5' : '1'})\n",
    "\n",
    "plt.figure(figsize=(4, 2))\n",
    "sns.countplot(df_0_1['note'])\n",
    "plt.show();"
   ]
  },
  {
   "cell_type": "code",
   "execution_count": 85,
   "id": "6e0b6797",
   "metadata": {},
   "outputs": [
    {
     "name": "stderr",
     "output_type": "stream",
     "text": [
      "C:\\Users\\t.fourtouill\\Anaconda3\\lib\\site-packages\\seaborn\\_decorators.py:36: FutureWarning: Pass the following variable as a keyword arg: x. From version 0.12, the only valid positional argument will be `data`, and passing other arguments without an explicit keyword will result in an error or misinterpretation.\n",
      "  warnings.warn(\n"
     ]
    },
    {
     "data": {
      "image/png": "[encoded data removed]",
      "text/plain": [
       "<Figure size 288x144 with 1 Axes>"
      ]
     },
     "metadata": {
      "needs_background": "light"
     },
     "output_type": "display_data"
    }
   ],
   "source": [
    "df_test_0_1 = df_test_0_1.drop(columns=['Unnamed: 0'])\n",
    "df_test_0_1 = df_test_0_1[df_test_0_1['commentaire'].isna()==False]\n",
    "df_test_0_1 = df_test_0_1[df_test_0_1['note']!=3]\n",
    "df_test_0_1['note'] = df_test_0_1['note'].replace({1 : 0, 2 : 0, 4 : 1, 5 : 1})\n",
    "\n",
    "plt.figure(figsize=(4, 2))\n",
    "sns.countplot(df_test_0_1['note'])\n",
    "plt.show();"
   ]
  },
  {
   "cell_type": "code",
   "execution_count": 86,
   "id": "556cf49a",
   "metadata": {},
   "outputs": [],
   "source": [
    "# séparation de la variable cible et des variables explicatives\n",
    "X1 = df_0_1['commentaire']\n",
    "y1 = df_0_1['note']"
   ]
  },
  {
   "cell_type": "code",
   "execution_count": 87,
   "id": "5948816d",
   "metadata": {},
   "outputs": [],
   "source": [
    "# séparation du jeu de données en un dataset d'entrainement et un dataset de test\n",
    "from sklearn.model_selection import train_test_split\n",
    "X_train1, X_test1, y_train1, y_test1 = train_test_split(X1, y1, test_size=0.2, shuffle=True)"
   ]
  },
  {
   "cell_type": "code",
   "execution_count": 88,
   "id": "7ca17414",
   "metadata": {},
   "outputs": [],
   "source": [
    "# entrainement de la tokenisation sur le X_train\n",
    "tk.fit_on_texts(X_train1)"
   ]
  },
  {
   "cell_type": "code",
   "execution_count": 89,
   "id": "5d99c6d6",
   "metadata": {},
   "outputs": [
    {
     "data": {
      "text/plain": [
       "39023"
      ]
     },
     "execution_count": 89,
     "metadata": {},
     "output_type": "execute_result"
    }
   ],
   "source": [
    "# nb de ligne de la matrice\n",
    "word_index = tk.word_index\n",
    "len(tk.word_index)"
   ]
  },
  {
   "cell_type": "code",
   "execution_count": 90,
   "id": "02810943",
   "metadata": {},
   "outputs": [
    {
     "data": {
      "text/plain": [
       "5000"
      ]
     },
     "execution_count": 90,
     "metadata": {},
     "output_type": "execute_result"
    }
   ],
   "source": [
    "# nb de colonnes dans la matrice\n",
    "vocabulary_size = tk.num_words\n",
    "vocabulary_size"
   ]
  },
  {
   "cell_type": "code",
   "execution_count": 91,
   "id": "667aec1f",
   "metadata": {},
   "outputs": [],
   "source": [
    "# mise sous vecteur des commentaires\n",
    "X_seq_train1 = tk.texts_to_sequences(X_train1)\n",
    "X_seq_test1 = tk.texts_to_sequences(X_test1)"
   ]
  },
  {
   "cell_type": "code",
   "execution_count": 92,
   "id": "ba6f42a1",
   "metadata": {},
   "outputs": [
    {
     "name": "stdout",
     "output_type": "stream",
     "text": [
      "[134, 160, 25, 1142, 1077]\n",
      "[130, 44, 14, 1]\n",
      "[16, 37, 1300]\n",
      "[7, 99]\n",
      "[26, 4458, 30, 201]\n"
     ]
    }
   ],
   "source": [
    "# affichage de la vectorisation réalisée\n",
    "for x in range(0,5):\n",
    "    print(X_seq_train1[x])"
   ]
  },
  {
   "cell_type": "code",
   "execution_count": 93,
   "id": "d21b6c6e",
   "metadata": {},
   "outputs": [],
   "source": [
    "# transformation en matrice de même longueur par maxlen défini ci-dessous. Avec des 0 si colonne inférieure à maxlen\n",
    "max_words = 130\n",
    "X_pad_train1 = pad_sequences(X_seq_train1, maxlen=max_words, padding='post')\n",
    "X_pad_test1 = pad_sequences(X_seq_test1, maxlen=max_words, padding='post')"
   ]
  },
  {
   "cell_type": "code",
   "execution_count": 94,
   "id": "1d505b13",
   "metadata": {},
   "outputs": [
    {
     "name": "stdout",
     "output_type": "stream",
     "text": [
      "(63065, 130)\n"
     ]
    },
    {
     "data": {
      "text/plain": [
       "array([[ 134,  160,   25, ...,    0,    0,    0],\n",
       "       [ 130,   44,   14, ...,    0,    0,    0],\n",
       "       [  16,   37, 1300, ...,    0,    0,    0],\n",
       "       ...,\n",
       "       [  20,   32,    0, ...,    0,    0,    0],\n",
       "       [   6,   18,   48, ...,    0,    0,    0],\n",
       "       [ 146,  432,   37, ...,    0,    0,    0]])"
      ]
     },
     "execution_count": 94,
     "metadata": {},
     "output_type": "execute_result"
    }
   ],
   "source": [
    "# affice de la matrice\n",
    "print(X_pad_train1.shape)\n",
    "X_pad_train1"
   ]
  },
  {
   "cell_type": "code",
   "execution_count": 95,
   "id": "aa7ec76d",
   "metadata": {},
   "outputs": [
    {
     "name": "stdout",
     "output_type": "stream",
     "text": [
      "Model: \"sequential_3\"\n",
      "_________________________________________________________________\n",
      " Layer (type)                Output Shape              Param #   \n",
      "=================================================================\n",
      " embedding_3 (Embedding)     (None, 130, 100)          500000    \n",
      "                                                                 \n",
      " global_average_pooling1d_3   (None, 100)              0         \n",
      " (GlobalAveragePooling1D)                                        \n",
      "                                                                 \n",
      " dense_3 (Dense)             (None, 32)                3232      \n",
      "                                                                 \n",
      " dropout_2 (Dropout)         (None, 32)                0         \n",
      "                                                                 \n",
      " dense_4 (Dense)             (None, 32)                1056      \n",
      "                                                                 \n",
      " dropout_3 (Dropout)         (None, 32)                0         \n",
      "                                                                 \n",
      " dense_5 (Dense)             (None, 1)                 33        \n",
      "                                                                 \n",
      "=================================================================\n",
      "Total params: 504,321\n",
      "Trainable params: 504,321\n",
      "Non-trainable params: 0\n",
      "_________________________________________________________________\n"
     ]
    }
   ],
   "source": [
    "# Création des couches du modèle\n",
    "\n",
    "from tensorflow.keras.models import Sequential\n",
    "from tensorflow.keras.layers import Dense, GlobalAveragePooling1D, Input, Embedding, Dropout, LSTM\n",
    "\n",
    "embedding_size = 100\n",
    "\n",
    "model_0_1_embedding_1 = Sequential()\n",
    "model_0_1_embedding_1.add(Embedding(input_dim=vocabulary_size, output_dim=embedding_size, input_length=max_words, embeddings_initializer='uniform'))  # On reprend le nb de mot choisi dans la tokenisation\n",
    "model_0_1_embedding_1.add(GlobalAveragePooling1D())\n",
    "model_0_1_embedding_1.add(Dense(32))\n",
    "model_0_1_embedding_1.add(Dropout(0.3))\n",
    "model_0_1_embedding_1.add(Dense(32))\n",
    "model_0_1_embedding_1.add(Dropout(0.3))\n",
    "model_0_1_embedding_1.add(Dense(units=1, activation='sigmoid')) # En sortie le nb de units devra correspondre aux nb de variables cibles\n",
    "\n",
    "model_0_1_embedding_1.summary()"
   ]
  },
  {
   "cell_type": "code",
   "execution_count": 96,
   "id": "3e892380",
   "metadata": {},
   "outputs": [],
   "source": [
    "model_0_1_embedding_1.compile(loss='binary_crossentropy', optimizer='adam', metrics=['accuracy'])"
   ]
  },
  {
   "cell_type": "code",
   "execution_count": 97,
   "id": "96b9a68e",
   "metadata": {},
   "outputs": [
    {
     "name": "stdout",
     "output_type": "stream",
     "text": [
      "Epoch 1/10\n",
      "1774/1774 [==============================] - 24s 13ms/step - loss: 0.1843 - accuracy: 0.9327 - val_loss: 0.1519 - val_accuracy: 0.9426\n",
      "Epoch 2/10\n",
      "1774/1774 [==============================] - 25s 14ms/step - loss: 0.1195 - accuracy: 0.9572 - val_loss: 0.1374 - val_accuracy: 0.9518\n",
      "Epoch 3/10\n",
      "1774/1774 [==============================] - 24s 13ms/step - loss: 0.1054 - accuracy: 0.9615 - val_loss: 0.1421 - val_accuracy: 0.9528\n",
      "Epoch 4/10\n",
      "1774/1774 [==============================] - 22s 13ms/step - loss: 0.0974 - accuracy: 0.9652 - val_loss: 0.1497 - val_accuracy: 0.9486\n",
      "Epoch 5/10\n",
      "1773/1774 [============================>.] - ETA: 0s - loss: 0.0927 - accuracy: 0.9670Restoring model weights from the end of the best epoch: 2.\n",
      "1774/1774 [==============================] - 22s 12ms/step - loss: 0.0927 - accuracy: 0.9670 - val_loss: 0.1563 - val_accuracy: 0.9497\n",
      "Epoch 5: early stopping\n"
     ]
    }
   ],
   "source": [
    "batch_size = 32\n",
    "epochs = 10\n",
    "history_0_1 = model_0_1_embedding_1.fit(X_pad_train1, y_train1, batch_size=batch_size, epochs=epochs, validation_split=0.1,\n",
    "                               callbacks=[early_stop, time_callback])"
   ]
  },
  {
   "cell_type": "code",
   "execution_count": 98,
   "id": "f9c03869",
   "metadata": {},
   "outputs": [
    {
     "name": "stdout",
     "output_type": "stream",
     "text": [
      "493/493 [==============================] - 1s 3ms/step - loss: 0.1304 - accuracy: 0.9545\n"
     ]
    },
    {
     "data": {
      "text/plain": [
       "[0.13035574555397034, 0.9544618725776672]"
      ]
     },
     "execution_count": 98,
     "metadata": {},
     "output_type": "execute_result"
    }
   ],
   "source": [
    "model_0_1_embedding_1.evaluate(X_pad_test1, y_test1, verbose=1)"
   ]
  },
  {
   "cell_type": "markdown",
   "id": "b828c631",
   "metadata": {},
   "source": [
    "### Calcul des prédictions négatives et positives sur le jeu de test cdiscount"
   ]
  },
  {
   "cell_type": "code",
   "execution_count": 99,
   "id": "f5ccbe57",
   "metadata": {},
   "outputs": [
    {
     "name": "stdout",
     "output_type": "stream",
     "text": [
      "493/493 [==============================] - 2s 3ms/step\n"
     ]
    }
   ],
   "source": [
    "# création des prédictions du eu de test cdiscount à partir du modèle\n",
    "predict_cdiscount1 = model_0_1_embedding_1.predict(X_pad_test1, verbose=1)"
   ]
  },
  {
   "cell_type": "code",
   "execution_count": 100,
   "id": "c61b35bd",
   "metadata": {},
   "outputs": [
    {
     "data": {
      "text/plain": [
       "array([[0.9917476 ],\n",
       "       [0.9957752 ],\n",
       "       [0.9952383 ],\n",
       "       ...,\n",
       "       [0.98647666],\n",
       "       [0.991243  ],\n",
       "       [0.99780494]], dtype=float32)"
      ]
     },
     "execution_count": 100,
     "metadata": {},
     "output_type": "execute_result"
    }
   ],
   "source": [
    "predict_cdiscount1"
   ]
  },
  {
   "cell_type": "code",
   "execution_count": 101,
   "id": "2fe07a90",
   "metadata": {},
   "outputs": [
    {
     "data": {
      "text/plain": [
       "array([1, 1, 1, ..., 1, 1, 1])"
      ]
     },
     "execution_count": 101,
     "metadata": {},
     "output_type": "execute_result"
    }
   ],
   "source": [
    "predict_cdiscount_class1 = predict_cdiscount1.round().astype('int').ravel()\n",
    "predict_cdiscount_class1"
   ]
  },
  {
   "cell_type": "code",
   "execution_count": 102,
   "id": "64cd865c",
   "metadata": {},
   "outputs": [
    {
     "name": "stderr",
     "output_type": "stream",
     "text": [
      "C:\\Users\\t.fourtouill\\Anaconda3\\lib\\site-packages\\seaborn\\_decorators.py:36: FutureWarning: Pass the following variable as a keyword arg: x. From version 0.12, the only valid positional argument will be `data`, and passing other arguments without an explicit keyword will result in an error or misinterpretation.\n",
      "  warnings.warn(\n"
     ]
    },
    {
     "data": {
      "image/png": "[encoded data removed]",
      "text/plain": [
       "<Figure size 288x216 with 1 Axes>"
      ]
     },
     "metadata": {
      "needs_background": "light"
     },
     "output_type": "display_data"
    }
   ],
   "source": [
    "plt.figure(figsize=(4, 3))\n",
    "sns.countplot(predict_cdiscount_class1)\n",
    "plt.show();"
   ]
  },
  {
   "cell_type": "markdown",
   "id": "14ed6ff5",
   "metadata": {},
   "source": [
    "### Calcul des prédictions négatives et positives sur le jeu de test amazon"
   ]
  },
  {
   "cell_type": "code",
   "execution_count": null,
   "id": "5ccf1520",
   "metadata": {},
   "outputs": [],
   "source": []
  },
  {
   "cell_type": "code",
   "execution_count": 103,
   "id": "1ed4f2fe",
   "metadata": {},
   "outputs": [],
   "source": [
    "# séparation de la variable cible et des variables explicatives\n",
    "check_set_amazon = df_test_0_1['commentaire'].values"
   ]
  },
  {
   "cell_type": "code",
   "execution_count": 104,
   "id": "3ba91546",
   "metadata": {},
   "outputs": [],
   "source": [
    "# vectorisation des token\n",
    "check_seq_amazon = tk.texts_to_sequences(check_set_amazon)"
   ]
  },
  {
   "cell_type": "code",
   "execution_count": 105,
   "id": "f8a34a06",
   "metadata": {},
   "outputs": [],
   "source": [
    "# mise sous matrice numpy\n",
    "check_pad_amazon = pad_sequences(check_seq_amazon, maxlen=max_words, padding='post')"
   ]
  },
  {
   "cell_type": "code",
   "execution_count": 106,
   "id": "f0032936",
   "metadata": {},
   "outputs": [
    {
     "name": "stdout",
     "output_type": "stream",
     "text": [
      "3/3 [==============================] - 0s 4ms/step\n"
     ]
    }
   ],
   "source": [
    "# création des prédictions du jeu de test amazon à partir du modèle\n",
    "check_predict_0_1 = model_0_1_embedding_1.predict(check_pad_amazon, verbose=1)"
   ]
  },
  {
   "cell_type": "code",
   "execution_count": 107,
   "id": "8f815ae9",
   "metadata": {},
   "outputs": [
    {
     "name": "stdout",
     "output_type": "stream",
     "text": [
      "[0.08159435]\n",
      "[0.07448176]\n",
      "[0.1448482]\n",
      "[0.03390023]\n",
      "[3.3776575e-07]\n",
      "[9.280041e-06]\n",
      "[1.6881904e-05]\n",
      "[0.01056933]\n",
      "[0.04498959]\n",
      "[3.6455504e-06]\n"
     ]
    }
   ],
   "source": [
    "for i in range(10):\n",
    "    print(check_predict_0_1[i])"
   ]
  },
  {
   "cell_type": "code",
   "execution_count": 108,
   "id": "dcc62e2e",
   "metadata": {},
   "outputs": [
    {
     "data": {
      "text/plain": [
       "array([0, 0, 0, 0, 0, 0, 0, 0, 0, 0, 0, 0, 0, 1, 0, 0, 0, 0, 0, 0, 1, 0,\n",
       "       0, 0, 0, 0, 0, 0, 0, 0, 0, 0, 0, 0, 0, 0, 0, 0, 1, 0, 0, 1, 1, 1,\n",
       "       1, 1, 1, 1, 0, 1, 1, 1, 1, 1, 0, 0, 0, 1, 1, 1, 1, 1, 1, 1, 1, 1,\n",
       "       0, 1, 1, 1, 1, 1, 1, 1, 1, 0, 1, 1, 1, 1])"
      ]
     },
     "execution_count": 108,
     "metadata": {},
     "output_type": "execute_result"
    }
   ],
   "source": [
    "check_predict_0_1_class = check_predict_0_1.round().astype('int').ravel()\n",
    "check_predict_0_1_class"
   ]
  },
  {
   "cell_type": "code",
   "execution_count": 109,
   "id": "3517deb6",
   "metadata": {},
   "outputs": [
    {
     "name": "stderr",
     "output_type": "stream",
     "text": [
      "C:\\Users\\t.fourtouill\\Anaconda3\\lib\\site-packages\\seaborn\\_decorators.py:36: FutureWarning: Pass the following variable as a keyword arg: x. From version 0.12, the only valid positional argument will be `data`, and passing other arguments without an explicit keyword will result in an error or misinterpretation.\n",
      "  warnings.warn(\n"
     ]
    },
    {
     "data": {
      "image/png": "[encoded data removed]",
      "text/plain": [
       "<Figure size 288x216 with 1 Axes>"
      ]
     },
     "metadata": {
      "needs_background": "light"
     },
     "output_type": "display_data"
    }
   ],
   "source": [
    "plt.figure(figsize=(4, 3))\n",
    "sns.countplot(check_predict_0_1_class)\n",
    "plt.show();"
   ]
  },
  {
   "cell_type": "code",
   "execution_count": 110,
   "id": "494df9a3",
   "metadata": {},
   "outputs": [
    {
     "data": {
      "text/html": [
       "<div>\n",
       "<style scoped>\n",
       "    .dataframe tbody tr th:only-of-type {\n",
       "        vertical-align: middle;\n",
       "    }\n",
       "\n",
       "    .dataframe tbody tr th {\n",
       "        vertical-align: top;\n",
       "    }\n",
       "\n",
       "    .dataframe thead th {\n",
       "        text-align: right;\n",
       "    }\n",
       "</style>\n",
       "<table border=\"1\" class=\"dataframe\">\n",
       "  <thead>\n",
       "    <tr style=\"text-align: right;\">\n",
       "      <th></th>\n",
       "      <th>commentaire</th>\n",
       "      <th>note</th>\n",
       "      <th>prediction</th>\n",
       "    </tr>\n",
       "  </thead>\n",
       "  <tbody>\n",
       "    <tr>\n",
       "      <th>0</th>\n",
       "      <td>MENZZONous aimerions savoir pourquoi vous ne retournez pas l'argent de vos clients et vous continuez à trouver des excuses à ce sujet. Les personnes qui donnent leur avis sur les réseaux sociaux vous bloqueront et leurs mails ne recevront pas de réponse. Pensez-vous que c'est normal?</td>\n",
       "      <td>1</td>\n",
       "      <td>1</td>\n",
       "    </tr>\n",
       "    <tr>\n",
       "      <th>1</th>\n",
       "      <td>Voulant acheter un pare soleil  de marque pour mon appareil photo le prix étant de 28 € environ quel a pas était ma surprise de voir ce prix  grimper  à 45 € en l'espace  de 5 mn et tous ça  sur le site Amazon y a t'il d'autres  personnes à qui cela est  arrivé , je serai curieux  de  lire vos témoignages  ( pratiques de voyous)</td>\n",
       "      <td>1</td>\n",
       "      <td>1</td>\n",
       "    </tr>\n",
       "    <tr>\n",
       "      <th>2</th>\n",
       "      <td>Comment souvent problème d'envoi ou réception de marchandise biensure service client au téléphone ce n est pas leur faute c est les gens de l emballage belle esprit d équipe je ne commanderai plus chez vous</td>\n",
       "      <td>1</td>\n",
       "      <td>1</td>\n",
       "    </tr>\n",
       "    <tr>\n",
       "      <th>3</th>\n",
       "      <td>L’arnaque des livreurs qui ne respectent pas les instructions des livraison, laissent le clos n’importe où le marquent livres alors qu ils ont pas livres! Le service client à part dire ; on va faire remonter l’info et ouvrir une enquête », ne fait rien! Avec l’argent qu engrange Amazon il s’agirait de s entourer de livreurs fiables !!</td>\n",
       "      <td>1</td>\n",
       "      <td>1</td>\n",
       "    </tr>\n",
       "    <tr>\n",
       "      <th>4</th>\n",
       "      <td>J’ai commandé un article très cher qui est supposé être neuf. A ma surprise en recevant le colis l l’article semble déjà ouvert/voir même déjà utilisé, le carton de l’article était déchiré.. étant la grosse somme que j’ai dépensé sur cet article je ne peux accepter de recevoir du reconditionné au prix du neuf. En demandant le retour Amazon refuse de me rembourser sur carte bancaire mais plutôt uniquement par avoir et ça c’est absurde car c’est pas de ma faute c’est la faute à Amazon, d’ailleurs pourquoi m’obliger à consommer par force une telle grosse somme sur leur site, moi je veux pas d’avoir je veux mon argent sur mon compte bancaire !!!! J’ai commencé les démarches pour ouvrir un contentieux contre Amazon !</td>\n",
       "      <td>1</td>\n",
       "      <td>1</td>\n",
       "    </tr>\n",
       "  </tbody>\n",
       "</table>\n",
       "</div>"
      ],
      "text/plain": [
       "                                                                                                                                                                                                                                                                                                                                                                                                                                                                                                                                                                                                                                                                                                                                         commentaire  \\\n",
       "0                                                                                                                                                                                                                                                                                                                                                                                                                                                       MENZZONous aimerions savoir pourquoi vous ne retournez pas l'argent de vos clients et vous continuez à trouver des excuses à ce sujet. Les personnes qui donnent leur avis sur les réseaux sociaux vous bloqueront et leurs mails ne recevront pas de réponse. Pensez-vous que c'est normal?   \n",
       "1                                                                                                                                                                                                                                                                                                                                                                                                         Voulant acheter un pare soleil  de marque pour mon appareil photo le prix étant de 28 € environ quel a pas était ma surprise de voir ce prix  grimper  à 45 € en l'espace  de 5 mn et tous ça  sur le site Amazon y a t'il d'autres  personnes à qui cela est  arrivé , je serai curieux  de  lire vos témoignages  ( pratiques de voyous)   \n",
       "2                                                                                                                                                                                                                                                                                                                                                                                                                                                                                                                                     Comment souvent problème d'envoi ou réception de marchandise biensure service client au téléphone ce n est pas leur faute c est les gens de l emballage belle esprit d équipe je ne commanderai plus chez vous   \n",
       "3                                                                                                                                                                                                                                                                                                                                                                                                   L’arnaque des livreurs qui ne respectent pas les instructions des livraison, laissent le clos n’importe où le marquent livres alors qu ils ont pas livres! Le service client à part dire ; on va faire remonter l’info et ouvrir une enquête », ne fait rien! Avec l’argent qu engrange Amazon il s’agirait de s entourer de livreurs fiables !!   \n",
       "4  J’ai commandé un article très cher qui est supposé être neuf. A ma surprise en recevant le colis l l’article semble déjà ouvert/voir même déjà utilisé, le carton de l’article était déchiré.. étant la grosse somme que j’ai dépensé sur cet article je ne peux accepter de recevoir du reconditionné au prix du neuf. En demandant le retour Amazon refuse de me rembourser sur carte bancaire mais plutôt uniquement par avoir et ça c’est absurde car c’est pas de ma faute c’est la faute à Amazon, d’ailleurs pourquoi m’obliger à consommer par force une telle grosse somme sur leur site, moi je veux pas d’avoir je veux mon argent sur mon compte bancaire !!!! J’ai commencé les démarches pour ouvrir un contentieux contre Amazon !   \n",
       "\n",
       "   note  prediction  \n",
       "0     1           1  \n",
       "1     1           1  \n",
       "2     1           1  \n",
       "3     1           1  \n",
       "4     1           1  "
      ]
     },
     "execution_count": 110,
     "metadata": {},
     "output_type": "execute_result"
    }
   ],
   "source": [
    "# comparaison des prédictions et des notes du jeu de test\n",
    "check_df_0_1 = pd.DataFrame(list(zip(df_test_0_1.commentaire, df_test_0_1.note, check_predict_0_1_class)), columns=['commentaire', 'note', 'prediction'])\n",
    "check_df.head()"
   ]
  },
  {
   "cell_type": "code",
   "execution_count": 111,
   "id": "1965e9a5",
   "metadata": {},
   "outputs": [
    {
     "name": "stdout",
     "output_type": "stream",
     "text": [
      "              precision    recall  f1-score   support\n",
      "\n",
      "           0       0.84      0.93      0.88        40\n",
      "           1       0.92      0.82      0.87        40\n",
      "\n",
      "    accuracy                           0.88        80\n",
      "   macro avg       0.88      0.88      0.87        80\n",
      "weighted avg       0.88      0.88      0.87        80\n",
      "\n"
     ]
    },
    {
     "data": {
      "text/html": [
       "<div>\n",
       "<style scoped>\n",
       "    .dataframe tbody tr th:only-of-type {\n",
       "        vertical-align: middle;\n",
       "    }\n",
       "\n",
       "    .dataframe tbody tr th {\n",
       "        vertical-align: top;\n",
       "    }\n",
       "\n",
       "    .dataframe thead th {\n",
       "        text-align: right;\n",
       "    }\n",
       "</style>\n",
       "<table border=\"1\" class=\"dataframe\">\n",
       "  <thead>\n",
       "    <tr style=\"text-align: right;\">\n",
       "      <th>predictions</th>\n",
       "      <th>0</th>\n",
       "      <th>1</th>\n",
       "    </tr>\n",
       "    <tr>\n",
       "      <th>données réelles</th>\n",
       "      <th></th>\n",
       "      <th></th>\n",
       "    </tr>\n",
       "  </thead>\n",
       "  <tbody>\n",
       "    <tr>\n",
       "      <th>0</th>\n",
       "      <td>37</td>\n",
       "      <td>3</td>\n",
       "    </tr>\n",
       "    <tr>\n",
       "      <th>1</th>\n",
       "      <td>7</td>\n",
       "      <td>33</td>\n",
       "    </tr>\n",
       "  </tbody>\n",
       "</table>\n",
       "</div>"
      ],
      "text/plain": [
       "predictions       0   1\n",
       "données réelles        \n",
       "0                37   3\n",
       "1                 7  33"
      ]
     },
     "metadata": {},
     "output_type": "display_data"
    },
    {
     "data": {
      "text/html": [
       "<div>\n",
       "<style scoped>\n",
       "    .dataframe tbody tr th:only-of-type {\n",
       "        vertical-align: middle;\n",
       "    }\n",
       "\n",
       "    .dataframe tbody tr th {\n",
       "        vertical-align: top;\n",
       "    }\n",
       "\n",
       "    .dataframe thead th {\n",
       "        text-align: right;\n",
       "    }\n",
       "</style>\n",
       "<table border=\"1\" class=\"dataframe\">\n",
       "  <thead>\n",
       "    <tr style=\"text-align: right;\">\n",
       "      <th>predictions</th>\n",
       "      <th>0</th>\n",
       "      <th>1</th>\n",
       "    </tr>\n",
       "    <tr>\n",
       "      <th>données réelles</th>\n",
       "      <th></th>\n",
       "      <th></th>\n",
       "    </tr>\n",
       "  </thead>\n",
       "  <tbody>\n",
       "    <tr>\n",
       "      <th>0</th>\n",
       "      <td>0.925</td>\n",
       "      <td>0.075</td>\n",
       "    </tr>\n",
       "    <tr>\n",
       "      <th>1</th>\n",
       "      <td>0.175</td>\n",
       "      <td>0.825</td>\n",
       "    </tr>\n",
       "  </tbody>\n",
       "</table>\n",
       "</div>"
      ],
      "text/plain": [
       "predictions          0      1\n",
       "données réelles              \n",
       "0                0.925  0.075\n",
       "1                0.175  0.825"
      ]
     },
     "metadata": {},
     "output_type": "display_data"
    },
    {
     "name": "stdout",
     "output_type": "stream",
     "text": [
      "les prédictions correctes sont supérieures à 50% pour 0 étoile(s) avec 92%\n",
      "les prédictions correctes sont supérieures à 50% pour 1 étoile(s) avec 82%\n"
     ]
    }
   ],
   "source": [
    "from sklearn.metrics import classification_report\n",
    "\n",
    "# vérification des résultats sur un jeu de test externe (100 commentaires amazon également répartis entre les étoiles)\n",
    "\n",
    "cm_test1_0_1 = classification_report(df_test_0_1.note, check_predict_0_1_class)\n",
    "print(cm_test1_0_1)\n",
    "\n",
    "cm_test2_0_1 = pd.crosstab(df_test_0_1.note, check_predict_0_1_class, rownames=['données réelles'], colnames=['predictions'])\n",
    "display(cm_test2_0_1)\n",
    "\n",
    "cm_test3_0_1 = pd.crosstab(df_test_0_1.note, check_predict_0_1_class, rownames=['données réelles'], colnames=['predictions'], normalize=0)\n",
    "display(cm_test3_0_1)\n",
    "\n",
    "for i in cm_test3_0_1.index:\n",
    "    for j in cm_test3_0_1.columns :\n",
    "        if (i==j and cm_test3_0_1.loc[i, j] > 0.5) :\n",
    "            print(\"les prédictions correctes sont supérieures à 50% pour {} étoile(s) avec {:0.0%}\".format(i, cm_test3_0_1.loc[i, j]))"
   ]
  },
  {
   "cell_type": "code",
   "execution_count": 112,
   "id": "e40ea974",
   "metadata": {},
   "outputs": [
    {
     "name": "stdout",
     "output_type": "stream",
     "text": [
      "INFO:tensorflow:Assets written to: datasets/SatisfactionClients/model_0_1_embedding2\\assets\n"
     ]
    }
   ],
   "source": [
    "import os\n",
    "path = \"/Users/t.fourtouill/Downloads/SatisfactionClients\"\n",
    "os.makedirs(path, exist_ok=True)\n",
    "model_0_1_embedding_1.save('datasets/SatisfactionClients/model_0_1_embedding2')"
   ]
  }
 ],
 "metadata": {
  "kernelspec": {
   "display_name": "Python 3 (ipykernel)",
   "language": "python",
   "name": "python3"
  },
  "language_info": {
   "codemirror_mode": {
    "name": "ipython",
    "version": 3
   },
   "file_extension": ".py",
   "mimetype": "text/x-python",
   "name": "python",
   "nbconvert_exporter": "python",
   "pygments_lexer": "ipython3",
   "version": "3.9.7"
  }
 },
 "nbformat": 4,
 "nbformat_minor": 5
}

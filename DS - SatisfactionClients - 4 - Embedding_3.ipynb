{
 "cells": [
  {
   "cell_type": "code",
   "execution_count": 1,
   "id": "196d79a4",
   "metadata": {},
   "outputs": [],
   "source": [
    "import pandas as pd\n",
    "import numpy as np\n",
    "import matplotlib.pyplot as plt\n",
    "import seaborn as sns\n",
    "from time import time\n",
    "import itertools\n",
    "import keras\n",
    "import tensorflow"
   ]
  },
  {
   "cell_type": "code",
   "execution_count": 2,
   "id": "6b85a034",
   "metadata": {},
   "outputs": [],
   "source": [
    "pd.options.display.max_colwidth=800\n",
    "pd.set_option('display.max_rows', 500)\n",
    "pd.set_option('display.max_columns', 500)"
   ]
  },
  {
   "cell_type": "code",
   "execution_count": 3,
   "id": "119a889d",
   "metadata": {},
   "outputs": [
    {
     "data": {
      "text/html": [
       "<div>\n",
       "<style scoped>\n",
       "    .dataframe tbody tr th:only-of-type {\n",
       "        vertical-align: middle;\n",
       "    }\n",
       "\n",
       "    .dataframe tbody tr th {\n",
       "        vertical-align: top;\n",
       "    }\n",
       "\n",
       "    .dataframe thead th {\n",
       "        text-align: right;\n",
       "    }\n",
       "</style>\n",
       "<table border=\"1\" class=\"dataframe\">\n",
       "  <thead>\n",
       "    <tr style=\"text-align: right;\">\n",
       "      <th></th>\n",
       "      <th>note</th>\n",
       "      <th>commentaire</th>\n",
       "    </tr>\n",
       "  </thead>\n",
       "  <tbody>\n",
       "    <tr>\n",
       "      <th>0</th>\n",
       "      <td>1</td>\n",
       "      <td>après avoir soutenu livreur poste déclaration colis livre vient m'aviser colis suite non réclamation vient tre retourné l'expéditeur donc tous menteurs colis n'a donc jamais livré voici preuve flagrante discount persiste demandant malgré cette déclaration tas justificatifs inutiles menteurs voleurs</td>\n",
       "    </tr>\n",
       "    <tr>\n",
       "      <th>1</th>\n",
       "      <td>1</td>\n",
       "      <td>service client abonnés absents invite chercher commentaires seuls ceux passent reste extr tout difficile avertir personnellement commandé réfrigérateur livre mauvaise référence depuis mois propose uniquement reprise sans livraison donc fais comment aliments réfrigérateur combiné mise demeure etc fonctionne</td>\n",
       "    </tr>\n",
       "  </tbody>\n",
       "</table>\n",
       "</div>"
      ],
      "text/plain": [
       "   note  \\\n",
       "0     1   \n",
       "1     1   \n",
       "\n",
       "                                                                                                                                                                                                                                                                                                            commentaire  \n",
       "0          après avoir soutenu livreur poste déclaration colis livre vient m'aviser colis suite non réclamation vient tre retourné l'expéditeur donc tous menteurs colis n'a donc jamais livré voici preuve flagrante discount persiste demandant malgré cette déclaration tas justificatifs inutiles menteurs voleurs   \n",
       "1  service client abonnés absents invite chercher commentaires seuls ceux passent reste extr tout difficile avertir personnellement commandé réfrigérateur livre mauvaise référence depuis mois propose uniquement reprise sans livraison donc fais comment aliments réfrigérateur combiné mise demeure etc fonctionne   "
      ]
     },
     "execution_count": 3,
     "metadata": {},
     "output_type": "execute_result"
    }
   ],
   "source": [
    "df = pd.read_csv('datasets/SatisfactionClients/cdiscount2.csv')\n",
    "df_test = pd.read_csv('datasets/SatisfactionClients/amazon_test1.csv')\n",
    "df.head(2)"
   ]
  },
  {
   "cell_type": "code",
   "execution_count": 4,
   "id": "d4bae705",
   "metadata": {},
   "outputs": [
    {
     "data": {
      "text/plain": [
       "note            0\n",
       "commentaire    54\n",
       "dtype: int64"
      ]
     },
     "execution_count": 4,
     "metadata": {},
     "output_type": "execute_result"
    }
   ],
   "source": [
    "df.isna().sum()"
   ]
  },
  {
   "cell_type": "code",
   "execution_count": 5,
   "id": "e5b1e976",
   "metadata": {},
   "outputs": [],
   "source": [
    "df = df[df['commentaire'].isna()==False]"
   ]
  },
  {
   "cell_type": "code",
   "execution_count": 6,
   "id": "f13e334a",
   "metadata": {},
   "outputs": [],
   "source": [
    "# séparation de la variable cible et des variables explicatives\n",
    "X = df['commentaire']\n",
    "y = df['note'].values"
   ]
  },
  {
   "cell_type": "code",
   "execution_count": 7,
   "id": "6269af3d",
   "metadata": {},
   "outputs": [],
   "source": [
    "# séparation du jeu de données en un dataset d'entrainement et un dataset de test\n",
    "from sklearn.model_selection import train_test_split\n",
    "X_train, X_test, y_train, y_test = train_test_split(X, y, test_size=0.2, shuffle=True)"
   ]
  },
  {
   "cell_type": "code",
   "execution_count": 8,
   "id": "0673da10",
   "metadata": {},
   "outputs": [
    {
     "name": "stdout",
     "output_type": "stream",
     "text": [
      "(67552,)\n",
      "(16888,)\n",
      "(100, 3)\n"
     ]
    }
   ],
   "source": [
    "print(X_train.shape)\n",
    "print(X_test.shape)\n",
    "print(df_test.shape)"
   ]
  },
  {
   "cell_type": "code",
   "execution_count": 9,
   "id": "d40a7b61",
   "metadata": {},
   "outputs": [],
   "source": [
    "from keras.preprocessing.text import Tokenizer\n",
    "from keras.preprocessing.sequence import pad_sequences"
   ]
  },
  {
   "cell_type": "code",
   "execution_count": 10,
   "id": "7709d894",
   "metadata": {},
   "outputs": [],
   "source": [
    "# tokenisation des commentaires\n",
    "num_words=5000\n",
    "tk = Tokenizer(num_words=num_words, lower=True)"
   ]
  },
  {
   "cell_type": "code",
   "execution_count": 11,
   "id": "014744b9",
   "metadata": {},
   "outputs": [],
   "source": [
    "# entrainement de la tokenisation sur le X_train\n",
    "tk.fit_on_texts(X_train)"
   ]
  },
  {
   "cell_type": "code",
   "execution_count": 12,
   "id": "5faa7d54",
   "metadata": {},
   "outputs": [
    {
     "data": {
      "text/plain": [
       "35618"
      ]
     },
     "execution_count": 12,
     "metadata": {},
     "output_type": "execute_result"
    }
   ],
   "source": [
    "# nb de ligne de la matrice\n",
    "word_index = tk.word_index\n",
    "len(tk.word_index)"
   ]
  },
  {
   "cell_type": "code",
   "execution_count": 13,
   "id": "8a275671",
   "metadata": {},
   "outputs": [
    {
     "data": {
      "text/plain": [
       "5000"
      ]
     },
     "execution_count": 13,
     "metadata": {},
     "output_type": "execute_result"
    }
   ],
   "source": [
    "# nb de colonnes dans la matrice\n",
    "vocabulary_size = tk.num_words\n",
    "vocabulary_size"
   ]
  },
  {
   "cell_type": "code",
   "execution_count": 14,
   "id": "c937c451",
   "metadata": {},
   "outputs": [],
   "source": [
    "# mise sous vecteur des commentaires\n",
    "X_seq_train = tk.texts_to_sequences(X_train)\n",
    "X_seq_test = tk.texts_to_sequences(X_test)"
   ]
  },
  {
   "cell_type": "code",
   "execution_count": 15,
   "id": "204ad175",
   "metadata": {},
   "outputs": [
    {
     "name": "stdout",
     "output_type": "stream",
     "text": [
      "[193, 32, 13, 33, 133, 2552, 664, 2, 144, 147, 22]\n",
      "[167, 861, 42]\n",
      "[27, 726, 4]\n",
      "[174, 2553, 685, 142, 280, 265, 2972]\n",
      "[26, 6, 11, 23]\n"
     ]
    }
   ],
   "source": [
    "# affichage de la vectorisation réalisée\n",
    "for x in range(0,5):\n",
    "    print(X_seq_train[x])"
   ]
  },
  {
   "cell_type": "code",
   "execution_count": 16,
   "id": "e647906d",
   "metadata": {},
   "outputs": [
    {
     "data": {
      "text/plain": [
       "Text(0.5, 1.0, 'commentaires bruts')"
      ]
     },
     "execution_count": 16,
     "metadata": {},
     "output_type": "execute_result"
    },
    {
     "data": {
      "image/png": "[encoded data removed]",
      "text/plain": [
       "<Figure size 864x288 with 1 Axes>"
      ]
     },
     "metadata": {
      "needs_background": "light"
     },
     "output_type": "display_data"
    }
   ],
   "source": [
    "# affichage du nb de mots par commentaire pour nous aider à déterminer le nb de mots à choisir dans la matrice \n",
    "df['split'] = df['commentaire'].apply(lambda x: len(x.split(' ')))\n",
    "\n",
    "plt.figure(figsize=(12, 4))\n",
    "plt.subplot(121)\n",
    "plt.hist(df['split'])\n",
    "plt.xlim([0, 300])\n",
    "plt.title('commentaires bruts')"
   ]
  },
  {
   "cell_type": "code",
   "execution_count": 17,
   "id": "aa8ad6cf",
   "metadata": {},
   "outputs": [],
   "source": [
    "# transformation en matrice de même longueur par maxlen défini ci-dessous. Avec des 0 si colonne inférieure à maxlen\n",
    "max_words = 130\n",
    "X_pad_train = pad_sequences(X_seq_train, maxlen=max_words, padding='post')\n",
    "X_pad_test= pad_sequences(X_seq_test, maxlen=max_words, padding='post')"
   ]
  },
  {
   "cell_type": "code",
   "execution_count": 18,
   "id": "e5651d36",
   "metadata": {},
   "outputs": [
    {
     "name": "stdout",
     "output_type": "stream",
     "text": [
      "(67552, 130)\n"
     ]
    },
    {
     "data": {
      "text/plain": [
       "array([[ 193,   32,   13, ...,    0,    0,    0],\n",
       "       [ 167,  861,   42, ...,    0,    0,    0],\n",
       "       [  27,  726,    4, ...,    0,    0,    0],\n",
       "       ...,\n",
       "       [ 155,   10,   53, ..., 4330,   28,  190],\n",
       "       [  41, 1224,   18, ...,    0,    0,    0],\n",
       "       [ 672,    1,   59, ...,    0,    0,    0]])"
      ]
     },
     "execution_count": 18,
     "metadata": {},
     "output_type": "execute_result"
    }
   ],
   "source": [
    "# affice de la matrice\n",
    "print(X_pad_train.shape)\n",
    "X_pad_train"
   ]
  },
  {
   "cell_type": "code",
   "execution_count": 19,
   "id": "a509121c",
   "metadata": {},
   "outputs": [
    {
     "name": "stdout",
     "output_type": "stream",
     "text": [
      "Model: \"sequential\"\n",
      "_________________________________________________________________\n",
      " Layer (type)                Output Shape              Param #   \n",
      "=================================================================\n",
      " embedding (Embedding)       (None, 130, 100)          500000    \n",
      "                                                                 \n",
      " global_average_pooling1d (G  (None, 100)              0         \n",
      " lobalAveragePooling1D)                                          \n",
      "                                                                 \n",
      " dense (Dense)               (None, 256)               25856     \n",
      "                                                                 \n",
      " dropout (Dropout)           (None, 256)               0         \n",
      "                                                                 \n",
      " dense_1 (Dense)             (None, 128)               32896     \n",
      "                                                                 \n",
      " dropout_1 (Dropout)         (None, 128)               0         \n",
      "                                                                 \n",
      " dense_2 (Dense)             (None, 64)                8256      \n",
      "                                                                 \n",
      " dropout_2 (Dropout)         (None, 64)                0         \n",
      "                                                                 \n",
      " dense_3 (Dense)             (None, 6)                 390       \n",
      "                                                                 \n",
      "=================================================================\n",
      "Total params: 567,398\n",
      "Trainable params: 567,398\n",
      "Non-trainable params: 0\n",
      "_________________________________________________________________\n"
     ]
    }
   ],
   "source": [
    "# Création des couches du modéle\n",
    "\n",
    "from tensorflow.keras.models import Sequential\n",
    "from tensorflow.keras.layers import Dense, GlobalAveragePooling1D, Input, Embedding, Dropout\n",
    "\n",
    "embedding_size = 100\n",
    "\n",
    "model_embedding_1 = Sequential()\n",
    "model_embedding_1.add(Embedding(input_dim=vocabulary_size, output_dim=embedding_size, input_length=max_words, embeddings_initializer='uniform'))  # On reprend le nb de mot choisi dans la tokenisation\n",
    "model_embedding_1.add(GlobalAveragePooling1D())\n",
    "model_embedding_1.add(Dense(units=256, activation='relu'))\n",
    "model_embedding_1.add(Dropout(rate=0.3))\n",
    "model_embedding_1.add(Dense(units=128, activation='relu'))\n",
    "model_embedding_1.add(Dropout(rate=0.2))\n",
    "model_embedding_1.add(Dense(units=64, activation='relu'))\n",
    "model_embedding_1.add(Dropout(rate=0.2))\n",
    "model_embedding_1.add(Dense(units=6, activation='softmax')) # En sortie le nb de units devra correspondre aux nb de variables cibles\n",
    "\n",
    "model_embedding_1.summary()"
   ]
  },
  {
   "cell_type": "code",
   "execution_count": 20,
   "id": "36bca453",
   "metadata": {},
   "outputs": [],
   "source": [
    "# timer pour mesurer le temps écoulé entre les epochs de début et de fin de callback\n",
    "from tensorflow.keras.callbacks import Callback\n",
    "from timeit import default_timer as timer\n",
    "\n",
    "class TimingCallback(Callback):\n",
    "    def __init__(self, logs={}):\n",
    "        self.logs=[]\n",
    "    def on_epoch_begin(self, epoch, logs={}):\n",
    "        self.starttime = timer()\n",
    "    def on_epoch_end(self, epoch, logs={}):\n",
    "        self.logs.append(timer()-self.starttime)\n",
    "\n",
    "# instanciation la fonction TimingCallback()\n",
    "time_callback = TimingCallback()"
   ]
  },
  {
   "cell_type": "code",
   "execution_count": 21,
   "id": "4f9cb05f",
   "metadata": {},
   "outputs": [],
   "source": [
    "# Création des callback\n",
    "from tensorflow.keras.callbacks import EarlyStopping\n",
    "\n",
    "early_stop = EarlyStopping(monitor='val_loss',\n",
    "                          min_delta=0.01,\n",
    "                          patience=3,\n",
    "                          mode='min',\n",
    "                          restore_best_weights=True,\n",
    "                          verbose=1)"
   ]
  },
  {
   "cell_type": "code",
   "execution_count": 22,
   "id": "bbfcec82",
   "metadata": {},
   "outputs": [],
   "source": [
    "model_embedding_1.compile(loss='sparse_categorical_crossentropy', optimizer='adam', metrics=['accuracy'])"
   ]
  },
  {
   "cell_type": "code",
   "execution_count": 23,
   "id": "6a48774e",
   "metadata": {},
   "outputs": [
    {
     "name": "stdout",
     "output_type": "stream",
     "text": [
      "Epoch 1/10\n",
      "1900/1900 [==============================] - 16s 8ms/step - loss: 0.8584 - accuracy: 0.6729 - val_loss: 0.7696 - val_accuracy: 0.6930\n",
      "Epoch 2/10\n",
      "1900/1900 [==============================] - 17s 9ms/step - loss: 0.7404 - accuracy: 0.7062 - val_loss: 0.7304 - val_accuracy: 0.7114\n",
      "Epoch 3/10\n",
      "1900/1900 [==============================] - 16s 9ms/step - loss: 0.7114 - accuracy: 0.7168 - val_loss: 0.7366 - val_accuracy: 0.7133\n",
      "Epoch 4/10\n",
      "1900/1900 [==============================] - 16s 9ms/step - loss: 0.6914 - accuracy: 0.7214 - val_loss: 0.7469 - val_accuracy: 0.7063\n",
      "Epoch 5/10\n",
      "1896/1900 [============================>.] - ETA: 0s - loss: 0.6775 - accuracy: 0.7278Restoring model weights from the end of the best epoch: 2.\n",
      "1900/1900 [==============================] - 16s 8ms/step - loss: 0.6774 - accuracy: 0.7278 - val_loss: 0.7528 - val_accuracy: 0.7117\n",
      "Epoch 5: early stopping\n"
     ]
    }
   ],
   "source": [
    "batch_size = 32\n",
    "epochs = 10\n",
    "history = model_embedding_1.fit(X_pad_train, y_train, batch_size=batch_size, epochs=epochs, validation_split=0.1,\n",
    "                               callbacks=[early_stop, time_callback])"
   ]
  },
  {
   "cell_type": "code",
   "execution_count": 24,
   "id": "9ae167f8",
   "metadata": {},
   "outputs": [
    {
     "name": "stdout",
     "output_type": "stream",
     "text": [
      "528/528 [==============================] - 1s 2ms/step - loss: 0.7428 - accuracy: 0.7084\n"
     ]
    },
    {
     "data": {
      "text/plain": [
       "[0.7427594661712646, 0.7083728313446045]"
      ]
     },
     "execution_count": 24,
     "metadata": {},
     "output_type": "execute_result"
    }
   ],
   "source": [
    "model_embedding_1.evaluate(X_pad_test, y_test, verbose=1)"
   ]
  },
  {
   "cell_type": "markdown",
   "id": "6aa031ba",
   "metadata": {},
   "source": [
    "### Calcul des prédictions sur le le de test cdiscount"
   ]
  },
  {
   "cell_type": "code",
   "execution_count": 25,
   "id": "047e9d1c",
   "metadata": {},
   "outputs": [
    {
     "name": "stdout",
     "output_type": "stream",
     "text": [
      "528/528 [==============================] - 1s 2ms/step\n"
     ]
    }
   ],
   "source": [
    "# création des prédictions du eu de test cdiscount à partir du modèle\n",
    "predict_cdiscount = model_embedding_1.predict(X_pad_test, verbose=1)"
   ]
  },
  {
   "cell_type": "code",
   "execution_count": 26,
   "id": "839cd186",
   "metadata": {},
   "outputs": [
    {
     "data": {
      "text/plain": [
       "array([5, 1, 1, ..., 1, 1, 5], dtype=int64)"
      ]
     },
     "execution_count": 26,
     "metadata": {},
     "output_type": "execute_result"
    }
   ],
   "source": [
    "predict_cdiscount_class = predict_cdiscount.argmax(axis=1)\n",
    "predict_cdiscount_class"
   ]
  },
  {
   "cell_type": "code",
   "execution_count": 27,
   "id": "c60286b3",
   "metadata": {},
   "outputs": [
    {
     "name": "stderr",
     "output_type": "stream",
     "text": [
      "C:\\Users\\t.fourtouill\\Anaconda3\\lib\\site-packages\\seaborn\\_decorators.py:36: FutureWarning: Pass the following variable as a keyword arg: x. From version 0.12, the only valid positional argument will be `data`, and passing other arguments without an explicit keyword will result in an error or misinterpretation.\n",
      "  warnings.warn(\n"
     ]
    },
    {
     "data": {
      "image/png": "[encoded data removed]",
      "text/plain": [
       "<Figure size 432x288 with 1 Axes>"
      ]
     },
     "metadata": {
      "needs_background": "light"
     },
     "output_type": "display_data"
    }
   ],
   "source": [
    "sns.countplot(predict_cdiscount_class)\n",
    "plt.show();"
   ]
  },
  {
   "cell_type": "markdown",
   "id": "33371e69",
   "metadata": {},
   "source": [
    "### Calcul des prédictions sur le jeu de test amazon"
   ]
  },
  {
   "cell_type": "code",
   "execution_count": 28,
   "id": "fa5e08ab",
   "metadata": {},
   "outputs": [
    {
     "data": {
      "text/html": [
       "<div>\n",
       "<style scoped>\n",
       "    .dataframe tbody tr th:only-of-type {\n",
       "        vertical-align: middle;\n",
       "    }\n",
       "\n",
       "    .dataframe tbody tr th {\n",
       "        vertical-align: top;\n",
       "    }\n",
       "\n",
       "    .dataframe thead th {\n",
       "        text-align: right;\n",
       "    }\n",
       "</style>\n",
       "<table border=\"1\" class=\"dataframe\">\n",
       "  <thead>\n",
       "    <tr style=\"text-align: right;\">\n",
       "      <th></th>\n",
       "      <th>Unnamed: 0</th>\n",
       "      <th>note</th>\n",
       "      <th>commentaire</th>\n",
       "    </tr>\n",
       "  </thead>\n",
       "  <tbody>\n",
       "    <tr>\n",
       "      <th>0</th>\n",
       "      <td>0</td>\n",
       "      <td>1</td>\n",
       "      <td>MENZZONous aimerions savoir pourquoi vous ne retournez pas l'argent de vos clients et vous continuez à trouver des excuses à ce sujet. Les personnes qui donnent leur avis sur les réseaux sociaux vous bloqueront et leurs mails ne recevront pas de réponse. Pensez-vous que c'est normal?</td>\n",
       "    </tr>\n",
       "    <tr>\n",
       "      <th>1</th>\n",
       "      <td>1</td>\n",
       "      <td>1</td>\n",
       "      <td>Voulant acheter un pare soleil  de marque pour mon appareil photo le prix étant de 28 € environ quel a pas était ma surprise de voir ce prix  grimper  à 45 € en l'espace  de 5 mn et tous ça  sur le site Amazon y a t'il d'autres  personnes à qui cela est  arrivé , je serai curieux  de  lire vos témoignages  ( pratiques de voyous)</td>\n",
       "    </tr>\n",
       "  </tbody>\n",
       "</table>\n",
       "</div>"
      ],
      "text/plain": [
       "   Unnamed: 0  note  \\\n",
       "0           0     1   \n",
       "1           1     1   \n",
       "\n",
       "                                                                                                                                                                                                                                                                                                                                  commentaire  \n",
       "0                                                MENZZONous aimerions savoir pourquoi vous ne retournez pas l'argent de vos clients et vous continuez à trouver des excuses à ce sujet. Les personnes qui donnent leur avis sur les réseaux sociaux vous bloqueront et leurs mails ne recevront pas de réponse. Pensez-vous que c'est normal?  \n",
       "1  Voulant acheter un pare soleil  de marque pour mon appareil photo le prix étant de 28 € environ quel a pas était ma surprise de voir ce prix  grimper  à 45 € en l'espace  de 5 mn et tous ça  sur le site Amazon y a t'il d'autres  personnes à qui cela est  arrivé , je serai curieux  de  lire vos témoignages  ( pratiques de voyous)  "
      ]
     },
     "execution_count": 28,
     "metadata": {},
     "output_type": "execute_result"
    }
   ],
   "source": [
    "df_test.head(2)"
   ]
  },
  {
   "cell_type": "code",
   "execution_count": 29,
   "id": "cf9c42c4",
   "metadata": {},
   "outputs": [
    {
     "data": {
      "text/plain": [
       "Unnamed: 0     0\n",
       "note           0\n",
       "commentaire    0\n",
       "dtype: int64"
      ]
     },
     "execution_count": 29,
     "metadata": {},
     "output_type": "execute_result"
    }
   ],
   "source": [
    "df_test.isna().sum()"
   ]
  },
  {
   "cell_type": "code",
   "execution_count": 30,
   "id": "09478ff9",
   "metadata": {},
   "outputs": [],
   "source": [
    "df_test = df_test.drop(columns=['Unnamed: 0'], axis=1)"
   ]
  },
  {
   "cell_type": "code",
   "execution_count": 31,
   "id": "11489f4b",
   "metadata": {},
   "outputs": [],
   "source": [
    "# séparation de la variable cible et des variables explicatives\n",
    "check_set = df_test['commentaire'].values"
   ]
  },
  {
   "cell_type": "code",
   "execution_count": 32,
   "id": "10065e99",
   "metadata": {},
   "outputs": [],
   "source": [
    "# vectorisation des token\n",
    "check_seq = tk.texts_to_sequences(check_set)"
   ]
  },
  {
   "cell_type": "code",
   "execution_count": 33,
   "id": "5197708f",
   "metadata": {},
   "outputs": [],
   "source": [
    "# mise sous matrice numpy\n",
    "check_pad = pad_sequences(check_seq, maxlen=max_words, padding='post')"
   ]
  },
  {
   "cell_type": "code",
   "execution_count": 34,
   "id": "1061496c",
   "metadata": {},
   "outputs": [
    {
     "data": {
      "text/plain": [
       "array([[ 305,  206,  646, ...,    0,    0,    0],\n",
       "       [2065,  167,  409, ...,    0,    0,    0],\n",
       "       [ 315,  106,   27, ...,    0,    0,    0],\n",
       "       ...,\n",
       "       [   4,    3,   19, ...,    0,    0,    0],\n",
       "       [   5,  742, 4152, ...,    0,    0,    0],\n",
       "       [   4,  170,  123, ...,    0,    0,    0]])"
      ]
     },
     "execution_count": 34,
     "metadata": {},
     "output_type": "execute_result"
    }
   ],
   "source": [
    "check_pad"
   ]
  },
  {
   "cell_type": "code",
   "execution_count": 35,
   "id": "bff87635",
   "metadata": {},
   "outputs": [
    {
     "name": "stdout",
     "output_type": "stream",
     "text": [
      "4/4 [==============================] - 0s 3ms/step\n"
     ]
    }
   ],
   "source": [
    "# création des prédictions du jeu de test amazon à partir du modèle\n",
    "check_predict = model_embedding_1.predict(check_pad, verbose=1)"
   ]
  },
  {
   "cell_type": "code",
   "execution_count": 36,
   "id": "3690b8c8",
   "metadata": {},
   "outputs": [
    {
     "name": "stdout",
     "output_type": "stream",
     "text": [
      "[[1.80404779e-04 4.12791401e-01 1.89505711e-01 2.22833008e-01\n",
      "  1.24977387e-01 4.97120768e-02]\n",
      " [7.51269590e-06 6.96775377e-01 1.37797877e-01 9.72257257e-02\n",
      "  4.65010554e-02 2.16924343e-02]\n",
      " [3.66989275e-06 7.43422747e-01 1.19046398e-01 7.91382790e-02\n",
      "  3.85318287e-02 1.98570788e-02]\n",
      " [6.10829431e-07 7.68705428e-01 1.24131821e-01 7.12321103e-02\n",
      "  2.65020113e-02 9.42796376e-03]\n",
      " [1.88094711e-14 9.52889979e-01 4.19514962e-02 4.79360903e-03\n",
      "  3.39494378e-04 2.53196959e-05]\n",
      " [3.97685574e-12 9.21709478e-01 6.45871535e-02 1.21777030e-02\n",
      "  1.37220987e-03 1.53379398e-04]\n",
      " [3.94659918e-13 9.52967048e-01 3.94317135e-02 6.78330101e-03\n",
      "  7.33561930e-04 8.43938979e-05]\n",
      " [4.94550613e-06 4.30417240e-01 2.46804491e-01 2.23315686e-01\n",
      "  8.45771208e-02 1.48805333e-02]\n",
      " [2.15501514e-05 4.94682372e-01 1.96259543e-01 1.99903488e-01\n",
      "  8.54567960e-02 2.36763060e-02]\n",
      " [1.97922674e-15 9.72285926e-01 2.49270033e-02 2.59367866e-03\n",
      "  1.79160532e-04 1.41353403e-05]\n",
      " [8.31706828e-08 6.69866621e-01 1.98130652e-01 1.06273450e-01\n",
      "  2.24054959e-02 3.32361204e-03]\n",
      " [1.04311439e-08 8.59495640e-01 9.09759402e-02 3.71165797e-02\n",
      "  9.83480643e-03 2.57695280e-03]\n",
      " [6.70018763e-10 9.11522567e-01 6.15210123e-02 2.09506955e-02\n",
      "  4.81620664e-03 1.18955085e-03]\n",
      " [4.27986466e-04 1.06959343e-01 9.67724547e-02 2.76399851e-01\n",
      "  3.30747575e-01 1.88692793e-01]\n",
      " [7.76727349e-15 9.69851017e-01 2.66087111e-02 3.25804600e-03\n",
      "  2.59052962e-04 2.31810536e-05]\n",
      " [1.08663283e-16 9.88165140e-01 1.07015809e-02 1.04837143e-03\n",
      "  7.70300394e-05 7.74655291e-06]\n",
      " [3.94041535e-07 7.51134515e-01 1.39730930e-01 7.70303160e-02\n",
      "  2.49853879e-02 7.11844489e-03]\n",
      " [1.36169996e-16 9.83088672e-01 1.55319162e-02 1.29069365e-03\n",
      "  8.20538480e-05 6.79512050e-06]\n",
      " [2.12810782e-08 8.09657633e-01 1.24984108e-01 5.07096536e-02\n",
      "  1.20358402e-02 2.61275307e-03]\n",
      " [3.00704742e-05 2.81260967e-01 2.01396778e-01 3.05960000e-01\n",
      "  1.70766607e-01 4.05855961e-02]\n",
      " [3.14822646e-05 6.33438826e-01 1.51064694e-01 1.19449086e-01\n",
      "  6.36647716e-02 3.23511846e-02]\n",
      " [2.41810776e-05 6.35002434e-01 1.55786380e-01 1.20284013e-01\n",
      "  6.05980456e-02 2.83049773e-02]\n",
      " [3.60325920e-08 8.07638645e-01 1.19656883e-01 5.51155917e-02\n",
      "  1.43225919e-02 3.26626212e-03]\n",
      " [2.59151034e-10 8.48182559e-01 1.18713036e-01 2.86218077e-02\n",
      "  3.95967532e-03 5.22880116e-04]\n",
      " [1.57846061e-05 9.43607762e-02 1.19857423e-01 3.63531530e-01\n",
      "  3.42753023e-01 7.94813931e-02]\n",
      " [1.83054700e-11 8.68661344e-01 1.07268266e-01 2.16957554e-02\n",
      "  2.17245705e-03 2.02095413e-04]\n",
      " [5.53508698e-07 7.45865285e-01 1.39813349e-01 7.93516934e-02\n",
      "  2.68976483e-02 8.07149336e-03]\n",
      " [3.80087373e-13 9.47330177e-01 4.49343435e-02 6.95373630e-03\n",
      "  7.04857172e-04 7.68002064e-05]\n",
      " [1.30746012e-05 2.77781546e-01 2.34085843e-01 3.00816953e-01\n",
      "  1.58179283e-01 2.91232411e-02]\n",
      " [2.62714792e-07 8.03455889e-01 1.08918115e-01 5.85664473e-02\n",
      "  2.12711208e-02 7.78817059e-03]\n",
      " [5.94444582e-09 8.50767314e-01 9.85161141e-02 3.97220366e-02\n",
      "  9.10788868e-03 1.88663043e-03]\n",
      " [1.87304722e-05 5.42511225e-01 1.98281750e-01 1.69095457e-01\n",
      "  6.92756996e-02 2.08171718e-02]\n",
      " [2.27698314e-04 2.84503251e-01 1.80747613e-01 2.82863915e-01\n",
      "  1.82748660e-01 6.89088404e-02]\n",
      " [2.45982734e-10 9.01054382e-01 7.46672899e-02 1.99138205e-02\n",
      "  3.65784997e-03 7.06738268e-04]\n",
      " [9.34374741e-19 9.86228049e-01 1.30778458e-02 6.69426343e-04\n",
      "  2.36942687e-05 1.03016293e-06]\n",
      " [7.90546546e-05 3.69716614e-01 1.93365559e-01 2.56670833e-01\n",
      "  1.36520863e-01 4.36471291e-02]\n",
      " [5.43256249e-08 8.41580033e-01 9.58453268e-02 4.35969457e-02\n",
      "  1.41488118e-02 4.82884841e-03]\n",
      " [9.23482548e-06 4.96468157e-01 2.10204139e-01 2.01193899e-01\n",
      "  7.48580471e-02 1.72665138e-02]\n",
      " [5.51920039e-06 7.39917397e-01 4.47401851e-02 5.17455526e-02\n",
      "  6.37660250e-02 9.98252556e-02]\n",
      " [7.86336862e-09 7.92090297e-01 1.39580339e-01 5.57092279e-02\n",
      "  1.08951014e-02 1.72504841e-03]\n",
      " [1.33449685e-05 4.59176987e-01 2.02791721e-01 2.23868534e-01\n",
      "  9.22110751e-02 2.19383892e-02]\n",
      " [1.18929720e-05 7.67702386e-02 1.03915647e-01 3.56459200e-01\n",
      "  3.75229090e-01 8.76138881e-02]\n",
      " [9.83632563e-05 4.83635545e-01 1.88761026e-01 1.91218942e-01\n",
      "  9.85779166e-02 3.77082266e-02]\n",
      " [3.38941497e-08 6.86096251e-01 1.99636683e-01 9.43320692e-02\n",
      "  1.75338369e-02 2.40108324e-03]\n",
      " [2.49925506e-05 7.31637329e-02 9.74041000e-02 3.31738561e-01\n",
      "  3.88146520e-01 1.09522089e-01]\n",
      " [2.65311828e-04 2.07123399e-01 1.59387752e-01 3.08568120e-01\n",
      "  2.34499082e-01 9.01563466e-02]\n",
      " [2.12146973e-04 3.16908389e-01 2.00933129e-01 2.68492311e-01\n",
      "  1.58026814e-01 5.54272197e-02]\n",
      " [8.53754220e-12 8.64556253e-01 1.12002745e-01 2.14343462e-02\n",
      "  1.85932906e-03 1.47322979e-04]\n",
      " [4.24111990e-04 1.17980897e-01 1.08517110e-01 2.94039398e-01\n",
      "  3.15991759e-01 1.63046688e-01]\n",
      " [8.43987618e-06 5.14265597e-01 2.05260068e-01 1.92140326e-01\n",
      "  7.14667439e-02 1.68588459e-02]\n",
      " [1.91780236e-05 3.17992091e-01 2.28523776e-01 2.83082277e-01\n",
      "  1.41019776e-01 2.93628685e-02]\n",
      " [1.28234660e-06 2.23344397e-02 3.72154936e-02 2.23775610e-01\n",
      "  5.49492419e-01 1.67180777e-01]\n",
      " [2.82765001e-07 1.73622649e-02 3.38027216e-02 2.37560913e-01\n",
      "  5.81107080e-01 1.30166724e-01]\n",
      " [2.63407340e-08 4.06446774e-03 6.62960531e-03 7.79358670e-02\n",
      "  5.97745538e-01 3.13624501e-01]\n",
      " [2.94994505e-04 3.49003494e-01 1.84153572e-01 2.48022482e-01\n",
      "  1.53629050e-01 6.48964718e-02]\n",
      " [6.99692173e-05 4.31046069e-01 1.94737032e-01 2.24468753e-01\n",
      "  1.12621106e-01 3.70571129e-02]\n",
      " [1.75277019e-05 1.11732133e-01 1.30185813e-01 3.69424909e-01\n",
      "  3.14888179e-01 7.37514496e-02]\n",
      " [4.95038989e-07 5.01511805e-03 2.31229328e-03 1.98987089e-02\n",
      "  2.57587701e-01 7.15185761e-01]\n",
      " [9.27055735e-05 1.15371093e-01 1.21324733e-01 3.37120980e-01\n",
      "  3.16711277e-01 1.09379262e-01]\n",
      " [8.50305850e-12 9.43926394e-01 4.38262746e-02 1.03826700e-02\n",
      "  1.60014967e-03 2.64525239e-04]\n",
      " [7.91391903e-06 5.18847466e-01 2.05437675e-01 1.89564422e-01\n",
      "  6.97672516e-02 1.63752381e-02]\n",
      " [8.28150271e-10 5.35886094e-04 1.68324870e-04 3.51763749e-03\n",
      "  1.67990565e-01 8.27787638e-01]\n",
      " [3.75826562e-06 5.71108013e-02 8.63053575e-02 3.53464514e-01\n",
      "  4.18196052e-01 8.49195272e-02]\n",
      " [1.64813812e-07 3.84849147e-03 1.00981619e-03 9.42928996e-03\n",
      "  1.76191986e-01 8.09520304e-01]\n",
      " [1.70641637e-04 1.31361932e-01 1.33546457e-01 3.28422487e-01\n",
      "  2.97550678e-01 1.08947799e-01]\n",
      " [9.30685189e-07 6.08638627e-03 5.21801831e-03 3.88745219e-02\n",
      "  3.79941404e-01 5.69878757e-01]\n",
      " [6.01757711e-05 1.39847666e-01 1.41115248e-01 3.47830206e-01\n",
      "  2.86763579e-01 8.43830630e-02]\n",
      " [2.24202701e-08 1.73368049e-03 1.53606781e-03 1.91054083e-02\n",
      "  3.72493565e-01 6.05131269e-01]\n",
      " [1.57449591e-08 8.45534861e-01 9.83322114e-02 4.21769395e-02\n",
      "  1.11572873e-02 2.79869442e-03]\n",
      " [3.06485397e-08 2.02188781e-03 5.28382894e-04 6.25446998e-03\n",
      "  1.63257137e-01 8.27938139e-01]\n",
      " [4.12330610e-06 3.18386666e-02 4.78853546e-02 2.45048597e-01\n",
      "  5.07525921e-01 1.67697325e-01]\n",
      " [2.63771387e-08 1.66997628e-03 1.03702466e-03 1.35353515e-02\n",
      "  2.94117033e-01 6.89640641e-01]\n",
      " [8.92324561e-15 8.69035011e-06 1.15041894e-06 1.10621841e-04\n",
      "  5.56088462e-02 9.44270670e-01]\n",
      " [2.59745320e-06 1.67541783e-02 2.33460125e-02 1.42029703e-01\n",
      "  5.26621282e-01 2.91246325e-01]\n",
      " [1.34829943e-05 5.14561236e-01 2.21701279e-01 1.80625230e-01\n",
      "  6.61543310e-02 1.69443414e-02]\n",
      " [1.04514336e-04 1.29848659e-01 1.30336538e-01 3.37117702e-01\n",
      "  2.99344361e-01 1.03248104e-01]\n",
      " [5.40933399e-07 7.70511925e-01 1.25111967e-01 6.98024184e-02\n",
      "  2.55728178e-02 9.00035724e-03]\n",
      " [5.87053518e-13 4.29684915e-05 3.88058970e-06 1.90724546e-04\n",
      "  4.96403910e-02 9.50121999e-01]\n",
      " [2.25786565e-07 2.14259475e-02 4.30597588e-02 2.85948694e-01\n",
      "  5.52812576e-01 9.67527628e-02]\n",
      " [7.62359946e-07 5.44007588e-03 4.17197775e-03 3.25676277e-02\n",
      "  3.52668464e-01 6.05151117e-01]\n",
      " [1.44926959e-03 3.52831960e-01 9.45071876e-02 1.51263312e-01\n",
      "  1.82189628e-01 2.17758641e-01]\n",
      " [1.65337740e-04 1.15568735e-01 1.15774967e-01 3.22348237e-01\n",
      "  3.18058997e-01 1.28083706e-01]\n",
      " [1.01042527e-03 1.66245252e-01 4.62015644e-02 1.10916011e-01\n",
      "  2.29077697e-01 4.46549058e-01]\n",
      " [1.91182615e-17 9.34462037e-07 7.60023440e-08 1.64757621e-05\n",
      "  2.92060915e-02 9.70776379e-01]\n",
      " [2.35405195e-10 3.28350347e-04 1.44570484e-04 3.76595906e-03\n",
      "  2.12006256e-01 7.83754885e-01]\n",
      " [5.19756782e-07 2.29865983e-02 1.30995864e-03 8.21517967e-03\n",
      "  1.10439189e-01 8.57048571e-01]\n",
      " [8.34127281e-11 9.42933261e-01 4.21530008e-02 1.16295656e-02\n",
      "  2.56884773e-03 7.15291593e-04]\n",
      " [2.39850761e-12 8.58342319e-05 4.92635445e-06 1.85255762e-04\n",
      "  4.10408601e-02 9.58683133e-01]\n",
      " [2.22755174e-04 1.54104486e-01 1.37243390e-01 3.20842415e-01\n",
      "  2.77579784e-01 1.10007145e-01]\n",
      " [1.42384553e-03 1.08315773e-01 5.76547794e-02 1.45165697e-01\n",
      "  2.85453051e-01 4.01986778e-01]\n",
      " [3.98706383e-04 3.91245574e-01 6.75880015e-02 1.15958124e-01\n",
      "  1.68259606e-01 2.56549954e-01]\n",
      " [1.04154269e-10 2.92663113e-04 3.38093050e-05 8.16788932e-04\n",
      "  7.61526227e-02 9.22704041e-01]\n",
      " [1.58925690e-08 1.63206493e-03 3.80253652e-04 4.88973688e-03\n",
      "  1.48721367e-01 8.44376624e-01]\n",
      " [3.33677065e-07 4.52090660e-03 4.10330435e-03 3.49899605e-02\n",
      "  3.95489186e-01 5.60896397e-01]\n",
      " [9.58336854e-10 5.97519742e-04 1.10772227e-04 2.06960016e-03\n",
      "  1.13330737e-01 8.83891344e-01]\n",
      " [1.22914216e-07 8.40172231e-01 9.04532224e-02 4.54034172e-02\n",
      "  1.69492755e-02 7.02175964e-03]\n",
      " [1.91525213e-08 1.62376650e-03 5.96892787e-04 8.03509727e-03\n",
      "  2.04840645e-01 7.84903526e-01]\n",
      " [6.64893349e-08 5.76011417e-03 4.23338730e-04 3.81673290e-03\n",
      "  9.74988341e-02 8.92500937e-01]\n",
      " [1.43665488e-07 5.14096301e-03 6.31169882e-03 6.09873421e-02\n",
      "  5.10409236e-01 4.17150706e-01]\n",
      " [2.79935038e-12 8.02299837e-05 6.59055377e-06 2.54984741e-04\n",
      "  5.08332141e-02 9.48824942e-01]]\n"
     ]
    }
   ],
   "source": [
    "print(check_predict)"
   ]
  },
  {
   "cell_type": "code",
   "execution_count": 37,
   "id": "918f024f",
   "metadata": {},
   "outputs": [
    {
     "data": {
      "text/plain": [
       "array([1, 1, 1, 1, 1, 1, 1, 1, 1, 1, 1, 1, 1, 4, 1, 1, 1, 1, 1, 3, 1, 1,\n",
       "       1, 1, 3, 1, 1, 1, 3, 1, 1, 1, 1, 1, 1, 1, 1, 1, 1, 1, 1, 4, 1, 1,\n",
       "       4, 3, 1, 1, 4, 1, 1, 4, 4, 4, 1, 1, 3, 5, 3, 1, 1, 5, 4, 5, 3, 5,\n",
       "       3, 5, 1, 5, 4, 5, 5, 4, 1, 3, 1, 5, 4, 5, 1, 3, 5, 5, 5, 5, 1, 5,\n",
       "       3, 5, 1, 5, 5, 5, 5, 1, 5, 5, 4, 5], dtype=int64)"
      ]
     },
     "execution_count": 37,
     "metadata": {},
     "output_type": "execute_result"
    }
   ],
   "source": [
    "check_predict_class = check_predict.argmax(axis=1)\n",
    "check_predict_class"
   ]
  },
  {
   "cell_type": "code",
   "execution_count": 38,
   "id": "819395e0",
   "metadata": {},
   "outputs": [
    {
     "name": "stderr",
     "output_type": "stream",
     "text": [
      "C:\\Users\\t.fourtouill\\Anaconda3\\lib\\site-packages\\seaborn\\_decorators.py:36: FutureWarning: Pass the following variable as a keyword arg: x. From version 0.12, the only valid positional argument will be `data`, and passing other arguments without an explicit keyword will result in an error or misinterpretation.\n",
      "  warnings.warn(\n"
     ]
    },
    {
     "data": {
      "image/png": "[encoded data removed]",
      "text/plain": [
       "<Figure size 432x288 with 1 Axes>"
      ]
     },
     "metadata": {
      "needs_background": "light"
     },
     "output_type": "display_data"
    }
   ],
   "source": [
    "sns.countplot(check_predict_class);"
   ]
  },
  {
   "cell_type": "code",
   "execution_count": 39,
   "id": "438bcba6",
   "metadata": {},
   "outputs": [
    {
     "data": {
      "text/html": [
       "<div>\n",
       "<style scoped>\n",
       "    .dataframe tbody tr th:only-of-type {\n",
       "        vertical-align: middle;\n",
       "    }\n",
       "\n",
       "    .dataframe tbody tr th {\n",
       "        vertical-align: top;\n",
       "    }\n",
       "\n",
       "    .dataframe thead th {\n",
       "        text-align: right;\n",
       "    }\n",
       "</style>\n",
       "<table border=\"1\" class=\"dataframe\">\n",
       "  <thead>\n",
       "    <tr style=\"text-align: right;\">\n",
       "      <th></th>\n",
       "      <th>commentaire</th>\n",
       "      <th>note</th>\n",
       "      <th>prediction</th>\n",
       "    </tr>\n",
       "  </thead>\n",
       "  <tbody>\n",
       "    <tr>\n",
       "      <th>0</th>\n",
       "      <td>MENZZONous aimerions savoir pourquoi vous ne retournez pas l'argent de vos clients et vous continuez à trouver des excuses à ce sujet. Les personnes qui donnent leur avis sur les réseaux sociaux vous bloqueront et leurs mails ne recevront pas de réponse. Pensez-vous que c'est normal?</td>\n",
       "      <td>1</td>\n",
       "      <td>1</td>\n",
       "    </tr>\n",
       "    <tr>\n",
       "      <th>1</th>\n",
       "      <td>Voulant acheter un pare soleil  de marque pour mon appareil photo le prix étant de 28 € environ quel a pas était ma surprise de voir ce prix  grimper  à 45 € en l'espace  de 5 mn et tous ça  sur le site Amazon y a t'il d'autres  personnes à qui cela est  arrivé , je serai curieux  de  lire vos témoignages  ( pratiques de voyous)</td>\n",
       "      <td>1</td>\n",
       "      <td>1</td>\n",
       "    </tr>\n",
       "    <tr>\n",
       "      <th>2</th>\n",
       "      <td>Comment souvent problème d'envoi ou réception de marchandise biensure service client au téléphone ce n est pas leur faute c est les gens de l emballage belle esprit d équipe je ne commanderai plus chez vous</td>\n",
       "      <td>1</td>\n",
       "      <td>1</td>\n",
       "    </tr>\n",
       "    <tr>\n",
       "      <th>3</th>\n",
       "      <td>L’arnaque des livreurs qui ne respectent pas les instructions des livraison, laissent le clos n’importe où le marquent livres alors qu ils ont pas livres! Le service client à part dire ; on va faire remonter l’info et ouvrir une enquête », ne fait rien! Avec l’argent qu engrange Amazon il s’agirait de s entourer de livreurs fiables !!</td>\n",
       "      <td>1</td>\n",
       "      <td>1</td>\n",
       "    </tr>\n",
       "    <tr>\n",
       "      <th>4</th>\n",
       "      <td>J’ai commandé un article très cher qui est supposé être neuf. A ma surprise en recevant le colis l l’article semble déjà ouvert/voir même déjà utilisé, le carton de l’article était déchiré.. étant la grosse somme que j’ai dépensé sur cet article je ne peux accepter de recevoir du reconditionné au prix du neuf. En demandant le retour Amazon refuse de me rembourser sur carte bancaire mais plutôt uniquement par avoir et ça c’est absurde car c’est pas de ma faute c’est la faute à Amazon, d’ailleurs pourquoi m’obliger à consommer par force une telle grosse somme sur leur site, moi je veux pas d’avoir je veux mon argent sur mon compte bancaire !!!! J’ai commencé les démarches pour ouvrir un contentieux contre Amazon !</td>\n",
       "      <td>1</td>\n",
       "      <td>1</td>\n",
       "    </tr>\n",
       "  </tbody>\n",
       "</table>\n",
       "</div>"
      ],
      "text/plain": [
       "                                                                                                                                                                                                                                                                                                                                                                                                                                                                                                                                                                                                                                                                                                                                         commentaire  \\\n",
       "0                                                                                                                                                                                                                                                                                                                                                                                                                                                       MENZZONous aimerions savoir pourquoi vous ne retournez pas l'argent de vos clients et vous continuez à trouver des excuses à ce sujet. Les personnes qui donnent leur avis sur les réseaux sociaux vous bloqueront et leurs mails ne recevront pas de réponse. Pensez-vous que c'est normal?   \n",
       "1                                                                                                                                                                                                                                                                                                                                                                                                         Voulant acheter un pare soleil  de marque pour mon appareil photo le prix étant de 28 € environ quel a pas était ma surprise de voir ce prix  grimper  à 45 € en l'espace  de 5 mn et tous ça  sur le site Amazon y a t'il d'autres  personnes à qui cela est  arrivé , je serai curieux  de  lire vos témoignages  ( pratiques de voyous)   \n",
       "2                                                                                                                                                                                                                                                                                                                                                                                                                                                                                                                                     Comment souvent problème d'envoi ou réception de marchandise biensure service client au téléphone ce n est pas leur faute c est les gens de l emballage belle esprit d équipe je ne commanderai plus chez vous   \n",
       "3                                                                                                                                                                                                                                                                                                                                                                                                   L’arnaque des livreurs qui ne respectent pas les instructions des livraison, laissent le clos n’importe où le marquent livres alors qu ils ont pas livres! Le service client à part dire ; on va faire remonter l’info et ouvrir une enquête », ne fait rien! Avec l’argent qu engrange Amazon il s’agirait de s entourer de livreurs fiables !!   \n",
       "4  J’ai commandé un article très cher qui est supposé être neuf. A ma surprise en recevant le colis l l’article semble déjà ouvert/voir même déjà utilisé, le carton de l’article était déchiré.. étant la grosse somme que j’ai dépensé sur cet article je ne peux accepter de recevoir du reconditionné au prix du neuf. En demandant le retour Amazon refuse de me rembourser sur carte bancaire mais plutôt uniquement par avoir et ça c’est absurde car c’est pas de ma faute c’est la faute à Amazon, d’ailleurs pourquoi m’obliger à consommer par force une telle grosse somme sur leur site, moi je veux pas d’avoir je veux mon argent sur mon compte bancaire !!!! J’ai commencé les démarches pour ouvrir un contentieux contre Amazon !   \n",
       "\n",
       "   note  prediction  \n",
       "0     1           1  \n",
       "1     1           1  \n",
       "2     1           1  \n",
       "3     1           1  \n",
       "4     1           1  "
      ]
     },
     "execution_count": 39,
     "metadata": {},
     "output_type": "execute_result"
    }
   ],
   "source": [
    "# comparaison des prédictions et des notes du jeu de test\n",
    "check_df = pd.DataFrame(list(zip(df_test.commentaire, df_test.note, check_predict_class)), columns=['commentaire', 'note', 'prediction'])\n",
    "check_df.head()"
   ]
  },
  {
   "cell_type": "code",
   "execution_count": 40,
   "id": "11ec7bbb",
   "metadata": {},
   "outputs": [
    {
     "name": "stdout",
     "output_type": "stream",
     "text": [
      "              precision    recall  f1-score   support\n",
      "\n",
      "           1       0.67      0.87      0.76      2026\n",
      "           2       0.00      0.00      0.00       520\n",
      "           3       0.36      0.25      0.30      1118\n",
      "           4       0.49      0.19      0.27      3442\n",
      "           5       0.76      0.95      0.85      9782\n",
      "\n",
      "    accuracy                           0.71     16888\n",
      "   macro avg       0.46      0.45      0.43     16888\n",
      "weighted avg       0.65      0.71      0.66     16888\n",
      "\n"
     ]
    },
    {
     "name": "stderr",
     "output_type": "stream",
     "text": [
      "C:\\Users\\t.fourtouill\\Anaconda3\\lib\\site-packages\\sklearn\\metrics\\_classification.py:1327: UndefinedMetricWarning: Precision and F-score are ill-defined and being set to 0.0 in labels with no predicted samples. Use `zero_division` parameter to control this behavior.\n",
      "  _warn_prf(average, modifier, msg_start, len(result))\n",
      "C:\\Users\\t.fourtouill\\Anaconda3\\lib\\site-packages\\sklearn\\metrics\\_classification.py:1327: UndefinedMetricWarning: Precision and F-score are ill-defined and being set to 0.0 in labels with no predicted samples. Use `zero_division` parameter to control this behavior.\n",
      "  _warn_prf(average, modifier, msg_start, len(result))\n",
      "C:\\Users\\t.fourtouill\\Anaconda3\\lib\\site-packages\\sklearn\\metrics\\_classification.py:1327: UndefinedMetricWarning: Precision and F-score are ill-defined and being set to 0.0 in labels with no predicted samples. Use `zero_division` parameter to control this behavior.\n",
      "  _warn_prf(average, modifier, msg_start, len(result))\n"
     ]
    },
    {
     "data": {
      "text/html": [
       "<div>\n",
       "<style scoped>\n",
       "    .dataframe tbody tr th:only-of-type {\n",
       "        vertical-align: middle;\n",
       "    }\n",
       "\n",
       "    .dataframe tbody tr th {\n",
       "        vertical-align: top;\n",
       "    }\n",
       "\n",
       "    .dataframe thead th {\n",
       "        text-align: right;\n",
       "    }\n",
       "</style>\n",
       "<table border=\"1\" class=\"dataframe\">\n",
       "  <thead>\n",
       "    <tr style=\"text-align: right;\">\n",
       "      <th>predictions</th>\n",
       "      <th>1</th>\n",
       "      <th>3</th>\n",
       "      <th>4</th>\n",
       "      <th>5</th>\n",
       "    </tr>\n",
       "    <tr>\n",
       "      <th>données réelles</th>\n",
       "      <th></th>\n",
       "      <th></th>\n",
       "      <th></th>\n",
       "      <th></th>\n",
       "    </tr>\n",
       "  </thead>\n",
       "  <tbody>\n",
       "    <tr>\n",
       "      <th>1</th>\n",
       "      <td>1768</td>\n",
       "      <td>119</td>\n",
       "      <td>52</td>\n",
       "      <td>87</td>\n",
       "    </tr>\n",
       "    <tr>\n",
       "      <th>2</th>\n",
       "      <td>290</td>\n",
       "      <td>109</td>\n",
       "      <td>64</td>\n",
       "      <td>57</td>\n",
       "    </tr>\n",
       "    <tr>\n",
       "      <th>3</th>\n",
       "      <td>305</td>\n",
       "      <td>282</td>\n",
       "      <td>237</td>\n",
       "      <td>294</td>\n",
       "    </tr>\n",
       "    <tr>\n",
       "      <th>4</th>\n",
       "      <td>159</td>\n",
       "      <td>198</td>\n",
       "      <td>643</td>\n",
       "      <td>2442</td>\n",
       "    </tr>\n",
       "    <tr>\n",
       "      <th>5</th>\n",
       "      <td>126</td>\n",
       "      <td>68</td>\n",
       "      <td>318</td>\n",
       "      <td>9270</td>\n",
       "    </tr>\n",
       "  </tbody>\n",
       "</table>\n",
       "</div>"
      ],
      "text/plain": [
       "predictions         1    3    4     5\n",
       "données réelles                      \n",
       "1                1768  119   52    87\n",
       "2                 290  109   64    57\n",
       "3                 305  282  237   294\n",
       "4                 159  198  643  2442\n",
       "5                 126   68  318  9270"
      ]
     },
     "metadata": {},
     "output_type": "display_data"
    },
    {
     "name": "stdout",
     "output_type": "stream",
     "text": [
      "              precision    recall  f1-score   support\n",
      "\n",
      "           1       0.33      0.90      0.49        20\n",
      "           2       0.00      0.00      0.00        20\n",
      "           3       0.27      0.15      0.19        20\n",
      "           4       0.33      0.20      0.25        20\n",
      "           5       0.57      0.65      0.60        20\n",
      "\n",
      "    accuracy                           0.38       100\n",
      "   macro avg       0.30      0.38      0.31       100\n",
      "weighted avg       0.30      0.38      0.31       100\n",
      "\n"
     ]
    },
    {
     "name": "stderr",
     "output_type": "stream",
     "text": [
      "C:\\Users\\t.fourtouill\\Anaconda3\\lib\\site-packages\\sklearn\\metrics\\_classification.py:1327: UndefinedMetricWarning: Precision and F-score are ill-defined and being set to 0.0 in labels with no predicted samples. Use `zero_division` parameter to control this behavior.\n",
      "  _warn_prf(average, modifier, msg_start, len(result))\n",
      "C:\\Users\\t.fourtouill\\Anaconda3\\lib\\site-packages\\sklearn\\metrics\\_classification.py:1327: UndefinedMetricWarning: Precision and F-score are ill-defined and being set to 0.0 in labels with no predicted samples. Use `zero_division` parameter to control this behavior.\n",
      "  _warn_prf(average, modifier, msg_start, len(result))\n",
      "C:\\Users\\t.fourtouill\\Anaconda3\\lib\\site-packages\\sklearn\\metrics\\_classification.py:1327: UndefinedMetricWarning: Precision and F-score are ill-defined and being set to 0.0 in labels with no predicted samples. Use `zero_division` parameter to control this behavior.\n",
      "  _warn_prf(average, modifier, msg_start, len(result))\n"
     ]
    },
    {
     "data": {
      "text/html": [
       "<div>\n",
       "<style scoped>\n",
       "    .dataframe tbody tr th:only-of-type {\n",
       "        vertical-align: middle;\n",
       "    }\n",
       "\n",
       "    .dataframe tbody tr th {\n",
       "        vertical-align: top;\n",
       "    }\n",
       "\n",
       "    .dataframe thead th {\n",
       "        text-align: right;\n",
       "    }\n",
       "</style>\n",
       "<table border=\"1\" class=\"dataframe\">\n",
       "  <thead>\n",
       "    <tr style=\"text-align: right;\">\n",
       "      <th>predictions</th>\n",
       "      <th>1</th>\n",
       "      <th>3</th>\n",
       "      <th>4</th>\n",
       "      <th>5</th>\n",
       "    </tr>\n",
       "    <tr>\n",
       "      <th>données réelles</th>\n",
       "      <th></th>\n",
       "      <th></th>\n",
       "      <th></th>\n",
       "      <th></th>\n",
       "    </tr>\n",
       "  </thead>\n",
       "  <tbody>\n",
       "    <tr>\n",
       "      <th>1</th>\n",
       "      <td>18</td>\n",
       "      <td>1</td>\n",
       "      <td>1</td>\n",
       "      <td>0</td>\n",
       "    </tr>\n",
       "    <tr>\n",
       "      <th>2</th>\n",
       "      <td>18</td>\n",
       "      <td>2</td>\n",
       "      <td>0</td>\n",
       "      <td>0</td>\n",
       "    </tr>\n",
       "    <tr>\n",
       "      <th>3</th>\n",
       "      <td>10</td>\n",
       "      <td>3</td>\n",
       "      <td>6</td>\n",
       "      <td>1</td>\n",
       "    </tr>\n",
       "    <tr>\n",
       "      <th>4</th>\n",
       "      <td>4</td>\n",
       "      <td>3</td>\n",
       "      <td>4</td>\n",
       "      <td>9</td>\n",
       "    </tr>\n",
       "    <tr>\n",
       "      <th>5</th>\n",
       "      <td>4</td>\n",
       "      <td>2</td>\n",
       "      <td>1</td>\n",
       "      <td>13</td>\n",
       "    </tr>\n",
       "  </tbody>\n",
       "</table>\n",
       "</div>"
      ],
      "text/plain": [
       "predictions       1  3  4   5\n",
       "données réelles              \n",
       "1                18  1  1   0\n",
       "2                18  2  0   0\n",
       "3                10  3  6   1\n",
       "4                 4  3  4   9\n",
       "5                 4  2  1  13"
      ]
     },
     "metadata": {},
     "output_type": "display_data"
    },
    {
     "data": {
      "text/html": [
       "<div>\n",
       "<style scoped>\n",
       "    .dataframe tbody tr th:only-of-type {\n",
       "        vertical-align: middle;\n",
       "    }\n",
       "\n",
       "    .dataframe tbody tr th {\n",
       "        vertical-align: top;\n",
       "    }\n",
       "\n",
       "    .dataframe thead th {\n",
       "        text-align: right;\n",
       "    }\n",
       "</style>\n",
       "<table border=\"1\" class=\"dataframe\">\n",
       "  <thead>\n",
       "    <tr style=\"text-align: right;\">\n",
       "      <th>predictions</th>\n",
       "      <th>1</th>\n",
       "      <th>3</th>\n",
       "      <th>4</th>\n",
       "      <th>5</th>\n",
       "    </tr>\n",
       "    <tr>\n",
       "      <th>données réelles</th>\n",
       "      <th></th>\n",
       "      <th></th>\n",
       "      <th></th>\n",
       "      <th></th>\n",
       "    </tr>\n",
       "  </thead>\n",
       "  <tbody>\n",
       "    <tr>\n",
       "      <th>1</th>\n",
       "      <td>0.9</td>\n",
       "      <td>0.05</td>\n",
       "      <td>0.05</td>\n",
       "      <td>0.00</td>\n",
       "    </tr>\n",
       "    <tr>\n",
       "      <th>2</th>\n",
       "      <td>0.9</td>\n",
       "      <td>0.10</td>\n",
       "      <td>0.00</td>\n",
       "      <td>0.00</td>\n",
       "    </tr>\n",
       "    <tr>\n",
       "      <th>3</th>\n",
       "      <td>0.5</td>\n",
       "      <td>0.15</td>\n",
       "      <td>0.30</td>\n",
       "      <td>0.05</td>\n",
       "    </tr>\n",
       "    <tr>\n",
       "      <th>4</th>\n",
       "      <td>0.2</td>\n",
       "      <td>0.15</td>\n",
       "      <td>0.20</td>\n",
       "      <td>0.45</td>\n",
       "    </tr>\n",
       "    <tr>\n",
       "      <th>5</th>\n",
       "      <td>0.2</td>\n",
       "      <td>0.10</td>\n",
       "      <td>0.05</td>\n",
       "      <td>0.65</td>\n",
       "    </tr>\n",
       "  </tbody>\n",
       "</table>\n",
       "</div>"
      ],
      "text/plain": [
       "predictions        1     3     4     5\n",
       "données réelles                       \n",
       "1                0.9  0.05  0.05  0.00\n",
       "2                0.9  0.10  0.00  0.00\n",
       "3                0.5  0.15  0.30  0.05\n",
       "4                0.2  0.15  0.20  0.45\n",
       "5                0.2  0.10  0.05  0.65"
      ]
     },
     "metadata": {},
     "output_type": "display_data"
    },
    {
     "name": "stdout",
     "output_type": "stream",
     "text": [
      "les prédictions correctes sont supérieures à 50% pour 1 étoile(s) avec 90%\n",
      "les prédictions correctes sont supérieures à 50% pour 5 étoile(s) avec 65%\n"
     ]
    }
   ],
   "source": [
    "from sklearn.metrics import classification_report\n",
    "\n",
    "cr = classification_report(y_test, predict_cdiscount_class)\n",
    "print(cr)\n",
    "\n",
    "cm = pd.crosstab(y_test, predict_cdiscount_class, rownames=['données réelles'], colnames=['predictions'])\n",
    "display(cm)\n",
    "\n",
    "# vérification des résultats sur un jeu de test externe (100 commentaires amazon également répartis entre les étoiles)\n",
    "\n",
    "cm_test = classification_report(df_test.note, check_predict_class)\n",
    "print(cm_test)\n",
    "\n",
    "cm_test2 = pd.crosstab(df_test.note, check_predict_class, rownames=['données réelles'], colnames=['predictions'])\n",
    "display(cm_test2)\n",
    "\n",
    "cm_test3 = pd.crosstab(df_test.note, check_predict_class, rownames=['données réelles'], colnames=['predictions'], normalize=0)\n",
    "display(cm_test3)\n",
    "\n",
    "for i in cm_test3.index:\n",
    "    for j in cm_test3.columns :\n",
    "        if (i==j and cm_test3.loc[i, j] > 0.5) :\n",
    "            print(\"les prédictions correctes sont supérieures à 50% pour {} étoile(s) avec {:0.0%}\".format(i, cm_test3.loc[i, j]))"
   ]
  },
  {
   "cell_type": "code",
   "execution_count": 41,
   "id": "8b6366a5",
   "metadata": {},
   "outputs": [
    {
     "name": "stdout",
     "output_type": "stream",
     "text": [
      "INFO:tensorflow:Assets written to: datasets/SatisfactionClients/model_embedding3\\assets\n"
     ]
    }
   ],
   "source": [
    "import os\n",
    "path = \"/Users/t.fourtouill/Downloads/SatisfactionClients\"\n",
    "os.makedirs(path, exist_ok=True)\n",
    "model_embedding_1.save('datasets/SatisfactionClients/model_embedding3')"
   ]
  },
  {
   "cell_type": "markdown",
   "id": "30cfae91",
   "metadata": {},
   "source": [
    "### Evaluation sur 2 sentiments : négatif et positif"
   ]
  },
  {
   "cell_type": "markdown",
   "id": "f39073d9",
   "metadata": {},
   "source": [
    "* Le DataSet cdiscount a été retraité en renommant, les notes 1 et 2 en 0, les notes 4 et 5 en 1 et en supprimant les notes 3\n",
    "* Le but étant d'isoler de manière moins complexe les sentiments négatifs et les sentiments positifs et ainsi améliorer la qualité du résultat prédit"
   ]
  },
  {
   "cell_type": "code",
   "execution_count": 42,
   "id": "f997fc40",
   "metadata": {},
   "outputs": [],
   "source": [
    "df_0_1 = pd.read_csv('datasets/SatisfactionClients/cdiscount_0_1.csv')\n",
    "df_test_0_1 = pd.read_csv('datasets/SatisfactionClients/amazon_test1.csv')"
   ]
  },
  {
   "cell_type": "code",
   "execution_count": 43,
   "id": "f3d47f3c",
   "metadata": {},
   "outputs": [
    {
     "name": "stderr",
     "output_type": "stream",
     "text": [
      "C:\\Users\\t.fourtouill\\Anaconda3\\lib\\site-packages\\seaborn\\_decorators.py:36: FutureWarning: Pass the following variable as a keyword arg: x. From version 0.12, the only valid positional argument will be `data`, and passing other arguments without an explicit keyword will result in an error or misinterpretation.\n",
      "  warnings.warn(\n"
     ]
    },
    {
     "data": {
      "image/png": "[encoded data removed]",
      "text/plain": [
       "<Figure size 288x144 with 1 Axes>"
      ]
     },
     "metadata": {
      "needs_background": "light"
     },
     "output_type": "display_data"
    }
   ],
   "source": [
    "plt.figure(figsize=(4, 2))\n",
    "sns.countplot(df_0_1['note'])\n",
    "plt.show();"
   ]
  },
  {
   "cell_type": "code",
   "execution_count": 44,
   "id": "84544d53",
   "metadata": {},
   "outputs": [
    {
     "name": "stderr",
     "output_type": "stream",
     "text": [
      "C:\\Users\\t.fourtouill\\Anaconda3\\lib\\site-packages\\seaborn\\_decorators.py:36: FutureWarning: Pass the following variable as a keyword arg: x. From version 0.12, the only valid positional argument will be `data`, and passing other arguments without an explicit keyword will result in an error or misinterpretation.\n",
      "  warnings.warn(\n"
     ]
    },
    {
     "data": {
      "image/png": "[encoded data removed]",
      "text/plain": [
       "<Figure size 432x216 with 1 Axes>"
      ]
     },
     "metadata": {
      "needs_background": "light"
     },
     "output_type": "display_data"
    }
   ],
   "source": [
    "plt.figure(figsize=(6, 3))\n",
    "sns.countplot(df_test_0_1['note'])\n",
    "plt.show();"
   ]
  },
  {
   "cell_type": "code",
   "execution_count": 45,
   "id": "b8e99021",
   "metadata": {},
   "outputs": [
    {
     "data": {
      "text/plain": [
       "note            0\n",
       "commentaire    46\n",
       "dtype: int64"
      ]
     },
     "execution_count": 45,
     "metadata": {},
     "output_type": "execute_result"
    }
   ],
   "source": [
    "df_0_1.isna().sum()"
   ]
  },
  {
   "cell_type": "code",
   "execution_count": 46,
   "id": "0beee64a",
   "metadata": {},
   "outputs": [
    {
     "name": "stderr",
     "output_type": "stream",
     "text": [
      "C:\\Users\\t.fourtouill\\Anaconda3\\lib\\site-packages\\seaborn\\_decorators.py:36: FutureWarning: Pass the following variable as a keyword arg: x. From version 0.12, the only valid positional argument will be `data`, and passing other arguments without an explicit keyword will result in an error or misinterpretation.\n",
      "  warnings.warn(\n"
     ]
    },
    {
     "data": {
      "image/png": "[encoded data removed]",
      "text/plain": [
       "<Figure size 288x144 with 1 Axes>"
      ]
     },
     "metadata": {
      "needs_background": "light"
     },
     "output_type": "display_data"
    }
   ],
   "source": [
    "df_0_1 = df_0_1[df_0_1['commentaire'].isna()==False]\n",
    "df_0_1 = df_0_1[df_0_1['note']!=3]\n",
    "df_0_1['note'] = df_0_1['note'].replace({'1' : '0', '2' : '0', '4' : '1', '5' : '1'})\n",
    "\n",
    "plt.figure(figsize=(4, 2))\n",
    "sns.countplot(df_0_1['note'])\n",
    "plt.show();"
   ]
  },
  {
   "cell_type": "code",
   "execution_count": 47,
   "id": "6e0b6797",
   "metadata": {},
   "outputs": [
    {
     "name": "stderr",
     "output_type": "stream",
     "text": [
      "C:\\Users\\t.fourtouill\\Anaconda3\\lib\\site-packages\\seaborn\\_decorators.py:36: FutureWarning: Pass the following variable as a keyword arg: x. From version 0.12, the only valid positional argument will be `data`, and passing other arguments without an explicit keyword will result in an error or misinterpretation.\n",
      "  warnings.warn(\n"
     ]
    },
    {
     "data": {
      "image/png": "[encoded data removed]",
      "text/plain": [
       "<Figure size 288x144 with 1 Axes>"
      ]
     },
     "metadata": {
      "needs_background": "light"
     },
     "output_type": "display_data"
    }
   ],
   "source": [
    "df_test_0_1 = df_test_0_1.drop(columns=['Unnamed: 0'])\n",
    "df_test_0_1 = df_test_0_1[df_test_0_1['commentaire'].isna()==False]\n",
    "df_test_0_1 = df_test_0_1[df_test_0_1['note']!=3]\n",
    "df_test_0_1['note'] = df_test_0_1['note'].replace({1 : 0, 2 : 0, 4 : 1, 5 : 1})\n",
    "\n",
    "plt.figure(figsize=(4, 2))\n",
    "sns.countplot(df_test_0_1['note'])\n",
    "plt.show();"
   ]
  },
  {
   "cell_type": "code",
   "execution_count": 48,
   "id": "556cf49a",
   "metadata": {},
   "outputs": [],
   "source": [
    "# séparation de la variable cible et des variables explicatives\n",
    "X1 = df_0_1['commentaire']\n",
    "y1 = df_0_1['note']"
   ]
  },
  {
   "cell_type": "code",
   "execution_count": 49,
   "id": "5948816d",
   "metadata": {},
   "outputs": [],
   "source": [
    "# séparation du jeu de données en un dataset d'entrainement et un dataset de test\n",
    "from sklearn.model_selection import train_test_split\n",
    "X_train1, X_test1, y_train1, y_test1 = train_test_split(X1, y1, test_size=0.2, shuffle=True)"
   ]
  },
  {
   "cell_type": "code",
   "execution_count": 50,
   "id": "7ca17414",
   "metadata": {},
   "outputs": [],
   "source": [
    "# entrainement de la tokenisation sur le X_train\n",
    "tk.fit_on_texts(X_train1)"
   ]
  },
  {
   "cell_type": "code",
   "execution_count": 51,
   "id": "5d99c6d6",
   "metadata": {},
   "outputs": [
    {
     "data": {
      "text/plain": [
       "39069"
      ]
     },
     "execution_count": 51,
     "metadata": {},
     "output_type": "execute_result"
    }
   ],
   "source": [
    "# nb de ligne de la matrice\n",
    "word_index = tk.word_index\n",
    "len(tk.word_index)"
   ]
  },
  {
   "cell_type": "code",
   "execution_count": 52,
   "id": "02810943",
   "metadata": {},
   "outputs": [
    {
     "data": {
      "text/plain": [
       "5000"
      ]
     },
     "execution_count": 52,
     "metadata": {},
     "output_type": "execute_result"
    }
   ],
   "source": [
    "# nb de colonnes dans la matrice\n",
    "vocabulary_size = tk.num_words\n",
    "vocabulary_size"
   ]
  },
  {
   "cell_type": "code",
   "execution_count": 53,
   "id": "667aec1f",
   "metadata": {},
   "outputs": [],
   "source": [
    "# mise sous vecteur des commentaires\n",
    "X_seq_train1 = tk.texts_to_sequences(X_train1)\n",
    "X_seq_test1 = tk.texts_to_sequences(X_test1)"
   ]
  },
  {
   "cell_type": "code",
   "execution_count": 54,
   "id": "ba6f42a1",
   "metadata": {},
   "outputs": [
    {
     "name": "stdout",
     "output_type": "stream",
     "text": [
      "[1138, 28, 77, 326, 3630, 4539, 77, 650, 1806, 476, 150, 1038, 218, 1941, 1941, 898, 385, 205, 2359, 28, 796, 583, 1194, 702, 1430, 1138]\n",
      "[26, 6, 707, 283, 353]\n",
      "[47, 65, 900, 120]\n",
      "[126, 43, 29, 50, 61, 618, 21, 958, 43, 304]\n",
      "[26, 6, 7, 6, 283]\n"
     ]
    }
   ],
   "source": [
    "# affichage de la vectorisation réalisée\n",
    "for x in range(0,5):\n",
    "    print(X_seq_train1[x])"
   ]
  },
  {
   "cell_type": "code",
   "execution_count": 55,
   "id": "d21b6c6e",
   "metadata": {},
   "outputs": [],
   "source": [
    "# transformation en matrice de même longueur par maxlen défini ci-dessous. Avec des 0 si colonne inférieure à maxlen\n",
    "max_words = 130\n",
    "X_pad_train1 = pad_sequences(X_seq_train1, maxlen=max_words, padding='post')\n",
    "X_pad_test1 = pad_sequences(X_seq_test1, maxlen=max_words, padding='post')"
   ]
  },
  {
   "cell_type": "code",
   "execution_count": 56,
   "id": "1d505b13",
   "metadata": {},
   "outputs": [
    {
     "name": "stdout",
     "output_type": "stream",
     "text": [
      "(63065, 130)\n"
     ]
    },
    {
     "data": {
      "text/plain": [
       "array([[1138,   28,   77, ...,    0,    0,    0],\n",
       "       [  26,    6,  707, ...,    0,    0,    0],\n",
       "       [  47,   65,  900, ...,    0,    0,    0],\n",
       "       ...,\n",
       "       [  12,   99,  516, ...,    0,    0,    0],\n",
       "       [  26,  162,  139, ...,    0,    0,    0],\n",
       "       [  26,   26,   59, ...,    0,    0,    0]])"
      ]
     },
     "execution_count": 56,
     "metadata": {},
     "output_type": "execute_result"
    }
   ],
   "source": [
    "# affice de la matrice\n",
    "print(X_pad_train1.shape)\n",
    "X_pad_train1"
   ]
  },
  {
   "cell_type": "code",
   "execution_count": 57,
   "id": "aa7ec76d",
   "metadata": {},
   "outputs": [
    {
     "name": "stdout",
     "output_type": "stream",
     "text": [
      "Model: \"sequential_1\"\n",
      "_________________________________________________________________\n",
      " Layer (type)                Output Shape              Param #   \n",
      "=================================================================\n",
      " embedding_1 (Embedding)     (None, 130, 100)          500000    \n",
      "                                                                 \n",
      " global_average_pooling1d_1   (None, 100)              0         \n",
      " (GlobalAveragePooling1D)                                        \n",
      "                                                                 \n",
      " dense_4 (Dense)             (None, 256)               25856     \n",
      "                                                                 \n",
      " dropout_3 (Dropout)         (None, 256)               0         \n",
      "                                                                 \n",
      " dense_5 (Dense)             (None, 128)               32896     \n",
      "                                                                 \n",
      " dropout_4 (Dropout)         (None, 128)               0         \n",
      "                                                                 \n",
      " dense_6 (Dense)             (None, 64)                8256      \n",
      "                                                                 \n",
      " dropout_5 (Dropout)         (None, 64)                0         \n",
      "                                                                 \n",
      " dense_7 (Dense)             (None, 1)                 65        \n",
      "                                                                 \n",
      "=================================================================\n",
      "Total params: 567,073\n",
      "Trainable params: 567,073\n",
      "Non-trainable params: 0\n",
      "_________________________________________________________________\n"
     ]
    }
   ],
   "source": [
    "# Création des couches du modéle\n",
    "\n",
    "from tensorflow.keras.models import Sequential\n",
    "from tensorflow.keras.layers import Dense, GlobalAveragePooling1D, Input, Embedding, Dropout\n",
    "\n",
    "embedding_size = 100\n",
    "\n",
    "model_0_1_embedding_1 = Sequential()\n",
    "model_0_1_embedding_1.add(Embedding(input_dim=vocabulary_size, output_dim=embedding_size, input_length=max_words, embeddings_initializer='uniform'))  # On reprend le nb de mot choisi dans la tokenisation\n",
    "model_0_1_embedding_1.add(GlobalAveragePooling1D())\n",
    "model_0_1_embedding_1.add(Dense(units=256, activation='relu'))\n",
    "model_0_1_embedding_1.add(Dropout(rate=0.3))\n",
    "model_0_1_embedding_1.add(Dense(units=128, activation='relu'))\n",
    "model_0_1_embedding_1.add(Dropout(rate=0.2))\n",
    "model_0_1_embedding_1.add(Dense(units=64, activation='relu'))\n",
    "model_0_1_embedding_1.add(Dropout(rate=0.2))\n",
    "model_0_1_embedding_1.add(Dense(units=1, activation='sigmoid')) # En sortie le nb de units devra correspondre aux nb de variables cibles\n",
    "\n",
    "model_0_1_embedding_1.summary()"
   ]
  },
  {
   "cell_type": "code",
   "execution_count": 58,
   "id": "3e892380",
   "metadata": {},
   "outputs": [],
   "source": [
    "model_0_1_embedding_1.compile(loss='binary_crossentropy', optimizer='adam', metrics=['accuracy'])"
   ]
  },
  {
   "cell_type": "code",
   "execution_count": 59,
   "id": "96b9a68e",
   "metadata": {},
   "outputs": [
    {
     "name": "stdout",
     "output_type": "stream",
     "text": [
      "Epoch 1/10\n",
      "1774/1774 [==============================] - 15s 8ms/step - loss: 0.1661 - accuracy: 0.9397 - val_loss: 0.1566 - val_accuracy: 0.9458\n",
      "Epoch 2/10\n",
      "1774/1774 [==============================] - 15s 8ms/step - loss: 0.1144 - accuracy: 0.9586 - val_loss: 0.1420 - val_accuracy: 0.9545\n",
      "Epoch 3/10\n",
      "1774/1774 [==============================] - 14s 8ms/step - loss: 0.1009 - accuracy: 0.9625 - val_loss: 0.1179 - val_accuracy: 0.9553\n",
      "Epoch 4/10\n",
      "1774/1774 [==============================] - 17s 10ms/step - loss: 0.0885 - accuracy: 0.9667 - val_loss: 0.1337 - val_accuracy: 0.9543\n",
      "Epoch 5/10\n",
      "1774/1774 [==============================] - 17s 10ms/step - loss: 0.0833 - accuracy: 0.9686 - val_loss: 0.1462 - val_accuracy: 0.9526\n",
      "Epoch 6/10\n",
      "1771/1774 [============================>.] - ETA: 0s - loss: 0.0762 - accuracy: 0.9708Restoring model weights from the end of the best epoch: 3.\n",
      "1774/1774 [==============================] - 15s 8ms/step - loss: 0.0763 - accuracy: 0.9708 - val_loss: 0.1367 - val_accuracy: 0.9520\n",
      "Epoch 6: early stopping\n"
     ]
    }
   ],
   "source": [
    "batch_size = 32\n",
    "epochs = 10\n",
    "history_0_1 = model_0_1_embedding_1.fit(X_pad_train1, y_train1, batch_size=batch_size, epochs=epochs, validation_split=0.1,\n",
    "                               callbacks=[early_stop, time_callback])"
   ]
  },
  {
   "cell_type": "code",
   "execution_count": 60,
   "id": "f9c03869",
   "metadata": {},
   "outputs": [
    {
     "name": "stdout",
     "output_type": "stream",
     "text": [
      "493/493 [==============================] - 1s 2ms/step - loss: 0.1168 - accuracy: 0.9554\n"
     ]
    },
    {
     "data": {
      "text/plain": [
       "[0.11679867655038834, 0.9554132223129272]"
      ]
     },
     "execution_count": 60,
     "metadata": {},
     "output_type": "execute_result"
    }
   ],
   "source": [
    "model_0_1_embedding_1.evaluate(X_pad_test1, y_test1, verbose=1)"
   ]
  },
  {
   "cell_type": "markdown",
   "id": "b828c631",
   "metadata": {},
   "source": [
    "### Calcul des prédictions négatives et positives sur le jeu de test cdiscount"
   ]
  },
  {
   "cell_type": "code",
   "execution_count": 61,
   "id": "f5ccbe57",
   "metadata": {},
   "outputs": [
    {
     "name": "stdout",
     "output_type": "stream",
     "text": [
      "493/493 [==============================] - 1s 2ms/step\n"
     ]
    }
   ],
   "source": [
    "# création des prédictions du eu de test cdiscount à partir du modèle\n",
    "predict_cdiscount1 = model_0_1_embedding_1.predict(X_pad_test1, verbose=1)"
   ]
  },
  {
   "cell_type": "code",
   "execution_count": 62,
   "id": "c61b35bd",
   "metadata": {},
   "outputs": [
    {
     "data": {
      "text/plain": [
       "array([[2.3808721e-01],\n",
       "       [9.8457968e-01],\n",
       "       [9.9819601e-01],\n",
       "       ...,\n",
       "       [2.0412946e-05],\n",
       "       [9.9990261e-01],\n",
       "       [9.9626601e-01]], dtype=float32)"
      ]
     },
     "execution_count": 62,
     "metadata": {},
     "output_type": "execute_result"
    }
   ],
   "source": [
    "predict_cdiscount1"
   ]
  },
  {
   "cell_type": "code",
   "execution_count": 63,
   "id": "2fe07a90",
   "metadata": {},
   "outputs": [
    {
     "data": {
      "text/plain": [
       "array([0, 1, 1, ..., 0, 1, 1])"
      ]
     },
     "execution_count": 63,
     "metadata": {},
     "output_type": "execute_result"
    }
   ],
   "source": [
    "predict_cdiscount_class1 = predict_cdiscount1.round().astype('int').ravel()\n",
    "predict_cdiscount_class1"
   ]
  },
  {
   "cell_type": "code",
   "execution_count": 64,
   "id": "64cd865c",
   "metadata": {},
   "outputs": [
    {
     "name": "stderr",
     "output_type": "stream",
     "text": [
      "C:\\Users\\t.fourtouill\\Anaconda3\\lib\\site-packages\\seaborn\\_decorators.py:36: FutureWarning: Pass the following variable as a keyword arg: x. From version 0.12, the only valid positional argument will be `data`, and passing other arguments without an explicit keyword will result in an error or misinterpretation.\n",
      "  warnings.warn(\n"
     ]
    },
    {
     "data": {
      "image/png": "[encoded data removed]",
      "text/plain": [
       "<Figure size 288x216 with 1 Axes>"
      ]
     },
     "metadata": {
      "needs_background": "light"
     },
     "output_type": "display_data"
    }
   ],
   "source": [
    "plt.figure(figsize=(4, 3))\n",
    "sns.countplot(predict_cdiscount_class1)\n",
    "plt.show();"
   ]
  },
  {
   "cell_type": "markdown",
   "id": "14ed6ff5",
   "metadata": {},
   "source": [
    "### Calcul des prédictions négatives et positives sur le jeu de test amazon"
   ]
  },
  {
   "cell_type": "code",
   "execution_count": 65,
   "id": "1ed4f2fe",
   "metadata": {},
   "outputs": [],
   "source": [
    "# séparation de la variable cible et des variables explicatives\n",
    "check_set_amazon = df_test_0_1['commentaire'].values"
   ]
  },
  {
   "cell_type": "code",
   "execution_count": 66,
   "id": "3ba91546",
   "metadata": {},
   "outputs": [],
   "source": [
    "# vectorisation des token\n",
    "check_seq_amazon = tk.texts_to_sequences(check_set_amazon)"
   ]
  },
  {
   "cell_type": "code",
   "execution_count": 67,
   "id": "f8a34a06",
   "metadata": {},
   "outputs": [],
   "source": [
    "# mise sous matrice numpy\n",
    "check_pad_amazon = pad_sequences(check_seq_amazon, maxlen=max_words, padding='post')"
   ]
  },
  {
   "cell_type": "code",
   "execution_count": 68,
   "id": "f0032936",
   "metadata": {},
   "outputs": [
    {
     "name": "stdout",
     "output_type": "stream",
     "text": [
      "3/3 [==============================] - 0s 3ms/step\n"
     ]
    }
   ],
   "source": [
    "# création des prédictions du jeu de test amazon à partir du modèle\n",
    "check_predict_0_1 = model_0_1_embedding_1.predict(check_pad_amazon, verbose=1)"
   ]
  },
  {
   "cell_type": "code",
   "execution_count": 69,
   "id": "8f815ae9",
   "metadata": {},
   "outputs": [
    {
     "name": "stdout",
     "output_type": "stream",
     "text": [
      "[0.22141096]\n",
      "[0.0768981]\n",
      "[0.49706146]\n",
      "[0.09440127]\n",
      "[0.00151679]\n",
      "[0.00302583]\n",
      "[0.0274772]\n",
      "[0.02680647]\n",
      "[0.10203889]\n",
      "[0.00164869]\n"
     ]
    }
   ],
   "source": [
    "for i in range(10):\n",
    "    print(check_predict_0_1[i])"
   ]
  },
  {
   "cell_type": "code",
   "execution_count": 70,
   "id": "dcc62e2e",
   "metadata": {},
   "outputs": [
    {
     "data": {
      "text/plain": [
       "array([0, 0, 0, 0, 0, 0, 0, 0, 0, 0, 0, 0, 0, 1, 0, 0, 0, 0, 0, 0, 1, 0,\n",
       "       0, 0, 1, 0, 0, 0, 0, 0, 0, 0, 1, 0, 0, 0, 0, 0, 0, 0, 0, 1, 1, 1,\n",
       "       0, 1, 1, 1, 0, 1, 1, 1, 1, 1, 0, 0, 0, 1, 1, 1, 1, 1, 1, 1, 1, 1,\n",
       "       0, 1, 0, 1, 1, 1, 1, 1, 1, 0, 1, 1, 1, 1])"
      ]
     },
     "execution_count": 70,
     "metadata": {},
     "output_type": "execute_result"
    }
   ],
   "source": [
    "check_predict_0_1_class = check_predict_0_1.round().astype('int').ravel()\n",
    "check_predict_0_1_class"
   ]
  },
  {
   "cell_type": "code",
   "execution_count": 71,
   "id": "3517deb6",
   "metadata": {},
   "outputs": [
    {
     "name": "stderr",
     "output_type": "stream",
     "text": [
      "C:\\Users\\t.fourtouill\\Anaconda3\\lib\\site-packages\\seaborn\\_decorators.py:36: FutureWarning: Pass the following variable as a keyword arg: x. From version 0.12, the only valid positional argument will be `data`, and passing other arguments without an explicit keyword will result in an error or misinterpretation.\n",
      "  warnings.warn(\n"
     ]
    },
    {
     "data": {
      "image/png": "[encoded data removed]",
      "text/plain": [
       "<Figure size 288x216 with 1 Axes>"
      ]
     },
     "metadata": {
      "needs_background": "light"
     },
     "output_type": "display_data"
    }
   ],
   "source": [
    "plt.figure(figsize=(4, 3))\n",
    "sns.countplot(check_predict_0_1_class)\n",
    "plt.show();"
   ]
  },
  {
   "cell_type": "code",
   "execution_count": 72,
   "id": "494df9a3",
   "metadata": {},
   "outputs": [
    {
     "data": {
      "text/html": [
       "<div>\n",
       "<style scoped>\n",
       "    .dataframe tbody tr th:only-of-type {\n",
       "        vertical-align: middle;\n",
       "    }\n",
       "\n",
       "    .dataframe tbody tr th {\n",
       "        vertical-align: top;\n",
       "    }\n",
       "\n",
       "    .dataframe thead th {\n",
       "        text-align: right;\n",
       "    }\n",
       "</style>\n",
       "<table border=\"1\" class=\"dataframe\">\n",
       "  <thead>\n",
       "    <tr style=\"text-align: right;\">\n",
       "      <th></th>\n",
       "      <th>commentaire</th>\n",
       "      <th>note</th>\n",
       "      <th>prediction</th>\n",
       "    </tr>\n",
       "  </thead>\n",
       "  <tbody>\n",
       "    <tr>\n",
       "      <th>0</th>\n",
       "      <td>MENZZONous aimerions savoir pourquoi vous ne retournez pas l'argent de vos clients et vous continuez à trouver des excuses à ce sujet. Les personnes qui donnent leur avis sur les réseaux sociaux vous bloqueront et leurs mails ne recevront pas de réponse. Pensez-vous que c'est normal?</td>\n",
       "      <td>1</td>\n",
       "      <td>1</td>\n",
       "    </tr>\n",
       "    <tr>\n",
       "      <th>1</th>\n",
       "      <td>Voulant acheter un pare soleil  de marque pour mon appareil photo le prix étant de 28 € environ quel a pas était ma surprise de voir ce prix  grimper  à 45 € en l'espace  de 5 mn et tous ça  sur le site Amazon y a t'il d'autres  personnes à qui cela est  arrivé , je serai curieux  de  lire vos témoignages  ( pratiques de voyous)</td>\n",
       "      <td>1</td>\n",
       "      <td>1</td>\n",
       "    </tr>\n",
       "    <tr>\n",
       "      <th>2</th>\n",
       "      <td>Comment souvent problème d'envoi ou réception de marchandise biensure service client au téléphone ce n est pas leur faute c est les gens de l emballage belle esprit d équipe je ne commanderai plus chez vous</td>\n",
       "      <td>1</td>\n",
       "      <td>1</td>\n",
       "    </tr>\n",
       "    <tr>\n",
       "      <th>3</th>\n",
       "      <td>L’arnaque des livreurs qui ne respectent pas les instructions des livraison, laissent le clos n’importe où le marquent livres alors qu ils ont pas livres! Le service client à part dire ; on va faire remonter l’info et ouvrir une enquête », ne fait rien! Avec l’argent qu engrange Amazon il s’agirait de s entourer de livreurs fiables !!</td>\n",
       "      <td>1</td>\n",
       "      <td>1</td>\n",
       "    </tr>\n",
       "    <tr>\n",
       "      <th>4</th>\n",
       "      <td>J’ai commandé un article très cher qui est supposé être neuf. A ma surprise en recevant le colis l l’article semble déjà ouvert/voir même déjà utilisé, le carton de l’article était déchiré.. étant la grosse somme que j’ai dépensé sur cet article je ne peux accepter de recevoir du reconditionné au prix du neuf. En demandant le retour Amazon refuse de me rembourser sur carte bancaire mais plutôt uniquement par avoir et ça c’est absurde car c’est pas de ma faute c’est la faute à Amazon, d’ailleurs pourquoi m’obliger à consommer par force une telle grosse somme sur leur site, moi je veux pas d’avoir je veux mon argent sur mon compte bancaire !!!! J’ai commencé les démarches pour ouvrir un contentieux contre Amazon !</td>\n",
       "      <td>1</td>\n",
       "      <td>1</td>\n",
       "    </tr>\n",
       "  </tbody>\n",
       "</table>\n",
       "</div>"
      ],
      "text/plain": [
       "                                                                                                                                                                                                                                                                                                                                                                                                                                                                                                                                                                                                                                                                                                                                         commentaire  \\\n",
       "0                                                                                                                                                                                                                                                                                                                                                                                                                                                       MENZZONous aimerions savoir pourquoi vous ne retournez pas l'argent de vos clients et vous continuez à trouver des excuses à ce sujet. Les personnes qui donnent leur avis sur les réseaux sociaux vous bloqueront et leurs mails ne recevront pas de réponse. Pensez-vous que c'est normal?   \n",
       "1                                                                                                                                                                                                                                                                                                                                                                                                         Voulant acheter un pare soleil  de marque pour mon appareil photo le prix étant de 28 € environ quel a pas était ma surprise de voir ce prix  grimper  à 45 € en l'espace  de 5 mn et tous ça  sur le site Amazon y a t'il d'autres  personnes à qui cela est  arrivé , je serai curieux  de  lire vos témoignages  ( pratiques de voyous)   \n",
       "2                                                                                                                                                                                                                                                                                                                                                                                                                                                                                                                                     Comment souvent problème d'envoi ou réception de marchandise biensure service client au téléphone ce n est pas leur faute c est les gens de l emballage belle esprit d équipe je ne commanderai plus chez vous   \n",
       "3                                                                                                                                                                                                                                                                                                                                                                                                   L’arnaque des livreurs qui ne respectent pas les instructions des livraison, laissent le clos n’importe où le marquent livres alors qu ils ont pas livres! Le service client à part dire ; on va faire remonter l’info et ouvrir une enquête », ne fait rien! Avec l’argent qu engrange Amazon il s’agirait de s entourer de livreurs fiables !!   \n",
       "4  J’ai commandé un article très cher qui est supposé être neuf. A ma surprise en recevant le colis l l’article semble déjà ouvert/voir même déjà utilisé, le carton de l’article était déchiré.. étant la grosse somme que j’ai dépensé sur cet article je ne peux accepter de recevoir du reconditionné au prix du neuf. En demandant le retour Amazon refuse de me rembourser sur carte bancaire mais plutôt uniquement par avoir et ça c’est absurde car c’est pas de ma faute c’est la faute à Amazon, d’ailleurs pourquoi m’obliger à consommer par force une telle grosse somme sur leur site, moi je veux pas d’avoir je veux mon argent sur mon compte bancaire !!!! J’ai commencé les démarches pour ouvrir un contentieux contre Amazon !   \n",
       "\n",
       "   note  prediction  \n",
       "0     1           1  \n",
       "1     1           1  \n",
       "2     1           1  \n",
       "3     1           1  \n",
       "4     1           1  "
      ]
     },
     "execution_count": 72,
     "metadata": {},
     "output_type": "execute_result"
    }
   ],
   "source": [
    "# comparaison des prédictions et des notes du jeu de test\n",
    "check_df_0_1 = pd.DataFrame(list(zip(df_test_0_1.commentaire, df_test_0_1.note, check_predict_0_1_class)), columns=['commentaire', 'note', 'prediction'])\n",
    "check_df.head()"
   ]
  },
  {
   "cell_type": "code",
   "execution_count": 73,
   "id": "1965e9a5",
   "metadata": {},
   "outputs": [
    {
     "name": "stdout",
     "output_type": "stream",
     "text": [
      "              precision    recall  f1-score   support\n",
      "\n",
      "           0       0.80      0.90      0.85        40\n",
      "           1       0.89      0.78      0.83        40\n",
      "\n",
      "    accuracy                           0.84        80\n",
      "   macro avg       0.84      0.84      0.84        80\n",
      "weighted avg       0.84      0.84      0.84        80\n",
      "\n"
     ]
    },
    {
     "data": {
      "text/html": [
       "<div>\n",
       "<style scoped>\n",
       "    .dataframe tbody tr th:only-of-type {\n",
       "        vertical-align: middle;\n",
       "    }\n",
       "\n",
       "    .dataframe tbody tr th {\n",
       "        vertical-align: top;\n",
       "    }\n",
       "\n",
       "    .dataframe thead th {\n",
       "        text-align: right;\n",
       "    }\n",
       "</style>\n",
       "<table border=\"1\" class=\"dataframe\">\n",
       "  <thead>\n",
       "    <tr style=\"text-align: right;\">\n",
       "      <th>predictions</th>\n",
       "      <th>0</th>\n",
       "      <th>1</th>\n",
       "    </tr>\n",
       "    <tr>\n",
       "      <th>données réelles</th>\n",
       "      <th></th>\n",
       "      <th></th>\n",
       "    </tr>\n",
       "  </thead>\n",
       "  <tbody>\n",
       "    <tr>\n",
       "      <th>0</th>\n",
       "      <td>36</td>\n",
       "      <td>4</td>\n",
       "    </tr>\n",
       "    <tr>\n",
       "      <th>1</th>\n",
       "      <td>9</td>\n",
       "      <td>31</td>\n",
       "    </tr>\n",
       "  </tbody>\n",
       "</table>\n",
       "</div>"
      ],
      "text/plain": [
       "predictions       0   1\n",
       "données réelles        \n",
       "0                36   4\n",
       "1                 9  31"
      ]
     },
     "metadata": {},
     "output_type": "display_data"
    },
    {
     "data": {
      "text/html": [
       "<div>\n",
       "<style scoped>\n",
       "    .dataframe tbody tr th:only-of-type {\n",
       "        vertical-align: middle;\n",
       "    }\n",
       "\n",
       "    .dataframe tbody tr th {\n",
       "        vertical-align: top;\n",
       "    }\n",
       "\n",
       "    .dataframe thead th {\n",
       "        text-align: right;\n",
       "    }\n",
       "</style>\n",
       "<table border=\"1\" class=\"dataframe\">\n",
       "  <thead>\n",
       "    <tr style=\"text-align: right;\">\n",
       "      <th>predictions</th>\n",
       "      <th>0</th>\n",
       "      <th>1</th>\n",
       "    </tr>\n",
       "    <tr>\n",
       "      <th>données réelles</th>\n",
       "      <th></th>\n",
       "      <th></th>\n",
       "    </tr>\n",
       "  </thead>\n",
       "  <tbody>\n",
       "    <tr>\n",
       "      <th>0</th>\n",
       "      <td>0.900</td>\n",
       "      <td>0.100</td>\n",
       "    </tr>\n",
       "    <tr>\n",
       "      <th>1</th>\n",
       "      <td>0.225</td>\n",
       "      <td>0.775</td>\n",
       "    </tr>\n",
       "  </tbody>\n",
       "</table>\n",
       "</div>"
      ],
      "text/plain": [
       "predictions          0      1\n",
       "données réelles              \n",
       "0                0.900  0.100\n",
       "1                0.225  0.775"
      ]
     },
     "metadata": {},
     "output_type": "display_data"
    },
    {
     "name": "stdout",
     "output_type": "stream",
     "text": [
      "les prédictions correctes sont supérieures à 50% pour 0 étoile(s) avec 90%\n",
      "les prédictions correctes sont supérieures à 50% pour 1 étoile(s) avec 78%\n"
     ]
    }
   ],
   "source": [
    "from sklearn.metrics import classification_report\n",
    "\n",
    "# vérification des résultats sur un jeu de test externe (100 commentaires amazon également répartis entre les étoiles)\n",
    "\n",
    "cm_test1_0_1 = classification_report(df_test_0_1.note, check_predict_0_1_class)\n",
    "print(cm_test1_0_1)\n",
    "\n",
    "cm_test2_0_1 = pd.crosstab(df_test_0_1.note, check_predict_0_1_class, rownames=['données réelles'], colnames=['predictions'])\n",
    "display(cm_test2_0_1)\n",
    "\n",
    "cm_test3_0_1 = pd.crosstab(df_test_0_1.note, check_predict_0_1_class, rownames=['données réelles'], colnames=['predictions'], normalize=0)\n",
    "display(cm_test3_0_1)\n",
    "\n",
    "for i in cm_test3_0_1.index:\n",
    "    for j in cm_test3_0_1.columns :\n",
    "        if (i==j and cm_test3_0_1.loc[i, j] > 0.5) :\n",
    "            print(\"les prédictions correctes sont supérieures à 50% pour {} étoile(s) avec {:0.0%}\".format(i, cm_test3_0_1.loc[i, j]))"
   ]
  },
  {
   "cell_type": "code",
   "execution_count": 74,
   "id": "e40ea974",
   "metadata": {},
   "outputs": [
    {
     "name": "stdout",
     "output_type": "stream",
     "text": [
      "INFO:tensorflow:Assets written to: datasets/SatisfactionClients/model_0_1_embedding3\\assets\n"
     ]
    }
   ],
   "source": [
    "import os\n",
    "path = \"/Users/t.fourtouill/Downloads/SatisfactionClients\"\n",
    "os.makedirs(path, exist_ok=True)\n",
    "model_0_1_embedding_1.save('datasets/SatisfactionClients/model_0_1_embedding3')"
   ]
  }
 ],
 "metadata": {
  "kernelspec": {
   "display_name": "Python 3 (ipykernel)",
   "language": "python",
   "name": "python3"
  },
  "language_info": {
   "codemirror_mode": {
    "name": "ipython",
    "version": 3
   },
   "file_extension": ".py",
   "mimetype": "text/x-python",
   "name": "python",
   "nbconvert_exporter": "python",
   "pygments_lexer": "ipython3",
   "version": "3.9.7"
  }
 },
 "nbformat": 4,
 "nbformat_minor": 5
}

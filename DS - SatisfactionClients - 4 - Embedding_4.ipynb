{
 "cells": [
  {
   "cell_type": "code",
   "execution_count": 1,
   "id": "196d79a4",
   "metadata": {},
   "outputs": [],
   "source": [
    "import pandas as pd\n",
    "import numpy as np\n",
    "import matplotlib.pyplot as plt\n",
    "import seaborn as sns\n",
    "from time import time\n",
    "import itertools\n",
    "import keras\n",
    "import tensorflow"
   ]
  },
  {
   "cell_type": "code",
   "execution_count": 2,
   "id": "6b85a034",
   "metadata": {},
   "outputs": [],
   "source": [
    "pd.options.display.max_colwidth=800\n",
    "pd.set_option('display.max_rows', 500)\n",
    "pd.set_option('display.max_columns', 500)"
   ]
  },
  {
   "cell_type": "code",
   "execution_count": 3,
   "id": "119a889d",
   "metadata": {},
   "outputs": [
    {
     "data": {
      "text/html": [
       "<div>\n",
       "<style scoped>\n",
       "    .dataframe tbody tr th:only-of-type {\n",
       "        vertical-align: middle;\n",
       "    }\n",
       "\n",
       "    .dataframe tbody tr th {\n",
       "        vertical-align: top;\n",
       "    }\n",
       "\n",
       "    .dataframe thead th {\n",
       "        text-align: right;\n",
       "    }\n",
       "</style>\n",
       "<table border=\"1\" class=\"dataframe\">\n",
       "  <thead>\n",
       "    <tr style=\"text-align: right;\">\n",
       "      <th></th>\n",
       "      <th>note</th>\n",
       "      <th>commentaire</th>\n",
       "    </tr>\n",
       "  </thead>\n",
       "  <tbody>\n",
       "    <tr>\n",
       "      <th>0</th>\n",
       "      <td>1</td>\n",
       "      <td>après avoir soutenu livreur poste déclaration colis livre vient m'aviser colis suite non réclamation vient tre retourné l'expéditeur donc tous menteurs colis n'a donc jamais livré voici preuve flagrante discount persiste demandant malgré cette déclaration tas justificatifs inutiles menteurs voleurs</td>\n",
       "    </tr>\n",
       "    <tr>\n",
       "      <th>1</th>\n",
       "      <td>1</td>\n",
       "      <td>service client abonnés absents invite chercher commentaires seuls ceux passent reste extr tout difficile avertir personnellement commandé réfrigérateur livre mauvaise référence depuis mois propose uniquement reprise sans livraison donc fais comment aliments réfrigérateur combiné mise demeure etc fonctionne</td>\n",
       "    </tr>\n",
       "  </tbody>\n",
       "</table>\n",
       "</div>"
      ],
      "text/plain": [
       "   note  \\\n",
       "0     1   \n",
       "1     1   \n",
       "\n",
       "                                                                                                                                                                                                                                                                                                            commentaire  \n",
       "0          après avoir soutenu livreur poste déclaration colis livre vient m'aviser colis suite non réclamation vient tre retourné l'expéditeur donc tous menteurs colis n'a donc jamais livré voici preuve flagrante discount persiste demandant malgré cette déclaration tas justificatifs inutiles menteurs voleurs   \n",
       "1  service client abonnés absents invite chercher commentaires seuls ceux passent reste extr tout difficile avertir personnellement commandé réfrigérateur livre mauvaise référence depuis mois propose uniquement reprise sans livraison donc fais comment aliments réfrigérateur combiné mise demeure etc fonctionne   "
      ]
     },
     "execution_count": 3,
     "metadata": {},
     "output_type": "execute_result"
    }
   ],
   "source": [
    "df = pd.read_csv('datasets/SatisfactionClients/cdiscount2.csv')\n",
    "df_test = pd.read_csv('datasets/SatisfactionClients/amazon_test1.csv')\n",
    "df.head(2)"
   ]
  },
  {
   "cell_type": "code",
   "execution_count": 4,
   "id": "d4bae705",
   "metadata": {},
   "outputs": [
    {
     "data": {
      "text/plain": [
       "note            0\n",
       "commentaire    54\n",
       "dtype: int64"
      ]
     },
     "execution_count": 4,
     "metadata": {},
     "output_type": "execute_result"
    }
   ],
   "source": [
    "df.isna().sum()"
   ]
  },
  {
   "cell_type": "code",
   "execution_count": 5,
   "id": "e5b1e976",
   "metadata": {},
   "outputs": [],
   "source": [
    "df = df[df['commentaire'].isna()==False]"
   ]
  },
  {
   "cell_type": "code",
   "execution_count": 6,
   "id": "f13e334a",
   "metadata": {},
   "outputs": [],
   "source": [
    "# séparation de la variable cible et des variables explicatives\n",
    "X = df['commentaire']\n",
    "y = df['note'].values"
   ]
  },
  {
   "cell_type": "code",
   "execution_count": 7,
   "id": "6269af3d",
   "metadata": {},
   "outputs": [],
   "source": [
    "# séparation du jeu de données en un dataset d'entrainement et un dataset de test\n",
    "from sklearn.model_selection import train_test_split\n",
    "X_train, X_test, y_train, y_test = train_test_split(X, y, test_size=0.2, shuffle=True)"
   ]
  },
  {
   "cell_type": "code",
   "execution_count": 8,
   "id": "0673da10",
   "metadata": {},
   "outputs": [
    {
     "name": "stdout",
     "output_type": "stream",
     "text": [
      "(67552,)\n",
      "(16888,)\n",
      "(100, 3)\n"
     ]
    }
   ],
   "source": [
    "print(X_train.shape)\n",
    "print(X_test.shape)\n",
    "print(df_test.shape)"
   ]
  },
  {
   "cell_type": "code",
   "execution_count": 9,
   "id": "d40a7b61",
   "metadata": {},
   "outputs": [],
   "source": [
    "from keras.preprocessing.text import Tokenizer\n",
    "from keras.preprocessing.sequence import pad_sequences"
   ]
  },
  {
   "cell_type": "code",
   "execution_count": 10,
   "id": "7709d894",
   "metadata": {},
   "outputs": [],
   "source": [
    "# tokenisation des commentaires\n",
    "num_words=5000\n",
    "tk = Tokenizer(num_words=num_words, lower=True)"
   ]
  },
  {
   "cell_type": "code",
   "execution_count": 11,
   "id": "014744b9",
   "metadata": {},
   "outputs": [],
   "source": [
    "# entrainement de la tokenisation sur le X_train\n",
    "tk.fit_on_texts(X_train)"
   ]
  },
  {
   "cell_type": "code",
   "execution_count": 12,
   "id": "5faa7d54",
   "metadata": {},
   "outputs": [
    {
     "data": {
      "text/plain": [
       "35633"
      ]
     },
     "execution_count": 12,
     "metadata": {},
     "output_type": "execute_result"
    }
   ],
   "source": [
    "# nb de ligne de la matrice\n",
    "word_index = tk.word_index\n",
    "len(tk.word_index)"
   ]
  },
  {
   "cell_type": "code",
   "execution_count": 13,
   "id": "8a275671",
   "metadata": {},
   "outputs": [
    {
     "data": {
      "text/plain": [
       "5000"
      ]
     },
     "execution_count": 13,
     "metadata": {},
     "output_type": "execute_result"
    }
   ],
   "source": [
    "# nb de colonnes dans la matrice\n",
    "vocabulary_size = tk.num_words\n",
    "vocabulary_size"
   ]
  },
  {
   "cell_type": "code",
   "execution_count": 14,
   "id": "c937c451",
   "metadata": {},
   "outputs": [],
   "source": [
    "# mise sous vecteur des commentaires\n",
    "X_seq_train = tk.texts_to_sequences(X_train)\n",
    "X_seq_test = tk.texts_to_sequences(X_test)"
   ]
  },
  {
   "cell_type": "code",
   "execution_count": 15,
   "id": "204ad175",
   "metadata": {},
   "outputs": [
    {
     "name": "stdout",
     "output_type": "stream",
     "text": [
      "[364, 303, 81, 51, 13]\n",
      "[111, 1, 293, 281, 19, 66, 10, 557, 133, 497, 171, 619, 1045, 65, 527, 226, 219, 8, 242, 300, 110, 1860, 23, 681, 223, 1022, 406, 681, 29, 663, 276, 313, 1145, 1433, 2791, 3437, 2429, 120, 743, 3223, 842, 178, 78, 75, 321, 42, 108, 175, 98, 1363, 4800, 5, 223, 84, 175, 524, 449, 599, 170, 331, 149, 224, 1298, 5, 743, 497, 8, 212, 43, 2732, 296, 401, 161, 711, 375, 4, 393, 234, 837, 3438, 1905, 85]\n",
      "[280, 80, 1046, 65, 24, 27, 52, 1113, 10, 55, 280, 10, 2861, 4, 7, 18, 74, 15, 2566, 22, 2733, 4324, 617, 63, 706, 3560, 120, 368, 29, 324, 121]\n",
      "[583, 3, 189, 88, 2217, 756, 3689, 924, 490, 931, 1190, 560, 15, 2218, 302, 8, 165, 5, 9, 234, 61, 223, 1009, 244, 5, 155, 8, 14, 776]\n",
      "[41, 3, 41, 71, 288, 2, 577]\n"
     ]
    }
   ],
   "source": [
    "# affichage de la vectorisation réalisée\n",
    "for x in range(0,5):\n",
    "    print(X_seq_train[x])"
   ]
  },
  {
   "cell_type": "code",
   "execution_count": 16,
   "id": "e647906d",
   "metadata": {},
   "outputs": [
    {
     "data": {
      "text/plain": [
       "Text(0.5, 1.0, 'commentaires bruts')"
      ]
     },
     "execution_count": 16,
     "metadata": {},
     "output_type": "execute_result"
    },
    {
     "data": {
      "image/png": "[encoded data removed]",
      "text/plain": [
       "<Figure size 864x288 with 1 Axes>"
      ]
     },
     "metadata": {
      "needs_background": "light"
     },
     "output_type": "display_data"
    }
   ],
   "source": [
    "# affichage du nb de mots par commentaire pour nous aider à déterminer le nb de mots à choisir dans la matrice \n",
    "df['split'] = df['commentaire'].apply(lambda x: len(x.split(' ')))\n",
    "\n",
    "plt.figure(figsize=(12, 4))\n",
    "plt.subplot(121)\n",
    "plt.hist(df['split'])\n",
    "plt.xlim([0, 300])\n",
    "plt.title('commentaires bruts')"
   ]
  },
  {
   "cell_type": "code",
   "execution_count": 17,
   "id": "aa8ad6cf",
   "metadata": {},
   "outputs": [],
   "source": [
    "# transformation en matrice de même longueur par maxlen défini ci-dessous. Avec des 0 si colonne inférieure à maxlen\n",
    "max_words = 130\n",
    "X_pad_train = pad_sequences(X_seq_train, maxlen=max_words, padding='post')\n",
    "X_pad_test= pad_sequences(X_seq_test, maxlen=max_words, padding='post')"
   ]
  },
  {
   "cell_type": "code",
   "execution_count": 18,
   "id": "e5651d36",
   "metadata": {},
   "outputs": [
    {
     "name": "stdout",
     "output_type": "stream",
     "text": [
      "(67552, 130)\n"
     ]
    },
    {
     "data": {
      "text/plain": [
       "array([[ 364,  303,   81, ...,    0,    0,    0],\n",
       "       [ 111,    1,  293, ...,    0,    0,    0],\n",
       "       [ 280,   80, 1046, ...,    0,    0,    0],\n",
       "       ...,\n",
       "       [   7,   36,    1, ...,    0,    0,    0],\n",
       "       [ 313,  313,    0, ...,    0,    0,    0],\n",
       "       [ 823,  288, 1513, ...,  111,   24,   16]])"
      ]
     },
     "execution_count": 18,
     "metadata": {},
     "output_type": "execute_result"
    }
   ],
   "source": [
    "# affice de la matrice\n",
    "print(X_pad_train.shape)\n",
    "X_pad_train"
   ]
  },
  {
   "cell_type": "code",
   "execution_count": 19,
   "id": "a509121c",
   "metadata": {},
   "outputs": [
    {
     "name": "stdout",
     "output_type": "stream",
     "text": [
      "Model: \"sequential\"\n",
      "_________________________________________________________________\n",
      " Layer (type)                Output Shape              Param #   \n",
      "=================================================================\n",
      " embedding (Embedding)       (None, 130, 32)           160000    \n",
      "                                                                 \n",
      " lstm (LSTM)                 (None, 200)               186400    \n",
      "                                                                 \n",
      " dense (Dense)               (None, 6)                 1206      \n",
      "                                                                 \n",
      "=================================================================\n",
      "Total params: 347,606\n",
      "Trainable params: 347,606\n",
      "Non-trainable params: 0\n",
      "_________________________________________________________________\n"
     ]
    }
   ],
   "source": [
    "# Création des couches du modéle\n",
    "\n",
    "from tensorflow.keras.models import Sequential\n",
    "from tensorflow.keras.layers import Dense, GlobalAveragePooling1D, Input, Embedding, Dropout, LSTM\n",
    "\n",
    "embedding_size = 32\n",
    "\n",
    "model_embedding_1 = Sequential()\n",
    "model_embedding_1.add(Embedding(input_dim=vocabulary_size, output_dim=embedding_size, input_length=max_words, embeddings_initializer='uniform'))  # On reprend le nb de mot choisi dans la tokenisation\n",
    "model_embedding_1.add(LSTM(200)) \n",
    "model_embedding_1.add(Dense(units=6, activation='softmax')) # En sortie le nb de units devra correspondre aux nb de variables cibles\n",
    "\n",
    "model_embedding_1.summary()"
   ]
  },
  {
   "cell_type": "code",
   "execution_count": 20,
   "id": "36bca453",
   "metadata": {},
   "outputs": [],
   "source": [
    "# timer pour mesurer le temps écoulé entre les epochs de début et de fin de callback\n",
    "from tensorflow.keras.callbacks import Callback\n",
    "from timeit import default_timer as timer\n",
    "\n",
    "class TimingCallback(Callback):\n",
    "    def __init__(self, logs={}):\n",
    "        self.logs=[]\n",
    "    def on_epoch_begin(self, epoch, logs={}):\n",
    "        self.starttime = timer()\n",
    "    def on_epoch_end(self, epoch, logs={}):\n",
    "        self.logs.append(timer()-self.starttime)\n",
    "\n",
    "# instanciation la fonction TimingCallback()\n",
    "time_callback = TimingCallback()"
   ]
  },
  {
   "cell_type": "code",
   "execution_count": 21,
   "id": "4f9cb05f",
   "metadata": {},
   "outputs": [],
   "source": [
    "# Création des callback\n",
    "from tensorflow.keras.callbacks import EarlyStopping\n",
    "\n",
    "early_stop = EarlyStopping(monitor='val_loss',\n",
    "                          min_delta=0.01,\n",
    "                          patience=3,\n",
    "                          mode='min',\n",
    "                          restore_best_weights=True,\n",
    "                          verbose=1)"
   ]
  },
  {
   "cell_type": "code",
   "execution_count": 22,
   "id": "bbfcec82",
   "metadata": {},
   "outputs": [],
   "source": [
    "model_embedding_1.compile(loss='sparse_categorical_crossentropy', optimizer='adam', metrics=['accuracy'])"
   ]
  },
  {
   "cell_type": "code",
   "execution_count": 23,
   "id": "6a48774e",
   "metadata": {},
   "outputs": [
    {
     "name": "stdout",
     "output_type": "stream",
     "text": [
      "Epoch 1/10\n",
      "1900/1900 [==============================] - 653s 341ms/step - loss: 1.1027 - accuracy: 0.6060 - val_loss: 0.8661 - val_accuracy: 0.6679\n",
      "Epoch 2/10\n",
      "1900/1900 [==============================] - 675s 355ms/step - loss: 0.8022 - accuracy: 0.6820 - val_loss: 0.7918 - val_accuracy: 0.6797\n",
      "Epoch 3/10\n",
      "1900/1900 [==============================] - 614s 323ms/step - loss: 0.7276 - accuracy: 0.7056 - val_loss: 0.7591 - val_accuracy: 0.6960\n",
      "Epoch 4/10\n",
      "1900/1900 [==============================] - 577s 304ms/step - loss: 0.6914 - accuracy: 0.7217 - val_loss: 0.7515 - val_accuracy: 0.7035\n",
      "Epoch 5/10\n",
      "1900/1900 [==============================] - 682s 359ms/step - loss: 0.6689 - accuracy: 0.7317 - val_loss: 0.7701 - val_accuracy: 0.7034\n",
      "Epoch 6/10\n",
      "1900/1900 [==============================] - ETA: 0s - loss: 0.6497 - accuracy: 0.7402Restoring model weights from the end of the best epoch: 3.\n",
      "1900/1900 [==============================] - 660s 348ms/step - loss: 0.6497 - accuracy: 0.7402 - val_loss: 0.7808 - val_accuracy: 0.6902\n",
      "Epoch 6: early stopping\n"
     ]
    }
   ],
   "source": [
    "batch_size = 32\n",
    "epochs = 10\n",
    "history = model_embedding_1.fit(X_pad_train, y_train, batch_size=batch_size, epochs=epochs, validation_split=0.1,\n",
    "                               callbacks=[early_stop, time_callback])"
   ]
  },
  {
   "cell_type": "code",
   "execution_count": 24,
   "id": "9ae167f8",
   "metadata": {},
   "outputs": [
    {
     "name": "stdout",
     "output_type": "stream",
     "text": [
      "528/528 [==============================] - 62s 118ms/step - loss: 0.7367 - accuracy: 0.7012\n"
     ]
    },
    {
     "data": {
      "text/plain": [
       "[0.7366563677787781, 0.7012079358100891]"
      ]
     },
     "execution_count": 24,
     "metadata": {},
     "output_type": "execute_result"
    }
   ],
   "source": [
    "model_embedding_1.evaluate(X_pad_test, y_test, verbose=1)"
   ]
  },
  {
   "cell_type": "markdown",
   "id": "6aa031ba",
   "metadata": {},
   "source": [
    "### Calcul des prédictions sur le le de test cdiscount"
   ]
  },
  {
   "cell_type": "code",
   "execution_count": 25,
   "id": "047e9d1c",
   "metadata": {},
   "outputs": [
    {
     "name": "stdout",
     "output_type": "stream",
     "text": [
      "528/528 [==============================] - 57s 107ms/step\n"
     ]
    }
   ],
   "source": [
    "# création des prédictions du eu de test cdiscount à partir du modèle\n",
    "predict_cdiscount = model_embedding_1.predict(X_pad_test, verbose=1)"
   ]
  },
  {
   "cell_type": "code",
   "execution_count": 26,
   "id": "839cd186",
   "metadata": {},
   "outputs": [
    {
     "data": {
      "text/plain": [
       "array([1, 5, 5, ..., 5, 4, 1], dtype=int64)"
      ]
     },
     "execution_count": 26,
     "metadata": {},
     "output_type": "execute_result"
    }
   ],
   "source": [
    "predict_cdiscount_class = predict_cdiscount.argmax(axis=1)\n",
    "predict_cdiscount_class"
   ]
  },
  {
   "cell_type": "code",
   "execution_count": 27,
   "id": "c60286b3",
   "metadata": {},
   "outputs": [
    {
     "name": "stderr",
     "output_type": "stream",
     "text": [
      "C:\\Users\\t.fourtouill\\Anaconda3\\lib\\site-packages\\seaborn\\_decorators.py:36: FutureWarning: Pass the following variable as a keyword arg: x. From version 0.12, the only valid positional argument will be `data`, and passing other arguments without an explicit keyword will result in an error or misinterpretation.\n",
      "  warnings.warn(\n"
     ]
    },
    {
     "data": {
      "image/png": "[encoded data removed]",
      "text/plain": [
       "<Figure size 432x288 with 1 Axes>"
      ]
     },
     "metadata": {
      "needs_background": "light"
     },
     "output_type": "display_data"
    }
   ],
   "source": [
    "sns.countplot(predict_cdiscount_class)\n",
    "plt.show();"
   ]
  },
  {
   "cell_type": "markdown",
   "id": "33371e69",
   "metadata": {},
   "source": [
    "### Calcul des prédictions sur le jeu de test amazon"
   ]
  },
  {
   "cell_type": "code",
   "execution_count": 28,
   "id": "fa5e08ab",
   "metadata": {},
   "outputs": [
    {
     "data": {
      "text/html": [
       "<div>\n",
       "<style scoped>\n",
       "    .dataframe tbody tr th:only-of-type {\n",
       "        vertical-align: middle;\n",
       "    }\n",
       "\n",
       "    .dataframe tbody tr th {\n",
       "        vertical-align: top;\n",
       "    }\n",
       "\n",
       "    .dataframe thead th {\n",
       "        text-align: right;\n",
       "    }\n",
       "</style>\n",
       "<table border=\"1\" class=\"dataframe\">\n",
       "  <thead>\n",
       "    <tr style=\"text-align: right;\">\n",
       "      <th></th>\n",
       "      <th>Unnamed: 0</th>\n",
       "      <th>note</th>\n",
       "      <th>commentaire</th>\n",
       "    </tr>\n",
       "  </thead>\n",
       "  <tbody>\n",
       "    <tr>\n",
       "      <th>0</th>\n",
       "      <td>0</td>\n",
       "      <td>1</td>\n",
       "      <td>MENZZONous aimerions savoir pourquoi vous ne retournez pas l'argent de vos clients et vous continuez à trouver des excuses à ce sujet. Les personnes qui donnent leur avis sur les réseaux sociaux vous bloqueront et leurs mails ne recevront pas de réponse. Pensez-vous que c'est normal?</td>\n",
       "    </tr>\n",
       "    <tr>\n",
       "      <th>1</th>\n",
       "      <td>1</td>\n",
       "      <td>1</td>\n",
       "      <td>Voulant acheter un pare soleil  de marque pour mon appareil photo le prix étant de 28 € environ quel a pas était ma surprise de voir ce prix  grimper  à 45 € en l'espace  de 5 mn et tous ça  sur le site Amazon y a t'il d'autres  personnes à qui cela est  arrivé , je serai curieux  de  lire vos témoignages  ( pratiques de voyous)</td>\n",
       "    </tr>\n",
       "  </tbody>\n",
       "</table>\n",
       "</div>"
      ],
      "text/plain": [
       "   Unnamed: 0  note  \\\n",
       "0           0     1   \n",
       "1           1     1   \n",
       "\n",
       "                                                                                                                                                                                                                                                                                                                                  commentaire  \n",
       "0                                                MENZZONous aimerions savoir pourquoi vous ne retournez pas l'argent de vos clients et vous continuez à trouver des excuses à ce sujet. Les personnes qui donnent leur avis sur les réseaux sociaux vous bloqueront et leurs mails ne recevront pas de réponse. Pensez-vous que c'est normal?  \n",
       "1  Voulant acheter un pare soleil  de marque pour mon appareil photo le prix étant de 28 € environ quel a pas était ma surprise de voir ce prix  grimper  à 45 € en l'espace  de 5 mn et tous ça  sur le site Amazon y a t'il d'autres  personnes à qui cela est  arrivé , je serai curieux  de  lire vos témoignages  ( pratiques de voyous)  "
      ]
     },
     "execution_count": 28,
     "metadata": {},
     "output_type": "execute_result"
    }
   ],
   "source": [
    "df_test.head(2)"
   ]
  },
  {
   "cell_type": "code",
   "execution_count": 29,
   "id": "cf9c42c4",
   "metadata": {},
   "outputs": [
    {
     "data": {
      "text/plain": [
       "Unnamed: 0     0\n",
       "note           0\n",
       "commentaire    0\n",
       "dtype: int64"
      ]
     },
     "execution_count": 29,
     "metadata": {},
     "output_type": "execute_result"
    }
   ],
   "source": [
    "df_test.isna().sum()"
   ]
  },
  {
   "cell_type": "code",
   "execution_count": 30,
   "id": "09478ff9",
   "metadata": {},
   "outputs": [],
   "source": [
    "df_test = df_test.drop(columns=['Unnamed: 0'], axis=1)"
   ]
  },
  {
   "cell_type": "code",
   "execution_count": 31,
   "id": "11489f4b",
   "metadata": {},
   "outputs": [],
   "source": [
    "# séparation de la variable cible et des variables explicatives\n",
    "check_set = df_test['commentaire'].values"
   ]
  },
  {
   "cell_type": "code",
   "execution_count": 32,
   "id": "10065e99",
   "metadata": {},
   "outputs": [],
   "source": [
    "# vectorisation des token\n",
    "check_seq = tk.texts_to_sequences(check_set)"
   ]
  },
  {
   "cell_type": "code",
   "execution_count": 33,
   "id": "5197708f",
   "metadata": {},
   "outputs": [],
   "source": [
    "# mise sous matrice numpy\n",
    "check_pad = pad_sequences(check_seq, maxlen=max_words, padding='post')"
   ]
  },
  {
   "cell_type": "code",
   "execution_count": 34,
   "id": "1061496c",
   "metadata": {},
   "outputs": [
    {
     "data": {
      "text/plain": [
       "array([[ 296,  209,  634, ...,    0,    0,    0],\n",
       "       [2027,  164,  409, ...,    0,    0,    0],\n",
       "       [ 321,  114,   27, ...,    0,    0,    0],\n",
       "       ...,\n",
       "       [   4,    3,   19, ...,    0,    0,    0],\n",
       "       [   5,  774, 3633, ...,    0,    0,    0],\n",
       "       [   4,  174,  122, ...,    0,    0,    0]])"
      ]
     },
     "execution_count": 34,
     "metadata": {},
     "output_type": "execute_result"
    }
   ],
   "source": [
    "check_pad"
   ]
  },
  {
   "cell_type": "code",
   "execution_count": 35,
   "id": "bff87635",
   "metadata": {},
   "outputs": [
    {
     "name": "stdout",
     "output_type": "stream",
     "text": [
      "4/4 [==============================] - 0s 90ms/step\n"
     ]
    }
   ],
   "source": [
    "# création des prédictions du jeu de test amazon à partir du modèle\n",
    "check_predict = model_embedding_1.predict(check_pad, verbose=1)"
   ]
  },
  {
   "cell_type": "code",
   "execution_count": 36,
   "id": "3690b8c8",
   "metadata": {},
   "outputs": [
    {
     "name": "stdout",
     "output_type": "stream",
     "text": [
      "[[2.25507247e-05 5.08180737e-01 1.47552758e-01 2.56931931e-01\n",
      "  6.29973114e-02 2.43146662e-02]\n",
      " [2.19414214e-05 3.69872451e-01 1.50523722e-01 3.44498128e-01\n",
      "  1.00849904e-01 3.42338718e-02]\n",
      " [1.71844113e-05 6.49660170e-01 1.11656860e-01 1.76330760e-01\n",
      "  4.05078232e-02 2.18271390e-02]\n",
      " [1.25983270e-05 8.15784454e-01 7.67641217e-02 8.28871056e-02\n",
      "  1.47263529e-02 9.82532930e-03]\n",
      " [5.82760322e-06 9.30228174e-01 3.51196863e-02 2.67420430e-02\n",
      "  3.85220395e-03 4.05206019e-03]\n",
      " [5.87619252e-06 9.29423451e-01 3.54127176e-02 2.71311700e-02\n",
      "  3.91916372e-03 4.10764618e-03]\n",
      " [2.33250867e-05 5.75237274e-01 1.46553084e-01 2.11887226e-01\n",
      "  4.74682450e-02 1.88308470e-02]\n",
      " [2.31220783e-05 5.95318019e-01 1.43753812e-01 1.99328974e-01\n",
      "  4.38133143e-02 1.77628119e-02]\n",
      " [1.78657629e-05 1.39995277e-01 1.11557372e-01 4.38674718e-01\n",
      "  2.39642501e-01 7.01122805e-02]\n",
      " [5.28058990e-06 9.37505186e-01 3.19226161e-02 2.35499367e-02\n",
      "  3.32571636e-03 3.69133591e-03]\n",
      " [5.45028252e-06 9.35262084e-01 3.29095460e-02 2.45259944e-02\n",
      "  3.48796323e-03 3.80894961e-03]\n",
      " [6.41563565e-06 9.21058059e-01 3.84117179e-02 3.08363345e-02\n",
      "  4.73147072e-03 4.95603541e-03]\n",
      " [6.18400281e-06 9.22772884e-01 3.73648256e-02 3.05557568e-02\n",
      "  4.55931947e-03 4.74102562e-03]\n",
      " [1.87200640e-05 1.96385682e-01 1.27268672e-01 4.30163175e-01\n",
      "  1.88387334e-01 5.77763803e-02]\n",
      " [5.27904103e-06 9.37519848e-01 3.19119133e-02 2.35429779e-02\n",
      "  3.32593196e-03 3.69400182e-03]\n",
      " [6.11132828e-06 9.26316679e-01 3.67827490e-02 2.84922961e-02\n",
      "  4.14822763e-03 4.25397698e-03]\n",
      " [1.21900966e-05 8.12603056e-01 7.50287622e-02 8.56033713e-02\n",
      "  1.57290772e-02 1.10234218e-02]\n",
      " [5.48203889e-06 9.34832990e-01 3.30997407e-02 2.47185081e-02\n",
      "  3.51732248e-03 3.82600562e-03]\n",
      " [2.31897120e-05 5.80995679e-01 1.44710928e-01 2.07005247e-01\n",
      "  4.75775972e-02 1.96873695e-02]\n",
      " [1.59971769e-05 9.11778808e-02 8.63313526e-02 4.28189188e-01\n",
      "  3.08835298e-01 8.54502544e-02]\n",
      " [8.33695049e-06 8.87965441e-01 4.96977605e-02 4.61599715e-02\n",
      "  8.16738419e-03 8.00114125e-03]\n",
      " [1.91533491e-05 6.36308432e-01 1.20410889e-01 1.74975753e-01\n",
      "  4.39740419e-02 2.43117046e-02]\n",
      " [1.80123934e-05 6.72164142e-01 1.11588627e-01 1.53585464e-01\n",
      "  3.88079509e-02 2.38357820e-02]\n",
      " [8.70484382e-06 8.89280498e-01 5.20926453e-02 4.54486459e-02\n",
      "  7.16512604e-03 6.00433815e-03]\n",
      " [2.01536386e-05 3.58074129e-01 1.37408480e-01 3.21678728e-01\n",
      "  1.25622466e-01 5.71961030e-02]\n",
      " [1.38224459e-05 8.04951310e-01 8.33073705e-02 8.65842104e-02\n",
      "  1.54781993e-02 9.66505893e-03]\n",
      " [8.27524309e-06 8.85837376e-01 4.82738726e-02 4.49864902e-02\n",
      "  9.52176843e-03 1.13723045e-02]\n",
      " [1.08057493e-05 8.55891407e-01 6.47747889e-02 6.15050085e-02\n",
      "  1.02679338e-02 7.54998811e-03]\n",
      " [2.37451095e-05 5.83769679e-01 1.47954017e-01 2.05285013e-01\n",
      "  4.52079512e-02 1.77596323e-02]\n",
      " [1.63344976e-05 7.41562963e-01 1.00428283e-01 1.21240400e-01\n",
      "  2.36187857e-02 1.31331962e-02]\n",
      " [1.20029581e-05 8.26467574e-01 7.30393380e-02 7.75917023e-02\n",
      "  1.35639254e-02 9.32542142e-03]\n",
      " [1.16940246e-05 8.34113598e-01 6.96344972e-02 7.12751970e-02\n",
      "  1.38647938e-02 1.11002214e-02]\n",
      " [2.06914538e-05 2.69299209e-01 1.41904101e-01 3.97645712e-01\n",
      "  1.44494146e-01 4.66361418e-02]\n",
      " [7.91645925e-06 9.00660932e-01 4.73447368e-02 4.01066355e-02\n",
      "  6.25774870e-03 5.62201953e-03]\n",
      " [5.32522199e-06 9.36924577e-01 3.21830958e-02 2.38011647e-02\n",
      "  3.36653623e-03 3.71936150e-03]\n",
      " [2.11048355e-05 3.82836998e-01 1.46533504e-01 3.36929321e-01\n",
      "  9.86440852e-02 3.50350142e-02]\n",
      " [1.30312073e-05 7.31424212e-01 7.70666674e-02 1.03145890e-01\n",
      "  3.96597572e-02 4.86903638e-02]\n",
      " [9.72749694e-06 8.70021462e-01 5.83729148e-02 5.50077483e-02\n",
      "  9.18615144e-03 7.40195205e-03]\n",
      " [8.95595258e-06 1.83366954e-01 3.76086831e-02 1.14121310e-01\n",
      "  1.85084879e-01 4.79809195e-01]\n",
      " [1.67533144e-05 7.46473432e-01 1.02004521e-01 1.16860561e-01\n",
      "  2.24259607e-02 1.22187007e-02]\n",
      " [2.01952880e-05 5.49564660e-01 1.25984371e-01 2.04204991e-01\n",
      "  7.28032440e-02 4.74224798e-02]\n",
      " [2.19225549e-05 2.63840824e-01 1.50686681e-01 4.03577238e-01\n",
      "  1.39918298e-01 4.19550687e-02]\n",
      " [2.27490145e-05 4.60052729e-01 1.52264804e-01 2.86540151e-01\n",
      "  7.39941597e-02 2.71254238e-02]\n",
      " [7.57416956e-06 9.05898094e-01 4.53832000e-02 3.77260111e-02\n",
      "  5.75530948e-03 5.22975205e-03]\n",
      " [2.06993118e-05 6.40634298e-01 1.27596632e-01 1.70919850e-01\n",
      "  4.04100604e-02 2.04184782e-02]\n",
      " [2.14375923e-05 2.95594931e-01 1.48716450e-01 3.85946989e-01\n",
      "  1.28666133e-01 4.10540476e-02]\n",
      " [2.24846590e-05 2.44242221e-01 1.50322482e-01 4.16958004e-01\n",
      "  1.46958798e-01 4.14959379e-02]\n",
      " [1.41868732e-05 7.98358500e-01 8.55817944e-02 8.99077356e-02\n",
      "  1.62022319e-02 9.93559882e-03]\n",
      " [1.80601892e-05 1.60240337e-01 1.12969615e-01 3.99363250e-01\n",
      "  2.40462139e-01 8.69465917e-02]\n",
      " [2.43360555e-05 3.72937113e-01 1.61869526e-01 3.42069060e-01\n",
      "  9.39679146e-02 2.91320588e-02]\n",
      " [2.43615377e-05 4.23131615e-01 1.60759225e-01 3.08426112e-01\n",
      "  8.07498842e-02 2.69087739e-02]\n",
      " [1.24528087e-05 8.97065327e-02 6.99068308e-02 3.16078901e-01\n",
      "  3.55260789e-01 1.69034585e-01]\n",
      " [1.16058118e-05 6.88758567e-02 6.18362315e-02 3.09919924e-01\n",
      "  3.87910008e-01 1.71446428e-01]\n",
      " [8.51511322e-06 4.85785194e-02 3.83521505e-02 2.04227433e-01\n",
      "  4.23234850e-01 2.85598546e-01]\n",
      " [2.20508537e-05 4.98856246e-01 1.39170989e-01 2.36198202e-01\n",
      "  8.12998042e-02 4.44526486e-02]\n",
      " [1.40659786e-05 2.54108548e-01 8.20640400e-02 2.21162736e-01\n",
      "  2.22626716e-01 2.20023930e-01]\n",
      " [2.30003188e-05 2.87816763e-01 1.57793656e-01 3.93369615e-01\n",
      "  1.24687828e-01 3.63090783e-02]\n",
      " [2.32854973e-06 3.77388857e-03 3.35133309e-03 3.42278704e-02\n",
      "  3.18576574e-01 6.40068054e-01]\n",
      " [1.86435809e-05 5.51036298e-01 1.15089118e-01 1.90731660e-01\n",
      "  7.99028277e-02 6.32214174e-02]\n",
      " [6.81956135e-06 9.14977908e-01 4.04662527e-02 3.32074426e-02\n",
      "  5.45536634e-03 5.88626647e-03]\n",
      " [2.05089036e-05 6.01712763e-01 1.29100278e-01 1.92847028e-01\n",
      "  5.02038449e-02 2.61155032e-02]\n",
      " [1.55026396e-06 2.06276146e-03 1.33705186e-03 1.16155893e-02\n",
      "  1.63970247e-01 8.21012795e-01]\n",
      " [1.52339244e-05 7.44540095e-02 7.48257637e-02 4.14958894e-01\n",
      "  3.42336029e-01 9.34101567e-02]\n",
      " [4.94909045e-06 5.10376170e-02 1.62407588e-02 7.45739341e-02\n",
      "  2.41436332e-01 6.16706371e-01]\n",
      " [1.80860716e-05 1.60910070e-01 1.17291786e-01 4.13099885e-01\n",
      "  2.30663612e-01 7.80165568e-02]\n",
      " [6.42955138e-06 1.59286987e-02 1.45832887e-02 1.21017784e-01\n",
      "  4.22185034e-01 4.26278770e-01]\n",
      " [2.18081295e-05 3.43684435e-01 1.41362906e-01 3.13602298e-01\n",
      "  1.36153325e-01 6.51751980e-02]\n",
      " [3.85300609e-06 1.22800851e-02 1.18679479e-02 9.64769050e-02\n",
      "  4.76818234e-01 4.02553022e-01]\n",
      " [2.05123906e-05 6.11173332e-01 1.30856350e-01 1.94682539e-01\n",
      "  4.36156690e-02 1.96516514e-02]\n",
      " [1.72486386e-06 2.27273349e-03 2.03900272e-03 1.90571062e-02\n",
      "  2.38929242e-01 7.37700105e-01]\n",
      " [9.57877000e-06 3.64441946e-02 3.79159935e-02 2.67538100e-01\n",
      "  4.65866268e-01 1.92225888e-01]\n",
      " [1.71729221e-06 1.53036730e-03 1.21141120e-03 1.16539132e-02\n",
      "  1.73672602e-01 8.11929882e-01]\n",
      " [1.63631819e-06 6.85197359e-04 4.70720901e-04 4.43738839e-03\n",
      "  9.55958962e-02 8.98809135e-01]\n",
      " [1.35332366e-05 1.11852065e-01 7.32917860e-02 2.95553535e-01\n",
      "  3.33392799e-01 1.85896292e-01]\n",
      " [1.77678867e-05 7.27810502e-01 1.08257718e-01 1.26406491e-01\n",
      "  2.46785656e-02 1.28289144e-02]\n",
      " [1.71541469e-05 7.17545509e-01 1.05473854e-01 1.32098198e-01\n",
      "  2.84214411e-02 1.64437909e-02]\n",
      " [1.55499474e-05 6.32152796e-01 9.37535763e-02 1.43942997e-01\n",
      "  6.33102432e-02 6.68248609e-02]\n",
      " [1.30902788e-06 7.89160433e-04 2.90763361e-04 2.18817499e-03\n",
      "  5.08198477e-02 9.45910752e-01]\n",
      " [2.00541854e-05 1.47698924e-01 1.19067669e-01 4.62950230e-01\n",
      "  2.15995669e-01 5.42674437e-02]\n",
      " [3.95281586e-06 1.10483468e-02 1.12072453e-02 9.76994932e-02\n",
      "  4.87564981e-01 3.92475992e-01]\n",
      " [1.16434421e-05 8.15118968e-01 6.86727166e-02 7.65384063e-02\n",
      "  1.95331890e-02 2.01250874e-02]\n",
      " [1.91603522e-05 3.42171758e-01 1.30315155e-01 3.18618834e-01\n",
      "  1.39576659e-01 6.92984164e-02]\n",
      " [1.37573934e-05 6.34312034e-01 8.86450112e-02 1.56272277e-01\n",
      "  6.10789321e-02 5.96780106e-02]\n",
      " [1.60965726e-06 1.13641680e-03 8.75136757e-04 7.94465560e-03\n",
      "  1.36274114e-01 8.53768110e-01]\n",
      " [3.45376543e-06 1.15446821e-02 1.06206536e-02 8.38907063e-02\n",
      "  4.57224041e-01 4.36716467e-01]\n",
      " [2.55139935e-06 8.23742058e-03 7.00332318e-03 5.74980937e-02\n",
      "  4.01934713e-01 5.25323927e-01]\n",
      " [7.91437105e-06 8.87582719e-01 4.58614752e-02 4.31340411e-02\n",
      "  9.96780861e-03 1.34460740e-02]\n",
      " [4.64947288e-06 9.04010013e-02 1.61771905e-02 5.51896244e-02\n",
      "  1.65743992e-01 6.72483504e-01]\n",
      " [2.00204940e-05 3.25986773e-01 1.39988542e-01 3.56036037e-01\n",
      "  1.28504932e-01 4.94636819e-02]\n",
      " [5.64992570e-06 2.15766076e-02 1.81996077e-02 1.27591163e-01\n",
      "  4.39539224e-01 3.93087715e-01]\n",
      " [8.26708219e-06 2.95123786e-01 4.24166210e-02 1.13412343e-01\n",
      "  1.66055650e-01 3.82983416e-01]\n",
      " [7.51679545e-06 1.81947723e-01 3.64918970e-02 1.05866134e-01\n",
      "  2.11413428e-01 4.64273304e-01]\n",
      " [2.02766978e-06 4.16510785e-03 3.63396481e-03 3.20385098e-02\n",
      "  3.05296808e-01 6.54863656e-01]\n",
      " [2.02326100e-06 3.46195255e-03 3.23133869e-03 3.22486386e-02\n",
      "  3.31355840e-01 6.29700243e-01]\n",
      " [1.65634390e-06 1.43577904e-02 3.41176428e-03 1.85512044e-02\n",
      "  1.39617667e-01 8.24059963e-01]\n",
      " [1.25796823e-05 8.22552919e-01 7.56295398e-02 7.79151097e-02\n",
      "  1.41156288e-02 9.77421645e-03]\n",
      " [2.87919693e-06 8.68322700e-03 7.50655914e-03 6.75460547e-02\n",
      "  4.37925279e-01 4.78336036e-01]\n",
      " [1.26177770e-06 1.51342805e-03 4.75606270e-04 3.05547449e-03\n",
      "  5.42325303e-02 9.40721691e-01]\n",
      " [2.79202686e-06 7.23994710e-03 7.16725737e-03 6.77536279e-02\n",
      "  4.63590443e-01 4.54245895e-01]\n",
      " [4.50991047e-06 4.49967161e-02 1.48335807e-02 6.38072565e-02\n",
      "  2.31178790e-01 6.45179152e-01]]\n"
     ]
    }
   ],
   "source": [
    "print(check_predict)"
   ]
  },
  {
   "cell_type": "code",
   "execution_count": 37,
   "id": "918f024f",
   "metadata": {},
   "outputs": [
    {
     "data": {
      "text/plain": [
       "array([1, 1, 1, 1, 1, 1, 1, 1, 3, 1, 1, 1, 1, 3, 1, 1, 1, 1, 1, 3, 1, 1,\n",
       "       1, 1, 1, 1, 1, 1, 1, 1, 1, 1, 3, 1, 1, 1, 1, 1, 5, 1, 1, 3, 1, 1,\n",
       "       1, 3, 3, 1, 3, 1, 1, 4, 4, 4, 1, 1, 3, 5, 1, 1, 1, 5, 3, 5, 3, 5,\n",
       "       1, 4, 1, 5, 4, 5, 5, 4, 1, 1, 1, 5, 3, 4, 1, 1, 1, 5, 4, 5, 1, 5,\n",
       "       3, 4, 5, 5, 5, 5, 5, 1, 5, 5, 4, 5], dtype=int64)"
      ]
     },
     "execution_count": 37,
     "metadata": {},
     "output_type": "execute_result"
    }
   ],
   "source": [
    "check_predict_class = check_predict.argmax(axis=1)\n",
    "check_predict_class"
   ]
  },
  {
   "cell_type": "code",
   "execution_count": 38,
   "id": "819395e0",
   "metadata": {},
   "outputs": [
    {
     "name": "stderr",
     "output_type": "stream",
     "text": [
      "C:\\Users\\t.fourtouill\\Anaconda3\\lib\\site-packages\\seaborn\\_decorators.py:36: FutureWarning: Pass the following variable as a keyword arg: x. From version 0.12, the only valid positional argument will be `data`, and passing other arguments without an explicit keyword will result in an error or misinterpretation.\n",
      "  warnings.warn(\n"
     ]
    },
    {
     "data": {
      "image/png": "[encoded data removed]",
      "text/plain": [
       "<Figure size 432x288 with 1 Axes>"
      ]
     },
     "metadata": {
      "needs_background": "light"
     },
     "output_type": "display_data"
    }
   ],
   "source": [
    "sns.countplot(check_predict_class);"
   ]
  },
  {
   "cell_type": "code",
   "execution_count": 39,
   "id": "438bcba6",
   "metadata": {},
   "outputs": [
    {
     "data": {
      "text/html": [
       "<div>\n",
       "<style scoped>\n",
       "    .dataframe tbody tr th:only-of-type {\n",
       "        vertical-align: middle;\n",
       "    }\n",
       "\n",
       "    .dataframe tbody tr th {\n",
       "        vertical-align: top;\n",
       "    }\n",
       "\n",
       "    .dataframe thead th {\n",
       "        text-align: right;\n",
       "    }\n",
       "</style>\n",
       "<table border=\"1\" class=\"dataframe\">\n",
       "  <thead>\n",
       "    <tr style=\"text-align: right;\">\n",
       "      <th></th>\n",
       "      <th>commentaire</th>\n",
       "      <th>note</th>\n",
       "      <th>prediction</th>\n",
       "    </tr>\n",
       "  </thead>\n",
       "  <tbody>\n",
       "    <tr>\n",
       "      <th>0</th>\n",
       "      <td>MENZZONous aimerions savoir pourquoi vous ne retournez pas l'argent de vos clients et vous continuez à trouver des excuses à ce sujet. Les personnes qui donnent leur avis sur les réseaux sociaux vous bloqueront et leurs mails ne recevront pas de réponse. Pensez-vous que c'est normal?</td>\n",
       "      <td>1</td>\n",
       "      <td>1</td>\n",
       "    </tr>\n",
       "    <tr>\n",
       "      <th>1</th>\n",
       "      <td>Voulant acheter un pare soleil  de marque pour mon appareil photo le prix étant de 28 € environ quel a pas était ma surprise de voir ce prix  grimper  à 45 € en l'espace  de 5 mn et tous ça  sur le site Amazon y a t'il d'autres  personnes à qui cela est  arrivé , je serai curieux  de  lire vos témoignages  ( pratiques de voyous)</td>\n",
       "      <td>1</td>\n",
       "      <td>1</td>\n",
       "    </tr>\n",
       "    <tr>\n",
       "      <th>2</th>\n",
       "      <td>Comment souvent problème d'envoi ou réception de marchandise biensure service client au téléphone ce n est pas leur faute c est les gens de l emballage belle esprit d équipe je ne commanderai plus chez vous</td>\n",
       "      <td>1</td>\n",
       "      <td>1</td>\n",
       "    </tr>\n",
       "    <tr>\n",
       "      <th>3</th>\n",
       "      <td>L’arnaque des livreurs qui ne respectent pas les instructions des livraison, laissent le clos n’importe où le marquent livres alors qu ils ont pas livres! Le service client à part dire ; on va faire remonter l’info et ouvrir une enquête », ne fait rien! Avec l’argent qu engrange Amazon il s’agirait de s entourer de livreurs fiables !!</td>\n",
       "      <td>1</td>\n",
       "      <td>1</td>\n",
       "    </tr>\n",
       "    <tr>\n",
       "      <th>4</th>\n",
       "      <td>J’ai commandé un article très cher qui est supposé être neuf. A ma surprise en recevant le colis l l’article semble déjà ouvert/voir même déjà utilisé, le carton de l’article était déchiré.. étant la grosse somme que j’ai dépensé sur cet article je ne peux accepter de recevoir du reconditionné au prix du neuf. En demandant le retour Amazon refuse de me rembourser sur carte bancaire mais plutôt uniquement par avoir et ça c’est absurde car c’est pas de ma faute c’est la faute à Amazon, d’ailleurs pourquoi m’obliger à consommer par force une telle grosse somme sur leur site, moi je veux pas d’avoir je veux mon argent sur mon compte bancaire !!!! J’ai commencé les démarches pour ouvrir un contentieux contre Amazon !</td>\n",
       "      <td>1</td>\n",
       "      <td>1</td>\n",
       "    </tr>\n",
       "  </tbody>\n",
       "</table>\n",
       "</div>"
      ],
      "text/plain": [
       "                                                                                                                                                                                                                                                                                                                                                                                                                                                                                                                                                                                                                                                                                                                                         commentaire  \\\n",
       "0                                                                                                                                                                                                                                                                                                                                                                                                                                                       MENZZONous aimerions savoir pourquoi vous ne retournez pas l'argent de vos clients et vous continuez à trouver des excuses à ce sujet. Les personnes qui donnent leur avis sur les réseaux sociaux vous bloqueront et leurs mails ne recevront pas de réponse. Pensez-vous que c'est normal?   \n",
       "1                                                                                                                                                                                                                                                                                                                                                                                                         Voulant acheter un pare soleil  de marque pour mon appareil photo le prix étant de 28 € environ quel a pas était ma surprise de voir ce prix  grimper  à 45 € en l'espace  de 5 mn et tous ça  sur le site Amazon y a t'il d'autres  personnes à qui cela est  arrivé , je serai curieux  de  lire vos témoignages  ( pratiques de voyous)   \n",
       "2                                                                                                                                                                                                                                                                                                                                                                                                                                                                                                                                     Comment souvent problème d'envoi ou réception de marchandise biensure service client au téléphone ce n est pas leur faute c est les gens de l emballage belle esprit d équipe je ne commanderai plus chez vous   \n",
       "3                                                                                                                                                                                                                                                                                                                                                                                                   L’arnaque des livreurs qui ne respectent pas les instructions des livraison, laissent le clos n’importe où le marquent livres alors qu ils ont pas livres! Le service client à part dire ; on va faire remonter l’info et ouvrir une enquête », ne fait rien! Avec l’argent qu engrange Amazon il s’agirait de s entourer de livreurs fiables !!   \n",
       "4  J’ai commandé un article très cher qui est supposé être neuf. A ma surprise en recevant le colis l l’article semble déjà ouvert/voir même déjà utilisé, le carton de l’article était déchiré.. étant la grosse somme que j’ai dépensé sur cet article je ne peux accepter de recevoir du reconditionné au prix du neuf. En demandant le retour Amazon refuse de me rembourser sur carte bancaire mais plutôt uniquement par avoir et ça c’est absurde car c’est pas de ma faute c’est la faute à Amazon, d’ailleurs pourquoi m’obliger à consommer par force une telle grosse somme sur leur site, moi je veux pas d’avoir je veux mon argent sur mon compte bancaire !!!! J’ai commencé les démarches pour ouvrir un contentieux contre Amazon !   \n",
       "\n",
       "   note  prediction  \n",
       "0     1           1  \n",
       "1     1           1  \n",
       "2     1           1  \n",
       "3     1           1  \n",
       "4     1           1  "
      ]
     },
     "execution_count": 39,
     "metadata": {},
     "output_type": "execute_result"
    }
   ],
   "source": [
    "# comparaison des prédictions et des notes du jeu de test\n",
    "check_df = pd.DataFrame(list(zip(df_test.commentaire, df_test.note, check_predict_class)), columns=['commentaire', 'note', 'prediction'])\n",
    "check_df.head()"
   ]
  },
  {
   "cell_type": "code",
   "execution_count": 40,
   "id": "11ec7bbb",
   "metadata": {},
   "outputs": [
    {
     "name": "stdout",
     "output_type": "stream",
     "text": [
      "              precision    recall  f1-score   support\n",
      "\n",
      "           1       0.71      0.84      0.77      1984\n",
      "           2       0.00      0.00      0.00       485\n",
      "           3       0.34      0.35      0.35      1096\n",
      "           4       0.45      0.23      0.31      3567\n",
      "           5       0.78      0.92      0.84      9756\n",
      "\n",
      "    accuracy                           0.70     16888\n",
      "   macro avg       0.45      0.47      0.45     16888\n",
      "weighted avg       0.65      0.70      0.66     16888\n",
      "\n"
     ]
    },
    {
     "name": "stderr",
     "output_type": "stream",
     "text": [
      "C:\\Users\\t.fourtouill\\Anaconda3\\lib\\site-packages\\sklearn\\metrics\\_classification.py:1327: UndefinedMetricWarning: Precision and F-score are ill-defined and being set to 0.0 in labels with no predicted samples. Use `zero_division` parameter to control this behavior.\n",
      "  _warn_prf(average, modifier, msg_start, len(result))\n",
      "C:\\Users\\t.fourtouill\\Anaconda3\\lib\\site-packages\\sklearn\\metrics\\_classification.py:1327: UndefinedMetricWarning: Precision and F-score are ill-defined and being set to 0.0 in labels with no predicted samples. Use `zero_division` parameter to control this behavior.\n",
      "  _warn_prf(average, modifier, msg_start, len(result))\n",
      "C:\\Users\\t.fourtouill\\Anaconda3\\lib\\site-packages\\sklearn\\metrics\\_classification.py:1327: UndefinedMetricWarning: Precision and F-score are ill-defined and being set to 0.0 in labels with no predicted samples. Use `zero_division` parameter to control this behavior.\n",
      "  _warn_prf(average, modifier, msg_start, len(result))\n"
     ]
    },
    {
     "data": {
      "text/html": [
       "<div>\n",
       "<style scoped>\n",
       "    .dataframe tbody tr th:only-of-type {\n",
       "        vertical-align: middle;\n",
       "    }\n",
       "\n",
       "    .dataframe tbody tr th {\n",
       "        vertical-align: top;\n",
       "    }\n",
       "\n",
       "    .dataframe thead th {\n",
       "        text-align: right;\n",
       "    }\n",
       "</style>\n",
       "<table border=\"1\" class=\"dataframe\">\n",
       "  <thead>\n",
       "    <tr style=\"text-align: right;\">\n",
       "      <th>predictions</th>\n",
       "      <th>1</th>\n",
       "      <th>3</th>\n",
       "      <th>4</th>\n",
       "      <th>5</th>\n",
       "    </tr>\n",
       "    <tr>\n",
       "      <th>données réelles</th>\n",
       "      <th></th>\n",
       "      <th></th>\n",
       "      <th></th>\n",
       "      <th></th>\n",
       "    </tr>\n",
       "  </thead>\n",
       "  <tbody>\n",
       "    <tr>\n",
       "      <th>1</th>\n",
       "      <td>1665</td>\n",
       "      <td>212</td>\n",
       "      <td>63</td>\n",
       "      <td>44</td>\n",
       "    </tr>\n",
       "    <tr>\n",
       "      <th>2</th>\n",
       "      <td>250</td>\n",
       "      <td>144</td>\n",
       "      <td>66</td>\n",
       "      <td>25</td>\n",
       "    </tr>\n",
       "    <tr>\n",
       "      <th>3</th>\n",
       "      <td>244</td>\n",
       "      <td>386</td>\n",
       "      <td>297</td>\n",
       "      <td>169</td>\n",
       "    </tr>\n",
       "    <tr>\n",
       "      <th>4</th>\n",
       "      <td>109</td>\n",
       "      <td>288</td>\n",
       "      <td>828</td>\n",
       "      <td>2342</td>\n",
       "    </tr>\n",
       "    <tr>\n",
       "      <th>5</th>\n",
       "      <td>92</td>\n",
       "      <td>101</td>\n",
       "      <td>600</td>\n",
       "      <td>8963</td>\n",
       "    </tr>\n",
       "  </tbody>\n",
       "</table>\n",
       "</div>"
      ],
      "text/plain": [
       "predictions         1    3    4     5\n",
       "données réelles                      \n",
       "1                1665  212   63    44\n",
       "2                 250  144   66    25\n",
       "3                 244  386  297   169\n",
       "4                 109  288  828  2342\n",
       "5                  92  101  600  8963"
      ]
     },
     "metadata": {},
     "output_type": "display_data"
    },
    {
     "name": "stdout",
     "output_type": "stream",
     "text": [
      "              precision    recall  f1-score   support\n",
      "\n",
      "           1       0.30      0.85      0.44        20\n",
      "           2       0.00      0.00      0.00        20\n",
      "           3       0.38      0.25      0.30        20\n",
      "           4       0.40      0.20      0.27        20\n",
      "           5       0.55      0.55      0.55        20\n",
      "\n",
      "    accuracy                           0.37       100\n",
      "   macro avg       0.33      0.37      0.31       100\n",
      "weighted avg       0.33      0.37      0.31       100\n",
      "\n"
     ]
    },
    {
     "name": "stderr",
     "output_type": "stream",
     "text": [
      "C:\\Users\\t.fourtouill\\Anaconda3\\lib\\site-packages\\sklearn\\metrics\\_classification.py:1327: UndefinedMetricWarning: Precision and F-score are ill-defined and being set to 0.0 in labels with no predicted samples. Use `zero_division` parameter to control this behavior.\n",
      "  _warn_prf(average, modifier, msg_start, len(result))\n",
      "C:\\Users\\t.fourtouill\\Anaconda3\\lib\\site-packages\\sklearn\\metrics\\_classification.py:1327: UndefinedMetricWarning: Precision and F-score are ill-defined and being set to 0.0 in labels with no predicted samples. Use `zero_division` parameter to control this behavior.\n",
      "  _warn_prf(average, modifier, msg_start, len(result))\n",
      "C:\\Users\\t.fourtouill\\Anaconda3\\lib\\site-packages\\sklearn\\metrics\\_classification.py:1327: UndefinedMetricWarning: Precision and F-score are ill-defined and being set to 0.0 in labels with no predicted samples. Use `zero_division` parameter to control this behavior.\n",
      "  _warn_prf(average, modifier, msg_start, len(result))\n"
     ]
    },
    {
     "data": {
      "text/html": [
       "<div>\n",
       "<style scoped>\n",
       "    .dataframe tbody tr th:only-of-type {\n",
       "        vertical-align: middle;\n",
       "    }\n",
       "\n",
       "    .dataframe tbody tr th {\n",
       "        vertical-align: top;\n",
       "    }\n",
       "\n",
       "    .dataframe thead th {\n",
       "        text-align: right;\n",
       "    }\n",
       "</style>\n",
       "<table border=\"1\" class=\"dataframe\">\n",
       "  <thead>\n",
       "    <tr style=\"text-align: right;\">\n",
       "      <th>predictions</th>\n",
       "      <th>1</th>\n",
       "      <th>3</th>\n",
       "      <th>4</th>\n",
       "      <th>5</th>\n",
       "    </tr>\n",
       "    <tr>\n",
       "      <th>données réelles</th>\n",
       "      <th></th>\n",
       "      <th></th>\n",
       "      <th></th>\n",
       "      <th></th>\n",
       "    </tr>\n",
       "  </thead>\n",
       "  <tbody>\n",
       "    <tr>\n",
       "      <th>1</th>\n",
       "      <td>17</td>\n",
       "      <td>3</td>\n",
       "      <td>0</td>\n",
       "      <td>0</td>\n",
       "    </tr>\n",
       "    <tr>\n",
       "      <th>2</th>\n",
       "      <td>18</td>\n",
       "      <td>1</td>\n",
       "      <td>0</td>\n",
       "      <td>1</td>\n",
       "    </tr>\n",
       "    <tr>\n",
       "      <th>3</th>\n",
       "      <td>11</td>\n",
       "      <td>5</td>\n",
       "      <td>3</td>\n",
       "      <td>1</td>\n",
       "    </tr>\n",
       "    <tr>\n",
       "      <th>4</th>\n",
       "      <td>6</td>\n",
       "      <td>3</td>\n",
       "      <td>4</td>\n",
       "      <td>7</td>\n",
       "    </tr>\n",
       "    <tr>\n",
       "      <th>5</th>\n",
       "      <td>5</td>\n",
       "      <td>1</td>\n",
       "      <td>3</td>\n",
       "      <td>11</td>\n",
       "    </tr>\n",
       "  </tbody>\n",
       "</table>\n",
       "</div>"
      ],
      "text/plain": [
       "predictions       1  3  4   5\n",
       "données réelles              \n",
       "1                17  3  0   0\n",
       "2                18  1  0   1\n",
       "3                11  5  3   1\n",
       "4                 6  3  4   7\n",
       "5                 5  1  3  11"
      ]
     },
     "metadata": {},
     "output_type": "display_data"
    },
    {
     "data": {
      "text/html": [
       "<div>\n",
       "<style scoped>\n",
       "    .dataframe tbody tr th:only-of-type {\n",
       "        vertical-align: middle;\n",
       "    }\n",
       "\n",
       "    .dataframe tbody tr th {\n",
       "        vertical-align: top;\n",
       "    }\n",
       "\n",
       "    .dataframe thead th {\n",
       "        text-align: right;\n",
       "    }\n",
       "</style>\n",
       "<table border=\"1\" class=\"dataframe\">\n",
       "  <thead>\n",
       "    <tr style=\"text-align: right;\">\n",
       "      <th>predictions</th>\n",
       "      <th>1</th>\n",
       "      <th>3</th>\n",
       "      <th>4</th>\n",
       "      <th>5</th>\n",
       "    </tr>\n",
       "    <tr>\n",
       "      <th>données réelles</th>\n",
       "      <th></th>\n",
       "      <th></th>\n",
       "      <th></th>\n",
       "      <th></th>\n",
       "    </tr>\n",
       "  </thead>\n",
       "  <tbody>\n",
       "    <tr>\n",
       "      <th>1</th>\n",
       "      <td>0.85</td>\n",
       "      <td>0.15</td>\n",
       "      <td>0.00</td>\n",
       "      <td>0.00</td>\n",
       "    </tr>\n",
       "    <tr>\n",
       "      <th>2</th>\n",
       "      <td>0.90</td>\n",
       "      <td>0.05</td>\n",
       "      <td>0.00</td>\n",
       "      <td>0.05</td>\n",
       "    </tr>\n",
       "    <tr>\n",
       "      <th>3</th>\n",
       "      <td>0.55</td>\n",
       "      <td>0.25</td>\n",
       "      <td>0.15</td>\n",
       "      <td>0.05</td>\n",
       "    </tr>\n",
       "    <tr>\n",
       "      <th>4</th>\n",
       "      <td>0.30</td>\n",
       "      <td>0.15</td>\n",
       "      <td>0.20</td>\n",
       "      <td>0.35</td>\n",
       "    </tr>\n",
       "    <tr>\n",
       "      <th>5</th>\n",
       "      <td>0.25</td>\n",
       "      <td>0.05</td>\n",
       "      <td>0.15</td>\n",
       "      <td>0.55</td>\n",
       "    </tr>\n",
       "  </tbody>\n",
       "</table>\n",
       "</div>"
      ],
      "text/plain": [
       "predictions         1     3     4     5\n",
       "données réelles                        \n",
       "1                0.85  0.15  0.00  0.00\n",
       "2                0.90  0.05  0.00  0.05\n",
       "3                0.55  0.25  0.15  0.05\n",
       "4                0.30  0.15  0.20  0.35\n",
       "5                0.25  0.05  0.15  0.55"
      ]
     },
     "metadata": {},
     "output_type": "display_data"
    },
    {
     "name": "stdout",
     "output_type": "stream",
     "text": [
      "les prédictions correctes sont supérieures à 50% pour 1 étoile(s) avec 85%\n",
      "les prédictions correctes sont supérieures à 50% pour 5 étoile(s) avec 55%\n"
     ]
    }
   ],
   "source": [
    "from sklearn.metrics import classification_report\n",
    "\n",
    "cr = classification_report(y_test, predict_cdiscount_class)\n",
    "print(cr)\n",
    "\n",
    "cm = pd.crosstab(y_test, predict_cdiscount_class, rownames=['données réelles'], colnames=['predictions'])\n",
    "display(cm)\n",
    "\n",
    "# vérification des résultats sur un jeu de test externe (100 commentaires amazon également répartis entre les étoiles)\n",
    "\n",
    "cm_test = classification_report(df_test.note, check_predict_class)\n",
    "print(cm_test)\n",
    "\n",
    "cm_test2 = pd.crosstab(df_test.note, check_predict_class, rownames=['données réelles'], colnames=['predictions'])\n",
    "display(cm_test2)\n",
    "\n",
    "cm_test3 = pd.crosstab(df_test.note, check_predict_class, rownames=['données réelles'], colnames=['predictions'], normalize=0)\n",
    "display(cm_test3)\n",
    "\n",
    "for i in cm_test3.index:\n",
    "    for j in cm_test3.columns :\n",
    "        if (i==j and cm_test3.loc[i, j] > 0.5) :\n",
    "            print(\"les prédictions correctes sont supérieures à 50% pour {} étoile(s) avec {:0.0%}\".format(i, cm_test3.loc[i, j]))"
   ]
  },
  {
   "cell_type": "code",
   "execution_count": 41,
   "id": "8b6366a5",
   "metadata": {},
   "outputs": [
    {
     "name": "stderr",
     "output_type": "stream",
     "text": [
      "WARNING:absl:Found untraced functions such as lstm_cell_layer_call_fn, lstm_cell_layer_call_and_return_conditional_losses while saving (showing 2 of 2). These functions will not be directly callable after loading.\n"
     ]
    },
    {
     "name": "stdout",
     "output_type": "stream",
     "text": [
      "INFO:tensorflow:Assets written to: datasets/SatisfactionClients/model_embedding4\\assets\n"
     ]
    },
    {
     "name": "stderr",
     "output_type": "stream",
     "text": [
      "INFO:tensorflow:Assets written to: datasets/SatisfactionClients/model_embedding4\\assets\n",
      "WARNING:absl:<keras.layers.recurrent.LSTMCell object at 0x0000026DF7ABA340> has the same name 'LSTMCell' as a built-in Keras object. Consider renaming <class 'keras.layers.recurrent.LSTMCell'> to avoid naming conflicts when loading with `tf.keras.models.load_model`. If renaming is not possible, pass the object in the `custom_objects` parameter of the load function.\n"
     ]
    }
   ],
   "source": [
    "import os\n",
    "path = \"/Users/t.fourtouill/Downloads/SatisfactionClients\"\n",
    "os.makedirs(path, exist_ok=True)\n",
    "model_embedding_1.save('datasets/SatisfactionClients/model_embedding4')"
   ]
  },
  {
   "cell_type": "markdown",
   "id": "30cfae91",
   "metadata": {},
   "source": [
    "### Evaluation sur 2 sentiments : négatif et positif"
   ]
  },
  {
   "cell_type": "markdown",
   "id": "f39073d9",
   "metadata": {},
   "source": [
    "* Le DataSet cdiscount a été retraité en renommant, les notes 1 et 2 en 0, les notes 4 et 5 en 1 et en supprimant les notes 3\n",
    "* Le but étant d'isoler de manière moins complexe les sentiments négatifs et les sentiments positifs et ainsi améliorer la qualité du résultat prédit"
   ]
  },
  {
   "cell_type": "code",
   "execution_count": 42,
   "id": "f997fc40",
   "metadata": {},
   "outputs": [],
   "source": [
    "df_0_1 = pd.read_csv('datasets/SatisfactionClients/cdiscount_0_1.csv')\n",
    "df_test_0_1 = pd.read_csv('datasets/SatisfactionClients/amazon_test1.csv')"
   ]
  },
  {
   "cell_type": "code",
   "execution_count": 43,
   "id": "f3d47f3c",
   "metadata": {},
   "outputs": [
    {
     "name": "stderr",
     "output_type": "stream",
     "text": [
      "C:\\Users\\t.fourtouill\\Anaconda3\\lib\\site-packages\\seaborn\\_decorators.py:36: FutureWarning: Pass the following variable as a keyword arg: x. From version 0.12, the only valid positional argument will be `data`, and passing other arguments without an explicit keyword will result in an error or misinterpretation.\n",
      "  warnings.warn(\n"
     ]
    },
    {
     "data": {
      "image/png": "[encoded data removed]",
      "text/plain": [
       "<Figure size 288x144 with 1 Axes>"
      ]
     },
     "metadata": {
      "needs_background": "light"
     },
     "output_type": "display_data"
    }
   ],
   "source": [
    "plt.figure(figsize=(4, 2))\n",
    "sns.countplot(df_0_1['note'])\n",
    "plt.show();"
   ]
  },
  {
   "cell_type": "code",
   "execution_count": 44,
   "id": "84544d53",
   "metadata": {},
   "outputs": [
    {
     "name": "stderr",
     "output_type": "stream",
     "text": [
      "C:\\Users\\t.fourtouill\\Anaconda3\\lib\\site-packages\\seaborn\\_decorators.py:36: FutureWarning: Pass the following variable as a keyword arg: x. From version 0.12, the only valid positional argument will be `data`, and passing other arguments without an explicit keyword will result in an error or misinterpretation.\n",
      "  warnings.warn(\n"
     ]
    },
    {
     "data": {
      "image/png": "[encoded data removed]",
      "text/plain": [
       "<Figure size 432x216 with 1 Axes>"
      ]
     },
     "metadata": {
      "needs_background": "light"
     },
     "output_type": "display_data"
    }
   ],
   "source": [
    "plt.figure(figsize=(6, 3))\n",
    "sns.countplot(df_test_0_1['note'])\n",
    "plt.show();"
   ]
  },
  {
   "cell_type": "code",
   "execution_count": 45,
   "id": "b8e99021",
   "metadata": {},
   "outputs": [
    {
     "data": {
      "text/plain": [
       "note            0\n",
       "commentaire    46\n",
       "dtype: int64"
      ]
     },
     "execution_count": 45,
     "metadata": {},
     "output_type": "execute_result"
    }
   ],
   "source": [
    "df_0_1.isna().sum()"
   ]
  },
  {
   "cell_type": "code",
   "execution_count": 46,
   "id": "0beee64a",
   "metadata": {},
   "outputs": [
    {
     "name": "stderr",
     "output_type": "stream",
     "text": [
      "C:\\Users\\t.fourtouill\\Anaconda3\\lib\\site-packages\\seaborn\\_decorators.py:36: FutureWarning: Pass the following variable as a keyword arg: x. From version 0.12, the only valid positional argument will be `data`, and passing other arguments without an explicit keyword will result in an error or misinterpretation.\n",
      "  warnings.warn(\n"
     ]
    },
    {
     "data": {
      "image/png": "[encoded data removed]",
      "text/plain": [
       "<Figure size 288x144 with 1 Axes>"
      ]
     },
     "metadata": {
      "needs_background": "light"
     },
     "output_type": "display_data"
    }
   ],
   "source": [
    "df_0_1 = df_0_1[df_0_1['commentaire'].isna()==False]\n",
    "df_0_1 = df_0_1[df_0_1['note']!=3]\n",
    "df_0_1['note'] = df_0_1['note'].replace({'1' : '0', '2' : '0', '4' : '1', '5' : '1'})\n",
    "\n",
    "plt.figure(figsize=(4, 2))\n",
    "sns.countplot(df_0_1['note'])\n",
    "plt.show();"
   ]
  },
  {
   "cell_type": "code",
   "execution_count": 47,
   "id": "6e0b6797",
   "metadata": {},
   "outputs": [
    {
     "name": "stderr",
     "output_type": "stream",
     "text": [
      "C:\\Users\\t.fourtouill\\Anaconda3\\lib\\site-packages\\seaborn\\_decorators.py:36: FutureWarning: Pass the following variable as a keyword arg: x. From version 0.12, the only valid positional argument will be `data`, and passing other arguments without an explicit keyword will result in an error or misinterpretation.\n",
      "  warnings.warn(\n"
     ]
    },
    {
     "data": {
      "image/png": "[encoded data removed]",
      "text/plain": [
       "<Figure size 288x144 with 1 Axes>"
      ]
     },
     "metadata": {
      "needs_background": "light"
     },
     "output_type": "display_data"
    }
   ],
   "source": [
    "df_test_0_1 = df_test_0_1.drop(columns=['Unnamed: 0'])\n",
    "df_test_0_1 = df_test_0_1[df_test_0_1['commentaire'].isna()==False]\n",
    "df_test_0_1 = df_test_0_1[df_test_0_1['note']!=3]\n",
    "df_test_0_1['note'] = df_test_0_1['note'].replace({1 : 0, 2 : 0, 4 : 1, 5 : 1})\n",
    "\n",
    "plt.figure(figsize=(4, 2))\n",
    "sns.countplot(df_test_0_1['note'])\n",
    "plt.show();"
   ]
  },
  {
   "cell_type": "code",
   "execution_count": 48,
   "id": "556cf49a",
   "metadata": {},
   "outputs": [],
   "source": [
    "# séparation de la variable cible et des variables explicatives\n",
    "X1 = df_0_1['commentaire']\n",
    "y1 = df_0_1['note']"
   ]
  },
  {
   "cell_type": "code",
   "execution_count": 49,
   "id": "5948816d",
   "metadata": {},
   "outputs": [],
   "source": [
    "# séparation du jeu de données en un dataset d'entrainement et un dataset de test\n",
    "from sklearn.model_selection import train_test_split\n",
    "X_train1, X_test1, y_train1, y_test1 = train_test_split(X1, y1, test_size=0.2, shuffle=True)"
   ]
  },
  {
   "cell_type": "code",
   "execution_count": 50,
   "id": "7ca17414",
   "metadata": {},
   "outputs": [],
   "source": [
    "# entrainement de la tokenisation sur le X_train\n",
    "tk.fit_on_texts(X_train1)"
   ]
  },
  {
   "cell_type": "code",
   "execution_count": 51,
   "id": "5d99c6d6",
   "metadata": {},
   "outputs": [
    {
     "data": {
      "text/plain": [
       "39125"
      ]
     },
     "execution_count": 51,
     "metadata": {},
     "output_type": "execute_result"
    }
   ],
   "source": [
    "# nb de ligne de la matrice\n",
    "word_index = tk.word_index\n",
    "len(tk.word_index)"
   ]
  },
  {
   "cell_type": "code",
   "execution_count": 52,
   "id": "02810943",
   "metadata": {},
   "outputs": [
    {
     "data": {
      "text/plain": [
       "5000"
      ]
     },
     "execution_count": 52,
     "metadata": {},
     "output_type": "execute_result"
    }
   ],
   "source": [
    "# nb de colonnes dans la matrice\n",
    "vocabulary_size = tk.num_words\n",
    "vocabulary_size"
   ]
  },
  {
   "cell_type": "code",
   "execution_count": 53,
   "id": "667aec1f",
   "metadata": {},
   "outputs": [],
   "source": [
    "# mise sous vecteur des commentaires\n",
    "X_seq_train1 = tk.texts_to_sequences(X_train1)\n",
    "X_seq_test1 = tk.texts_to_sequences(X_test1)"
   ]
  },
  {
   "cell_type": "code",
   "execution_count": 54,
   "id": "ba6f42a1",
   "metadata": {},
   "outputs": [
    {
     "name": "stdout",
     "output_type": "stream",
     "text": [
      "[11, 3, 92, 30, 201]\n",
      "[51, 197, 873, 494]\n",
      "[5, 12, 1520, 41]\n",
      "[14, 13, 5, 38, 92, 2385]\n",
      "[108, 19, 67, 7, 32]\n"
     ]
    }
   ],
   "source": [
    "# affichage de la vectorisation réalisée\n",
    "for x in range(0,5):\n",
    "    print(X_seq_train1[x])"
   ]
  },
  {
   "cell_type": "code",
   "execution_count": 55,
   "id": "d21b6c6e",
   "metadata": {},
   "outputs": [],
   "source": [
    "# transformation en matrice de même longueur par maxlen défini ci-dessous. Avec des 0 si colonne inférieure à maxlen\n",
    "max_words = 130\n",
    "X_pad_train1 = pad_sequences(X_seq_train1, maxlen=max_words, padding='post')\n",
    "X_pad_test1 = pad_sequences(X_seq_test1, maxlen=max_words, padding='post')"
   ]
  },
  {
   "cell_type": "code",
   "execution_count": 56,
   "id": "1d505b13",
   "metadata": {},
   "outputs": [
    {
     "name": "stdout",
     "output_type": "stream",
     "text": [
      "(63065, 130)\n"
     ]
    },
    {
     "data": {
      "text/plain": [
       "array([[  11,    3,   92, ...,    0,    0,    0],\n",
       "       [  51,  197,  873, ...,    0,    0,    0],\n",
       "       [   5,   12, 1520, ...,    0,    0,    0],\n",
       "       ...,\n",
       "       [  37,   18,   47, ...,    0,    0,    0],\n",
       "       [   3,   94,  198, ...,    0,    0,    0],\n",
       "       [  61,   53,  460, ...,    0,    0,    0]])"
      ]
     },
     "execution_count": 56,
     "metadata": {},
     "output_type": "execute_result"
    }
   ],
   "source": [
    "# affice de la matrice\n",
    "print(X_pad_train1.shape)\n",
    "X_pad_train1"
   ]
  },
  {
   "cell_type": "code",
   "execution_count": 57,
   "id": "aa7ec76d",
   "metadata": {},
   "outputs": [
    {
     "name": "stdout",
     "output_type": "stream",
     "text": [
      "Model: \"sequential_1\"\n",
      "_________________________________________________________________\n",
      " Layer (type)                Output Shape              Param #   \n",
      "=================================================================\n",
      " embedding_1 (Embedding)     (None, 130, 32)           160000    \n",
      "                                                                 \n",
      " lstm_1 (LSTM)               (None, 200)               186400    \n",
      "                                                                 \n",
      " dense_1 (Dense)             (None, 1)                 201       \n",
      "                                                                 \n",
      "=================================================================\n",
      "Total params: 346,601\n",
      "Trainable params: 346,601\n",
      "Non-trainable params: 0\n",
      "_________________________________________________________________\n"
     ]
    }
   ],
   "source": [
    "# Création des couches du modéle\n",
    "\n",
    "from tensorflow.keras.models import Sequential\n",
    "from tensorflow.keras.layers import Dense, GlobalAveragePooling1D, Input, Embedding, Dropout, LSTM\n",
    "\n",
    "embedding_size = 32\n",
    "\n",
    "model_0_1_embedding_1 = Sequential()\n",
    "model_0_1_embedding_1.add(Embedding(input_dim=vocabulary_size, output_dim=embedding_size, input_length=max_words, embeddings_initializer='uniform'))  # On reprend le nb de mot choisi dans la tokenisation\n",
    "model_0_1_embedding_1.add(LSTM(200)) \n",
    "model_0_1_embedding_1.add(Dense(units=1, activation='sigmoid')) # En sortie le nb de units devra correspondre aux nb de variables cibles\n",
    "\n",
    "model_0_1_embedding_1.summary()"
   ]
  },
  {
   "cell_type": "code",
   "execution_count": 58,
   "id": "3e892380",
   "metadata": {},
   "outputs": [],
   "source": [
    "model_0_1_embedding_1.compile(loss='binary_crossentropy', optimizer='adam', metrics=['accuracy'])"
   ]
  },
  {
   "cell_type": "code",
   "execution_count": 59,
   "id": "96b9a68e",
   "metadata": {},
   "outputs": [
    {
     "name": "stdout",
     "output_type": "stream",
     "text": [
      "Epoch 1/10\n",
      "1774/1774 [==============================] - 689s 387ms/step - loss: 0.3978 - accuracy: 0.8500 - val_loss: 0.2145 - val_accuracy: 0.9217\n",
      "Epoch 2/10\n",
      "1774/1774 [==============================] - 1202s 678ms/step - loss: 0.1973 - accuracy: 0.9361 - val_loss: 0.1874 - val_accuracy: 0.9399\n",
      "Epoch 3/10\n",
      "1774/1774 [==============================] - 761s 429ms/step - loss: 0.1425 - accuracy: 0.9512 - val_loss: 0.1279 - val_accuracy: 0.9572\n",
      "Epoch 4/10\n",
      "1774/1774 [==============================] - 610s 344ms/step - loss: 0.1128 - accuracy: 0.9633 - val_loss: 0.1240 - val_accuracy: 0.9575\n",
      "Epoch 5/10\n",
      "1774/1774 [==============================] - 627s 353ms/step - loss: 0.0972 - accuracy: 0.9675 - val_loss: 0.1184 - val_accuracy: 0.9572\n",
      "Epoch 6/10\n",
      "1774/1774 [==============================] - ETA: 0s - loss: 0.0848 - accuracy: 0.9708Restoring model weights from the end of the best epoch: 3.\n",
      "1774/1774 [==============================] - 630s 355ms/step - loss: 0.0848 - accuracy: 0.9708 - val_loss: 0.1193 - val_accuracy: 0.9570\n",
      "Epoch 6: early stopping\n"
     ]
    }
   ],
   "source": [
    "batch_size = 32\n",
    "epochs = 10\n",
    "history_0_1 = model_0_1_embedding_1.fit(X_pad_train1, y_train1, batch_size=batch_size, epochs=epochs, validation_split=0.1,\n",
    "                               callbacks=[early_stop, time_callback])"
   ]
  },
  {
   "cell_type": "code",
   "execution_count": 60,
   "id": "f9c03869",
   "metadata": {},
   "outputs": [
    {
     "name": "stdout",
     "output_type": "stream",
     "text": [
      "493/493 [==============================] - 50s 102ms/step - loss: 0.1361 - accuracy: 0.9508\n"
     ]
    },
    {
     "data": {
      "text/plain": [
       "[0.1361142098903656, 0.9508467316627502]"
      ]
     },
     "execution_count": 60,
     "metadata": {},
     "output_type": "execute_result"
    }
   ],
   "source": [
    "model_0_1_embedding_1.evaluate(X_pad_test1, y_test1, verbose=1)"
   ]
  },
  {
   "cell_type": "markdown",
   "id": "b828c631",
   "metadata": {},
   "source": [
    "### Calcul des prédictions négatives et positives sur le jeu de test cdiscount"
   ]
  },
  {
   "cell_type": "code",
   "execution_count": 61,
   "id": "f5ccbe57",
   "metadata": {},
   "outputs": [
    {
     "name": "stdout",
     "output_type": "stream",
     "text": [
      "493/493 [==============================] - 48s 97ms/step\n"
     ]
    }
   ],
   "source": [
    "# création des prédictions du eu de test cdiscount à partir du modèle\n",
    "predict_cdiscount1 = model_0_1_embedding_1.predict(X_pad_test1, verbose=1)"
   ]
  },
  {
   "cell_type": "code",
   "execution_count": 62,
   "id": "c61b35bd",
   "metadata": {},
   "outputs": [
    {
     "data": {
      "text/plain": [
       "array([[0.9934962 ],\n",
       "       [0.990536  ],\n",
       "       [0.9907414 ],\n",
       "       ...,\n",
       "       [0.9869814 ],\n",
       "       [0.96905565],\n",
       "       [0.98742354]], dtype=float32)"
      ]
     },
     "execution_count": 62,
     "metadata": {},
     "output_type": "execute_result"
    }
   ],
   "source": [
    "predict_cdiscount1"
   ]
  },
  {
   "cell_type": "code",
   "execution_count": 63,
   "id": "2fe07a90",
   "metadata": {},
   "outputs": [
    {
     "data": {
      "text/plain": [
       "array([1, 1, 1, ..., 1, 1, 1])"
      ]
     },
     "execution_count": 63,
     "metadata": {},
     "output_type": "execute_result"
    }
   ],
   "source": [
    "predict_cdiscount_class1 = predict_cdiscount1.round().astype('int').ravel()\n",
    "predict_cdiscount_class1"
   ]
  },
  {
   "cell_type": "code",
   "execution_count": 64,
   "id": "64cd865c",
   "metadata": {},
   "outputs": [
    {
     "name": "stderr",
     "output_type": "stream",
     "text": [
      "C:\\Users\\t.fourtouill\\Anaconda3\\lib\\site-packages\\seaborn\\_decorators.py:36: FutureWarning: Pass the following variable as a keyword arg: x. From version 0.12, the only valid positional argument will be `data`, and passing other arguments without an explicit keyword will result in an error or misinterpretation.\n",
      "  warnings.warn(\n"
     ]
    },
    {
     "data": {
      "image/png": "[encoded data removed]",
      "text/plain": [
       "<Figure size 288x216 with 1 Axes>"
      ]
     },
     "metadata": {
      "needs_background": "light"
     },
     "output_type": "display_data"
    }
   ],
   "source": [
    "plt.figure(figsize=(4, 3))\n",
    "sns.countplot(predict_cdiscount_class1)\n",
    "plt.show();"
   ]
  },
  {
   "cell_type": "markdown",
   "id": "14ed6ff5",
   "metadata": {},
   "source": [
    "### Calcul des prédictions négatives et positives sur le jeu de test amazon"
   ]
  },
  {
   "cell_type": "code",
   "execution_count": null,
   "id": "5ccf1520",
   "metadata": {},
   "outputs": [],
   "source": []
  },
  {
   "cell_type": "code",
   "execution_count": 65,
   "id": "1ed4f2fe",
   "metadata": {},
   "outputs": [],
   "source": [
    "# séparation de la variable cible et des variables explicatives\n",
    "check_set_amazon = df_test_0_1['commentaire'].values"
   ]
  },
  {
   "cell_type": "code",
   "execution_count": 66,
   "id": "3ba91546",
   "metadata": {},
   "outputs": [],
   "source": [
    "# vectorisation des token\n",
    "check_seq_amazon = tk.texts_to_sequences(check_set_amazon)"
   ]
  },
  {
   "cell_type": "code",
   "execution_count": 67,
   "id": "f8a34a06",
   "metadata": {},
   "outputs": [],
   "source": [
    "# mise sous matrice numpy\n",
    "check_pad_amazon = pad_sequences(check_seq_amazon, maxlen=max_words, padding='post')"
   ]
  },
  {
   "cell_type": "code",
   "execution_count": 68,
   "id": "f0032936",
   "metadata": {},
   "outputs": [
    {
     "name": "stdout",
     "output_type": "stream",
     "text": [
      "3/3 [==============================] - 0s 89ms/step\n"
     ]
    }
   ],
   "source": [
    "# création des prédictions du jeu de test amazon à partir du modèle\n",
    "check_predict_0_1 = model_0_1_embedding_1.predict(check_pad_amazon, verbose=1)"
   ]
  },
  {
   "cell_type": "code",
   "execution_count": 69,
   "id": "8f815ae9",
   "metadata": {},
   "outputs": [
    {
     "name": "stdout",
     "output_type": "stream",
     "text": [
      "[0.04601598]\n",
      "[0.22158033]\n",
      "[0.690578]\n",
      "[0.11418858]\n",
      "[0.02394649]\n",
      "[0.02414393]\n",
      "[0.02794385]\n",
      "[0.027937]\n",
      "[0.12008652]\n",
      "[0.0239903]\n"
     ]
    }
   ],
   "source": [
    "for i in range(10):\n",
    "    print(check_predict_0_1[i])"
   ]
  },
  {
   "cell_type": "code",
   "execution_count": 70,
   "id": "dcc62e2e",
   "metadata": {},
   "outputs": [
    {
     "data": {
      "text/plain": [
       "array([0, 0, 1, 0, 0, 0, 0, 0, 0, 0, 0, 0, 0, 1, 0, 0, 0, 0, 0, 0, 0, 0,\n",
       "       0, 0, 1, 0, 0, 0, 0, 1, 0, 0, 1, 0, 0, 1, 0, 0, 1, 0, 0, 1, 1, 1,\n",
       "       0, 1, 1, 1, 0, 1, 1, 1, 1, 1, 0, 0, 1, 1, 1, 1, 0, 0, 0, 1, 1, 1,\n",
       "       0, 1, 0, 1, 0, 1, 1, 1, 1, 0, 1, 1, 1, 0])"
      ]
     },
     "execution_count": 70,
     "metadata": {},
     "output_type": "execute_result"
    }
   ],
   "source": [
    "check_predict_0_1_class = check_predict_0_1.round().astype('int').ravel()\n",
    "check_predict_0_1_class"
   ]
  },
  {
   "cell_type": "code",
   "execution_count": 71,
   "id": "3517deb6",
   "metadata": {},
   "outputs": [
    {
     "name": "stderr",
     "output_type": "stream",
     "text": [
      "C:\\Users\\t.fourtouill\\Anaconda3\\lib\\site-packages\\seaborn\\_decorators.py:36: FutureWarning: Pass the following variable as a keyword arg: x. From version 0.12, the only valid positional argument will be `data`, and passing other arguments without an explicit keyword will result in an error or misinterpretation.\n",
      "  warnings.warn(\n"
     ]
    },
    {
     "data": {
      "image/png": "[encoded data removed]",
      "text/plain": [
       "<Figure size 288x216 with 1 Axes>"
      ]
     },
     "metadata": {
      "needs_background": "light"
     },
     "output_type": "display_data"
    }
   ],
   "source": [
    "plt.figure(figsize=(4, 3))\n",
    "sns.countplot(check_predict_0_1_class)\n",
    "plt.show();"
   ]
  },
  {
   "cell_type": "code",
   "execution_count": 72,
   "id": "494df9a3",
   "metadata": {},
   "outputs": [
    {
     "data": {
      "text/html": [
       "<div>\n",
       "<style scoped>\n",
       "    .dataframe tbody tr th:only-of-type {\n",
       "        vertical-align: middle;\n",
       "    }\n",
       "\n",
       "    .dataframe tbody tr th {\n",
       "        vertical-align: top;\n",
       "    }\n",
       "\n",
       "    .dataframe thead th {\n",
       "        text-align: right;\n",
       "    }\n",
       "</style>\n",
       "<table border=\"1\" class=\"dataframe\">\n",
       "  <thead>\n",
       "    <tr style=\"text-align: right;\">\n",
       "      <th></th>\n",
       "      <th>commentaire</th>\n",
       "      <th>note</th>\n",
       "      <th>prediction</th>\n",
       "    </tr>\n",
       "  </thead>\n",
       "  <tbody>\n",
       "    <tr>\n",
       "      <th>0</th>\n",
       "      <td>MENZZONous aimerions savoir pourquoi vous ne retournez pas l'argent de vos clients et vous continuez à trouver des excuses à ce sujet. Les personnes qui donnent leur avis sur les réseaux sociaux vous bloqueront et leurs mails ne recevront pas de réponse. Pensez-vous que c'est normal?</td>\n",
       "      <td>1</td>\n",
       "      <td>1</td>\n",
       "    </tr>\n",
       "    <tr>\n",
       "      <th>1</th>\n",
       "      <td>Voulant acheter un pare soleil  de marque pour mon appareil photo le prix étant de 28 € environ quel a pas était ma surprise de voir ce prix  grimper  à 45 € en l'espace  de 5 mn et tous ça  sur le site Amazon y a t'il d'autres  personnes à qui cela est  arrivé , je serai curieux  de  lire vos témoignages  ( pratiques de voyous)</td>\n",
       "      <td>1</td>\n",
       "      <td>1</td>\n",
       "    </tr>\n",
       "    <tr>\n",
       "      <th>2</th>\n",
       "      <td>Comment souvent problème d'envoi ou réception de marchandise biensure service client au téléphone ce n est pas leur faute c est les gens de l emballage belle esprit d équipe je ne commanderai plus chez vous</td>\n",
       "      <td>1</td>\n",
       "      <td>1</td>\n",
       "    </tr>\n",
       "    <tr>\n",
       "      <th>3</th>\n",
       "      <td>L’arnaque des livreurs qui ne respectent pas les instructions des livraison, laissent le clos n’importe où le marquent livres alors qu ils ont pas livres! Le service client à part dire ; on va faire remonter l’info et ouvrir une enquête », ne fait rien! Avec l’argent qu engrange Amazon il s’agirait de s entourer de livreurs fiables !!</td>\n",
       "      <td>1</td>\n",
       "      <td>1</td>\n",
       "    </tr>\n",
       "    <tr>\n",
       "      <th>4</th>\n",
       "      <td>J’ai commandé un article très cher qui est supposé être neuf. A ma surprise en recevant le colis l l’article semble déjà ouvert/voir même déjà utilisé, le carton de l’article était déchiré.. étant la grosse somme que j’ai dépensé sur cet article je ne peux accepter de recevoir du reconditionné au prix du neuf. En demandant le retour Amazon refuse de me rembourser sur carte bancaire mais plutôt uniquement par avoir et ça c’est absurde car c’est pas de ma faute c’est la faute à Amazon, d’ailleurs pourquoi m’obliger à consommer par force une telle grosse somme sur leur site, moi je veux pas d’avoir je veux mon argent sur mon compte bancaire !!!! J’ai commencé les démarches pour ouvrir un contentieux contre Amazon !</td>\n",
       "      <td>1</td>\n",
       "      <td>1</td>\n",
       "    </tr>\n",
       "  </tbody>\n",
       "</table>\n",
       "</div>"
      ],
      "text/plain": [
       "                                                                                                                                                                                                                                                                                                                                                                                                                                                                                                                                                                                                                                                                                                                                         commentaire  \\\n",
       "0                                                                                                                                                                                                                                                                                                                                                                                                                                                       MENZZONous aimerions savoir pourquoi vous ne retournez pas l'argent de vos clients et vous continuez à trouver des excuses à ce sujet. Les personnes qui donnent leur avis sur les réseaux sociaux vous bloqueront et leurs mails ne recevront pas de réponse. Pensez-vous que c'est normal?   \n",
       "1                                                                                                                                                                                                                                                                                                                                                                                                         Voulant acheter un pare soleil  de marque pour mon appareil photo le prix étant de 28 € environ quel a pas était ma surprise de voir ce prix  grimper  à 45 € en l'espace  de 5 mn et tous ça  sur le site Amazon y a t'il d'autres  personnes à qui cela est  arrivé , je serai curieux  de  lire vos témoignages  ( pratiques de voyous)   \n",
       "2                                                                                                                                                                                                                                                                                                                                                                                                                                                                                                                                     Comment souvent problème d'envoi ou réception de marchandise biensure service client au téléphone ce n est pas leur faute c est les gens de l emballage belle esprit d équipe je ne commanderai plus chez vous   \n",
       "3                                                                                                                                                                                                                                                                                                                                                                                                   L’arnaque des livreurs qui ne respectent pas les instructions des livraison, laissent le clos n’importe où le marquent livres alors qu ils ont pas livres! Le service client à part dire ; on va faire remonter l’info et ouvrir une enquête », ne fait rien! Avec l’argent qu engrange Amazon il s’agirait de s entourer de livreurs fiables !!   \n",
       "4  J’ai commandé un article très cher qui est supposé être neuf. A ma surprise en recevant le colis l l’article semble déjà ouvert/voir même déjà utilisé, le carton de l’article était déchiré.. étant la grosse somme que j’ai dépensé sur cet article je ne peux accepter de recevoir du reconditionné au prix du neuf. En demandant le retour Amazon refuse de me rembourser sur carte bancaire mais plutôt uniquement par avoir et ça c’est absurde car c’est pas de ma faute c’est la faute à Amazon, d’ailleurs pourquoi m’obliger à consommer par force une telle grosse somme sur leur site, moi je veux pas d’avoir je veux mon argent sur mon compte bancaire !!!! J’ai commencé les démarches pour ouvrir un contentieux contre Amazon !   \n",
       "\n",
       "   note  prediction  \n",
       "0     1           1  \n",
       "1     1           1  \n",
       "2     1           1  \n",
       "3     1           1  \n",
       "4     1           1  "
      ]
     },
     "execution_count": 72,
     "metadata": {},
     "output_type": "execute_result"
    }
   ],
   "source": [
    "# comparaison des prédictions et des notes du jeu de test\n",
    "check_df_0_1 = pd.DataFrame(list(zip(df_test_0_1.commentaire, df_test_0_1.note, check_predict_0_1_class)), columns=['commentaire', 'note', 'prediction'])\n",
    "check_df.head()"
   ]
  },
  {
   "cell_type": "code",
   "execution_count": 73,
   "id": "1965e9a5",
   "metadata": {},
   "outputs": [
    {
     "name": "stdout",
     "output_type": "stream",
     "text": [
      "              precision    recall  f1-score   support\n",
      "\n",
      "           0       0.72      0.82      0.77        40\n",
      "           1       0.79      0.68      0.73        40\n",
      "\n",
      "    accuracy                           0.75        80\n",
      "   macro avg       0.76      0.75      0.75        80\n",
      "weighted avg       0.76      0.75      0.75        80\n",
      "\n"
     ]
    },
    {
     "data": {
      "text/html": [
       "<div>\n",
       "<style scoped>\n",
       "    .dataframe tbody tr th:only-of-type {\n",
       "        vertical-align: middle;\n",
       "    }\n",
       "\n",
       "    .dataframe tbody tr th {\n",
       "        vertical-align: top;\n",
       "    }\n",
       "\n",
       "    .dataframe thead th {\n",
       "        text-align: right;\n",
       "    }\n",
       "</style>\n",
       "<table border=\"1\" class=\"dataframe\">\n",
       "  <thead>\n",
       "    <tr style=\"text-align: right;\">\n",
       "      <th>predictions</th>\n",
       "      <th>0</th>\n",
       "      <th>1</th>\n",
       "    </tr>\n",
       "    <tr>\n",
       "      <th>données réelles</th>\n",
       "      <th></th>\n",
       "      <th></th>\n",
       "    </tr>\n",
       "  </thead>\n",
       "  <tbody>\n",
       "    <tr>\n",
       "      <th>0</th>\n",
       "      <td>33</td>\n",
       "      <td>7</td>\n",
       "    </tr>\n",
       "    <tr>\n",
       "      <th>1</th>\n",
       "      <td>13</td>\n",
       "      <td>27</td>\n",
       "    </tr>\n",
       "  </tbody>\n",
       "</table>\n",
       "</div>"
      ],
      "text/plain": [
       "predictions       0   1\n",
       "données réelles        \n",
       "0                33   7\n",
       "1                13  27"
      ]
     },
     "metadata": {},
     "output_type": "display_data"
    },
    {
     "data": {
      "text/html": [
       "<div>\n",
       "<style scoped>\n",
       "    .dataframe tbody tr th:only-of-type {\n",
       "        vertical-align: middle;\n",
       "    }\n",
       "\n",
       "    .dataframe tbody tr th {\n",
       "        vertical-align: top;\n",
       "    }\n",
       "\n",
       "    .dataframe thead th {\n",
       "        text-align: right;\n",
       "    }\n",
       "</style>\n",
       "<table border=\"1\" class=\"dataframe\">\n",
       "  <thead>\n",
       "    <tr style=\"text-align: right;\">\n",
       "      <th>predictions</th>\n",
       "      <th>0</th>\n",
       "      <th>1</th>\n",
       "    </tr>\n",
       "    <tr>\n",
       "      <th>données réelles</th>\n",
       "      <th></th>\n",
       "      <th></th>\n",
       "    </tr>\n",
       "  </thead>\n",
       "  <tbody>\n",
       "    <tr>\n",
       "      <th>0</th>\n",
       "      <td>0.825</td>\n",
       "      <td>0.175</td>\n",
       "    </tr>\n",
       "    <tr>\n",
       "      <th>1</th>\n",
       "      <td>0.325</td>\n",
       "      <td>0.675</td>\n",
       "    </tr>\n",
       "  </tbody>\n",
       "</table>\n",
       "</div>"
      ],
      "text/plain": [
       "predictions          0      1\n",
       "données réelles              \n",
       "0                0.825  0.175\n",
       "1                0.325  0.675"
      ]
     },
     "metadata": {},
     "output_type": "display_data"
    },
    {
     "name": "stdout",
     "output_type": "stream",
     "text": [
      "les prédictions correctes sont supérieures à 50% pour 0 étoile(s) avec 82%\n",
      "les prédictions correctes sont supérieures à 50% pour 1 étoile(s) avec 68%\n"
     ]
    }
   ],
   "source": [
    "from sklearn.metrics import classification_report\n",
    "\n",
    "# vérification des résultats sur un jeu de test externe (100 commentaires amazon également répartis entre les étoiles)\n",
    "\n",
    "cm_test1_0_1 = classification_report(df_test_0_1.note, check_predict_0_1_class)\n",
    "print(cm_test1_0_1)\n",
    "\n",
    "cm_test2_0_1 = pd.crosstab(df_test_0_1.note, check_predict_0_1_class, rownames=['données réelles'], colnames=['predictions'])\n",
    "display(cm_test2_0_1)\n",
    "\n",
    "cm_test3_0_1 = pd.crosstab(df_test_0_1.note, check_predict_0_1_class, rownames=['données réelles'], colnames=['predictions'], normalize=0)\n",
    "display(cm_test3_0_1)\n",
    "\n",
    "for i in cm_test3_0_1.index:\n",
    "    for j in cm_test3_0_1.columns :\n",
    "        if (i==j and cm_test3_0_1.loc[i, j] > 0.5) :\n",
    "            print(\"les prédictions correctes sont supérieures à 50% pour {} étoile(s) avec {:0.0%}\".format(i, cm_test3_0_1.loc[i, j]))"
   ]
  },
  {
   "cell_type": "code",
   "execution_count": 74,
   "id": "e40ea974",
   "metadata": {},
   "outputs": [
    {
     "name": "stderr",
     "output_type": "stream",
     "text": [
      "WARNING:absl:Found untraced functions such as lstm_cell_1_layer_call_fn, lstm_cell_1_layer_call_and_return_conditional_losses while saving (showing 2 of 2). These functions will not be directly callable after loading.\n"
     ]
    },
    {
     "name": "stdout",
     "output_type": "stream",
     "text": [
      "INFO:tensorflow:Assets written to: datasets/SatisfactionClients/model_0_1_embedding4\\assets\n"
     ]
    },
    {
     "name": "stderr",
     "output_type": "stream",
     "text": [
      "INFO:tensorflow:Assets written to: datasets/SatisfactionClients/model_0_1_embedding4\\assets\n",
      "WARNING:absl:<keras.layers.recurrent.LSTMCell object at 0x0000026D8286D4F0> has the same name 'LSTMCell' as a built-in Keras object. Consider renaming <class 'keras.layers.recurrent.LSTMCell'> to avoid naming conflicts when loading with `tf.keras.models.load_model`. If renaming is not possible, pass the object in the `custom_objects` parameter of the load function.\n"
     ]
    }
   ],
   "source": [
    "import os\n",
    "path = \"/Users/t.fourtouill/Downloads/SatisfactionClients\"\n",
    "os.makedirs(path, exist_ok=True)\n",
    "model_0_1_embedding_1.save('datasets/SatisfactionClients/model_0_1_embedding4')"
   ]
  }
 ],
 "metadata": {
  "kernelspec": {
   "display_name": "Python 3 (ipykernel)",
   "language": "python",
   "name": "python3"
  },
  "language_info": {
   "codemirror_mode": {
    "name": "ipython",
    "version": 3
   },
   "file_extension": ".py",
   "mimetype": "text/x-python",
   "name": "python",
   "nbconvert_exporter": "python",
   "pygments_lexer": "ipython3",
   "version": "3.9.7"
  }
 },
 "nbformat": 4,
 "nbformat_minor": 5
}

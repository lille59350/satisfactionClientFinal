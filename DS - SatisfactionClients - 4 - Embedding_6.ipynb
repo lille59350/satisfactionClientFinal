{
 "cells": [
  {
   "cell_type": "code",
   "execution_count": 149,
   "id": "196d79a4",
   "metadata": {},
   "outputs": [],
   "source": [
    "import pandas as pd\n",
    "import numpy as np\n",
    "import matplotlib.pyplot as plt\n",
    "import seaborn as sns\n",
    "from time import time\n",
    "import itertools\n",
    "import keras\n",
    "import tensorflow"
   ]
  },
  {
   "cell_type": "code",
   "execution_count": 76,
   "id": "6b85a034",
   "metadata": {},
   "outputs": [],
   "source": [
    "pd.options.display.max_colwidth=800\n",
    "pd.set_option('display.max_rows', 500)\n",
    "pd.set_option('display.max_columns', 500)"
   ]
  },
  {
   "cell_type": "code",
   "execution_count": 77,
   "id": "119a889d",
   "metadata": {},
   "outputs": [
    {
     "data": {
      "text/html": [
       "<div>\n",
       "<style scoped>\n",
       "    .dataframe tbody tr th:only-of-type {\n",
       "        vertical-align: middle;\n",
       "    }\n",
       "\n",
       "    .dataframe tbody tr th {\n",
       "        vertical-align: top;\n",
       "    }\n",
       "\n",
       "    .dataframe thead th {\n",
       "        text-align: right;\n",
       "    }\n",
       "</style>\n",
       "<table border=\"1\" class=\"dataframe\">\n",
       "  <thead>\n",
       "    <tr style=\"text-align: right;\">\n",
       "      <th></th>\n",
       "      <th>note</th>\n",
       "      <th>commentaire</th>\n",
       "    </tr>\n",
       "  </thead>\n",
       "  <tbody>\n",
       "    <tr>\n",
       "      <th>0</th>\n",
       "      <td>1</td>\n",
       "      <td>après avoir soutenu livreur poste déclaration colis livre vient m'aviser colis suite non réclamation vient tre retourné l'expéditeur donc tous menteurs colis n'a donc jamais livré voici preuve flagrante discount persiste demandant malgré cette déclaration tas justificatifs inutiles menteurs voleurs</td>\n",
       "    </tr>\n",
       "    <tr>\n",
       "      <th>1</th>\n",
       "      <td>1</td>\n",
       "      <td>service client abonnés absents invite chercher commentaires seuls ceux passent reste extr tout difficile avertir personnellement commandé réfrigérateur livre mauvaise référence depuis mois propose uniquement reprise sans livraison donc fais comment aliments réfrigérateur combiné mise demeure etc fonctionne</td>\n",
       "    </tr>\n",
       "  </tbody>\n",
       "</table>\n",
       "</div>"
      ],
      "text/plain": [
       "   note  \\\n",
       "0     1   \n",
       "1     1   \n",
       "\n",
       "                                                                                                                                                                                                                                                                                                            commentaire  \n",
       "0          après avoir soutenu livreur poste déclaration colis livre vient m'aviser colis suite non réclamation vient tre retourné l'expéditeur donc tous menteurs colis n'a donc jamais livré voici preuve flagrante discount persiste demandant malgré cette déclaration tas justificatifs inutiles menteurs voleurs   \n",
       "1  service client abonnés absents invite chercher commentaires seuls ceux passent reste extr tout difficile avertir personnellement commandé réfrigérateur livre mauvaise référence depuis mois propose uniquement reprise sans livraison donc fais comment aliments réfrigérateur combiné mise demeure etc fonctionne   "
      ]
     },
     "execution_count": 77,
     "metadata": {},
     "output_type": "execute_result"
    }
   ],
   "source": [
    "df = pd.read_csv('datasets/SatisfactionClients/cdiscount2.csv')\n",
    "df_test = pd.read_csv('datasets/SatisfactionClients/amazon_test1.csv')\n",
    "df.head(2)"
   ]
  },
  {
   "cell_type": "code",
   "execution_count": 150,
   "id": "90e26ecb",
   "metadata": {
    "scrolled": true
   },
   "outputs": [
    {
     "name": "stderr",
     "output_type": "stream",
     "text": [
      "C:\\Users\\t.fourtouill\\Anaconda3\\lib\\site-packages\\seaborn\\_decorators.py:36: FutureWarning: Pass the following variable as a keyword arg: x. From version 0.12, the only valid positional argument will be `data`, and passing other arguments without an explicit keyword will result in an error or misinterpretation.\n",
      "  warnings.warn(\n"
     ]
    },
    {
     "data": {
      "text/plain": [
       "<AxesSubplot:xlabel='note', ylabel='count'>"
      ]
     },
     "execution_count": 150,
     "metadata": {},
     "output_type": "execute_result"
    },
    {
     "data": {
      "image/png": "[encoded data removed]",
      "text/plain": [
       "<Figure size 432x288 with 1 Axes>"
      ]
     },
     "metadata": {
      "needs_background": "light"
     },
     "output_type": "display_data"
    }
   ],
   "source": [
    "sns.countplot(df['note'])"
   ]
  },
  {
   "cell_type": "code",
   "execution_count": 78,
   "id": "d4bae705",
   "metadata": {},
   "outputs": [
    {
     "data": {
      "text/plain": [
       "note            0\n",
       "commentaire    54\n",
       "dtype: int64"
      ]
     },
     "execution_count": 78,
     "metadata": {},
     "output_type": "execute_result"
    }
   ],
   "source": [
    "df.isna().sum()"
   ]
  },
  {
   "cell_type": "code",
   "execution_count": 79,
   "id": "e5b1e976",
   "metadata": {},
   "outputs": [],
   "source": [
    "df = df[df['commentaire'].isna()==False]"
   ]
  },
  {
   "cell_type": "code",
   "execution_count": 80,
   "id": "f13e334a",
   "metadata": {},
   "outputs": [],
   "source": [
    "# séparation de la variable cible et des variables explicatives\n",
    "X = df['commentaire']\n",
    "y = df['note'].values"
   ]
  },
  {
   "cell_type": "code",
   "execution_count": 81,
   "id": "6269af3d",
   "metadata": {},
   "outputs": [],
   "source": [
    "# séparation du jeu de données en un dataset d'entrainement et un dataset de test\n",
    "from sklearn.model_selection import train_test_split\n",
    "X_train, X_test, y_train, y_test = train_test_split(X, y, test_size=0.2, shuffle=True)"
   ]
  },
  {
   "cell_type": "code",
   "execution_count": 82,
   "id": "0673da10",
   "metadata": {},
   "outputs": [
    {
     "name": "stdout",
     "output_type": "stream",
     "text": [
      "(67552,)\n",
      "(16888,)\n",
      "(100, 3)\n"
     ]
    }
   ],
   "source": [
    "print(X_train.shape)\n",
    "print(X_test.shape)\n",
    "print(df_test.shape)"
   ]
  },
  {
   "cell_type": "code",
   "execution_count": 83,
   "id": "d40a7b61",
   "metadata": {},
   "outputs": [],
   "source": [
    "from keras.preprocessing.text import Tokenizer\n",
    "from keras.preprocessing.sequence import pad_sequences"
   ]
  },
  {
   "cell_type": "code",
   "execution_count": 84,
   "id": "7709d894",
   "metadata": {},
   "outputs": [],
   "source": [
    "# tokenisation des commentaires\n",
    "num_words=5000\n",
    "tk = Tokenizer(num_words=num_words, lower=True)"
   ]
  },
  {
   "cell_type": "code",
   "execution_count": 85,
   "id": "014744b9",
   "metadata": {},
   "outputs": [],
   "source": [
    "# entrainement de la tokenisation sur le X_train\n",
    "tk.fit_on_texts(X_train)"
   ]
  },
  {
   "cell_type": "code",
   "execution_count": 86,
   "id": "5faa7d54",
   "metadata": {},
   "outputs": [
    {
     "data": {
      "text/plain": [
       "35632"
      ]
     },
     "execution_count": 86,
     "metadata": {},
     "output_type": "execute_result"
    }
   ],
   "source": [
    "# nb de ligne de la matrice\n",
    "word_index = tk.word_index\n",
    "len(tk.word_index)"
   ]
  },
  {
   "cell_type": "code",
   "execution_count": 87,
   "id": "8a275671",
   "metadata": {},
   "outputs": [
    {
     "data": {
      "text/plain": [
       "5000"
      ]
     },
     "execution_count": 87,
     "metadata": {},
     "output_type": "execute_result"
    }
   ],
   "source": [
    "# nb de colonnes dans la matrice\n",
    "vocabulary_size = tk.num_words\n",
    "vocabulary_size"
   ]
  },
  {
   "cell_type": "code",
   "execution_count": 88,
   "id": "c937c451",
   "metadata": {},
   "outputs": [],
   "source": [
    "# mise sous vecteur des commentaires\n",
    "X_seq_train = tk.texts_to_sequences(X_train)\n",
    "X_seq_test = tk.texts_to_sequences(X_test)"
   ]
  },
  {
   "cell_type": "code",
   "execution_count": 89,
   "id": "204ad175",
   "metadata": {},
   "outputs": [
    {
     "name": "stdout",
     "output_type": "stream",
     "text": [
      "[10, 125, 4, 831, 217]\n",
      "[37, 12, 29, 325]\n",
      "[102]\n",
      "[7, 36]\n",
      "[56, 28, 69, 4, 3, 101, 50, 991, 240]\n"
     ]
    }
   ],
   "source": [
    "# affichage de la vectorisation réalisée\n",
    "for x in range(0,5):\n",
    "    print(X_seq_train[x])"
   ]
  },
  {
   "cell_type": "code",
   "execution_count": 90,
   "id": "e647906d",
   "metadata": {},
   "outputs": [
    {
     "data": {
      "text/plain": [
       "Text(0.5, 1.0, 'commentaires bruts')"
      ]
     },
     "execution_count": 90,
     "metadata": {},
     "output_type": "execute_result"
    },
    {
     "data": {
      "image/png": "[encoded data removed]",
      "text/plain": [
       "<Figure size 864x288 with 1 Axes>"
      ]
     },
     "metadata": {
      "needs_background": "light"
     },
     "output_type": "display_data"
    }
   ],
   "source": [
    "# affichage du nb de mots par commentaire pour nous aider à déterminer le nb de mots à choisir dans la matrice \n",
    "df['split'] = df['commentaire'].apply(lambda x: len(x.split(' ')))\n",
    "\n",
    "plt.figure(figsize=(12, 4))\n",
    "plt.subplot(121)\n",
    "plt.hist(df['split'])\n",
    "plt.xlim([0, 300])\n",
    "plt.title('commentaires bruts')"
   ]
  },
  {
   "cell_type": "code",
   "execution_count": 91,
   "id": "aa8ad6cf",
   "metadata": {},
   "outputs": [],
   "source": [
    "# transformation en matrice de même longueur par maxlen défini ci-dessous. Avec des 0 si colonne inférieure à maxlen\n",
    "max_words = 130\n",
    "X_pad_train = pad_sequences(X_seq_train, maxlen=max_words, padding='post')\n",
    "X_pad_test= pad_sequences(X_seq_test, maxlen=max_words, padding='post')"
   ]
  },
  {
   "cell_type": "code",
   "execution_count": 92,
   "id": "e5651d36",
   "metadata": {},
   "outputs": [
    {
     "name": "stdout",
     "output_type": "stream",
     "text": [
      "(67552, 130)\n"
     ]
    },
    {
     "data": {
      "text/plain": [
       "array([[  10,  125,    4, ...,    0,    0,    0],\n",
       "       [  37,   12,   29, ...,    0,    0,    0],\n",
       "       [ 102,    0,    0, ...,    0,    0,    0],\n",
       "       ...,\n",
       "       [   2,  123,   72, ...,    0,    0,    0],\n",
       "       [   2,   36,  398, ...,    0,    0,    0],\n",
       "       [  97,    7, 2706, ...,    0,    0,    0]])"
      ]
     },
     "execution_count": 92,
     "metadata": {},
     "output_type": "execute_result"
    }
   ],
   "source": [
    "# affice de la matrice\n",
    "print(X_pad_train.shape)\n",
    "X_pad_train"
   ]
  },
  {
   "cell_type": "code",
   "execution_count": 93,
   "id": "a509121c",
   "metadata": {},
   "outputs": [
    {
     "name": "stdout",
     "output_type": "stream",
     "text": [
      "Model: \"sequential_2\"\n",
      "_________________________________________________________________\n",
      " Layer (type)                Output Shape              Param #   \n",
      "=================================================================\n",
      " embedding_2 (Embedding)     (None, 130, 100)          500000    \n",
      "                                                                 \n",
      " global_average_pooling1d_2   (None, 100)              0         \n",
      " (GlobalAveragePooling1D)                                        \n",
      "                                                                 \n",
      " dense_4 (Dense)             (None, 256)               25856     \n",
      "                                                                 \n",
      " dropout_2 (Dropout)         (None, 256)               0         \n",
      "                                                                 \n",
      " dense_5 (Dense)             (None, 6)                 1542      \n",
      "                                                                 \n",
      "=================================================================\n",
      "Total params: 527,398\n",
      "Trainable params: 527,398\n",
      "Non-trainable params: 0\n",
      "_________________________________________________________________\n"
     ]
    }
   ],
   "source": [
    "# Création des couches du modéle\n",
    "\n",
    "from tensorflow.keras.models import Sequential\n",
    "from tensorflow.keras.layers import Dense, GlobalAveragePooling1D, Input, Embedding, Dropout\n",
    "\n",
    "embedding_size = 100\n",
    "\n",
    "model_embedding_1 = Sequential()\n",
    "model_embedding_1.add(Embedding(input_dim=vocabulary_size, output_dim=embedding_size, input_length=max_words, embeddings_initializer='uniform'))  # On reprend le nb de mot choisi dans la tokenisation\n",
    "model_embedding_1.add(GlobalAveragePooling1D())\n",
    "model_embedding_1.add(Dense(units=256, activation='relu'))\n",
    "model_embedding_1.add(Dropout(rate=0.3))\n",
    "model_embedding_1.add(Dense(units=6, activation='softmax')) # En sortie le nb de units devra correspondre aux nb de variables cibles\n",
    "\n",
    "model_embedding_1.summary()"
   ]
  },
  {
   "cell_type": "code",
   "execution_count": 94,
   "id": "36bca453",
   "metadata": {},
   "outputs": [],
   "source": [
    "# timer pour mesurer le temps écoulé entre les epochs de début et de fin de callback\n",
    "from tensorflow.keras.callbacks import Callback\n",
    "from timeit import default_timer as timer\n",
    "\n",
    "class TimingCallback(Callback):\n",
    "    def __init__(self, logs={}):\n",
    "        self.logs=[]\n",
    "    def on_epoch_begin(self, epoch, logs={}):\n",
    "        self.starttime = timer()\n",
    "    def on_epoch_end(self, epoch, logs={}):\n",
    "        self.logs.append(timer()-self.starttime)\n",
    "\n",
    "# instanciation la fonction TimingCallback()\n",
    "time_callback = TimingCallback()"
   ]
  },
  {
   "cell_type": "code",
   "execution_count": 95,
   "id": "4f9cb05f",
   "metadata": {},
   "outputs": [],
   "source": [
    "# Création des callback\n",
    "from tensorflow.keras.callbacks import EarlyStopping\n",
    "\n",
    "early_stop = EarlyStopping(monitor='val_loss',\n",
    "                          min_delta=0.01,\n",
    "                          patience=3,\n",
    "                          mode='min',\n",
    "                          restore_best_weights=True,\n",
    "                          verbose=1)"
   ]
  },
  {
   "cell_type": "code",
   "execution_count": 96,
   "id": "bbfcec82",
   "metadata": {},
   "outputs": [],
   "source": [
    "model_embedding_1.compile(loss='sparse_categorical_crossentropy', optimizer='adam', metrics=['accuracy'])"
   ]
  },
  {
   "cell_type": "code",
   "execution_count": 97,
   "id": "6a48774e",
   "metadata": {},
   "outputs": [
    {
     "name": "stdout",
     "output_type": "stream",
     "text": [
      "Epoch 1/10\n",
      "1900/1900 [==============================] - 15s 7ms/step - loss: 0.8691 - accuracy: 0.6678 - val_loss: 0.8008 - val_accuracy: 0.6825\n",
      "Epoch 2/10\n",
      "1900/1900 [==============================] - 15s 8ms/step - loss: 0.7518 - accuracy: 0.6996 - val_loss: 0.7717 - val_accuracy: 0.7001\n",
      "Epoch 3/10\n",
      "1900/1900 [==============================] - 15s 8ms/step - loss: 0.7027 - accuracy: 0.7191 - val_loss: 0.7382 - val_accuracy: 0.7094\n",
      "Epoch 4/10\n",
      "1900/1900 [==============================] - 14s 8ms/step - loss: 0.6841 - accuracy: 0.7252 - val_loss: 0.7335 - val_accuracy: 0.7080\n",
      "Epoch 5/10\n",
      "1900/1900 [==============================] - 15s 8ms/step - loss: 0.6698 - accuracy: 0.7304 - val_loss: 0.7492 - val_accuracy: 0.7056\n",
      "Epoch 6/10\n",
      "1898/1900 [============================>.] - ETA: 0s - loss: 0.6550 - accuracy: 0.7354Restoring model weights from the end of the best epoch: 3.\n",
      "1900/1900 [==============================] - 15s 8ms/step - loss: 0.6549 - accuracy: 0.7354 - val_loss: 0.7435 - val_accuracy: 0.7084\n",
      "Epoch 6: early stopping\n"
     ]
    }
   ],
   "source": [
    "batch_size = 32\n",
    "epochs = 10\n",
    "history = model_embedding_1.fit(X_pad_train, y_train, batch_size=batch_size, epochs=epochs, validation_split=0.1,\n",
    "                               callbacks=[early_stop, time_callback])"
   ]
  },
  {
   "cell_type": "code",
   "execution_count": 98,
   "id": "9ae167f8",
   "metadata": {},
   "outputs": [
    {
     "name": "stdout",
     "output_type": "stream",
     "text": [
      "528/528 [==============================] - 1s 2ms/step - loss: 0.7508 - accuracy: 0.7007\n"
     ]
    },
    {
     "data": {
      "text/plain": [
       "[0.7507736086845398, 0.7006750106811523]"
      ]
     },
     "execution_count": 98,
     "metadata": {},
     "output_type": "execute_result"
    }
   ],
   "source": [
    "model_embedding_1.evaluate(X_pad_test, y_test, verbose=1)"
   ]
  },
  {
   "cell_type": "markdown",
   "id": "6aa031ba",
   "metadata": {},
   "source": [
    "### Calcul des prédictions sur le le de test cdiscount"
   ]
  },
  {
   "cell_type": "code",
   "execution_count": 99,
   "id": "047e9d1c",
   "metadata": {},
   "outputs": [
    {
     "name": "stdout",
     "output_type": "stream",
     "text": [
      "528/528 [==============================] - 1s 2ms/step\n"
     ]
    }
   ],
   "source": [
    "# création des prédictions du eu de test cdiscount à partir du modèle\n",
    "predict_cdiscount = model_embedding_1.predict(X_pad_test, verbose=1)"
   ]
  },
  {
   "cell_type": "code",
   "execution_count": 100,
   "id": "839cd186",
   "metadata": {},
   "outputs": [
    {
     "data": {
      "text/plain": [
       "array([4, 3, 5, ..., 5, 1, 3], dtype=int64)"
      ]
     },
     "execution_count": 100,
     "metadata": {},
     "output_type": "execute_result"
    }
   ],
   "source": [
    "predict_cdiscount_class = predict_cdiscount.argmax(axis=1)\n",
    "predict_cdiscount_class"
   ]
  },
  {
   "cell_type": "code",
   "execution_count": 101,
   "id": "c60286b3",
   "metadata": {},
   "outputs": [
    {
     "name": "stderr",
     "output_type": "stream",
     "text": [
      "C:\\Users\\t.fourtouill\\Anaconda3\\lib\\site-packages\\seaborn\\_decorators.py:36: FutureWarning: Pass the following variable as a keyword arg: x. From version 0.12, the only valid positional argument will be `data`, and passing other arguments without an explicit keyword will result in an error or misinterpretation.\n",
      "  warnings.warn(\n"
     ]
    },
    {
     "data": {
      "image/png": "[encoded data removed]",
      "text/plain": [
       "<Figure size 432x288 with 1 Axes>"
      ]
     },
     "metadata": {
      "needs_background": "light"
     },
     "output_type": "display_data"
    }
   ],
   "source": [
    "sns.countplot(predict_cdiscount_class)\n",
    "plt.show();"
   ]
  },
  {
   "cell_type": "markdown",
   "id": "33371e69",
   "metadata": {},
   "source": [
    "### Calcul des prédictions sur le jeu de test amazon"
   ]
  },
  {
   "cell_type": "code",
   "execution_count": 102,
   "id": "fa5e08ab",
   "metadata": {},
   "outputs": [
    {
     "data": {
      "text/html": [
       "<div>\n",
       "<style scoped>\n",
       "    .dataframe tbody tr th:only-of-type {\n",
       "        vertical-align: middle;\n",
       "    }\n",
       "\n",
       "    .dataframe tbody tr th {\n",
       "        vertical-align: top;\n",
       "    }\n",
       "\n",
       "    .dataframe thead th {\n",
       "        text-align: right;\n",
       "    }\n",
       "</style>\n",
       "<table border=\"1\" class=\"dataframe\">\n",
       "  <thead>\n",
       "    <tr style=\"text-align: right;\">\n",
       "      <th></th>\n",
       "      <th>Unnamed: 0</th>\n",
       "      <th>note</th>\n",
       "      <th>commentaire</th>\n",
       "    </tr>\n",
       "  </thead>\n",
       "  <tbody>\n",
       "    <tr>\n",
       "      <th>0</th>\n",
       "      <td>0</td>\n",
       "      <td>1</td>\n",
       "      <td>MENZZONous aimerions savoir pourquoi vous ne retournez pas l'argent de vos clients et vous continuez à trouver des excuses à ce sujet. Les personnes qui donnent leur avis sur les réseaux sociaux vous bloqueront et leurs mails ne recevront pas de réponse. Pensez-vous que c'est normal?</td>\n",
       "    </tr>\n",
       "    <tr>\n",
       "      <th>1</th>\n",
       "      <td>1</td>\n",
       "      <td>1</td>\n",
       "      <td>Voulant acheter un pare soleil  de marque pour mon appareil photo le prix étant de 28 € environ quel a pas était ma surprise de voir ce prix  grimper  à 45 € en l'espace  de 5 mn et tous ça  sur le site Amazon y a t'il d'autres  personnes à qui cela est  arrivé , je serai curieux  de  lire vos témoignages  ( pratiques de voyous)</td>\n",
       "    </tr>\n",
       "  </tbody>\n",
       "</table>\n",
       "</div>"
      ],
      "text/plain": [
       "   Unnamed: 0  note  \\\n",
       "0           0     1   \n",
       "1           1     1   \n",
       "\n",
       "                                                                                                                                                                                                                                                                                                                                  commentaire  \n",
       "0                                                MENZZONous aimerions savoir pourquoi vous ne retournez pas l'argent de vos clients et vous continuez à trouver des excuses à ce sujet. Les personnes qui donnent leur avis sur les réseaux sociaux vous bloqueront et leurs mails ne recevront pas de réponse. Pensez-vous que c'est normal?  \n",
       "1  Voulant acheter un pare soleil  de marque pour mon appareil photo le prix étant de 28 € environ quel a pas était ma surprise de voir ce prix  grimper  à 45 € en l'espace  de 5 mn et tous ça  sur le site Amazon y a t'il d'autres  personnes à qui cela est  arrivé , je serai curieux  de  lire vos témoignages  ( pratiques de voyous)  "
      ]
     },
     "execution_count": 102,
     "metadata": {},
     "output_type": "execute_result"
    }
   ],
   "source": [
    "df_test.head(2)"
   ]
  },
  {
   "cell_type": "code",
   "execution_count": 103,
   "id": "cf9c42c4",
   "metadata": {},
   "outputs": [
    {
     "data": {
      "text/plain": [
       "Unnamed: 0     0\n",
       "note           0\n",
       "commentaire    0\n",
       "dtype: int64"
      ]
     },
     "execution_count": 103,
     "metadata": {},
     "output_type": "execute_result"
    }
   ],
   "source": [
    "df_test.isna().sum()"
   ]
  },
  {
   "cell_type": "code",
   "execution_count": 104,
   "id": "09478ff9",
   "metadata": {},
   "outputs": [],
   "source": [
    "df_test = df_test.drop(columns=['Unnamed: 0'], axis=1)"
   ]
  },
  {
   "cell_type": "code",
   "execution_count": 105,
   "id": "11489f4b",
   "metadata": {},
   "outputs": [],
   "source": [
    "# séparation de la variable cible et des variables explicatives\n",
    "check_set = df_test['commentaire'].values"
   ]
  },
  {
   "cell_type": "code",
   "execution_count": 106,
   "id": "10065e99",
   "metadata": {},
   "outputs": [],
   "source": [
    "# vectorisation des token\n",
    "check_seq = tk.texts_to_sequences(check_set)"
   ]
  },
  {
   "cell_type": "code",
   "execution_count": 107,
   "id": "5197708f",
   "metadata": {},
   "outputs": [],
   "source": [
    "# mise sous matrice numpy\n",
    "check_pad = pad_sequences(check_seq, maxlen=max_words, padding='post')"
   ]
  },
  {
   "cell_type": "code",
   "execution_count": 108,
   "id": "1061496c",
   "metadata": {},
   "outputs": [
    {
     "data": {
      "text/plain": [
       "array([[ 305,  203,  609, ...,    0,    0,    0],\n",
       "       [2033,  168, 4861, ...,    0,    0,    0],\n",
       "       [ 322,  108,   27, ...,    0,    0,    0],\n",
       "       ...,\n",
       "       [   4,    3,   19, ...,    0,    0,    0],\n",
       "       [   5,  776, 3924, ...,    0,    0,    0],\n",
       "       [   4,  175,  124, ...,    0,    0,    0]])"
      ]
     },
     "execution_count": 108,
     "metadata": {},
     "output_type": "execute_result"
    }
   ],
   "source": [
    "check_pad"
   ]
  },
  {
   "cell_type": "code",
   "execution_count": 109,
   "id": "bff87635",
   "metadata": {},
   "outputs": [
    {
     "name": "stdout",
     "output_type": "stream",
     "text": [
      "4/4 [==============================] - 0s 3ms/step\n"
     ]
    }
   ],
   "source": [
    "# création des prédictions du jeu de test amazon à partir du modèle\n",
    "check_predict = model_embedding_1.predict(check_pad, verbose=1)"
   ]
  },
  {
   "cell_type": "code",
   "execution_count": 110,
   "id": "3690b8c8",
   "metadata": {},
   "outputs": [
    {
     "name": "stdout",
     "output_type": "stream",
     "text": [
      "[[2.41901053e-05 6.09354913e-01 1.49169430e-01 1.61593273e-01\n",
      "  5.14513329e-02 2.84068752e-02]\n",
      " [2.83649279e-05 7.66385078e-01 9.82009917e-02 8.51290450e-02\n",
      "  2.43332721e-02 2.59232391e-02]\n",
      " [5.49608812e-05 6.09104633e-01 1.40277132e-01 1.52798653e-01\n",
      "  5.56978993e-02 4.20666747e-02]\n",
      " [3.02821536e-06 6.44652128e-01 1.52665854e-01 1.54378861e-01\n",
      "  3.65540422e-02 1.17460629e-02]\n",
      " [2.57089678e-13 9.66082573e-01 2.71264631e-02 6.66895788e-03\n",
      "  1.07081411e-04 1.49980015e-05]\n",
      " [4.11179320e-11 9.57200468e-01 3.14322561e-02 1.09263500e-02\n",
      "  3.56353150e-04 8.46137336e-05]\n",
      " [3.73043374e-10 9.25361693e-01 5.07798456e-02 2.25809012e-02\n",
      "  1.05958036e-03 2.17927838e-04]\n",
      " [9.16149795e-12 4.75499809e-01 2.52984107e-01 2.49662414e-01\n",
      "  2.13386286e-02 5.15068590e-04]\n",
      " [1.01584055e-05 5.51119447e-01 1.68116838e-01 1.96614549e-01\n",
      "  6.12805635e-02 2.28584111e-02]\n",
      " [6.66792186e-12 9.83286262e-01 1.30354110e-02 3.54329892e-03\n",
      "  9.23781408e-05 4.25565013e-05]\n",
      " [2.39698622e-10 5.72839022e-01 2.25598946e-01 1.83550581e-01\n",
      "  1.71296634e-02 8.81779066e-04]\n",
      " [2.82985809e-07 9.01589155e-01 5.70215546e-02 3.40796337e-02\n",
      "  4.43249615e-03 2.87693436e-03]\n",
      " [5.04712261e-07 8.96592259e-01 5.79513423e-02 3.67581993e-02\n",
      "  5.16548147e-03 3.53224599e-03]\n",
      " [1.16743031e-04 3.43762636e-02 4.65932153e-02 1.83998853e-01\n",
      "  4.13962871e-01 3.20952147e-01]\n",
      " [1.64511081e-12 9.82987523e-01 1.31720845e-02 3.74569348e-03\n",
      "  7.47451631e-05 1.99695714e-05]\n",
      " [4.47104270e-10 9.70805407e-01 2.16590185e-02 6.91736676e-03\n",
      "  3.47622932e-04 2.70548102e-04]\n",
      " [3.99310420e-06 7.60099173e-01 1.17227092e-01 9.40465108e-02\n",
      "  1.92335080e-02 9.38972738e-03]\n",
      " [3.84581993e-12 9.79318619e-01 1.66933294e-02 3.85218486e-03\n",
      "  9.21543251e-05 4.37871822e-05]\n",
      " [4.27655644e-09 9.30243850e-01 4.67851534e-02 2.10087840e-02\n",
      "  1.40705088e-03 5.55145321e-04]\n",
      " [2.09728501e-06 2.42982700e-01 2.31243208e-01 3.57337236e-01\n",
      "  1.46060362e-01 2.23744716e-02]\n",
      " [1.51375338e-04 6.12438202e-01 1.10529028e-01 1.25064611e-01\n",
      "  6.04229756e-02 9.13938731e-02]\n",
      " [7.83489377e-05 6.39509976e-01 1.35367453e-01 1.35711029e-01\n",
      "  4.83304635e-02 4.10026088e-02]\n",
      " [9.18565419e-08 8.06513190e-01 1.02731869e-01 7.89630488e-02\n",
      "  9.51934699e-03 2.27248971e-03]\n",
      " [1.34922160e-11 8.28543544e-01 1.19398095e-01 4.98734117e-02\n",
      "  2.01640627e-03 1.68598170e-04]\n",
      " [5.97794667e-07 6.44790977e-02 1.64761364e-01 4.22127336e-01\n",
      "  3.17346036e-01 3.12855132e-02]\n",
      " [6.50982699e-14 8.79491091e-01 8.85574892e-02 3.13276984e-02\n",
      "  5.99033374e-04 2.46356194e-05]\n",
      " [1.17133786e-05 7.24915147e-01 1.26401484e-01 1.07137412e-01\n",
      "  2.63191406e-02 1.52150868e-02]\n",
      " [1.98834380e-10 9.67740417e-01 2.39707138e-02 7.77366571e-03\n",
      "  3.35082383e-04 1.80121177e-04]\n",
      " [4.51627234e-12 5.89450262e-02 2.64107853e-01 5.27001560e-01\n",
      "  1.48100719e-01 1.84486038e-03]\n",
      " [4.28099447e-05 5.40608287e-01 1.63778767e-01 1.89159900e-01\n",
      "  6.84520379e-02 3.79582159e-02]\n",
      " [5.02610007e-08 8.89806688e-01 6.50309250e-02 3.99926901e-02\n",
      "  3.80828604e-03 1.36138266e-03]\n",
      " [4.86834688e-06 5.19815564e-01 1.96131945e-01 2.09487319e-01\n",
      "  5.86461313e-02 1.59141924e-02]\n",
      " [2.08760011e-05 3.15798670e-01 2.01232597e-01 3.05925310e-01\n",
      "  1.36169434e-01 4.08531092e-02]\n",
      " [5.21678833e-09 9.51277852e-01 3.50006595e-02 1.19539918e-02\n",
      "  8.78613850e-04 8.88905837e-04]\n",
      " [1.30088716e-13 9.86209691e-01 1.14828181e-02 2.26521026e-03\n",
      "  3.20997788e-05 1.00612460e-05]\n",
      " [5.20727554e-05 3.55993748e-01 1.75459906e-01 2.72210777e-01\n",
      "  1.33763745e-01 6.25196770e-02]\n",
      " [2.47725723e-07 8.79928291e-01 7.39886835e-02 3.80955637e-02\n",
      "  4.74922499e-03 3.23799206e-03]\n",
      " [6.20983513e-08 5.47098935e-01 2.01318711e-01 2.12103218e-01\n",
      "  3.53539400e-02 4.12504887e-03]\n",
      " [3.62487335e-05 4.57269162e-01 3.84342149e-02 4.37683947e-02\n",
      "  5.80145381e-02 4.02477413e-01]\n",
      " [2.08363993e-08 7.17238486e-01 1.46211326e-01 1.20671757e-01\n",
      "  1.39194261e-02 1.95902446e-03]\n",
      " [8.29637827e-07 2.19903514e-01 2.18404144e-01 3.82841289e-01\n",
      "  1.59732863e-01 1.91173982e-02]\n",
      " [1.10159295e-08 6.37073368e-02 1.83124289e-01 4.72352862e-01\n",
      "  2.69263208e-01 1.15523366e-02]\n",
      " [3.35797486e-05 5.86020052e-01 1.59171715e-01 1.68229699e-01\n",
      "  5.58469258e-02 3.06980349e-02]\n",
      " [8.26417521e-14 8.75212312e-01 9.34488326e-02 3.07003465e-02\n",
      "  6.09802082e-04 2.87281418e-05]\n",
      " [2.93765737e-07 7.51746222e-02 2.02183872e-01 4.14045095e-01\n",
      "  2.83498436e-01 2.50976961e-02]\n",
      " [5.56876112e-05 2.50726968e-01 1.64798915e-01 3.12671900e-01\n",
      "  1.89474583e-01 8.22720006e-02]\n",
      " [9.59060617e-06 2.20730871e-01 2.36921981e-01 3.32992584e-01\n",
      "  1.72836989e-01 3.65079716e-02]\n",
      " [1.12657773e-19 9.75044370e-01 2.12508012e-02 3.69486958e-03\n",
      "  9.81866742e-06 1.19401079e-07]\n",
      " [8.24097151e-05 5.83542772e-02 7.97500983e-02 2.75375366e-01\n",
      "  3.94591004e-01 1.91846818e-01]\n",
      " [6.58413235e-09 4.68955576e-01 2.37443313e-01 2.52722949e-01\n",
      "  3.81427817e-02 2.73534143e-03]\n",
      " [1.91192684e-09 2.11492643e-01 2.75725275e-01 4.07502621e-01\n",
      "  1.00963928e-01 4.31548292e-03]\n",
      " [1.01345037e-07 2.33586412e-03 2.25812718e-02 2.00462237e-01\n",
      "  6.89601302e-01 8.50192681e-02]\n",
      " [3.01298275e-09 5.18625136e-03 6.55113459e-02 3.43792975e-01\n",
      "  5.64072013e-01 2.14373805e-02]\n",
      " [5.86992996e-07 1.72265526e-03 1.18570542e-02 1.17550641e-01\n",
      "  6.81920826e-01 1.86948299e-01]\n",
      " [4.36152361e-04 2.00668916e-01 1.14505522e-01 2.29123652e-01\n",
      "  2.24588305e-01 2.30677515e-01]\n",
      " [1.52313096e-05 4.01620090e-01 1.90846115e-01 2.69929051e-01\n",
      "  1.03985101e-01 3.36044207e-02]\n",
      " [9.95294386e-07 1.00342266e-01 1.87632829e-01 4.15267885e-01\n",
      "  2.67164230e-01 2.95918211e-02]\n",
      " [1.82160165e-05 4.76718834e-03 5.13649639e-03 3.34237330e-02\n",
      "  2.89689630e-01 6.66964650e-01]\n",
      " [9.43092891e-06 9.54734832e-02 1.54135197e-01 3.86093229e-01\n",
      "  3.05443943e-01 5.88447638e-02]\n",
      " [4.41614878e-09 9.69552279e-01 2.04339381e-02 8.77835415e-03\n",
      "  6.49532827e-04 5.85922156e-04]\n",
      " [3.68963242e-08 7.22711802e-01 1.49966985e-01 1.11611046e-01\n",
      "  1.33836716e-02 2.32638582e-03]\n",
      " [3.64968201e-07 2.14247586e-04 2.56274827e-04 3.63187934e-03\n",
      "  1.68798774e-01 8.27098489e-01]\n",
      " [2.57615795e-08 4.88528702e-03 4.70701493e-02 3.04234803e-01\n",
      "  6.03506565e-01 4.03031521e-02]\n",
      " [3.63690851e-05 1.48638822e-02 7.00610410e-03 3.00270673e-02\n",
      "  1.84906766e-01 7.63159871e-01]\n",
      " [1.24860613e-04 4.36356813e-01 2.03024521e-01 2.11818695e-01\n",
      "  9.46933702e-02 5.39817400e-02]\n",
      " [7.58194847e-06 3.78548657e-03 8.77772179e-03 7.12759122e-02\n",
      "  4.93975341e-01 4.22177941e-01]\n",
      " [2.69923453e-06 1.20403618e-01 1.84600517e-01 4.04039145e-01\n",
      "  2.54956722e-01 3.59973647e-02]\n",
      " [3.62409963e-07 3.86648811e-04 1.36407302e-03 2.04962175e-02\n",
      "  4.61568058e-01 5.16184628e-01]\n",
      " [3.42405338e-06 7.96230614e-01 1.01778813e-01 7.82866031e-02\n",
      "  1.52197499e-02 8.48071370e-03]\n",
      " [2.78422576e-05 5.34559367e-03 3.46429180e-03 1.85869206e-02\n",
      "  1.87291995e-01 7.85283267e-01]\n",
      " [1.16206070e-06 2.33672336e-02 8.65890905e-02 3.62357855e-01\n",
      "  4.69048232e-01 5.86363822e-02]\n",
      " [1.30802528e-06 5.55338804e-04 9.39619786e-04 1.11219389e-02\n",
      "  2.73095280e-01 7.14286447e-01]\n",
      " [1.13416809e-09 3.60724857e-06 3.67652251e-06 1.45736718e-04\n",
      "  5.81485219e-02 9.41698492e-01]\n",
      " [2.93247413e-05 1.04204956e-02 2.70915478e-02 1.54897138e-01\n",
      "  5.39179444e-01 2.68381983e-01]\n",
      " [4.64898164e-09 8.77963185e-01 8.41529816e-02 3.45190093e-02\n",
      "  2.52710911e-03 8.37800209e-04]\n",
      " [1.81007083e-04 2.84679562e-01 1.69929668e-01 2.72879124e-01\n",
      "  1.70987338e-01 1.01343378e-01]\n",
      " [3.56097621e-06 8.13938439e-01 9.78129953e-02 6.66444004e-02\n",
      "  1.27491979e-02 8.85151140e-03]\n",
      " [4.72256865e-08 9.17000798e-05 3.68368892e-05 5.09266392e-04\n",
      "  5.06593511e-02 9.48702753e-01]\n",
      " [1.18379048e-11 1.98487705e-03 5.39678968e-02 3.50142688e-01\n",
      "  5.86572230e-01 7.33229239e-03]\n",
      " [2.93925677e-05 4.66883741e-03 6.62755966e-03 4.16550525e-02\n",
      "  3.41167212e-01 6.05851948e-01]\n",
      " [9.10840288e-04 7.90864155e-02 3.49962339e-02 7.69695118e-02\n",
      "  1.98684871e-01 6.09352112e-01]\n",
      " [3.10814066e-05 2.86669936e-02 7.04490393e-02 2.86161840e-01\n",
      "  4.71777141e-01 1.42913923e-01]\n",
      " [1.03067112e-04 3.79735231e-01 6.56190887e-02 1.05252460e-01\n",
      "  1.14800207e-01 3.34489912e-01]\n",
      " [8.94548463e-11 6.50585037e-07 3.95619395e-07 1.98935450e-05\n",
      "  2.37009022e-02 9.76278067e-01]\n",
      " [7.40355119e-08 5.56131781e-05 4.60715419e-05 7.98063469e-04\n",
      "  8.89568925e-02 9.10143316e-01]\n",
      " [5.49404540e-05 1.36269748e-01 2.00900231e-02 3.69700156e-02\n",
      "  1.02747023e-01 7.03868270e-01]\n",
      " [8.10851702e-07 9.09212410e-01 5.37955351e-02 2.45238431e-02\n",
      "  4.25638864e-03 8.21099896e-03]\n",
      " [2.70239923e-07 5.75359794e-04 1.42102217e-04 1.06319424e-03\n",
      "  4.97752726e-02 9.48443830e-01]\n",
      " [4.99395537e-05 3.57022762e-01 1.75061628e-01 2.71753043e-01\n",
      "  1.33963361e-01 6.21493161e-02]\n",
      " [1.08090739e-04 7.44149163e-02 7.15468302e-02 2.32705057e-01\n",
      "  3.53607863e-01 2.67617255e-01]\n",
      " [3.90970417e-05 1.34659875e-02 5.31866308e-03 2.11226642e-02\n",
      "  1.49727732e-01 8.10325921e-01]\n",
      " [6.05545836e-08 7.81865165e-05 3.44976870e-05 4.86416742e-04\n",
      "  5.38958199e-02 9.45504963e-01]\n",
      " [2.15354248e-06 7.58341281e-04 4.90898325e-04 4.24838345e-03\n",
      "  1.27149224e-01 8.67351055e-01]\n",
      " [3.46712914e-05 6.20804448e-03 8.93802848e-03 5.38287573e-02\n",
      "  3.64448339e-01 5.66542268e-01]\n",
      " [8.27025019e-07 3.88122513e-04 2.56711734e-04 2.70152558e-03\n",
      "  1.09792054e-01 8.86860788e-01]\n",
      " [1.31204670e-05 8.43780279e-01 7.46944845e-02 4.92456257e-02\n",
      "  1.27892438e-02 1.94772575e-02]\n",
      " [2.50627136e-06 7.30320171e-04 6.77770644e-04 6.43413700e-03\n",
      "  1.71503142e-01 8.20652187e-01]\n",
      " [2.70501778e-06 1.04760574e-02 1.62764534e-03 5.80891641e-03\n",
      "  6.45004809e-02 9.17584181e-01]\n",
      " [9.63559705e-06 2.71914643e-03 7.42143672e-03 5.87084666e-02\n",
      "  4.87300485e-01 4.43840861e-01]\n",
      " [2.85286774e-07 3.35415534e-04 1.21920028e-04 1.14328333e-03\n",
      "  6.29502460e-02 9.35448885e-01]]\n"
     ]
    }
   ],
   "source": [
    "print(check_predict)"
   ]
  },
  {
   "cell_type": "code",
   "execution_count": 111,
   "id": "918f024f",
   "metadata": {},
   "outputs": [
    {
     "data": {
      "text/plain": [
       "array([1, 1, 1, 1, 1, 1, 1, 1, 1, 1, 1, 1, 1, 4, 1, 1, 1, 1, 1, 3, 1, 1,\n",
       "       1, 1, 3, 1, 1, 1, 3, 1, 1, 1, 1, 1, 1, 1, 1, 1, 1, 1, 3, 3, 1, 1,\n",
       "       3, 3, 3, 1, 4, 1, 3, 4, 4, 4, 5, 1, 3, 5, 3, 1, 1, 5, 4, 5, 1, 4,\n",
       "       3, 5, 1, 5, 4, 5, 5, 4, 1, 1, 1, 5, 4, 5, 5, 4, 1, 5, 5, 5, 1, 5,\n",
       "       1, 4, 5, 5, 5, 5, 5, 1, 5, 5, 4, 5], dtype=int64)"
      ]
     },
     "execution_count": 111,
     "metadata": {},
     "output_type": "execute_result"
    }
   ],
   "source": [
    "check_predict_class = check_predict.argmax(axis=1)\n",
    "check_predict_class"
   ]
  },
  {
   "cell_type": "code",
   "execution_count": 112,
   "id": "819395e0",
   "metadata": {},
   "outputs": [
    {
     "name": "stderr",
     "output_type": "stream",
     "text": [
      "C:\\Users\\t.fourtouill\\Anaconda3\\lib\\site-packages\\seaborn\\_decorators.py:36: FutureWarning: Pass the following variable as a keyword arg: x. From version 0.12, the only valid positional argument will be `data`, and passing other arguments without an explicit keyword will result in an error or misinterpretation.\n",
      "  warnings.warn(\n"
     ]
    },
    {
     "data": {
      "image/png": "[encoded data removed]",
      "text/plain": [
       "<Figure size 432x288 with 1 Axes>"
      ]
     },
     "metadata": {
      "needs_background": "light"
     },
     "output_type": "display_data"
    }
   ],
   "source": [
    "sns.countplot(check_predict_class);"
   ]
  },
  {
   "cell_type": "code",
   "execution_count": 113,
   "id": "438bcba6",
   "metadata": {},
   "outputs": [
    {
     "data": {
      "text/html": [
       "<div>\n",
       "<style scoped>\n",
       "    .dataframe tbody tr th:only-of-type {\n",
       "        vertical-align: middle;\n",
       "    }\n",
       "\n",
       "    .dataframe tbody tr th {\n",
       "        vertical-align: top;\n",
       "    }\n",
       "\n",
       "    .dataframe thead th {\n",
       "        text-align: right;\n",
       "    }\n",
       "</style>\n",
       "<table border=\"1\" class=\"dataframe\">\n",
       "  <thead>\n",
       "    <tr style=\"text-align: right;\">\n",
       "      <th></th>\n",
       "      <th>commentaire</th>\n",
       "      <th>note</th>\n",
       "      <th>prediction</th>\n",
       "    </tr>\n",
       "  </thead>\n",
       "  <tbody>\n",
       "    <tr>\n",
       "      <th>0</th>\n",
       "      <td>MENZZONous aimerions savoir pourquoi vous ne retournez pas l'argent de vos clients et vous continuez à trouver des excuses à ce sujet. Les personnes qui donnent leur avis sur les réseaux sociaux vous bloqueront et leurs mails ne recevront pas de réponse. Pensez-vous que c'est normal?</td>\n",
       "      <td>1</td>\n",
       "      <td>1</td>\n",
       "    </tr>\n",
       "    <tr>\n",
       "      <th>1</th>\n",
       "      <td>Voulant acheter un pare soleil  de marque pour mon appareil photo le prix étant de 28 € environ quel a pas était ma surprise de voir ce prix  grimper  à 45 € en l'espace  de 5 mn et tous ça  sur le site Amazon y a t'il d'autres  personnes à qui cela est  arrivé , je serai curieux  de  lire vos témoignages  ( pratiques de voyous)</td>\n",
       "      <td>1</td>\n",
       "      <td>1</td>\n",
       "    </tr>\n",
       "    <tr>\n",
       "      <th>2</th>\n",
       "      <td>Comment souvent problème d'envoi ou réception de marchandise biensure service client au téléphone ce n est pas leur faute c est les gens de l emballage belle esprit d équipe je ne commanderai plus chez vous</td>\n",
       "      <td>1</td>\n",
       "      <td>1</td>\n",
       "    </tr>\n",
       "    <tr>\n",
       "      <th>3</th>\n",
       "      <td>L’arnaque des livreurs qui ne respectent pas les instructions des livraison, laissent le clos n’importe où le marquent livres alors qu ils ont pas livres! Le service client à part dire ; on va faire remonter l’info et ouvrir une enquête », ne fait rien! Avec l’argent qu engrange Amazon il s’agirait de s entourer de livreurs fiables !!</td>\n",
       "      <td>1</td>\n",
       "      <td>1</td>\n",
       "    </tr>\n",
       "    <tr>\n",
       "      <th>4</th>\n",
       "      <td>J’ai commandé un article très cher qui est supposé être neuf. A ma surprise en recevant le colis l l’article semble déjà ouvert/voir même déjà utilisé, le carton de l’article était déchiré.. étant la grosse somme que j’ai dépensé sur cet article je ne peux accepter de recevoir du reconditionné au prix du neuf. En demandant le retour Amazon refuse de me rembourser sur carte bancaire mais plutôt uniquement par avoir et ça c’est absurde car c’est pas de ma faute c’est la faute à Amazon, d’ailleurs pourquoi m’obliger à consommer par force une telle grosse somme sur leur site, moi je veux pas d’avoir je veux mon argent sur mon compte bancaire !!!! J’ai commencé les démarches pour ouvrir un contentieux contre Amazon !</td>\n",
       "      <td>1</td>\n",
       "      <td>1</td>\n",
       "    </tr>\n",
       "  </tbody>\n",
       "</table>\n",
       "</div>"
      ],
      "text/plain": [
       "                                                                                                                                                                                                                                                                                                                                                                                                                                                                                                                                                                                                                                                                                                                                         commentaire  \\\n",
       "0                                                                                                                                                                                                                                                                                                                                                                                                                                                       MENZZONous aimerions savoir pourquoi vous ne retournez pas l'argent de vos clients et vous continuez à trouver des excuses à ce sujet. Les personnes qui donnent leur avis sur les réseaux sociaux vous bloqueront et leurs mails ne recevront pas de réponse. Pensez-vous que c'est normal?   \n",
       "1                                                                                                                                                                                                                                                                                                                                                                                                         Voulant acheter un pare soleil  de marque pour mon appareil photo le prix étant de 28 € environ quel a pas était ma surprise de voir ce prix  grimper  à 45 € en l'espace  de 5 mn et tous ça  sur le site Amazon y a t'il d'autres  personnes à qui cela est  arrivé , je serai curieux  de  lire vos témoignages  ( pratiques de voyous)   \n",
       "2                                                                                                                                                                                                                                                                                                                                                                                                                                                                                                                                     Comment souvent problème d'envoi ou réception de marchandise biensure service client au téléphone ce n est pas leur faute c est les gens de l emballage belle esprit d équipe je ne commanderai plus chez vous   \n",
       "3                                                                                                                                                                                                                                                                                                                                                                                                   L’arnaque des livreurs qui ne respectent pas les instructions des livraison, laissent le clos n’importe où le marquent livres alors qu ils ont pas livres! Le service client à part dire ; on va faire remonter l’info et ouvrir une enquête », ne fait rien! Avec l’argent qu engrange Amazon il s’agirait de s entourer de livreurs fiables !!   \n",
       "4  J’ai commandé un article très cher qui est supposé être neuf. A ma surprise en recevant le colis l l’article semble déjà ouvert/voir même déjà utilisé, le carton de l’article était déchiré.. étant la grosse somme que j’ai dépensé sur cet article je ne peux accepter de recevoir du reconditionné au prix du neuf. En demandant le retour Amazon refuse de me rembourser sur carte bancaire mais plutôt uniquement par avoir et ça c’est absurde car c’est pas de ma faute c’est la faute à Amazon, d’ailleurs pourquoi m’obliger à consommer par force une telle grosse somme sur leur site, moi je veux pas d’avoir je veux mon argent sur mon compte bancaire !!!! J’ai commencé les démarches pour ouvrir un contentieux contre Amazon !   \n",
       "\n",
       "   note  prediction  \n",
       "0     1           1  \n",
       "1     1           1  \n",
       "2     1           1  \n",
       "3     1           1  \n",
       "4     1           1  "
      ]
     },
     "execution_count": 113,
     "metadata": {},
     "output_type": "execute_result"
    }
   ],
   "source": [
    "# comparaison des prédictions et des notes du jeu de test\n",
    "check_df = pd.DataFrame(list(zip(df_test.commentaire, df_test.note, check_predict_class)), columns=['commentaire', 'note', 'prediction'])\n",
    "check_df.head()"
   ]
  },
  {
   "cell_type": "code",
   "execution_count": 114,
   "id": "11ec7bbb",
   "metadata": {},
   "outputs": [
    {
     "name": "stdout",
     "output_type": "stream",
     "text": [
      "              precision    recall  f1-score   support\n",
      "\n",
      "           1       0.69      0.85      0.76      1985\n",
      "           2       0.18      0.00      0.01       537\n",
      "           3       0.35      0.29      0.32      1217\n",
      "           4       0.46      0.20      0.28      3429\n",
      "           5       0.76      0.94      0.84      9720\n",
      "\n",
      "    accuracy                           0.70     16888\n",
      "   macro avg       0.49      0.46      0.44     16888\n",
      "weighted avg       0.64      0.70      0.65     16888\n",
      "\n"
     ]
    },
    {
     "data": {
      "text/html": [
       "<div>\n",
       "<style scoped>\n",
       "    .dataframe tbody tr th:only-of-type {\n",
       "        vertical-align: middle;\n",
       "    }\n",
       "\n",
       "    .dataframe tbody tr th {\n",
       "        vertical-align: top;\n",
       "    }\n",
       "\n",
       "    .dataframe thead th {\n",
       "        text-align: right;\n",
       "    }\n",
       "</style>\n",
       "<table border=\"1\" class=\"dataframe\">\n",
       "  <thead>\n",
       "    <tr style=\"text-align: right;\">\n",
       "      <th>predictions</th>\n",
       "      <th>1</th>\n",
       "      <th>2</th>\n",
       "      <th>3</th>\n",
       "      <th>4</th>\n",
       "      <th>5</th>\n",
       "    </tr>\n",
       "    <tr>\n",
       "      <th>données réelles</th>\n",
       "      <th></th>\n",
       "      <th></th>\n",
       "      <th></th>\n",
       "      <th></th>\n",
       "      <th></th>\n",
       "    </tr>\n",
       "  </thead>\n",
       "  <tbody>\n",
       "    <tr>\n",
       "      <th>1</th>\n",
       "      <td>1693</td>\n",
       "      <td>8</td>\n",
       "      <td>134</td>\n",
       "      <td>52</td>\n",
       "      <td>98</td>\n",
       "    </tr>\n",
       "    <tr>\n",
       "      <th>2</th>\n",
       "      <td>248</td>\n",
       "      <td>2</td>\n",
       "      <td>155</td>\n",
       "      <td>60</td>\n",
       "      <td>72</td>\n",
       "    </tr>\n",
       "    <tr>\n",
       "      <th>3</th>\n",
       "      <td>307</td>\n",
       "      <td>1</td>\n",
       "      <td>359</td>\n",
       "      <td>289</td>\n",
       "      <td>261</td>\n",
       "    </tr>\n",
       "    <tr>\n",
       "      <th>4</th>\n",
       "      <td>121</td>\n",
       "      <td>0</td>\n",
       "      <td>258</td>\n",
       "      <td>682</td>\n",
       "      <td>2368</td>\n",
       "    </tr>\n",
       "    <tr>\n",
       "      <th>5</th>\n",
       "      <td>96</td>\n",
       "      <td>0</td>\n",
       "      <td>122</td>\n",
       "      <td>405</td>\n",
       "      <td>9097</td>\n",
       "    </tr>\n",
       "  </tbody>\n",
       "</table>\n",
       "</div>"
      ],
      "text/plain": [
       "predictions         1  2    3    4     5\n",
       "données réelles                         \n",
       "1                1693  8  134   52    98\n",
       "2                 248  2  155   60    72\n",
       "3                 307  1  359  289   261\n",
       "4                 121  0  258  682  2368\n",
       "5                  96  0  122  405  9097"
      ]
     },
     "metadata": {},
     "output_type": "display_data"
    },
    {
     "name": "stdout",
     "output_type": "stream",
     "text": [
      "              precision    recall  f1-score   support\n",
      "\n",
      "           1       0.35      0.90      0.50        20\n",
      "           2       0.00      0.00      0.00        20\n",
      "           3       0.67      0.40      0.50        20\n",
      "           4       0.38      0.25      0.30        20\n",
      "           5       0.57      0.65      0.60        20\n",
      "\n",
      "    accuracy                           0.44       100\n",
      "   macro avg       0.39      0.44      0.38       100\n",
      "weighted avg       0.39      0.44      0.38       100\n",
      "\n"
     ]
    },
    {
     "name": "stderr",
     "output_type": "stream",
     "text": [
      "C:\\Users\\t.fourtouill\\Anaconda3\\lib\\site-packages\\sklearn\\metrics\\_classification.py:1327: UndefinedMetricWarning: Precision and F-score are ill-defined and being set to 0.0 in labels with no predicted samples. Use `zero_division` parameter to control this behavior.\n",
      "  _warn_prf(average, modifier, msg_start, len(result))\n",
      "C:\\Users\\t.fourtouill\\Anaconda3\\lib\\site-packages\\sklearn\\metrics\\_classification.py:1327: UndefinedMetricWarning: Precision and F-score are ill-defined and being set to 0.0 in labels with no predicted samples. Use `zero_division` parameter to control this behavior.\n",
      "  _warn_prf(average, modifier, msg_start, len(result))\n",
      "C:\\Users\\t.fourtouill\\Anaconda3\\lib\\site-packages\\sklearn\\metrics\\_classification.py:1327: UndefinedMetricWarning: Precision and F-score are ill-defined and being set to 0.0 in labels with no predicted samples. Use `zero_division` parameter to control this behavior.\n",
      "  _warn_prf(average, modifier, msg_start, len(result))\n"
     ]
    },
    {
     "data": {
      "text/html": [
       "<div>\n",
       "<style scoped>\n",
       "    .dataframe tbody tr th:only-of-type {\n",
       "        vertical-align: middle;\n",
       "    }\n",
       "\n",
       "    .dataframe tbody tr th {\n",
       "        vertical-align: top;\n",
       "    }\n",
       "\n",
       "    .dataframe thead th {\n",
       "        text-align: right;\n",
       "    }\n",
       "</style>\n",
       "<table border=\"1\" class=\"dataframe\">\n",
       "  <thead>\n",
       "    <tr style=\"text-align: right;\">\n",
       "      <th>predictions</th>\n",
       "      <th>1</th>\n",
       "      <th>3</th>\n",
       "      <th>4</th>\n",
       "      <th>5</th>\n",
       "    </tr>\n",
       "    <tr>\n",
       "      <th>données réelles</th>\n",
       "      <th></th>\n",
       "      <th></th>\n",
       "      <th></th>\n",
       "      <th></th>\n",
       "    </tr>\n",
       "  </thead>\n",
       "  <tbody>\n",
       "    <tr>\n",
       "      <th>1</th>\n",
       "      <td>18</td>\n",
       "      <td>1</td>\n",
       "      <td>1</td>\n",
       "      <td>0</td>\n",
       "    </tr>\n",
       "    <tr>\n",
       "      <th>2</th>\n",
       "      <td>18</td>\n",
       "      <td>2</td>\n",
       "      <td>0</td>\n",
       "      <td>0</td>\n",
       "    </tr>\n",
       "    <tr>\n",
       "      <th>3</th>\n",
       "      <td>6</td>\n",
       "      <td>8</td>\n",
       "      <td>4</td>\n",
       "      <td>2</td>\n",
       "    </tr>\n",
       "    <tr>\n",
       "      <th>4</th>\n",
       "      <td>6</td>\n",
       "      <td>1</td>\n",
       "      <td>5</td>\n",
       "      <td>8</td>\n",
       "    </tr>\n",
       "    <tr>\n",
       "      <th>5</th>\n",
       "      <td>4</td>\n",
       "      <td>0</td>\n",
       "      <td>3</td>\n",
       "      <td>13</td>\n",
       "    </tr>\n",
       "  </tbody>\n",
       "</table>\n",
       "</div>"
      ],
      "text/plain": [
       "predictions       1  3  4   5\n",
       "données réelles              \n",
       "1                18  1  1   0\n",
       "2                18  2  0   0\n",
       "3                 6  8  4   2\n",
       "4                 6  1  5   8\n",
       "5                 4  0  3  13"
      ]
     },
     "metadata": {},
     "output_type": "display_data"
    },
    {
     "data": {
      "text/html": [
       "<div>\n",
       "<style scoped>\n",
       "    .dataframe tbody tr th:only-of-type {\n",
       "        vertical-align: middle;\n",
       "    }\n",
       "\n",
       "    .dataframe tbody tr th {\n",
       "        vertical-align: top;\n",
       "    }\n",
       "\n",
       "    .dataframe thead th {\n",
       "        text-align: right;\n",
       "    }\n",
       "</style>\n",
       "<table border=\"1\" class=\"dataframe\">\n",
       "  <thead>\n",
       "    <tr style=\"text-align: right;\">\n",
       "      <th>predictions</th>\n",
       "      <th>1</th>\n",
       "      <th>3</th>\n",
       "      <th>4</th>\n",
       "      <th>5</th>\n",
       "    </tr>\n",
       "    <tr>\n",
       "      <th>données réelles</th>\n",
       "      <th></th>\n",
       "      <th></th>\n",
       "      <th></th>\n",
       "      <th></th>\n",
       "    </tr>\n",
       "  </thead>\n",
       "  <tbody>\n",
       "    <tr>\n",
       "      <th>1</th>\n",
       "      <td>0.9</td>\n",
       "      <td>0.05</td>\n",
       "      <td>0.05</td>\n",
       "      <td>0.00</td>\n",
       "    </tr>\n",
       "    <tr>\n",
       "      <th>2</th>\n",
       "      <td>0.9</td>\n",
       "      <td>0.10</td>\n",
       "      <td>0.00</td>\n",
       "      <td>0.00</td>\n",
       "    </tr>\n",
       "    <tr>\n",
       "      <th>3</th>\n",
       "      <td>0.3</td>\n",
       "      <td>0.40</td>\n",
       "      <td>0.20</td>\n",
       "      <td>0.10</td>\n",
       "    </tr>\n",
       "    <tr>\n",
       "      <th>4</th>\n",
       "      <td>0.3</td>\n",
       "      <td>0.05</td>\n",
       "      <td>0.25</td>\n",
       "      <td>0.40</td>\n",
       "    </tr>\n",
       "    <tr>\n",
       "      <th>5</th>\n",
       "      <td>0.2</td>\n",
       "      <td>0.00</td>\n",
       "      <td>0.15</td>\n",
       "      <td>0.65</td>\n",
       "    </tr>\n",
       "  </tbody>\n",
       "</table>\n",
       "</div>"
      ],
      "text/plain": [
       "predictions        1     3     4     5\n",
       "données réelles                       \n",
       "1                0.9  0.05  0.05  0.00\n",
       "2                0.9  0.10  0.00  0.00\n",
       "3                0.3  0.40  0.20  0.10\n",
       "4                0.3  0.05  0.25  0.40\n",
       "5                0.2  0.00  0.15  0.65"
      ]
     },
     "metadata": {},
     "output_type": "display_data"
    },
    {
     "name": "stdout",
     "output_type": "stream",
     "text": [
      "les prédictions correctes sont supérieures à 50% pour 1 étoile(s) avec 90%\n",
      "les prédictions correctes sont supérieures à 50% pour 5 étoile(s) avec 65%\n"
     ]
    }
   ],
   "source": [
    "from sklearn.metrics import classification_report\n",
    "\n",
    "cr = classification_report(y_test, predict_cdiscount_class)\n",
    "print(cr)\n",
    "\n",
    "cm = pd.crosstab(y_test, predict_cdiscount_class, rownames=['données réelles'], colnames=['predictions'])\n",
    "display(cm)\n",
    "\n",
    "# vérification des résultats sur un jeu de test externe (100 commentaires amazon également répartis entre les étoiles)\n",
    "\n",
    "cm_test = classification_report(df_test.note, check_predict_class)\n",
    "print(cm_test)\n",
    "\n",
    "cm_test2 = pd.crosstab(df_test.note, check_predict_class, rownames=['données réelles'], colnames=['predictions'])\n",
    "display(cm_test2)\n",
    "\n",
    "cm_test3 = pd.crosstab(df_test.note, check_predict_class, rownames=['données réelles'], colnames=['predictions'], normalize=0)\n",
    "display(cm_test3)\n",
    "\n",
    "for i in cm_test3.index:\n",
    "    for j in cm_test3.columns :\n",
    "        if (i==j and cm_test3.loc[i, j] > 0.5) :\n",
    "            print(\"les prédictions correctes sont supérieures à 50% pour {} étoile(s) avec {:0.0%}\".format(i, cm_test3.loc[i, j]))"
   ]
  },
  {
   "cell_type": "code",
   "execution_count": 115,
   "id": "8b6366a5",
   "metadata": {},
   "outputs": [
    {
     "name": "stdout",
     "output_type": "stream",
     "text": [
      "INFO:tensorflow:Assets written to: datasets/SatisfactionClients/model_embedding6\\assets\n"
     ]
    }
   ],
   "source": [
    "import os\n",
    "path = \"/Users/t.fourtouill/Downloads/SatisfactionClients\"\n",
    "os.makedirs(path, exist_ok=True)\n",
    "model_embedding_1.save('datasets/SatisfactionClients/model_embedding6')"
   ]
  },
  {
   "cell_type": "markdown",
   "id": "30cfae91",
   "metadata": {},
   "source": [
    "### Evaluation sur 2 sentiments : négatif et positif"
   ]
  },
  {
   "cell_type": "markdown",
   "id": "f39073d9",
   "metadata": {},
   "source": [
    "* Le DataSet cdiscount a été retraité en renommant, les notes 1 et 2 en 0, les notes 4 et 5 en 1 et en supprimant les notes 3\n",
    "* Le but étant d'isoler de manière moins complexe les sentiments négatifs et les sentiments positifs et ainsi améliorer la qualité du résultat prédit"
   ]
  },
  {
   "cell_type": "code",
   "execution_count": 116,
   "id": "f997fc40",
   "metadata": {},
   "outputs": [],
   "source": [
    "df_0_1 = pd.read_csv('datasets/SatisfactionClients/cdiscount_0_1.csv')\n",
    "df_test_0_1 = pd.read_csv('datasets/SatisfactionClients/amazon_test1.csv')"
   ]
  },
  {
   "cell_type": "code",
   "execution_count": 117,
   "id": "f3d47f3c",
   "metadata": {},
   "outputs": [
    {
     "name": "stderr",
     "output_type": "stream",
     "text": [
      "C:\\Users\\t.fourtouill\\Anaconda3\\lib\\site-packages\\seaborn\\_decorators.py:36: FutureWarning: Pass the following variable as a keyword arg: x. From version 0.12, the only valid positional argument will be `data`, and passing other arguments without an explicit keyword will result in an error or misinterpretation.\n",
      "  warnings.warn(\n"
     ]
    },
    {
     "data": {
      "image/png": "[encoded data removed]",
      "text/plain": [
       "<Figure size 288x144 with 1 Axes>"
      ]
     },
     "metadata": {
      "needs_background": "light"
     },
     "output_type": "display_data"
    }
   ],
   "source": [
    "plt.figure(figsize=(4, 2))\n",
    "sns.countplot(df_0_1['note'])\n",
    "plt.show();"
   ]
  },
  {
   "cell_type": "code",
   "execution_count": 118,
   "id": "84544d53",
   "metadata": {},
   "outputs": [
    {
     "name": "stderr",
     "output_type": "stream",
     "text": [
      "C:\\Users\\t.fourtouill\\Anaconda3\\lib\\site-packages\\seaborn\\_decorators.py:36: FutureWarning: Pass the following variable as a keyword arg: x. From version 0.12, the only valid positional argument will be `data`, and passing other arguments without an explicit keyword will result in an error or misinterpretation.\n",
      "  warnings.warn(\n"
     ]
    },
    {
     "data": {
      "image/png": "[encoded data removed]",
      "text/plain": [
       "<Figure size 432x216 with 1 Axes>"
      ]
     },
     "metadata": {
      "needs_background": "light"
     },
     "output_type": "display_data"
    }
   ],
   "source": [
    "plt.figure(figsize=(6, 3))\n",
    "sns.countplot(df_test_0_1['note'])\n",
    "plt.show();"
   ]
  },
  {
   "cell_type": "code",
   "execution_count": 119,
   "id": "b8e99021",
   "metadata": {},
   "outputs": [
    {
     "data": {
      "text/plain": [
       "note            0\n",
       "commentaire    46\n",
       "dtype: int64"
      ]
     },
     "execution_count": 119,
     "metadata": {},
     "output_type": "execute_result"
    }
   ],
   "source": [
    "df_0_1.isna().sum()"
   ]
  },
  {
   "cell_type": "code",
   "execution_count": 120,
   "id": "0beee64a",
   "metadata": {},
   "outputs": [
    {
     "name": "stderr",
     "output_type": "stream",
     "text": [
      "C:\\Users\\t.fourtouill\\Anaconda3\\lib\\site-packages\\seaborn\\_decorators.py:36: FutureWarning: Pass the following variable as a keyword arg: x. From version 0.12, the only valid positional argument will be `data`, and passing other arguments without an explicit keyword will result in an error or misinterpretation.\n",
      "  warnings.warn(\n"
     ]
    },
    {
     "data": {
      "image/png": "[encoded data removed]",
      "text/plain": [
       "<Figure size 288x144 with 1 Axes>"
      ]
     },
     "metadata": {
      "needs_background": "light"
     },
     "output_type": "display_data"
    }
   ],
   "source": [
    "df_0_1 = df_0_1[df_0_1['commentaire'].isna()==False]\n",
    "df_0_1 = df_0_1[df_0_1['note']!=3]\n",
    "df_0_1['note'] = df_0_1['note'].replace({'1' : '0', '2' : '0', '4' : '1', '5' : '1'})\n",
    "\n",
    "plt.figure(figsize=(4, 2))\n",
    "sns.countplot(df_0_1['note'])\n",
    "plt.show();"
   ]
  },
  {
   "cell_type": "code",
   "execution_count": 121,
   "id": "6e0b6797",
   "metadata": {},
   "outputs": [
    {
     "name": "stderr",
     "output_type": "stream",
     "text": [
      "C:\\Users\\t.fourtouill\\Anaconda3\\lib\\site-packages\\seaborn\\_decorators.py:36: FutureWarning: Pass the following variable as a keyword arg: x. From version 0.12, the only valid positional argument will be `data`, and passing other arguments without an explicit keyword will result in an error or misinterpretation.\n",
      "  warnings.warn(\n"
     ]
    },
    {
     "data": {
      "image/png": "[encoded data removed]",
      "text/plain": [
       "<Figure size 288x144 with 1 Axes>"
      ]
     },
     "metadata": {
      "needs_background": "light"
     },
     "output_type": "display_data"
    }
   ],
   "source": [
    "df_test_0_1 = df_test_0_1.drop(columns=['Unnamed: 0'])\n",
    "df_test_0_1 = df_test_0_1[df_test_0_1['commentaire'].isna()==False]\n",
    "df_test_0_1 = df_test_0_1[df_test_0_1['note']!=3]\n",
    "df_test_0_1['note'] = df_test_0_1['note'].replace({1 : 0, 2 : 0, 4 : 1, 5 : 1})\n",
    "\n",
    "plt.figure(figsize=(4, 2))\n",
    "sns.countplot(df_test_0_1['note'])\n",
    "plt.show();"
   ]
  },
  {
   "cell_type": "code",
   "execution_count": 122,
   "id": "556cf49a",
   "metadata": {},
   "outputs": [],
   "source": [
    "# séparation de la variable cible et des variables explicatives\n",
    "X1 = df_0_1['commentaire']\n",
    "y1 = df_0_1['note']"
   ]
  },
  {
   "cell_type": "code",
   "execution_count": 123,
   "id": "5948816d",
   "metadata": {},
   "outputs": [],
   "source": [
    "# séparation du jeu de données en un dataset d'entrainement et un dataset de test\n",
    "from sklearn.model_selection import train_test_split\n",
    "X_train1, X_test1, y_train1, y_test1 = train_test_split(X1, y1, test_size=0.2, shuffle=True)"
   ]
  },
  {
   "cell_type": "code",
   "execution_count": 124,
   "id": "7ca17414",
   "metadata": {},
   "outputs": [],
   "source": [
    "# entrainement de la tokenisation sur le X_train\n",
    "tk.fit_on_texts(X_train1)"
   ]
  },
  {
   "cell_type": "code",
   "execution_count": 125,
   "id": "5d99c6d6",
   "metadata": {},
   "outputs": [
    {
     "data": {
      "text/plain": [
       "39023"
      ]
     },
     "execution_count": 125,
     "metadata": {},
     "output_type": "execute_result"
    }
   ],
   "source": [
    "# nb de ligne de la matrice\n",
    "word_index = tk.word_index\n",
    "len(tk.word_index)"
   ]
  },
  {
   "cell_type": "code",
   "execution_count": 126,
   "id": "02810943",
   "metadata": {},
   "outputs": [
    {
     "data": {
      "text/plain": [
       "5000"
      ]
     },
     "execution_count": 126,
     "metadata": {},
     "output_type": "execute_result"
    }
   ],
   "source": [
    "# nb de colonnes dans la matrice\n",
    "vocabulary_size = tk.num_words\n",
    "vocabulary_size"
   ]
  },
  {
   "cell_type": "code",
   "execution_count": 127,
   "id": "667aec1f",
   "metadata": {},
   "outputs": [],
   "source": [
    "# mise sous vecteur des commentaires\n",
    "X_seq_train1 = tk.texts_to_sequences(X_train1)\n",
    "X_seq_test1 = tk.texts_to_sequences(X_test1)"
   ]
  },
  {
   "cell_type": "code",
   "execution_count": 128,
   "id": "ba6f42a1",
   "metadata": {},
   "outputs": [
    {
     "name": "stdout",
     "output_type": "stream",
     "text": [
      "[16, 2, 129, 1057, 33, 252, 3, 1418, 100]\n",
      "[16, 6]\n",
      "[190, 96, 233]\n",
      "[12, 649, 128]\n",
      "[8, 608, 1107, 58, 41, 394, 103, 84, 23, 41, 9, 1811, 178, 23, 2695, 1, 81, 9, 178, 126, 142, 3660, 17]\n"
     ]
    }
   ],
   "source": [
    "# affichage de la vectorisation réalisée\n",
    "for x in range(0,5):\n",
    "    print(X_seq_train1[x])"
   ]
  },
  {
   "cell_type": "code",
   "execution_count": 129,
   "id": "d21b6c6e",
   "metadata": {},
   "outputs": [],
   "source": [
    "# transformation en matrice de même longueur par maxlen défini ci-dessous. Avec des 0 si colonne inférieure à maxlen\n",
    "max_words = 130\n",
    "X_pad_train1 = pad_sequences(X_seq_train1, maxlen=max_words, padding='post')\n",
    "X_pad_test1 = pad_sequences(X_seq_test1, maxlen=max_words, padding='post')"
   ]
  },
  {
   "cell_type": "code",
   "execution_count": 130,
   "id": "1d505b13",
   "metadata": {},
   "outputs": [
    {
     "name": "stdout",
     "output_type": "stream",
     "text": [
      "(63065, 130)\n"
     ]
    },
    {
     "data": {
      "text/plain": [
       "array([[  16,    2,  129, ...,    0,    0,    0],\n",
       "       [  16,    6,    0, ...,    0,    0,    0],\n",
       "       [ 190,   96,  233, ...,    0,    0,    0],\n",
       "       ...,\n",
       "       [  40,   25,   11, ...,    0,    0,    0],\n",
       "       [   7, 3152,    5, ...,    0,    0,    0],\n",
       "       [ 159,   26,   21, ...,    0,    0,    0]])"
      ]
     },
     "execution_count": 130,
     "metadata": {},
     "output_type": "execute_result"
    }
   ],
   "source": [
    "# affice de la matrice\n",
    "print(X_pad_train1.shape)\n",
    "X_pad_train1"
   ]
  },
  {
   "cell_type": "code",
   "execution_count": 131,
   "id": "aa7ec76d",
   "metadata": {},
   "outputs": [
    {
     "name": "stdout",
     "output_type": "stream",
     "text": [
      "Model: \"sequential_3\"\n",
      "_________________________________________________________________\n",
      " Layer (type)                Output Shape              Param #   \n",
      "=================================================================\n",
      " embedding_3 (Embedding)     (None, 130, 100)          500000    \n",
      "                                                                 \n",
      " global_average_pooling1d_3   (None, 100)              0         \n",
      " (GlobalAveragePooling1D)                                        \n",
      "                                                                 \n",
      " dense_6 (Dense)             (None, 256)               25856     \n",
      "                                                                 \n",
      " dropout_3 (Dropout)         (None, 256)               0         \n",
      "                                                                 \n",
      " dense_7 (Dense)             (None, 1)                 257       \n",
      "                                                                 \n",
      "=================================================================\n",
      "Total params: 526,113\n",
      "Trainable params: 526,113\n",
      "Non-trainable params: 0\n",
      "_________________________________________________________________\n"
     ]
    }
   ],
   "source": [
    "# Création des couches du modéle\n",
    "\n",
    "from tensorflow.keras.models import Sequential\n",
    "from tensorflow.keras.layers import Dense, GlobalAveragePooling1D, Input, Embedding, Dropout\n",
    "\n",
    "embedding_size = 100\n",
    "\n",
    "model_0_1_embedding_1 = Sequential()\n",
    "model_0_1_embedding_1.add(Embedding(input_dim=vocabulary_size, output_dim=embedding_size, input_length=max_words, embeddings_initializer='uniform'))  # On reprend le nb de mot choisi dans la tokenisation\n",
    "model_0_1_embedding_1.add(GlobalAveragePooling1D())\n",
    "model_0_1_embedding_1.add(Dense(units=256, activation='relu'))\n",
    "model_0_1_embedding_1.add(Dropout(rate=0.3))\n",
    "model_0_1_embedding_1.add(Dense(units=1, activation='sigmoid')) # En sortie le nb de units devra correspondre aux nb de variables cibles\n",
    "\n",
    "model_0_1_embedding_1.summary()"
   ]
  },
  {
   "cell_type": "code",
   "execution_count": 132,
   "id": "3e892380",
   "metadata": {},
   "outputs": [],
   "source": [
    "model_0_1_embedding_1.compile(loss='binary_crossentropy', optimizer='adam', metrics=['accuracy'])"
   ]
  },
  {
   "cell_type": "code",
   "execution_count": 133,
   "id": "96b9a68e",
   "metadata": {},
   "outputs": [
    {
     "name": "stdout",
     "output_type": "stream",
     "text": [
      "Epoch 1/10\n",
      "1774/1774 [==============================] - 15s 8ms/step - loss: 0.1841 - accuracy: 0.9309 - val_loss: 0.1449 - val_accuracy: 0.9534\n",
      "Epoch 2/10\n",
      "1774/1774 [==============================] - 14s 8ms/step - loss: 0.1163 - accuracy: 0.9569 - val_loss: 0.1218 - val_accuracy: 0.9534\n",
      "Epoch 3/10\n",
      "1774/1774 [==============================] - 14s 8ms/step - loss: 0.1026 - accuracy: 0.9618 - val_loss: 0.1226 - val_accuracy: 0.9539\n",
      "Epoch 4/10\n",
      "1774/1774 [==============================] - 14s 8ms/step - loss: 0.0940 - accuracy: 0.9650 - val_loss: 0.1461 - val_accuracy: 0.9501\n",
      "Epoch 5/10\n",
      "1774/1774 [==============================] - ETA: 0s - loss: 0.0861 - accuracy: 0.9688Restoring model weights from the end of the best epoch: 2.\n",
      "1774/1774 [==============================] - 14s 8ms/step - loss: 0.0861 - accuracy: 0.9688 - val_loss: 0.1561 - val_accuracy: 0.9501\n",
      "Epoch 5: early stopping\n"
     ]
    }
   ],
   "source": [
    "batch_size = 32\n",
    "epochs = 10\n",
    "history_0_1 = model_0_1_embedding_1.fit(X_pad_train1, y_train1, batch_size=batch_size, epochs=epochs, validation_split=0.1,\n",
    "                               callbacks=[early_stop, time_callback])"
   ]
  },
  {
   "cell_type": "code",
   "execution_count": 134,
   "id": "f9c03869",
   "metadata": {},
   "outputs": [
    {
     "name": "stdout",
     "output_type": "stream",
     "text": [
      "493/493 [==============================] - 1s 2ms/step - loss: 0.1151 - accuracy: 0.9571\n"
     ]
    },
    {
     "data": {
      "text/plain": [
       "[0.11511775851249695, 0.9571256637573242]"
      ]
     },
     "execution_count": 134,
     "metadata": {},
     "output_type": "execute_result"
    }
   ],
   "source": [
    "model_0_1_embedding_1.evaluate(X_pad_test1, y_test1, verbose=1)"
   ]
  },
  {
   "cell_type": "markdown",
   "id": "b828c631",
   "metadata": {},
   "source": [
    "### Calcul des prédictions négatives et positives sur le jeu de test cdiscount"
   ]
  },
  {
   "cell_type": "code",
   "execution_count": 135,
   "id": "f5ccbe57",
   "metadata": {},
   "outputs": [
    {
     "name": "stdout",
     "output_type": "stream",
     "text": [
      "493/493 [==============================] - 1s 2ms/step\n"
     ]
    }
   ],
   "source": [
    "# création des prédictions du eu de test cdiscount à partir du modèle\n",
    "predict_cdiscount1 = model_0_1_embedding_1.predict(X_pad_test1, verbose=1)"
   ]
  },
  {
   "cell_type": "code",
   "execution_count": 136,
   "id": "c61b35bd",
   "metadata": {},
   "outputs": [
    {
     "data": {
      "text/plain": [
       "array([[0.2523619 ],\n",
       "       [0.97617435],\n",
       "       [0.7759021 ],\n",
       "       ...,\n",
       "       [0.41580522],\n",
       "       [0.999653  ],\n",
       "       [0.99997914]], dtype=float32)"
      ]
     },
     "execution_count": 136,
     "metadata": {},
     "output_type": "execute_result"
    }
   ],
   "source": [
    "predict_cdiscount1"
   ]
  },
  {
   "cell_type": "code",
   "execution_count": 137,
   "id": "2fe07a90",
   "metadata": {},
   "outputs": [
    {
     "data": {
      "text/plain": [
       "array([0, 1, 1, ..., 0, 1, 1])"
      ]
     },
     "execution_count": 137,
     "metadata": {},
     "output_type": "execute_result"
    }
   ],
   "source": [
    "predict_cdiscount_class1 = predict_cdiscount1.round().astype('int').ravel()\n",
    "predict_cdiscount_class1"
   ]
  },
  {
   "cell_type": "code",
   "execution_count": 138,
   "id": "64cd865c",
   "metadata": {},
   "outputs": [
    {
     "name": "stderr",
     "output_type": "stream",
     "text": [
      "C:\\Users\\t.fourtouill\\Anaconda3\\lib\\site-packages\\seaborn\\_decorators.py:36: FutureWarning: Pass the following variable as a keyword arg: x. From version 0.12, the only valid positional argument will be `data`, and passing other arguments without an explicit keyword will result in an error or misinterpretation.\n",
      "  warnings.warn(\n"
     ]
    },
    {
     "data": {
      "image/png": "[encoded data removed]",
      "text/plain": [
       "<Figure size 288x216 with 1 Axes>"
      ]
     },
     "metadata": {
      "needs_background": "light"
     },
     "output_type": "display_data"
    }
   ],
   "source": [
    "plt.figure(figsize=(4, 3))\n",
    "sns.countplot(predict_cdiscount_class1)\n",
    "plt.show();"
   ]
  },
  {
   "cell_type": "markdown",
   "id": "14ed6ff5",
   "metadata": {},
   "source": [
    "### Calcul des prédictions négatives et positives sur le jeu de test amazon"
   ]
  },
  {
   "cell_type": "code",
   "execution_count": null,
   "id": "5ccf1520",
   "metadata": {},
   "outputs": [],
   "source": []
  },
  {
   "cell_type": "code",
   "execution_count": 139,
   "id": "1ed4f2fe",
   "metadata": {},
   "outputs": [],
   "source": [
    "# séparation de la variable cible et des variables explicatives\n",
    "check_set_amazon = df_test_0_1['commentaire'].values"
   ]
  },
  {
   "cell_type": "code",
   "execution_count": 140,
   "id": "3ba91546",
   "metadata": {},
   "outputs": [],
   "source": [
    "# vectorisation des token\n",
    "check_seq_amazon = tk.texts_to_sequences(check_set_amazon)"
   ]
  },
  {
   "cell_type": "code",
   "execution_count": 141,
   "id": "f8a34a06",
   "metadata": {},
   "outputs": [],
   "source": [
    "# mise sous matrice numpy\n",
    "check_pad_amazon = pad_sequences(check_seq_amazon, maxlen=max_words, padding='post')"
   ]
  },
  {
   "cell_type": "code",
   "execution_count": 142,
   "id": "f0032936",
   "metadata": {},
   "outputs": [
    {
     "name": "stdout",
     "output_type": "stream",
     "text": [
      "3/3 [==============================] - 0s 2ms/step\n"
     ]
    }
   ],
   "source": [
    "# création des prédictions du jeu de test amazon à partir du modèle\n",
    "check_predict_0_1 = model_0_1_embedding_1.predict(check_pad_amazon, verbose=1)"
   ]
  },
  {
   "cell_type": "code",
   "execution_count": 143,
   "id": "8f815ae9",
   "metadata": {},
   "outputs": [
    {
     "name": "stdout",
     "output_type": "stream",
     "text": [
      "[0.11085403]\n",
      "[0.15433058]\n",
      "[0.15890971]\n",
      "[0.10360307]\n",
      "[0.0029231]\n",
      "[0.00900808]\n",
      "[0.01428121]\n",
      "[0.02093473]\n",
      "[0.12012017]\n",
      "[0.0024094]\n"
     ]
    }
   ],
   "source": [
    "for i in range(10):\n",
    "    print(check_predict_0_1[i])"
   ]
  },
  {
   "cell_type": "code",
   "execution_count": 144,
   "id": "dcc62e2e",
   "metadata": {},
   "outputs": [
    {
     "data": {
      "text/plain": [
       "array([0, 0, 0, 0, 0, 0, 0, 0, 0, 0, 0, 0, 0, 1, 0, 0, 0, 0, 0, 0, 0, 0,\n",
       "       0, 0, 0, 0, 0, 0, 0, 0, 0, 0, 0, 0, 0, 0, 0, 0, 0, 0, 0, 1, 1, 1,\n",
       "       0, 1, 1, 1, 0, 1, 1, 1, 1, 1, 0, 0, 0, 1, 1, 1, 1, 1, 1, 1, 1, 1,\n",
       "       0, 1, 0, 1, 1, 1, 1, 1, 1, 0, 1, 1, 1, 1])"
      ]
     },
     "execution_count": 144,
     "metadata": {},
     "output_type": "execute_result"
    }
   ],
   "source": [
    "check_predict_0_1_class = check_predict_0_1.round().astype('int').ravel()\n",
    "check_predict_0_1_class"
   ]
  },
  {
   "cell_type": "code",
   "execution_count": 145,
   "id": "3517deb6",
   "metadata": {},
   "outputs": [
    {
     "name": "stderr",
     "output_type": "stream",
     "text": [
      "C:\\Users\\t.fourtouill\\Anaconda3\\lib\\site-packages\\seaborn\\_decorators.py:36: FutureWarning: Pass the following variable as a keyword arg: x. From version 0.12, the only valid positional argument will be `data`, and passing other arguments without an explicit keyword will result in an error or misinterpretation.\n",
      "  warnings.warn(\n"
     ]
    },
    {
     "data": {
      "image/png": "[encoded data removed]",
      "text/plain": [
       "<Figure size 288x216 with 1 Axes>"
      ]
     },
     "metadata": {
      "needs_background": "light"
     },
     "output_type": "display_data"
    }
   ],
   "source": [
    "plt.figure(figsize=(4, 3))\n",
    "sns.countplot(check_predict_0_1_class)\n",
    "plt.show();"
   ]
  },
  {
   "cell_type": "code",
   "execution_count": 146,
   "id": "494df9a3",
   "metadata": {},
   "outputs": [
    {
     "data": {
      "text/html": [
       "<div>\n",
       "<style scoped>\n",
       "    .dataframe tbody tr th:only-of-type {\n",
       "        vertical-align: middle;\n",
       "    }\n",
       "\n",
       "    .dataframe tbody tr th {\n",
       "        vertical-align: top;\n",
       "    }\n",
       "\n",
       "    .dataframe thead th {\n",
       "        text-align: right;\n",
       "    }\n",
       "</style>\n",
       "<table border=\"1\" class=\"dataframe\">\n",
       "  <thead>\n",
       "    <tr style=\"text-align: right;\">\n",
       "      <th></th>\n",
       "      <th>commentaire</th>\n",
       "      <th>note</th>\n",
       "      <th>prediction</th>\n",
       "    </tr>\n",
       "  </thead>\n",
       "  <tbody>\n",
       "    <tr>\n",
       "      <th>0</th>\n",
       "      <td>MENZZONous aimerions savoir pourquoi vous ne retournez pas l'argent de vos clients et vous continuez à trouver des excuses à ce sujet. Les personnes qui donnent leur avis sur les réseaux sociaux vous bloqueront et leurs mails ne recevront pas de réponse. Pensez-vous que c'est normal?</td>\n",
       "      <td>1</td>\n",
       "      <td>1</td>\n",
       "    </tr>\n",
       "    <tr>\n",
       "      <th>1</th>\n",
       "      <td>Voulant acheter un pare soleil  de marque pour mon appareil photo le prix étant de 28 € environ quel a pas était ma surprise de voir ce prix  grimper  à 45 € en l'espace  de 5 mn et tous ça  sur le site Amazon y a t'il d'autres  personnes à qui cela est  arrivé , je serai curieux  de  lire vos témoignages  ( pratiques de voyous)</td>\n",
       "      <td>1</td>\n",
       "      <td>1</td>\n",
       "    </tr>\n",
       "    <tr>\n",
       "      <th>2</th>\n",
       "      <td>Comment souvent problème d'envoi ou réception de marchandise biensure service client au téléphone ce n est pas leur faute c est les gens de l emballage belle esprit d équipe je ne commanderai plus chez vous</td>\n",
       "      <td>1</td>\n",
       "      <td>1</td>\n",
       "    </tr>\n",
       "    <tr>\n",
       "      <th>3</th>\n",
       "      <td>L’arnaque des livreurs qui ne respectent pas les instructions des livraison, laissent le clos n’importe où le marquent livres alors qu ils ont pas livres! Le service client à part dire ; on va faire remonter l’info et ouvrir une enquête », ne fait rien! Avec l’argent qu engrange Amazon il s’agirait de s entourer de livreurs fiables !!</td>\n",
       "      <td>1</td>\n",
       "      <td>1</td>\n",
       "    </tr>\n",
       "    <tr>\n",
       "      <th>4</th>\n",
       "      <td>J’ai commandé un article très cher qui est supposé être neuf. A ma surprise en recevant le colis l l’article semble déjà ouvert/voir même déjà utilisé, le carton de l’article était déchiré.. étant la grosse somme que j’ai dépensé sur cet article je ne peux accepter de recevoir du reconditionné au prix du neuf. En demandant le retour Amazon refuse de me rembourser sur carte bancaire mais plutôt uniquement par avoir et ça c’est absurde car c’est pas de ma faute c’est la faute à Amazon, d’ailleurs pourquoi m’obliger à consommer par force une telle grosse somme sur leur site, moi je veux pas d’avoir je veux mon argent sur mon compte bancaire !!!! J’ai commencé les démarches pour ouvrir un contentieux contre Amazon !</td>\n",
       "      <td>1</td>\n",
       "      <td>1</td>\n",
       "    </tr>\n",
       "  </tbody>\n",
       "</table>\n",
       "</div>"
      ],
      "text/plain": [
       "                                                                                                                                                                                                                                                                                                                                                                                                                                                                                                                                                                                                                                                                                                                                         commentaire  \\\n",
       "0                                                                                                                                                                                                                                                                                                                                                                                                                                                       MENZZONous aimerions savoir pourquoi vous ne retournez pas l'argent de vos clients et vous continuez à trouver des excuses à ce sujet. Les personnes qui donnent leur avis sur les réseaux sociaux vous bloqueront et leurs mails ne recevront pas de réponse. Pensez-vous que c'est normal?   \n",
       "1                                                                                                                                                                                                                                                                                                                                                                                                         Voulant acheter un pare soleil  de marque pour mon appareil photo le prix étant de 28 € environ quel a pas était ma surprise de voir ce prix  grimper  à 45 € en l'espace  de 5 mn et tous ça  sur le site Amazon y a t'il d'autres  personnes à qui cela est  arrivé , je serai curieux  de  lire vos témoignages  ( pratiques de voyous)   \n",
       "2                                                                                                                                                                                                                                                                                                                                                                                                                                                                                                                                     Comment souvent problème d'envoi ou réception de marchandise biensure service client au téléphone ce n est pas leur faute c est les gens de l emballage belle esprit d équipe je ne commanderai plus chez vous   \n",
       "3                                                                                                                                                                                                                                                                                                                                                                                                   L’arnaque des livreurs qui ne respectent pas les instructions des livraison, laissent le clos n’importe où le marquent livres alors qu ils ont pas livres! Le service client à part dire ; on va faire remonter l’info et ouvrir une enquête », ne fait rien! Avec l’argent qu engrange Amazon il s’agirait de s entourer de livreurs fiables !!   \n",
       "4  J’ai commandé un article très cher qui est supposé être neuf. A ma surprise en recevant le colis l l’article semble déjà ouvert/voir même déjà utilisé, le carton de l’article était déchiré.. étant la grosse somme que j’ai dépensé sur cet article je ne peux accepter de recevoir du reconditionné au prix du neuf. En demandant le retour Amazon refuse de me rembourser sur carte bancaire mais plutôt uniquement par avoir et ça c’est absurde car c’est pas de ma faute c’est la faute à Amazon, d’ailleurs pourquoi m’obliger à consommer par force une telle grosse somme sur leur site, moi je veux pas d’avoir je veux mon argent sur mon compte bancaire !!!! J’ai commencé les démarches pour ouvrir un contentieux contre Amazon !   \n",
       "\n",
       "   note  prediction  \n",
       "0     1           1  \n",
       "1     1           1  \n",
       "2     1           1  \n",
       "3     1           1  \n",
       "4     1           1  "
      ]
     },
     "execution_count": 146,
     "metadata": {},
     "output_type": "execute_result"
    }
   ],
   "source": [
    "# comparaison des prédictions et des notes du jeu de test\n",
    "check_df_0_1 = pd.DataFrame(list(zip(df_test_0_1.commentaire, df_test_0_1.note, check_predict_0_1_class)), columns=['commentaire', 'note', 'prediction'])\n",
    "check_df.head()"
   ]
  },
  {
   "cell_type": "code",
   "execution_count": 147,
   "id": "1965e9a5",
   "metadata": {},
   "outputs": [
    {
     "name": "stdout",
     "output_type": "stream",
     "text": [
      "              precision    recall  f1-score   support\n",
      "\n",
      "           0       0.81      0.97      0.89        40\n",
      "           1       0.97      0.78      0.86        40\n",
      "\n",
      "    accuracy                           0.88        80\n",
      "   macro avg       0.89      0.88      0.87        80\n",
      "weighted avg       0.89      0.88      0.87        80\n",
      "\n"
     ]
    },
    {
     "data": {
      "text/html": [
       "<div>\n",
       "<style scoped>\n",
       "    .dataframe tbody tr th:only-of-type {\n",
       "        vertical-align: middle;\n",
       "    }\n",
       "\n",
       "    .dataframe tbody tr th {\n",
       "        vertical-align: top;\n",
       "    }\n",
       "\n",
       "    .dataframe thead th {\n",
       "        text-align: right;\n",
       "    }\n",
       "</style>\n",
       "<table border=\"1\" class=\"dataframe\">\n",
       "  <thead>\n",
       "    <tr style=\"text-align: right;\">\n",
       "      <th>predictions</th>\n",
       "      <th>0</th>\n",
       "      <th>1</th>\n",
       "    </tr>\n",
       "    <tr>\n",
       "      <th>données réelles</th>\n",
       "      <th></th>\n",
       "      <th></th>\n",
       "    </tr>\n",
       "  </thead>\n",
       "  <tbody>\n",
       "    <tr>\n",
       "      <th>0</th>\n",
       "      <td>39</td>\n",
       "      <td>1</td>\n",
       "    </tr>\n",
       "    <tr>\n",
       "      <th>1</th>\n",
       "      <td>9</td>\n",
       "      <td>31</td>\n",
       "    </tr>\n",
       "  </tbody>\n",
       "</table>\n",
       "</div>"
      ],
      "text/plain": [
       "predictions       0   1\n",
       "données réelles        \n",
       "0                39   1\n",
       "1                 9  31"
      ]
     },
     "metadata": {},
     "output_type": "display_data"
    },
    {
     "data": {
      "text/html": [
       "<div>\n",
       "<style scoped>\n",
       "    .dataframe tbody tr th:only-of-type {\n",
       "        vertical-align: middle;\n",
       "    }\n",
       "\n",
       "    .dataframe tbody tr th {\n",
       "        vertical-align: top;\n",
       "    }\n",
       "\n",
       "    .dataframe thead th {\n",
       "        text-align: right;\n",
       "    }\n",
       "</style>\n",
       "<table border=\"1\" class=\"dataframe\">\n",
       "  <thead>\n",
       "    <tr style=\"text-align: right;\">\n",
       "      <th>predictions</th>\n",
       "      <th>0</th>\n",
       "      <th>1</th>\n",
       "    </tr>\n",
       "    <tr>\n",
       "      <th>données réelles</th>\n",
       "      <th></th>\n",
       "      <th></th>\n",
       "    </tr>\n",
       "  </thead>\n",
       "  <tbody>\n",
       "    <tr>\n",
       "      <th>0</th>\n",
       "      <td>0.975</td>\n",
       "      <td>0.025</td>\n",
       "    </tr>\n",
       "    <tr>\n",
       "      <th>1</th>\n",
       "      <td>0.225</td>\n",
       "      <td>0.775</td>\n",
       "    </tr>\n",
       "  </tbody>\n",
       "</table>\n",
       "</div>"
      ],
      "text/plain": [
       "predictions          0      1\n",
       "données réelles              \n",
       "0                0.975  0.025\n",
       "1                0.225  0.775"
      ]
     },
     "metadata": {},
     "output_type": "display_data"
    },
    {
     "name": "stdout",
     "output_type": "stream",
     "text": [
      "les prédictions correctes sont supérieures à 50% pour 0 étoile(s) avec 98%\n",
      "les prédictions correctes sont supérieures à 50% pour 1 étoile(s) avec 78%\n"
     ]
    }
   ],
   "source": [
    "from sklearn.metrics import classification_report\n",
    "\n",
    "# vérification des résultats sur un jeu de test externe (100 commentaires amazon également répartis entre les étoiles)\n",
    "\n",
    "cm_test1_0_1 = classification_report(df_test_0_1.note, check_predict_0_1_class)\n",
    "print(cm_test1_0_1)\n",
    "\n",
    "cm_test2_0_1 = pd.crosstab(df_test_0_1.note, check_predict_0_1_class, rownames=['données réelles'], colnames=['predictions'])\n",
    "display(cm_test2_0_1)\n",
    "\n",
    "cm_test3_0_1 = pd.crosstab(df_test_0_1.note, check_predict_0_1_class, rownames=['données réelles'], colnames=['predictions'], normalize=0)\n",
    "display(cm_test3_0_1)\n",
    "\n",
    "for i in cm_test3_0_1.index:\n",
    "    for j in cm_test3_0_1.columns :\n",
    "        if (i==j and cm_test3_0_1.loc[i, j] > 0.5) :\n",
    "            print(\"les prédictions correctes sont supérieures à 50% pour {} étoile(s) avec {:0.0%}\".format(i, cm_test3_0_1.loc[i, j]))"
   ]
  },
  {
   "cell_type": "code",
   "execution_count": 148,
   "id": "e40ea974",
   "metadata": {},
   "outputs": [
    {
     "name": "stdout",
     "output_type": "stream",
     "text": [
      "INFO:tensorflow:Assets written to: datasets/SatisfactionClients/model_0_1_embedding6\\assets\n"
     ]
    }
   ],
   "source": [
    "import os\n",
    "path = \"/Users/t.fourtouill/Downloads/SatisfactionClients\"\n",
    "os.makedirs(path, exist_ok=True)\n",
    "model_0_1_embedding_1.save('datasets/SatisfactionClients/model_0_1_embedding6')"
   ]
  }
 ],
 "metadata": {
  "kernelspec": {
   "display_name": "Python 3 (ipykernel)",
   "language": "python",
   "name": "python3"
  },
  "language_info": {
   "codemirror_mode": {
    "name": "ipython",
    "version": 3
   },
   "file_extension": ".py",
   "mimetype": "text/x-python",
   "name": "python",
   "nbconvert_exporter": "python",
   "pygments_lexer": "ipython3",
   "version": "3.9.7"
  }
 },
 "nbformat": 4,
 "nbformat_minor": 5
}

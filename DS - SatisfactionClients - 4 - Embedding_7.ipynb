{
 "cells": [
  {
   "cell_type": "code",
   "execution_count": 1,
   "id": "196d79a4",
   "metadata": {},
   "outputs": [],
   "source": [
    "import pandas as pd\n",
    "import numpy as np\n",
    "import matplotlib.pyplot as plt\n",
    "import seaborn as sns\n",
    "from time import time\n",
    "import itertools\n",
    "import keras\n",
    "import tensorflow"
   ]
  },
  {
   "cell_type": "code",
   "execution_count": 2,
   "id": "6b85a034",
   "metadata": {},
   "outputs": [],
   "source": [
    "pd.options.display.max_colwidth=800\n",
    "pd.set_option('display.max_rows', 500)\n",
    "pd.set_option('display.max_columns', 500)"
   ]
  },
  {
   "cell_type": "code",
   "execution_count": 3,
   "id": "119a889d",
   "metadata": {},
   "outputs": [
    {
     "data": {
      "text/html": [
       "<div>\n",
       "<style scoped>\n",
       "    .dataframe tbody tr th:only-of-type {\n",
       "        vertical-align: middle;\n",
       "    }\n",
       "\n",
       "    .dataframe tbody tr th {\n",
       "        vertical-align: top;\n",
       "    }\n",
       "\n",
       "    .dataframe thead th {\n",
       "        text-align: right;\n",
       "    }\n",
       "</style>\n",
       "<table border=\"1\" class=\"dataframe\">\n",
       "  <thead>\n",
       "    <tr style=\"text-align: right;\">\n",
       "      <th></th>\n",
       "      <th>note</th>\n",
       "      <th>commentaire</th>\n",
       "    </tr>\n",
       "  </thead>\n",
       "  <tbody>\n",
       "    <tr>\n",
       "      <th>0</th>\n",
       "      <td>1</td>\n",
       "      <td>après avoir soutenu livreur poste déclaration colis livre vient m'aviser colis suite non réclamation vient tre retourné l'expéditeur donc tous menteurs colis n'a donc jamais livré voici preuve flagrante discount persiste demandant malgré cette déclaration tas justificatifs inutiles menteurs voleurs</td>\n",
       "    </tr>\n",
       "    <tr>\n",
       "      <th>1</th>\n",
       "      <td>1</td>\n",
       "      <td>service client abonnés absents invite chercher commentaires seuls ceux passent reste extr tout difficile avertir personnellement commandé réfrigérateur livre mauvaise référence depuis mois propose uniquement reprise sans livraison donc fais comment aliments réfrigérateur combiné mise demeure etc fonctionne</td>\n",
       "    </tr>\n",
       "  </tbody>\n",
       "</table>\n",
       "</div>"
      ],
      "text/plain": [
       "   note  \\\n",
       "0     1   \n",
       "1     1   \n",
       "\n",
       "                                                                                                                                                                                                                                                                                                            commentaire  \n",
       "0          après avoir soutenu livreur poste déclaration colis livre vient m'aviser colis suite non réclamation vient tre retourné l'expéditeur donc tous menteurs colis n'a donc jamais livré voici preuve flagrante discount persiste demandant malgré cette déclaration tas justificatifs inutiles menteurs voleurs   \n",
       "1  service client abonnés absents invite chercher commentaires seuls ceux passent reste extr tout difficile avertir personnellement commandé réfrigérateur livre mauvaise référence depuis mois propose uniquement reprise sans livraison donc fais comment aliments réfrigérateur combiné mise demeure etc fonctionne   "
      ]
     },
     "execution_count": 3,
     "metadata": {},
     "output_type": "execute_result"
    }
   ],
   "source": [
    "df = pd.read_csv('datasets/SatisfactionClients/cdiscount2.csv')\n",
    "df_test = pd.read_csv('datasets/SatisfactionClients/amazon_test1.csv')\n",
    "df.head(2)"
   ]
  },
  {
   "cell_type": "code",
   "execution_count": 4,
   "id": "d4bae705",
   "metadata": {},
   "outputs": [
    {
     "data": {
      "text/plain": [
       "note            0\n",
       "commentaire    54\n",
       "dtype: int64"
      ]
     },
     "execution_count": 4,
     "metadata": {},
     "output_type": "execute_result"
    }
   ],
   "source": [
    "df.isna().sum()"
   ]
  },
  {
   "cell_type": "code",
   "execution_count": 5,
   "id": "e5b1e976",
   "metadata": {},
   "outputs": [],
   "source": [
    "df = df[df['commentaire'].isna()==False]"
   ]
  },
  {
   "cell_type": "code",
   "execution_count": 6,
   "id": "f13e334a",
   "metadata": {},
   "outputs": [],
   "source": [
    "# séparation de la variable cible et des variables explicatives\n",
    "X = df['commentaire']\n",
    "y = df['note'].values"
   ]
  },
  {
   "cell_type": "code",
   "execution_count": 7,
   "id": "6269af3d",
   "metadata": {},
   "outputs": [],
   "source": [
    "# séparation du jeu de données en un dataset d'entrainement et un dataset de test\n",
    "from sklearn.model_selection import train_test_split\n",
    "X_train, X_test, y_train, y_test = train_test_split(X, y, test_size=0.2, shuffle=True)"
   ]
  },
  {
   "cell_type": "code",
   "execution_count": 8,
   "id": "0673da10",
   "metadata": {},
   "outputs": [
    {
     "name": "stdout",
     "output_type": "stream",
     "text": [
      "(67552,)\n",
      "(16888,)\n",
      "(100, 3)\n"
     ]
    }
   ],
   "source": [
    "print(X_train.shape)\n",
    "print(X_test.shape)\n",
    "print(df_test.shape)"
   ]
  },
  {
   "cell_type": "code",
   "execution_count": 9,
   "id": "d40a7b61",
   "metadata": {},
   "outputs": [],
   "source": [
    "from keras.preprocessing.text import Tokenizer\n",
    "from keras.preprocessing.sequence import pad_sequences"
   ]
  },
  {
   "cell_type": "code",
   "execution_count": 10,
   "id": "7709d894",
   "metadata": {},
   "outputs": [],
   "source": [
    "# tokenisation des commentaires\n",
    "num_words=5000\n",
    "tk = Tokenizer(num_words=num_words, lower=True)"
   ]
  },
  {
   "cell_type": "code",
   "execution_count": 11,
   "id": "014744b9",
   "metadata": {},
   "outputs": [],
   "source": [
    "# entrainement de la tokenisation sur le X_train\n",
    "tk.fit_on_texts(X_train)"
   ]
  },
  {
   "cell_type": "code",
   "execution_count": 12,
   "id": "5faa7d54",
   "metadata": {},
   "outputs": [
    {
     "data": {
      "text/plain": [
       "35606"
      ]
     },
     "execution_count": 12,
     "metadata": {},
     "output_type": "execute_result"
    }
   ],
   "source": [
    "# nb de ligne de la matrice\n",
    "word_index = tk.word_index\n",
    "len(tk.word_index)"
   ]
  },
  {
   "cell_type": "code",
   "execution_count": 13,
   "id": "8a275671",
   "metadata": {},
   "outputs": [
    {
     "data": {
      "text/plain": [
       "5000"
      ]
     },
     "execution_count": 13,
     "metadata": {},
     "output_type": "execute_result"
    }
   ],
   "source": [
    "# nb de colonnes dans la matrice\n",
    "vocabulary_size = tk.num_words\n",
    "vocabulary_size"
   ]
  },
  {
   "cell_type": "code",
   "execution_count": 14,
   "id": "c937c451",
   "metadata": {},
   "outputs": [],
   "source": [
    "# mise sous vecteur des commentaires\n",
    "X_seq_train = tk.texts_to_sequences(X_train)\n",
    "X_seq_test = tk.texts_to_sequences(X_test)"
   ]
  },
  {
   "cell_type": "code",
   "execution_count": 15,
   "id": "204ad175",
   "metadata": {},
   "outputs": [
    {
     "name": "stdout",
     "output_type": "stream",
     "text": [
      "[25, 4159, 410, 2, 270, 167, 40, 174, 623, 1475, 7, 189, 2035]\n",
      "[414, 30]\n",
      "[26, 942, 4, 40, 632]\n",
      "[4, 12, 5, 12]\n",
      "[23, 7, 6, 2916, 754]\n"
     ]
    }
   ],
   "source": [
    "# affichage de la vectorisation réalisée\n",
    "for x in range(0,5):\n",
    "    print(X_seq_train[x])"
   ]
  },
  {
   "cell_type": "code",
   "execution_count": 16,
   "id": "e647906d",
   "metadata": {},
   "outputs": [
    {
     "data": {
      "text/plain": [
       "Text(0.5, 1.0, 'commentaires bruts')"
      ]
     },
     "execution_count": 16,
     "metadata": {},
     "output_type": "execute_result"
    },
    {
     "data": {
      "image/png": "[encoded data removed]",
      "text/plain": [
       "<Figure size 864x288 with 1 Axes>"
      ]
     },
     "metadata": {
      "needs_background": "light"
     },
     "output_type": "display_data"
    }
   ],
   "source": [
    "# affichage du nb de mots par commentaire pour nous aider à déterminer le nb de mots à choisir dans la matrice \n",
    "df['split'] = df['commentaire'].apply(lambda x: len(x.split(' ')))\n",
    "\n",
    "plt.figure(figsize=(12, 4))\n",
    "plt.subplot(121)\n",
    "plt.hist(df['split'])\n",
    "plt.xlim([0, 300])\n",
    "plt.title('commentaires bruts')"
   ]
  },
  {
   "cell_type": "code",
   "execution_count": 17,
   "id": "aa8ad6cf",
   "metadata": {},
   "outputs": [],
   "source": [
    "# transformation en matrice de même longueur par maxlen défini ci-dessous. Avec des 0 si colonne inférieure à maxlen\n",
    "max_words = 130\n",
    "X_pad_train = pad_sequences(X_seq_train, maxlen=max_words, padding='post')\n",
    "X_pad_test= pad_sequences(X_seq_test, maxlen=max_words, padding='post')"
   ]
  },
  {
   "cell_type": "code",
   "execution_count": 18,
   "id": "e5651d36",
   "metadata": {},
   "outputs": [
    {
     "name": "stdout",
     "output_type": "stream",
     "text": [
      "(67552, 130)\n"
     ]
    },
    {
     "data": {
      "text/plain": [
       "array([[  25, 4159,  410, ...,    0,    0,    0],\n",
       "       [ 414,   30,    0, ...,    0,    0,    0],\n",
       "       [  26,  942,    4, ...,    0,    0,    0],\n",
       "       ...,\n",
       "       [  70,  450,   24, ...,    0,    0,    0],\n",
       "       [1976,  597,   31, ...,    0,    0,    0],\n",
       "       [  21,    8,  169, ...,    0,    0,    0]])"
      ]
     },
     "execution_count": 18,
     "metadata": {},
     "output_type": "execute_result"
    }
   ],
   "source": [
    "# affice de la matrice\n",
    "print(X_pad_train.shape)\n",
    "X_pad_train"
   ]
  },
  {
   "cell_type": "code",
   "execution_count": 42,
   "id": "a509121c",
   "metadata": {},
   "outputs": [
    {
     "name": "stdout",
     "output_type": "stream",
     "text": [
      "Model: \"sequential_8\"\n",
      "_________________________________________________________________\n",
      " Layer (type)                Output Shape              Param #   \n",
      "=================================================================\n",
      " embedding_6 (Embedding)     (None, 130, 100)          500000    \n",
      "                                                                 \n",
      " global_average_pooling1d_8   (None, 100)              0         \n",
      " (GlobalAveragePooling1D)                                        \n",
      "                                                                 \n",
      " dense_34 (Dense)            (None, 1024)              103424    \n",
      "                                                                 \n",
      " dense_35 (Dense)            (None, 6)                 6150      \n",
      "                                                                 \n",
      "=================================================================\n",
      "Total params: 609,574\n",
      "Trainable params: 609,574\n",
      "Non-trainable params: 0\n",
      "_________________________________________________________________\n"
     ]
    }
   ],
   "source": [
    "# Création des couches du modèle\n",
    "\n",
    "from tensorflow.keras.models import Sequential\n",
    "from tensorflow.keras.layers import Dense, GlobalAveragePooling1D, Input, Embedding, Dropout\n",
    "\n",
    "embedding_size = 100\n",
    "\n",
    "model_embedding_1 = Sequential()\n",
    "model_embedding_1.add(Embedding(input_dim=vocabulary_size, output_dim=embedding_size, input_length=max_words, embeddings_initializer='uniform'))  # On reprend le nb de mot choisi dans la tokenisation\n",
    "model_embedding_1.add(GlobalAveragePooling1D())\n",
    "model_embedding_1.add(Dense(units=1024, activation='relu'))\n",
    "model_embedding_1.add(Dense(units=6, activation='softmax')) # En sortie le nb de units devra correspondre aux nb de variables cibles\n",
    "\n",
    "model_embedding_1.summary()"
   ]
  },
  {
   "cell_type": "code",
   "execution_count": 25,
   "id": "36bca453",
   "metadata": {},
   "outputs": [],
   "source": [
    "# timer pour mesurer le temps écoulé entre les epochs de début et de fin de callback\n",
    "from tensorflow.keras.callbacks import Callback\n",
    "from timeit import default_timer as timer\n",
    "\n",
    "class TimingCallback(Callback):\n",
    "    def __init__(self, logs={}):\n",
    "        self.logs=[]\n",
    "    def on_epoch_begin(self, epoch, logs={}):\n",
    "        self.starttime = timer()\n",
    "    def on_epoch_end(self, epoch, logs={}):\n",
    "        self.logs.append(timer()-self.starttime)\n",
    "\n",
    "# instanciation la fonction TimingCallback()\n",
    "time_callback = TimingCallback()"
   ]
  },
  {
   "cell_type": "code",
   "execution_count": 21,
   "id": "4f9cb05f",
   "metadata": {},
   "outputs": [],
   "source": [
    "# Création des callback\n",
    "from tensorflow.keras.callbacks import EarlyStopping\n",
    "\n",
    "early_stop = EarlyStopping(monitor='val_loss',\n",
    "                          min_delta=0.01,\n",
    "                          patience=3,\n",
    "                          mode='min',\n",
    "                          restore_best_weights=True,\n",
    "                          verbose=1)"
   ]
  },
  {
   "cell_type": "code",
   "execution_count": 43,
   "id": "bbfcec82",
   "metadata": {},
   "outputs": [],
   "source": [
    "model_embedding_1.compile(loss='sparse_categorical_crossentropy', optimizer='adam', metrics=['accuracy'])"
   ]
  },
  {
   "cell_type": "code",
   "execution_count": 44,
   "id": "6a48774e",
   "metadata": {},
   "outputs": [
    {
     "name": "stdout",
     "output_type": "stream",
     "text": [
      "Epoch 1/10\n",
      "1900/1900 [==============================] - 29s 15ms/step - loss: 0.8495 - accuracy: 0.6714 - val_loss: 0.7500 - val_accuracy: 0.7022\n",
      "Epoch 2/10\n",
      "1900/1900 [==============================] - 28s 15ms/step - loss: 0.7302 - accuracy: 0.7083 - val_loss: 0.7178 - val_accuracy: 0.7179\n",
      "Epoch 3/10\n",
      "1900/1900 [==============================] - 27s 14ms/step - loss: 0.6978 - accuracy: 0.7181 - val_loss: 0.7163 - val_accuracy: 0.7210\n",
      "Epoch 4/10\n",
      "1900/1900 [==============================] - 27s 14ms/step - loss: 0.6808 - accuracy: 0.7246 - val_loss: 0.7282 - val_accuracy: 0.7152\n",
      "Epoch 5/10\n",
      "1897/1900 [============================>.] - ETA: 0s - loss: 0.6641 - accuracy: 0.7308Restoring model weights from the end of the best epoch: 2.\n",
      "1900/1900 [==============================] - 29s 15ms/step - loss: 0.6639 - accuracy: 0.7309 - val_loss: 0.7510 - val_accuracy: 0.7170\n",
      "Epoch 5: early stopping\n"
     ]
    }
   ],
   "source": [
    "batch_size = 32\n",
    "epochs = 10\n",
    "history = model_embedding_1.fit(X_pad_train, y_train, batch_size=batch_size, epochs=epochs, validation_split=0.1,\n",
    "                               callbacks=[early_stop, time_callback])"
   ]
  },
  {
   "cell_type": "code",
   "execution_count": 98,
   "id": "9ae167f8",
   "metadata": {},
   "outputs": [
    {
     "name": "stdout",
     "output_type": "stream",
     "text": [
      "528/528 [==============================] - 1s 3ms/step - loss: 0.7400 - accuracy: 0.7066\n"
     ]
    },
    {
     "data": {
      "text/plain": [
       "[0.7399685382843018, 0.7065963745117188]"
      ]
     },
     "execution_count": 98,
     "metadata": {},
     "output_type": "execute_result"
    }
   ],
   "source": [
    "model_embedding_1.evaluate(X_pad_test, y_test, verbose=1)"
   ]
  },
  {
   "cell_type": "markdown",
   "id": "6aa031ba",
   "metadata": {},
   "source": [
    "### Calcul des prédictions sur le le de test cdiscount"
   ]
  },
  {
   "cell_type": "code",
   "execution_count": 99,
   "id": "047e9d1c",
   "metadata": {},
   "outputs": [
    {
     "name": "stdout",
     "output_type": "stream",
     "text": [
      "528/528 [==============================] - 1s 2ms/step\n"
     ]
    }
   ],
   "source": [
    "# création des prédictions du eu de test cdiscount à partir du modèle\n",
    "predict_cdiscount = model_embedding_1.predict(X_pad_test, verbose=1)"
   ]
  },
  {
   "cell_type": "code",
   "execution_count": 100,
   "id": "839cd186",
   "metadata": {},
   "outputs": [
    {
     "data": {
      "text/plain": [
       "array([5, 1, 4, ..., 3, 5, 5], dtype=int64)"
      ]
     },
     "execution_count": 100,
     "metadata": {},
     "output_type": "execute_result"
    }
   ],
   "source": [
    "predict_cdiscount_class = predict_cdiscount.argmax(axis=1)\n",
    "predict_cdiscount_class"
   ]
  },
  {
   "cell_type": "code",
   "execution_count": 101,
   "id": "c60286b3",
   "metadata": {},
   "outputs": [
    {
     "name": "stderr",
     "output_type": "stream",
     "text": [
      "C:\\Users\\t.fourtouill\\Anaconda3\\lib\\site-packages\\seaborn\\_decorators.py:36: FutureWarning: Pass the following variable as a keyword arg: x. From version 0.12, the only valid positional argument will be `data`, and passing other arguments without an explicit keyword will result in an error or misinterpretation.\n",
      "  warnings.warn(\n"
     ]
    },
    {
     "data": {
      "image/png": "[encoded data removed]",
      "text/plain": [
       "<Figure size 432x288 with 1 Axes>"
      ]
     },
     "metadata": {
      "needs_background": "light"
     },
     "output_type": "display_data"
    }
   ],
   "source": [
    "sns.countplot(predict_cdiscount_class)\n",
    "plt.show();"
   ]
  },
  {
   "cell_type": "markdown",
   "id": "33371e69",
   "metadata": {},
   "source": [
    "### Calcul des prédictions sur le jeu de test amazon"
   ]
  },
  {
   "cell_type": "code",
   "execution_count": 102,
   "id": "fa5e08ab",
   "metadata": {},
   "outputs": [
    {
     "data": {
      "text/html": [
       "<div>\n",
       "<style scoped>\n",
       "    .dataframe tbody tr th:only-of-type {\n",
       "        vertical-align: middle;\n",
       "    }\n",
       "\n",
       "    .dataframe tbody tr th {\n",
       "        vertical-align: top;\n",
       "    }\n",
       "\n",
       "    .dataframe thead th {\n",
       "        text-align: right;\n",
       "    }\n",
       "</style>\n",
       "<table border=\"1\" class=\"dataframe\">\n",
       "  <thead>\n",
       "    <tr style=\"text-align: right;\">\n",
       "      <th></th>\n",
       "      <th>Unnamed: 0</th>\n",
       "      <th>note</th>\n",
       "      <th>commentaire</th>\n",
       "    </tr>\n",
       "  </thead>\n",
       "  <tbody>\n",
       "    <tr>\n",
       "      <th>0</th>\n",
       "      <td>0</td>\n",
       "      <td>1</td>\n",
       "      <td>MENZZONous aimerions savoir pourquoi vous ne retournez pas l'argent de vos clients et vous continuez à trouver des excuses à ce sujet. Les personnes qui donnent leur avis sur les réseaux sociaux vous bloqueront et leurs mails ne recevront pas de réponse. Pensez-vous que c'est normal?</td>\n",
       "    </tr>\n",
       "    <tr>\n",
       "      <th>1</th>\n",
       "      <td>1</td>\n",
       "      <td>1</td>\n",
       "      <td>Voulant acheter un pare soleil  de marque pour mon appareil photo le prix étant de 28 € environ quel a pas était ma surprise de voir ce prix  grimper  à 45 € en l'espace  de 5 mn et tous ça  sur le site Amazon y a t'il d'autres  personnes à qui cela est  arrivé , je serai curieux  de  lire vos témoignages  ( pratiques de voyous)</td>\n",
       "    </tr>\n",
       "  </tbody>\n",
       "</table>\n",
       "</div>"
      ],
      "text/plain": [
       "   Unnamed: 0  note  \\\n",
       "0           0     1   \n",
       "1           1     1   \n",
       "\n",
       "                                                                                                                                                                                                                                                                                                                                  commentaire  \n",
       "0                                                MENZZONous aimerions savoir pourquoi vous ne retournez pas l'argent de vos clients et vous continuez à trouver des excuses à ce sujet. Les personnes qui donnent leur avis sur les réseaux sociaux vous bloqueront et leurs mails ne recevront pas de réponse. Pensez-vous que c'est normal?  \n",
       "1  Voulant acheter un pare soleil  de marque pour mon appareil photo le prix étant de 28 € environ quel a pas était ma surprise de voir ce prix  grimper  à 45 € en l'espace  de 5 mn et tous ça  sur le site Amazon y a t'il d'autres  personnes à qui cela est  arrivé , je serai curieux  de  lire vos témoignages  ( pratiques de voyous)  "
      ]
     },
     "execution_count": 102,
     "metadata": {},
     "output_type": "execute_result"
    }
   ],
   "source": [
    "df_test.head(2)"
   ]
  },
  {
   "cell_type": "code",
   "execution_count": 103,
   "id": "cf9c42c4",
   "metadata": {},
   "outputs": [
    {
     "data": {
      "text/plain": [
       "Unnamed: 0     0\n",
       "note           0\n",
       "commentaire    0\n",
       "dtype: int64"
      ]
     },
     "execution_count": 103,
     "metadata": {},
     "output_type": "execute_result"
    }
   ],
   "source": [
    "df_test.isna().sum()"
   ]
  },
  {
   "cell_type": "code",
   "execution_count": 104,
   "id": "09478ff9",
   "metadata": {},
   "outputs": [],
   "source": [
    "df_test = df_test.drop(columns=['Unnamed: 0'], axis=1)"
   ]
  },
  {
   "cell_type": "code",
   "execution_count": 105,
   "id": "11489f4b",
   "metadata": {},
   "outputs": [],
   "source": [
    "# séparation de la variable cible et des variables explicatives\n",
    "check_set = df_test['commentaire'].values"
   ]
  },
  {
   "cell_type": "code",
   "execution_count": 106,
   "id": "10065e99",
   "metadata": {},
   "outputs": [],
   "source": [
    "# vectorisation des token\n",
    "check_seq = tk.texts_to_sequences(check_set)"
   ]
  },
  {
   "cell_type": "code",
   "execution_count": 107,
   "id": "5197708f",
   "metadata": {},
   "outputs": [],
   "source": [
    "# mise sous matrice numpy\n",
    "check_pad = pad_sequences(check_seq, maxlen=max_words, padding='post')"
   ]
  },
  {
   "cell_type": "code",
   "execution_count": 108,
   "id": "1061496c",
   "metadata": {},
   "outputs": [
    {
     "data": {
      "text/plain": [
       "array([[ 290,  201,  625, ...,    0,    0,    0],\n",
       "       [2278,  168, 4999, ...,    0,    0,    0],\n",
       "       [ 320,  106,   27, ...,    0,    0,    0],\n",
       "       ...,\n",
       "       [   4,    3,   19, ...,    0,    0,    0],\n",
       "       [   5,  759, 3659, ...,    0,    0,    0],\n",
       "       [   4,  175,  122, ...,    0,    0,    0]])"
      ]
     },
     "execution_count": 108,
     "metadata": {},
     "output_type": "execute_result"
    }
   ],
   "source": [
    "check_pad"
   ]
  },
  {
   "cell_type": "code",
   "execution_count": 109,
   "id": "bff87635",
   "metadata": {},
   "outputs": [
    {
     "name": "stdout",
     "output_type": "stream",
     "text": [
      "4/4 [==============================] - 0s 2ms/step\n"
     ]
    }
   ],
   "source": [
    "# création des prédictions du jeu de test amazon à partir du modèle\n",
    "check_predict = model_embedding_1.predict(check_pad, verbose=1)"
   ]
  },
  {
   "cell_type": "code",
   "execution_count": 110,
   "id": "3690b8c8",
   "metadata": {},
   "outputs": [
    {
     "name": "stdout",
     "output_type": "stream",
     "text": [
      "[[7.90311606e-04 4.49136645e-01 1.76499963e-01 2.05425858e-01\n",
      "  1.10278375e-01 5.78687713e-02]\n",
      " [5.48733515e-05 7.38011718e-01 1.24901950e-01 8.51766691e-02\n",
      "  2.99658589e-02 2.18890291e-02]\n",
      " [1.62875443e-03 4.75719959e-01 1.61967754e-01 1.65400892e-01\n",
      "  1.02586091e-01 9.26965550e-02]\n",
      " [8.34866587e-05 6.97515965e-01 1.37039870e-01 1.02341555e-01\n",
      "  3.79133038e-02 2.51057614e-02]\n",
      " [8.63737881e-09 9.51882243e-01 3.66706550e-02 1.01535209e-02\n",
      "  8.90302239e-04 4.03334707e-04]\n",
      " [1.59396109e-07 9.18164611e-01 5.60487285e-02 2.11082343e-02\n",
      "  3.02007259e-03 1.65821472e-03]\n",
      " [1.75787576e-07 9.17034686e-01 5.62046282e-02 2.16848981e-02\n",
      "  3.25120892e-03 1.82447268e-03]\n",
      " [4.03289218e-04 4.83393341e-01 1.91726714e-01 2.05552340e-01\n",
      "  8.72089192e-02 3.17154825e-02]\n",
      " [5.37105196e-04 4.29101676e-01 1.79863274e-01 2.25993559e-01\n",
      "  1.15485713e-01 4.90187146e-02]\n",
      " [7.99355634e-12 9.91502881e-01 7.52934022e-03 9.04483371e-04\n",
      "  3.76097341e-05 2.58010878e-05]\n",
      " [2.33923623e-04 5.52552283e-01 1.83942080e-01 1.72306120e-01\n",
      "  6.52801916e-02 2.56854147e-02]\n",
      " [1.69989755e-06 8.87049973e-01 6.99636564e-02 3.09568569e-02\n",
      "  6.75321603e-03 5.27456217e-03]\n",
      " [1.69292412e-06 8.81917775e-01 7.25546405e-02 3.31333578e-02\n",
      "  7.18632899e-03 5.20620868e-03]\n",
      " [8.25186216e-05 6.88581541e-02 6.93034008e-02 2.60409772e-01\n",
      "  4.18730795e-01 1.82615340e-01]\n",
      " [8.81999820e-11 9.85791564e-01 1.21311741e-02 1.89955952e-03\n",
      "  1.06473453e-04 7.12765686e-05]\n",
      " [2.41194664e-09 9.72854912e-01 2.16328613e-02 4.76593897e-03\n",
      "  4.30374785e-04 3.15932353e-04]\n",
      " [7.67713573e-05 6.89396501e-01 1.40813395e-01 1.07772373e-01\n",
      "  3.87724712e-02 2.31684595e-02]\n",
      " [5.87317250e-10 9.78420913e-01 1.78129394e-02 3.37985693e-03\n",
      "  2.33897605e-04 1.52386405e-04]\n",
      " [1.16724586e-05 7.80555427e-01 1.16409443e-01 7.35579431e-02\n",
      "  1.93462186e-02 1.01193124e-02]\n",
      " [3.28236812e-04 2.47119009e-01 1.67170227e-01 3.27065527e-01\n",
      "  2.03381479e-01 5.49355596e-02]\n",
      " [7.98735418e-04 5.58632612e-01 1.53497919e-01 1.37555480e-01\n",
      "  7.60130659e-02 7.35022277e-02]\n",
      " [2.55524734e-04 5.85859716e-01 1.62681118e-01 1.49615034e-01\n",
      "  6.48566708e-02 3.67318802e-02]\n",
      " [7.34330251e-06 8.07905555e-01 1.04753248e-01 6.23862073e-02\n",
      "  1.59602929e-02 8.98736250e-03]\n",
      " [2.39168567e-05 7.24750519e-01 1.41306236e-01 9.74010974e-02\n",
      "  2.56452821e-02 1.08729368e-02]\n",
      " [1.39867814e-04 1.81055561e-01 1.43532753e-01 3.44118953e-01\n",
      "  2.61802346e-01 6.93505034e-02]\n",
      " [1.10178657e-08 9.46374714e-01 4.03757356e-02 1.17750159e-02\n",
      "  1.04076357e-03 4.33724461e-04]\n",
      " [4.25435428e-06 8.33564222e-01 9.45571363e-02 5.21854572e-02\n",
      "  1.24352993e-02 7.25367386e-03]\n",
      " [2.98220404e-09 9.69193161e-01 2.43476089e-02 5.64096635e-03\n",
      "  4.97033179e-04 3.21245869e-04]\n",
      " [7.18126830e-04 3.97889584e-01 1.98574454e-01 2.45360270e-01\n",
      "  1.19731113e-01 3.77264880e-02]\n",
      " [5.45461196e-04 5.53360820e-01 1.61566600e-01 1.51872084e-01\n",
      "  7.67478198e-02 5.59071563e-02]\n",
      " [1.23277277e-06 8.75352323e-01 7.62900859e-02 3.65274549e-02\n",
      "  7.41667952e-03 4.41221846e-03]\n",
      " [3.93340248e-04 5.28045058e-01 1.72551125e-01 1.76068068e-01\n",
      "  8.13131854e-02 4.16291505e-02]\n",
      " [7.80186499e-04 3.38686764e-01 1.77774325e-01 2.67039686e-01\n",
      "  1.54889956e-01 6.08290620e-02]\n",
      " [1.28710795e-07 9.32419002e-01 4.70952801e-02 1.63179506e-02\n",
      "  2.46027182e-03 1.70743407e-03]\n",
      " [6.04691075e-10 9.75924075e-01 1.97545961e-02 3.92058212e-03\n",
      "  2.57685606e-04 1.43002559e-04]\n",
      " [8.24282120e-04 4.81462777e-01 1.72690913e-01 1.85725853e-01\n",
      "  9.94101763e-02 5.98859601e-02]\n",
      " [5.37381482e-07 9.08451438e-01 5.98015115e-02 2.40988135e-02\n",
      "  4.45656246e-03 3.19104828e-03]\n",
      " [4.06628067e-04 4.77600574e-01 1.85221300e-01 2.08324179e-01\n",
      "  9.27767530e-02 3.56705263e-02]\n",
      " [6.30259572e-04 5.01983643e-01 9.91871357e-02 9.31925401e-02\n",
      "  9.92080495e-02 2.05798402e-01]\n",
      " [7.21562492e-06 7.84131765e-01 1.16623901e-01 7.36797303e-02\n",
      "  1.76810734e-02 7.87628070e-03]\n",
      " [3.71576374e-04 3.31897944e-01 1.80998504e-01 2.89981544e-01\n",
      "  1.52885064e-01 4.38654013e-02]\n",
      " [4.36109221e-05 1.13617986e-01 1.02773219e-01 3.34653795e-01\n",
      "  3.50136369e-01 9.87749472e-02]\n",
      " [2.91648787e-04 5.84419847e-01 1.61595181e-01 1.47816330e-01\n",
      "  6.59845769e-02 3.98923755e-02]\n",
      " [7.24261554e-05 6.36854410e-01 1.69278860e-01 1.35915309e-01\n",
      "  4.20851372e-02 1.57939028e-02]\n",
      " [2.78862339e-04 1.61365241e-01 1.36597946e-01 3.21872115e-01\n",
      "  2.86939621e-01 9.29462090e-02]\n",
      " [6.95621246e-04 3.68870825e-01 1.79788828e-01 2.54632086e-01\n",
      "  1.40628442e-01 5.53842224e-02]\n",
      " [3.61554296e-04 2.01660722e-01 1.53327033e-01 3.29448938e-01\n",
      "  2.41840169e-01 7.33615831e-02]\n",
      " [2.27440282e-07 8.89094472e-01 7.41874725e-02 3.11949588e-02\n",
      "  4.02688235e-03 1.49608543e-03]\n",
      " [2.26583405e-04 1.08920597e-01 9.92676392e-02 2.97369063e-01\n",
      "  3.49849254e-01 1.44366831e-01]\n",
      " [2.66268675e-04 5.29006720e-01 1.79372385e-01 1.84478760e-01\n",
      "  7.58710280e-02 3.10048126e-02]\n",
      " [7.67403515e-04 3.15821856e-01 1.86894596e-01 2.84043640e-01\n",
      "  1.62618548e-01 4.98539768e-02]\n",
      " [8.87689657e-06 4.42220755e-02 4.83835824e-02 2.45575503e-01\n",
      "  4.90673423e-01 1.71136454e-01]\n",
      " [1.56372535e-05 6.31911084e-02 6.49963990e-02 2.80713886e-01\n",
      "  4.48317289e-01 1.42765671e-01]\n",
      " [3.08857852e-06 2.40102261e-02 2.87218634e-02 1.90735981e-01\n",
      "  5.39134920e-01 2.17393920e-01]\n",
      " [6.05037203e-04 2.70305336e-01 1.69876307e-01 3.05453449e-01\n",
      "  1.90058470e-01 6.37014061e-02]\n",
      " [2.85133923e-04 5.82622588e-01 1.61998287e-01 1.49134085e-01\n",
      "  6.64264262e-02 3.95335034e-02]\n",
      " [1.58872310e-04 1.86779678e-01 1.45938337e-01 3.43128383e-01\n",
      "  2.55635738e-01 6.83588833e-02]\n",
      " [1.70309850e-05 6.47806935e-03 5.74609684e-03 4.36305404e-02\n",
      "  2.97504842e-01 6.46623433e-01]\n",
      " [2.39548768e-04 1.37020022e-01 1.17865369e-01 3.19667131e-01\n",
      "  3.12147826e-01 1.13060065e-01]\n",
      " [4.85708540e-08 9.47847188e-01 3.78602408e-02 1.15678469e-02\n",
      "  1.56395754e-03 1.16073806e-03]\n",
      " [2.63227648e-05 7.42368281e-01 1.27429843e-01 8.85242000e-02\n",
      "  2.68832128e-02 1.47681357e-02]\n",
      " [1.14707433e-07 7.64423225e-04 5.39696834e-04 8.98466352e-03\n",
      "  1.98256791e-01 7.91454256e-01]\n",
      " [4.36679511e-06 3.60803902e-02 4.07788418e-02 2.32259855e-01\n",
      "  5.17246366e-01 1.73630178e-01]\n",
      " [4.72572196e-07 1.65641680e-03 1.08589348e-03 1.30110597e-02\n",
      "  2.10053131e-01 7.74192929e-01]\n",
      " [8.01933871e-04 3.03616881e-01 1.75536722e-01 2.85020113e-01\n",
      "  1.71699658e-01 6.33247793e-02]\n",
      " [2.27569926e-05 9.13557783e-03 1.13301808e-02 8.13905448e-02\n",
      "  4.02896404e-01 4.95224506e-01]\n",
      " [9.71972040e-05 1.36046052e-01 1.16975009e-01 3.37300956e-01\n",
      "  3.14935267e-01 9.46455672e-02]\n",
      " [1.85667500e-06 2.12832214e-03 2.50553293e-03 3.12985890e-02\n",
      "  3.18129152e-01 6.45936549e-01]\n",
      " [4.53965231e-06 8.34408343e-01 9.38996598e-02 5.16288951e-02\n",
      "  1.25109991e-02 7.54760997e-03]\n",
      " [1.49279749e-05 6.75346470e-03 5.35280071e-03 3.88786569e-02\n",
      "  2.80274451e-01 6.68725669e-01]\n",
      " [3.44789187e-05 7.34690726e-02 7.28718340e-02 2.85827100e-01\n",
      "  4.21344995e-01 1.46452546e-01]\n",
      " [5.08121275e-06 3.33545986e-03 3.60096898e-03 3.67567614e-02\n",
      "  3.15602630e-01 6.40699089e-01]\n",
      " [1.24342268e-13 1.74231809e-06 7.85321276e-07 1.17492476e-04\n",
      "  5.38519062e-02 9.46028113e-01]\n",
      " [5.56939958e-05 7.46797919e-02 7.40290806e-02 2.78131008e-01\n",
      "  4.15092260e-01 1.58012241e-01]\n",
      " [3.95037023e-06 8.28744233e-01 9.99540761e-02 5.38250878e-02\n",
      "  1.15505112e-02 5.92222810e-03]\n",
      " [5.12555707e-04 3.09327126e-01 1.76347375e-01 2.92782396e-01\n",
      "  1.67016730e-01 5.40138595e-02]\n",
      " [2.95754453e-05 7.60812759e-01 1.19567610e-01 7.84420818e-02\n",
      "  2.48406827e-02 1.63072851e-02]\n",
      " [1.05463650e-11 1.82725216e-05 7.10835093e-06 4.08632361e-04\n",
      "  7.11256936e-02 9.28440332e-01]\n",
      " [6.15200406e-05 1.10594854e-01 1.02662265e-01 3.18904728e-01\n",
      "  3.59345645e-01 1.08431004e-01]\n",
      " [2.23011211e-05 1.95241645e-02 2.37975009e-02 1.40591353e-01\n",
      "  4.73690122e-01 3.42374563e-01]\n",
      " [4.15233849e-03 2.28293583e-01 1.34185448e-01 2.33023182e-01\n",
      "  2.16161013e-01 1.84184447e-01]\n",
      " [2.08414160e-04 9.41508189e-02 8.89425352e-02 2.81322837e-01\n",
      "  3.71337771e-01 1.64037645e-01]\n",
      " [1.64286664e-03 5.02688169e-01 1.51020810e-01 1.43558845e-01\n",
      "  9.36620757e-02 1.07427254e-01]\n",
      " [6.78922928e-14 1.28225247e-06 5.86521253e-07 9.98014730e-05\n",
      "  5.18213995e-02 9.48076904e-01]\n",
      " [4.64201761e-08 3.66865948e-04 3.99611337e-04 1.01846391e-02\n",
      "  2.40532726e-01 7.48516083e-01]\n",
      " [3.15294074e-07 6.05600793e-03 1.52245979e-03 8.67511239e-03\n",
      "  1.31385311e-01 8.52360725e-01]\n",
      " [2.88342903e-06 8.61639977e-01 8.23034346e-02 4.05483432e-02\n",
      "  9.23889596e-03 6.26645703e-03]\n",
      " [1.74388334e-11 3.20575600e-05 9.93651156e-06 4.24584578e-04\n",
      "  6.51612952e-02 9.34372127e-01]\n",
      " [6.19753730e-04 2.08037972e-01 1.52799234e-01 3.18907529e-01\n",
      "  2.35900491e-01 8.37349892e-02]\n",
      " [1.50558818e-03 1.53263375e-01 1.19129524e-01 2.80089319e-01\n",
      "  2.79155731e-01 1.66856408e-01]\n",
      " [1.31169261e-04 5.56903556e-02 2.17156336e-02 5.95983565e-02\n",
      "  2.26783067e-01 6.36081338e-01]\n",
      " [9.13776499e-10 9.41237304e-05 5.53198734e-05 1.97271118e-03\n",
      "  1.27339870e-01 8.70537996e-01]\n",
      " [1.97990779e-08 4.90410661e-04 2.54634826e-04 4.57830075e-03\n",
      "  1.50208130e-01 8.44468474e-01]\n",
      " [5.75779950e-06 3.58263031e-03 4.05614963e-03 4.04248014e-02\n",
      "  3.27714026e-01 6.24216735e-01]\n",
      " [2.09127560e-09 1.47405168e-04 8.30325225e-05 2.43911194e-03\n",
      "  1.32165685e-01 8.65164757e-01]\n",
      " [2.09888240e-04 6.75985396e-01 1.35250241e-01 1.00464530e-01\n",
      "  4.47743014e-02 4.33155745e-02]\n",
      " [4.58785792e-07 1.45158416e-03 1.04371435e-03 1.35683008e-02\n",
      "  2.19272807e-01 7.64663160e-01]\n",
      " [6.14544282e-09 5.64722577e-04 1.79420458e-04 2.60609481e-03\n",
      "  1.06636003e-01 8.90013695e-01]\n",
      " [4.67998825e-06 6.32404909e-03 8.48987512e-03 7.65627399e-02\n",
      "  4.43145990e-01 4.65472639e-01]\n",
      " [1.43077206e-09 1.69442472e-04 7.50310501e-05 1.92760560e-03\n",
      "  1.13167472e-01 8.84660482e-01]]\n"
     ]
    }
   ],
   "source": [
    "print(check_predict)"
   ]
  },
  {
   "cell_type": "code",
   "execution_count": 111,
   "id": "918f024f",
   "metadata": {},
   "outputs": [
    {
     "data": {
      "text/plain": [
       "array([1, 1, 1, 1, 1, 1, 1, 1, 1, 1, 1, 1, 1, 4, 1, 1, 1, 1, 1, 3, 1, 1,\n",
       "       1, 1, 3, 1, 1, 1, 1, 1, 1, 1, 1, 1, 1, 1, 1, 1, 1, 1, 1, 4, 1, 1,\n",
       "       3, 1, 3, 1, 4, 1, 1, 4, 4, 4, 3, 1, 3, 5, 3, 1, 1, 5, 4, 5, 1, 5,\n",
       "       3, 5, 1, 5, 4, 5, 5, 4, 1, 1, 1, 5, 4, 4, 3, 4, 1, 5, 5, 5, 1, 5,\n",
       "       3, 3, 5, 5, 5, 5, 5, 1, 5, 5, 5, 5], dtype=int64)"
      ]
     },
     "execution_count": 111,
     "metadata": {},
     "output_type": "execute_result"
    }
   ],
   "source": [
    "check_predict_class = check_predict.argmax(axis=1)\n",
    "check_predict_class"
   ]
  },
  {
   "cell_type": "code",
   "execution_count": 112,
   "id": "819395e0",
   "metadata": {},
   "outputs": [
    {
     "name": "stderr",
     "output_type": "stream",
     "text": [
      "C:\\Users\\t.fourtouill\\Anaconda3\\lib\\site-packages\\seaborn\\_decorators.py:36: FutureWarning: Pass the following variable as a keyword arg: x. From version 0.12, the only valid positional argument will be `data`, and passing other arguments without an explicit keyword will result in an error or misinterpretation.\n",
      "  warnings.warn(\n"
     ]
    },
    {
     "data": {
      "image/png": "[encoded data removed]",
      "text/plain": [
       "<Figure size 432x288 with 1 Axes>"
      ]
     },
     "metadata": {
      "needs_background": "light"
     },
     "output_type": "display_data"
    }
   ],
   "source": [
    "sns.countplot(check_predict_class);"
   ]
  },
  {
   "cell_type": "code",
   "execution_count": 113,
   "id": "438bcba6",
   "metadata": {},
   "outputs": [
    {
     "data": {
      "text/html": [
       "<div>\n",
       "<style scoped>\n",
       "    .dataframe tbody tr th:only-of-type {\n",
       "        vertical-align: middle;\n",
       "    }\n",
       "\n",
       "    .dataframe tbody tr th {\n",
       "        vertical-align: top;\n",
       "    }\n",
       "\n",
       "    .dataframe thead th {\n",
       "        text-align: right;\n",
       "    }\n",
       "</style>\n",
       "<table border=\"1\" class=\"dataframe\">\n",
       "  <thead>\n",
       "    <tr style=\"text-align: right;\">\n",
       "      <th></th>\n",
       "      <th>commentaire</th>\n",
       "      <th>note</th>\n",
       "      <th>prediction</th>\n",
       "    </tr>\n",
       "  </thead>\n",
       "  <tbody>\n",
       "    <tr>\n",
       "      <th>0</th>\n",
       "      <td>MENZZONous aimerions savoir pourquoi vous ne retournez pas l'argent de vos clients et vous continuez à trouver des excuses à ce sujet. Les personnes qui donnent leur avis sur les réseaux sociaux vous bloqueront et leurs mails ne recevront pas de réponse. Pensez-vous que c'est normal?</td>\n",
       "      <td>1</td>\n",
       "      <td>1</td>\n",
       "    </tr>\n",
       "    <tr>\n",
       "      <th>1</th>\n",
       "      <td>Voulant acheter un pare soleil  de marque pour mon appareil photo le prix étant de 28 € environ quel a pas était ma surprise de voir ce prix  grimper  à 45 € en l'espace  de 5 mn et tous ça  sur le site Amazon y a t'il d'autres  personnes à qui cela est  arrivé , je serai curieux  de  lire vos témoignages  ( pratiques de voyous)</td>\n",
       "      <td>1</td>\n",
       "      <td>1</td>\n",
       "    </tr>\n",
       "    <tr>\n",
       "      <th>2</th>\n",
       "      <td>Comment souvent problème d'envoi ou réception de marchandise biensure service client au téléphone ce n est pas leur faute c est les gens de l emballage belle esprit d équipe je ne commanderai plus chez vous</td>\n",
       "      <td>1</td>\n",
       "      <td>1</td>\n",
       "    </tr>\n",
       "    <tr>\n",
       "      <th>3</th>\n",
       "      <td>L’arnaque des livreurs qui ne respectent pas les instructions des livraison, laissent le clos n’importe où le marquent livres alors qu ils ont pas livres! Le service client à part dire ; on va faire remonter l’info et ouvrir une enquête », ne fait rien! Avec l’argent qu engrange Amazon il s’agirait de s entourer de livreurs fiables !!</td>\n",
       "      <td>1</td>\n",
       "      <td>1</td>\n",
       "    </tr>\n",
       "    <tr>\n",
       "      <th>4</th>\n",
       "      <td>J’ai commandé un article très cher qui est supposé être neuf. A ma surprise en recevant le colis l l’article semble déjà ouvert/voir même déjà utilisé, le carton de l’article était déchiré.. étant la grosse somme que j’ai dépensé sur cet article je ne peux accepter de recevoir du reconditionné au prix du neuf. En demandant le retour Amazon refuse de me rembourser sur carte bancaire mais plutôt uniquement par avoir et ça c’est absurde car c’est pas de ma faute c’est la faute à Amazon, d’ailleurs pourquoi m’obliger à consommer par force une telle grosse somme sur leur site, moi je veux pas d’avoir je veux mon argent sur mon compte bancaire !!!! J’ai commencé les démarches pour ouvrir un contentieux contre Amazon !</td>\n",
       "      <td>1</td>\n",
       "      <td>1</td>\n",
       "    </tr>\n",
       "  </tbody>\n",
       "</table>\n",
       "</div>"
      ],
      "text/plain": [
       "                                                                                                                                                                                                                                                                                                                                                                                                                                                                                                                                                                                                                                                                                                                                         commentaire  \\\n",
       "0                                                                                                                                                                                                                                                                                                                                                                                                                                                       MENZZONous aimerions savoir pourquoi vous ne retournez pas l'argent de vos clients et vous continuez à trouver des excuses à ce sujet. Les personnes qui donnent leur avis sur les réseaux sociaux vous bloqueront et leurs mails ne recevront pas de réponse. Pensez-vous que c'est normal?   \n",
       "1                                                                                                                                                                                                                                                                                                                                                                                                         Voulant acheter un pare soleil  de marque pour mon appareil photo le prix étant de 28 € environ quel a pas était ma surprise de voir ce prix  grimper  à 45 € en l'espace  de 5 mn et tous ça  sur le site Amazon y a t'il d'autres  personnes à qui cela est  arrivé , je serai curieux  de  lire vos témoignages  ( pratiques de voyous)   \n",
       "2                                                                                                                                                                                                                                                                                                                                                                                                                                                                                                                                     Comment souvent problème d'envoi ou réception de marchandise biensure service client au téléphone ce n est pas leur faute c est les gens de l emballage belle esprit d équipe je ne commanderai plus chez vous   \n",
       "3                                                                                                                                                                                                                                                                                                                                                                                                   L’arnaque des livreurs qui ne respectent pas les instructions des livraison, laissent le clos n’importe où le marquent livres alors qu ils ont pas livres! Le service client à part dire ; on va faire remonter l’info et ouvrir une enquête », ne fait rien! Avec l’argent qu engrange Amazon il s’agirait de s entourer de livreurs fiables !!   \n",
       "4  J’ai commandé un article très cher qui est supposé être neuf. A ma surprise en recevant le colis l l’article semble déjà ouvert/voir même déjà utilisé, le carton de l’article était déchiré.. étant la grosse somme que j’ai dépensé sur cet article je ne peux accepter de recevoir du reconditionné au prix du neuf. En demandant le retour Amazon refuse de me rembourser sur carte bancaire mais plutôt uniquement par avoir et ça c’est absurde car c’est pas de ma faute c’est la faute à Amazon, d’ailleurs pourquoi m’obliger à consommer par force une telle grosse somme sur leur site, moi je veux pas d’avoir je veux mon argent sur mon compte bancaire !!!! J’ai commencé les démarches pour ouvrir un contentieux contre Amazon !   \n",
       "\n",
       "   note  prediction  \n",
       "0     1           1  \n",
       "1     1           1  \n",
       "2     1           1  \n",
       "3     1           1  \n",
       "4     1           1  "
      ]
     },
     "execution_count": 113,
     "metadata": {},
     "output_type": "execute_result"
    }
   ],
   "source": [
    "# comparaison des prédictions et des notes du jeu de test\n",
    "check_df = pd.DataFrame(list(zip(df_test.commentaire, df_test.note, check_predict_class)), columns=['commentaire', 'note', 'prediction'])\n",
    "check_df.head()"
   ]
  },
  {
   "cell_type": "code",
   "execution_count": 114,
   "id": "11ec7bbb",
   "metadata": {},
   "outputs": [
    {
     "name": "stdout",
     "output_type": "stream",
     "text": [
      "              precision    recall  f1-score   support\n",
      "\n",
      "           1       0.68      0.89      0.77      1992\n",
      "           2       0.00      0.00      0.00       468\n",
      "           3       0.32      0.25      0.28      1068\n",
      "           4       0.44      0.21      0.29      3471\n",
      "           5       0.78      0.93      0.85      9889\n",
      "\n",
      "    accuracy                           0.71     16888\n",
      "   macro avg       0.44      0.46      0.44     16888\n",
      "weighted avg       0.65      0.71      0.66     16888\n",
      "\n"
     ]
    },
    {
     "name": "stderr",
     "output_type": "stream",
     "text": [
      "C:\\Users\\t.fourtouill\\Anaconda3\\lib\\site-packages\\sklearn\\metrics\\_classification.py:1327: UndefinedMetricWarning: Precision and F-score are ill-defined and being set to 0.0 in labels with no predicted samples. Use `zero_division` parameter to control this behavior.\n",
      "  _warn_prf(average, modifier, msg_start, len(result))\n",
      "C:\\Users\\t.fourtouill\\Anaconda3\\lib\\site-packages\\sklearn\\metrics\\_classification.py:1327: UndefinedMetricWarning: Precision and F-score are ill-defined and being set to 0.0 in labels with no predicted samples. Use `zero_division` parameter to control this behavior.\n",
      "  _warn_prf(average, modifier, msg_start, len(result))\n",
      "C:\\Users\\t.fourtouill\\Anaconda3\\lib\\site-packages\\sklearn\\metrics\\_classification.py:1327: UndefinedMetricWarning: Precision and F-score are ill-defined and being set to 0.0 in labels with no predicted samples. Use `zero_division` parameter to control this behavior.\n",
      "  _warn_prf(average, modifier, msg_start, len(result))\n"
     ]
    },
    {
     "data": {
      "text/html": [
       "<div>\n",
       "<style scoped>\n",
       "    .dataframe tbody tr th:only-of-type {\n",
       "        vertical-align: middle;\n",
       "    }\n",
       "\n",
       "    .dataframe tbody tr th {\n",
       "        vertical-align: top;\n",
       "    }\n",
       "\n",
       "    .dataframe thead th {\n",
       "        text-align: right;\n",
       "    }\n",
       "</style>\n",
       "<table border=\"1\" class=\"dataframe\">\n",
       "  <thead>\n",
       "    <tr style=\"text-align: right;\">\n",
       "      <th>predictions</th>\n",
       "      <th>1</th>\n",
       "      <th>3</th>\n",
       "      <th>4</th>\n",
       "      <th>5</th>\n",
       "    </tr>\n",
       "    <tr>\n",
       "      <th>données réelles</th>\n",
       "      <th></th>\n",
       "      <th></th>\n",
       "      <th></th>\n",
       "      <th></th>\n",
       "    </tr>\n",
       "  </thead>\n",
       "  <tbody>\n",
       "    <tr>\n",
       "      <th>1</th>\n",
       "      <td>1778</td>\n",
       "      <td>112</td>\n",
       "      <td>45</td>\n",
       "      <td>57</td>\n",
       "    </tr>\n",
       "    <tr>\n",
       "      <th>2</th>\n",
       "      <td>247</td>\n",
       "      <td>107</td>\n",
       "      <td>74</td>\n",
       "      <td>40</td>\n",
       "    </tr>\n",
       "    <tr>\n",
       "      <th>3</th>\n",
       "      <td>299</td>\n",
       "      <td>265</td>\n",
       "      <td>301</td>\n",
       "      <td>203</td>\n",
       "    </tr>\n",
       "    <tr>\n",
       "      <th>4</th>\n",
       "      <td>167</td>\n",
       "      <td>247</td>\n",
       "      <td>731</td>\n",
       "      <td>2326</td>\n",
       "    </tr>\n",
       "    <tr>\n",
       "      <th>5</th>\n",
       "      <td>129</td>\n",
       "      <td>108</td>\n",
       "      <td>493</td>\n",
       "      <td>9159</td>\n",
       "    </tr>\n",
       "  </tbody>\n",
       "</table>\n",
       "</div>"
      ],
      "text/plain": [
       "predictions         1    3    4     5\n",
       "données réelles                      \n",
       "1                1778  112   45    57\n",
       "2                 247  107   74    40\n",
       "3                 299  265  301   203\n",
       "4                 167  247  731  2326\n",
       "5                 129  108  493  9159"
      ]
     },
     "metadata": {},
     "output_type": "display_data"
    },
    {
     "name": "stderr",
     "output_type": "stream",
     "text": [
      "C:\\Users\\t.fourtouill\\Anaconda3\\lib\\site-packages\\sklearn\\metrics\\_classification.py:1327: UndefinedMetricWarning: Precision and F-score are ill-defined and being set to 0.0 in labels with no predicted samples. Use `zero_division` parameter to control this behavior.\n",
      "  _warn_prf(average, modifier, msg_start, len(result))\n",
      "C:\\Users\\t.fourtouill\\Anaconda3\\lib\\site-packages\\sklearn\\metrics\\_classification.py:1327: UndefinedMetricWarning: Precision and F-score are ill-defined and being set to 0.0 in labels with no predicted samples. Use `zero_division` parameter to control this behavior.\n",
      "  _warn_prf(average, modifier, msg_start, len(result))\n",
      "C:\\Users\\t.fourtouill\\Anaconda3\\lib\\site-packages\\sklearn\\metrics\\_classification.py:1327: UndefinedMetricWarning: Precision and F-score are ill-defined and being set to 0.0 in labels with no predicted samples. Use `zero_division` parameter to control this behavior.\n",
      "  _warn_prf(average, modifier, msg_start, len(result))\n"
     ]
    },
    {
     "name": "stdout",
     "output_type": "stream",
     "text": [
      "              precision    recall  f1-score   support\n",
      "\n",
      "           1       0.33      0.90      0.48        20\n",
      "           2       0.00      0.00      0.00        20\n",
      "           3       0.45      0.25      0.32        20\n",
      "           4       0.42      0.25      0.31        20\n",
      "           5       0.59      0.65      0.62        20\n",
      "\n",
      "    accuracy                           0.41       100\n",
      "   macro avg       0.36      0.41      0.35       100\n",
      "weighted avg       0.36      0.41      0.35       100\n",
      "\n"
     ]
    },
    {
     "data": {
      "text/html": [
       "<div>\n",
       "<style scoped>\n",
       "    .dataframe tbody tr th:only-of-type {\n",
       "        vertical-align: middle;\n",
       "    }\n",
       "\n",
       "    .dataframe tbody tr th {\n",
       "        vertical-align: top;\n",
       "    }\n",
       "\n",
       "    .dataframe thead th {\n",
       "        text-align: right;\n",
       "    }\n",
       "</style>\n",
       "<table border=\"1\" class=\"dataframe\">\n",
       "  <thead>\n",
       "    <tr style=\"text-align: right;\">\n",
       "      <th>predictions</th>\n",
       "      <th>1</th>\n",
       "      <th>3</th>\n",
       "      <th>4</th>\n",
       "      <th>5</th>\n",
       "    </tr>\n",
       "    <tr>\n",
       "      <th>données réelles</th>\n",
       "      <th></th>\n",
       "      <th></th>\n",
       "      <th></th>\n",
       "      <th></th>\n",
       "    </tr>\n",
       "  </thead>\n",
       "  <tbody>\n",
       "    <tr>\n",
       "      <th>1</th>\n",
       "      <td>18</td>\n",
       "      <td>1</td>\n",
       "      <td>1</td>\n",
       "      <td>0</td>\n",
       "    </tr>\n",
       "    <tr>\n",
       "      <th>2</th>\n",
       "      <td>19</td>\n",
       "      <td>1</td>\n",
       "      <td>0</td>\n",
       "      <td>0</td>\n",
       "    </tr>\n",
       "    <tr>\n",
       "      <th>3</th>\n",
       "      <td>9</td>\n",
       "      <td>5</td>\n",
       "      <td>5</td>\n",
       "      <td>1</td>\n",
       "    </tr>\n",
       "    <tr>\n",
       "      <th>4</th>\n",
       "      <td>6</td>\n",
       "      <td>1</td>\n",
       "      <td>5</td>\n",
       "      <td>8</td>\n",
       "    </tr>\n",
       "    <tr>\n",
       "      <th>5</th>\n",
       "      <td>3</td>\n",
       "      <td>3</td>\n",
       "      <td>1</td>\n",
       "      <td>13</td>\n",
       "    </tr>\n",
       "  </tbody>\n",
       "</table>\n",
       "</div>"
      ],
      "text/plain": [
       "predictions       1  3  4   5\n",
       "données réelles              \n",
       "1                18  1  1   0\n",
       "2                19  1  0   0\n",
       "3                 9  5  5   1\n",
       "4                 6  1  5   8\n",
       "5                 3  3  1  13"
      ]
     },
     "metadata": {},
     "output_type": "display_data"
    },
    {
     "data": {
      "text/html": [
       "<div>\n",
       "<style scoped>\n",
       "    .dataframe tbody tr th:only-of-type {\n",
       "        vertical-align: middle;\n",
       "    }\n",
       "\n",
       "    .dataframe tbody tr th {\n",
       "        vertical-align: top;\n",
       "    }\n",
       "\n",
       "    .dataframe thead th {\n",
       "        text-align: right;\n",
       "    }\n",
       "</style>\n",
       "<table border=\"1\" class=\"dataframe\">\n",
       "  <thead>\n",
       "    <tr style=\"text-align: right;\">\n",
       "      <th>predictions</th>\n",
       "      <th>1</th>\n",
       "      <th>3</th>\n",
       "      <th>4</th>\n",
       "      <th>5</th>\n",
       "    </tr>\n",
       "    <tr>\n",
       "      <th>données réelles</th>\n",
       "      <th></th>\n",
       "      <th></th>\n",
       "      <th></th>\n",
       "      <th></th>\n",
       "    </tr>\n",
       "  </thead>\n",
       "  <tbody>\n",
       "    <tr>\n",
       "      <th>1</th>\n",
       "      <td>0.90</td>\n",
       "      <td>0.05</td>\n",
       "      <td>0.05</td>\n",
       "      <td>0.00</td>\n",
       "    </tr>\n",
       "    <tr>\n",
       "      <th>2</th>\n",
       "      <td>0.95</td>\n",
       "      <td>0.05</td>\n",
       "      <td>0.00</td>\n",
       "      <td>0.00</td>\n",
       "    </tr>\n",
       "    <tr>\n",
       "      <th>3</th>\n",
       "      <td>0.45</td>\n",
       "      <td>0.25</td>\n",
       "      <td>0.25</td>\n",
       "      <td>0.05</td>\n",
       "    </tr>\n",
       "    <tr>\n",
       "      <th>4</th>\n",
       "      <td>0.30</td>\n",
       "      <td>0.05</td>\n",
       "      <td>0.25</td>\n",
       "      <td>0.40</td>\n",
       "    </tr>\n",
       "    <tr>\n",
       "      <th>5</th>\n",
       "      <td>0.15</td>\n",
       "      <td>0.15</td>\n",
       "      <td>0.05</td>\n",
       "      <td>0.65</td>\n",
       "    </tr>\n",
       "  </tbody>\n",
       "</table>\n",
       "</div>"
      ],
      "text/plain": [
       "predictions         1     3     4     5\n",
       "données réelles                        \n",
       "1                0.90  0.05  0.05  0.00\n",
       "2                0.95  0.05  0.00  0.00\n",
       "3                0.45  0.25  0.25  0.05\n",
       "4                0.30  0.05  0.25  0.40\n",
       "5                0.15  0.15  0.05  0.65"
      ]
     },
     "metadata": {},
     "output_type": "display_data"
    },
    {
     "name": "stdout",
     "output_type": "stream",
     "text": [
      "les prédictions correctes sont supérieures à 50% pour 1 étoile(s) avec 90%\n",
      "les prédictions correctes sont supérieures à 50% pour 5 étoile(s) avec 65%\n"
     ]
    }
   ],
   "source": [
    "from sklearn.metrics import classification_report\n",
    "\n",
    "cr = classification_report(y_test, predict_cdiscount_class)\n",
    "print(cr)\n",
    "\n",
    "cm = pd.crosstab(y_test, predict_cdiscount_class, rownames=['données réelles'], colnames=['predictions'])\n",
    "display(cm)\n",
    "\n",
    "# vérification des résultats sur un jeu de test externe (100 commentaires amazon également répartis entre les étoiles)\n",
    "\n",
    "cm_test = classification_report(df_test.note, check_predict_class)\n",
    "print(cm_test)\n",
    "\n",
    "cm_test2 = pd.crosstab(df_test.note, check_predict_class, rownames=['données réelles'], colnames=['predictions'])\n",
    "display(cm_test2)\n",
    "\n",
    "cm_test3 = pd.crosstab(df_test.note, check_predict_class, rownames=['données réelles'], colnames=['predictions'], normalize=0)\n",
    "display(cm_test3)\n",
    "\n",
    "for i in cm_test3.index:\n",
    "    for j in cm_test3.columns :\n",
    "        if (i==j and cm_test3.loc[i, j] > 0.5) :\n",
    "            print(\"les prédictions correctes sont supérieures à 50% pour {} étoile(s) avec {:0.0%}\".format(i, cm_test3.loc[i, j]))"
   ]
  },
  {
   "cell_type": "code",
   "execution_count": 115,
   "id": "8b6366a5",
   "metadata": {},
   "outputs": [
    {
     "name": "stdout",
     "output_type": "stream",
     "text": [
      "INFO:tensorflow:Assets written to: datasets/SatisfactionClients/model_embedding5\\assets\n"
     ]
    }
   ],
   "source": [
    "import os\n",
    "path = \"/Users/t.fourtouill/Downloads/SatisfactionClients\"\n",
    "os.makedirs(path, exist_ok=True)\n",
    "model_embedding_1.save('datasets/SatisfactionClients/model_embedding7')"
   ]
  },
  {
   "cell_type": "markdown",
   "id": "30cfae91",
   "metadata": {},
   "source": [
    "### Evaluation sur 2 sentiments : négatif et positif"
   ]
  },
  {
   "cell_type": "markdown",
   "id": "f39073d9",
   "metadata": {},
   "source": [
    "* Le DataSet cdiscount a été retraité en renommant, les notes 1 et 2 en 0, les notes 4 et 5 en 1 et en supprimant les notes 3\n",
    "* Le but étant d'isoler de manière moins complexe les sentiments négatifs et les sentiments positifs et ainsi améliorer la qualité du résultat prédit"
   ]
  },
  {
   "cell_type": "code",
   "execution_count": 116,
   "id": "f997fc40",
   "metadata": {},
   "outputs": [],
   "source": [
    "df_0_1 = pd.read_csv('datasets/SatisfactionClients/cdiscount_0_1.csv')\n",
    "df_test_0_1 = pd.read_csv('datasets/SatisfactionClients/amazon_test1.csv')"
   ]
  },
  {
   "cell_type": "code",
   "execution_count": 117,
   "id": "f3d47f3c",
   "metadata": {},
   "outputs": [
    {
     "name": "stderr",
     "output_type": "stream",
     "text": [
      "C:\\Users\\t.fourtouill\\Anaconda3\\lib\\site-packages\\seaborn\\_decorators.py:36: FutureWarning: Pass the following variable as a keyword arg: x. From version 0.12, the only valid positional argument will be `data`, and passing other arguments without an explicit keyword will result in an error or misinterpretation.\n",
      "  warnings.warn(\n"
     ]
    },
    {
     "data": {
      "image/png": "[encoded data removed]",
      "text/plain": [
       "<Figure size 288x144 with 1 Axes>"
      ]
     },
     "metadata": {
      "needs_background": "light"
     },
     "output_type": "display_data"
    }
   ],
   "source": [
    "plt.figure(figsize=(4, 2))\n",
    "sns.countplot(df_0_1['note'])\n",
    "plt.show();"
   ]
  },
  {
   "cell_type": "code",
   "execution_count": 118,
   "id": "84544d53",
   "metadata": {},
   "outputs": [
    {
     "name": "stderr",
     "output_type": "stream",
     "text": [
      "C:\\Users\\t.fourtouill\\Anaconda3\\lib\\site-packages\\seaborn\\_decorators.py:36: FutureWarning: Pass the following variable as a keyword arg: x. From version 0.12, the only valid positional argument will be `data`, and passing other arguments without an explicit keyword will result in an error or misinterpretation.\n",
      "  warnings.warn(\n"
     ]
    },
    {
     "data": {
      "image/png": "[encoded data removed]",
      "text/plain": [
       "<Figure size 432x216 with 1 Axes>"
      ]
     },
     "metadata": {
      "needs_background": "light"
     },
     "output_type": "display_data"
    }
   ],
   "source": [
    "plt.figure(figsize=(6, 3))\n",
    "sns.countplot(df_test_0_1['note'])\n",
    "plt.show();"
   ]
  },
  {
   "cell_type": "code",
   "execution_count": 119,
   "id": "b8e99021",
   "metadata": {},
   "outputs": [
    {
     "data": {
      "text/plain": [
       "note            0\n",
       "commentaire    46\n",
       "dtype: int64"
      ]
     },
     "execution_count": 119,
     "metadata": {},
     "output_type": "execute_result"
    }
   ],
   "source": [
    "df_0_1.isna().sum()"
   ]
  },
  {
   "cell_type": "code",
   "execution_count": 120,
   "id": "0beee64a",
   "metadata": {},
   "outputs": [
    {
     "name": "stderr",
     "output_type": "stream",
     "text": [
      "C:\\Users\\t.fourtouill\\Anaconda3\\lib\\site-packages\\seaborn\\_decorators.py:36: FutureWarning: Pass the following variable as a keyword arg: x. From version 0.12, the only valid positional argument will be `data`, and passing other arguments without an explicit keyword will result in an error or misinterpretation.\n",
      "  warnings.warn(\n"
     ]
    },
    {
     "data": {
      "image/png": "[encoded data removed]",
      "text/plain": [
       "<Figure size 288x144 with 1 Axes>"
      ]
     },
     "metadata": {
      "needs_background": "light"
     },
     "output_type": "display_data"
    }
   ],
   "source": [
    "df_0_1 = df_0_1[df_0_1['commentaire'].isna()==False]\n",
    "df_0_1 = df_0_1[df_0_1['note']!=3]\n",
    "df_0_1['note'] = df_0_1['note'].replace({'1' : '0', '2' : '0', '4' : '1', '5' : '1'})\n",
    "\n",
    "plt.figure(figsize=(4, 2))\n",
    "sns.countplot(df_0_1['note'])\n",
    "plt.show();"
   ]
  },
  {
   "cell_type": "code",
   "execution_count": 121,
   "id": "6e0b6797",
   "metadata": {},
   "outputs": [
    {
     "name": "stderr",
     "output_type": "stream",
     "text": [
      "C:\\Users\\t.fourtouill\\Anaconda3\\lib\\site-packages\\seaborn\\_decorators.py:36: FutureWarning: Pass the following variable as a keyword arg: x. From version 0.12, the only valid positional argument will be `data`, and passing other arguments without an explicit keyword will result in an error or misinterpretation.\n",
      "  warnings.warn(\n"
     ]
    },
    {
     "data": {
      "image/png": "[encoded data removed]",
      "text/plain": [
       "<Figure size 288x144 with 1 Axes>"
      ]
     },
     "metadata": {
      "needs_background": "light"
     },
     "output_type": "display_data"
    }
   ],
   "source": [
    "df_test_0_1 = df_test_0_1.drop(columns=['Unnamed: 0'])\n",
    "df_test_0_1 = df_test_0_1[df_test_0_1['commentaire'].isna()==False]\n",
    "df_test_0_1 = df_test_0_1[df_test_0_1['note']!=3]\n",
    "df_test_0_1['note'] = df_test_0_1['note'].replace({1 : 0, 2 : 0, 4 : 1, 5 : 1})\n",
    "\n",
    "plt.figure(figsize=(4, 2))\n",
    "sns.countplot(df_test_0_1['note'])\n",
    "plt.show();"
   ]
  },
  {
   "cell_type": "code",
   "execution_count": 122,
   "id": "556cf49a",
   "metadata": {},
   "outputs": [],
   "source": [
    "# séparation de la variable cible et des variables explicatives\n",
    "X1 = df_0_1['commentaire']\n",
    "y1 = df_0_1['note']"
   ]
  },
  {
   "cell_type": "code",
   "execution_count": 123,
   "id": "5948816d",
   "metadata": {},
   "outputs": [],
   "source": [
    "# séparation du jeu de données en un dataset d'entrainement et un dataset de test\n",
    "from sklearn.model_selection import train_test_split\n",
    "X_train1, X_test1, y_train1, y_test1 = train_test_split(X1, y1, test_size=0.2, shuffle=True)"
   ]
  },
  {
   "cell_type": "code",
   "execution_count": 124,
   "id": "7ca17414",
   "metadata": {},
   "outputs": [],
   "source": [
    "# entrainement de la tokenisation sur le X_train\n",
    "tk.fit_on_texts(X_train1)"
   ]
  },
  {
   "cell_type": "code",
   "execution_count": 125,
   "id": "5d99c6d6",
   "metadata": {},
   "outputs": [
    {
     "data": {
      "text/plain": [
       "39134"
      ]
     },
     "execution_count": 125,
     "metadata": {},
     "output_type": "execute_result"
    }
   ],
   "source": [
    "# nb de ligne de la matrice\n",
    "word_index = tk.word_index\n",
    "len(tk.word_index)"
   ]
  },
  {
   "cell_type": "code",
   "execution_count": 126,
   "id": "02810943",
   "metadata": {},
   "outputs": [
    {
     "data": {
      "text/plain": [
       "5000"
      ]
     },
     "execution_count": 126,
     "metadata": {},
     "output_type": "execute_result"
    }
   ],
   "source": [
    "# nb de colonnes dans la matrice\n",
    "vocabulary_size = tk.num_words\n",
    "vocabulary_size"
   ]
  },
  {
   "cell_type": "code",
   "execution_count": 127,
   "id": "667aec1f",
   "metadata": {},
   "outputs": [],
   "source": [
    "# mise sous vecteur des commentaires\n",
    "X_seq_train1 = tk.texts_to_sequences(X_train1)\n",
    "X_seq_test1 = tk.texts_to_sequences(X_test1)"
   ]
  },
  {
   "cell_type": "code",
   "execution_count": 128,
   "id": "ba6f42a1",
   "metadata": {},
   "outputs": [
    {
     "name": "stdout",
     "output_type": "stream",
     "text": [
      "[25, 6, 25, 11, 13, 14, 514, 621, 1359]\n",
      "[44, 672, 371, 34]\n",
      "[1412, 214, 45, 134, 4252]\n",
      "[2, 11, 3, 5, 7, 12]\n",
      "[7, 2, 120, 139, 1]\n"
     ]
    }
   ],
   "source": [
    "# affichage de la vectorisation réalisée\n",
    "for x in range(0,5):\n",
    "    print(X_seq_train1[x])"
   ]
  },
  {
   "cell_type": "code",
   "execution_count": 129,
   "id": "d21b6c6e",
   "metadata": {},
   "outputs": [],
   "source": [
    "# transformation en matrice de même longueur par maxlen défini ci-dessous. Avec des 0 si colonne inférieure à maxlen\n",
    "max_words = 130\n",
    "X_pad_train1 = pad_sequences(X_seq_train1, maxlen=max_words, padding='post')\n",
    "X_pad_test1 = pad_sequences(X_seq_test1, maxlen=max_words, padding='post')"
   ]
  },
  {
   "cell_type": "code",
   "execution_count": 130,
   "id": "1d505b13",
   "metadata": {},
   "outputs": [
    {
     "name": "stdout",
     "output_type": "stream",
     "text": [
      "(63065, 130)\n"
     ]
    },
    {
     "data": {
      "text/plain": [
       "array([[  25,    6,   25, ...,    0,    0,    0],\n",
       "       [  44,  672,  371, ...,    0,    0,    0],\n",
       "       [1412,  214,   45, ...,    0,    0,    0],\n",
       "       ...,\n",
       "       [ 285,  224,   82, ...,    0,    0,    0],\n",
       "       [ 365, 1826,   23, ...,    0,    0,    0],\n",
       "       [  15,   37, 3948, ...,    0,    0,    0]])"
      ]
     },
     "execution_count": 130,
     "metadata": {},
     "output_type": "execute_result"
    }
   ],
   "source": [
    "# affice de la matrice\n",
    "print(X_pad_train1.shape)\n",
    "X_pad_train1"
   ]
  },
  {
   "cell_type": "code",
   "execution_count": 131,
   "id": "aa7ec76d",
   "metadata": {},
   "outputs": [
    {
     "name": "stdout",
     "output_type": "stream",
     "text": [
      "Model: \"sequential_3\"\n",
      "_________________________________________________________________\n",
      " Layer (type)                Output Shape              Param #   \n",
      "=================================================================\n",
      " embedding_3 (Embedding)     (None, 130, 100)          500000    \n",
      "                                                                 \n",
      " global_average_pooling1d_3   (None, 100)              0         \n",
      " (GlobalAveragePooling1D)                                        \n",
      "                                                                 \n",
      " dense_15 (Dense)            (None, 256)               25856     \n",
      "                                                                 \n",
      " dropout_12 (Dropout)        (None, 256)               0         \n",
      "                                                                 \n",
      " dense_16 (Dense)            (None, 128)               32896     \n",
      "                                                                 \n",
      " dropout_13 (Dropout)        (None, 128)               0         \n",
      "                                                                 \n",
      " dense_17 (Dense)            (None, 64)                8256      \n",
      "                                                                 \n",
      " dropout_14 (Dropout)        (None, 64)                0         \n",
      "                                                                 \n",
      " dense_18 (Dense)            (None, 32)                2080      \n",
      "                                                                 \n",
      " dropout_15 (Dropout)        (None, 32)                0         \n",
      "                                                                 \n",
      " dense_19 (Dense)            (None, 1)                 33        \n",
      "                                                                 \n",
      "=================================================================\n",
      "Total params: 569,121\n",
      "Trainable params: 569,121\n",
      "Non-trainable params: 0\n",
      "_________________________________________________________________\n"
     ]
    }
   ],
   "source": [
    "# Création des couches du modèle\n",
    "\n",
    "from tensorflow.keras.models import Sequential\n",
    "from tensorflow.keras.layers import Dense, GlobalAveragePooling1D, Input, Embedding, Dropout\n",
    "\n",
    "embedding_size = 100\n",
    "\n",
    "model_0_1_embedding_1 = Sequential()\n",
    "model_0_1_embedding_1.add(Embedding(input_dim=vocabulary_size, output_dim=embedding_size, input_length=max_words, embeddings_initializer='uniform'))  # On reprend le nb de mot choisi dans la tokenisation\n",
    "model_0_1_embedding_1.add(GlobalAveragePooling1D())\n",
    "model_0_1_embedding_1.add(Dense(units=256, activation='relu'))\n",
    "model_0_1_embedding_1.add(Dropout(rate=0.25))\n",
    "model_0_1_embedding_1.add(Dense(units=128, activation='relu'))\n",
    "model_0_1_embedding_1.add(Dropout(rate=0.18))\n",
    "model_0_1_embedding_1.add(Dense(units=64, activation='relu'))\n",
    "model_0_1_embedding_1.add(Dropout(rate=0.15))\n",
    "model_0_1_embedding_1.add(Dense(units=32, activation='relu'))\n",
    "model_0_1_embedding_1.add(Dropout(rate=0.20))\n",
    "model_0_1_embedding_1.add(Dense(units=1, activation='sigmoid')) # En sortie le nb de units devra correspondre aux nb de variables cibles\n",
    "\n",
    "model_0_1_embedding_1.summary()"
   ]
  },
  {
   "cell_type": "code",
   "execution_count": 132,
   "id": "3e892380",
   "metadata": {},
   "outputs": [],
   "source": [
    "model_0_1_embedding_1.compile(loss='binary_crossentropy', optimizer='adam', metrics=['accuracy'])"
   ]
  },
  {
   "cell_type": "code",
   "execution_count": 133,
   "id": "96b9a68e",
   "metadata": {},
   "outputs": [
    {
     "name": "stdout",
     "output_type": "stream",
     "text": [
      "Epoch 1/10\n",
      "1774/1774 [==============================] - 16s 9ms/step - loss: 0.1659 - accuracy: 0.9402 - val_loss: 0.1136 - val_accuracy: 0.9564\n",
      "Epoch 2/10\n",
      "1774/1774 [==============================] - 15s 8ms/step - loss: 0.1159 - accuracy: 0.9584 - val_loss: 0.1178 - val_accuracy: 0.9581\n",
      "Epoch 3/10\n",
      "1774/1774 [==============================] - 15s 8ms/step - loss: 0.1019 - accuracy: 0.9625 - val_loss: 0.1137 - val_accuracy: 0.9577\n",
      "Epoch 4/10\n",
      "1770/1774 [============================>.] - ETA: 0s - loss: 0.0903 - accuracy: 0.9664Restoring model weights from the end of the best epoch: 1.\n",
      "1774/1774 [==============================] - 15s 8ms/step - loss: 0.0904 - accuracy: 0.9664 - val_loss: 0.1178 - val_accuracy: 0.9559\n",
      "Epoch 4: early stopping\n"
     ]
    }
   ],
   "source": [
    "batch_size = 32\n",
    "epochs = 10\n",
    "history_0_1 = model_0_1_embedding_1.fit(X_pad_train1, y_train1, batch_size=batch_size, epochs=epochs, validation_split=0.1,\n",
    "                               callbacks=[early_stop, time_callback])"
   ]
  },
  {
   "cell_type": "code",
   "execution_count": 134,
   "id": "f9c03869",
   "metadata": {},
   "outputs": [
    {
     "name": "stdout",
     "output_type": "stream",
     "text": [
      "493/493 [==============================] - 1s 2ms/step - loss: 0.1297 - accuracy: 0.9489\n"
     ]
    },
    {
     "data": {
      "text/plain": [
       "[0.1297268122434616, 0.9489439725875854]"
      ]
     },
     "execution_count": 134,
     "metadata": {},
     "output_type": "execute_result"
    }
   ],
   "source": [
    "model_0_1_embedding_1.evaluate(X_pad_test1, y_test1, verbose=1)"
   ]
  },
  {
   "cell_type": "markdown",
   "id": "b828c631",
   "metadata": {},
   "source": [
    "### Calcul des prédictions négatives et positives sur le jeu de test cdiscount"
   ]
  },
  {
   "cell_type": "code",
   "execution_count": 135,
   "id": "f5ccbe57",
   "metadata": {},
   "outputs": [
    {
     "name": "stdout",
     "output_type": "stream",
     "text": [
      "493/493 [==============================] - 1s 2ms/step\n"
     ]
    }
   ],
   "source": [
    "# création des prédictions du eu de test cdiscount à partir du modèle\n",
    "predict_cdiscount1 = model_0_1_embedding_1.predict(X_pad_test1, verbose=1)"
   ]
  },
  {
   "cell_type": "code",
   "execution_count": 136,
   "id": "c61b35bd",
   "metadata": {},
   "outputs": [
    {
     "data": {
      "text/plain": [
       "array([[0.9977293 ],\n",
       "       [0.9637288 ],\n",
       "       [0.98829585],\n",
       "       ...,\n",
       "       [0.9833031 ],\n",
       "       [0.98332715],\n",
       "       [0.99186134]], dtype=float32)"
      ]
     },
     "execution_count": 136,
     "metadata": {},
     "output_type": "execute_result"
    }
   ],
   "source": [
    "predict_cdiscount1"
   ]
  },
  {
   "cell_type": "code",
   "execution_count": 137,
   "id": "2fe07a90",
   "metadata": {},
   "outputs": [
    {
     "data": {
      "text/plain": [
       "array([1, 1, 1, ..., 1, 1, 1])"
      ]
     },
     "execution_count": 137,
     "metadata": {},
     "output_type": "execute_result"
    }
   ],
   "source": [
    "predict_cdiscount_class1 = predict_cdiscount1.round().astype('int').ravel()\n",
    "predict_cdiscount_class1"
   ]
  },
  {
   "cell_type": "code",
   "execution_count": 138,
   "id": "64cd865c",
   "metadata": {},
   "outputs": [
    {
     "name": "stderr",
     "output_type": "stream",
     "text": [
      "C:\\Users\\t.fourtouill\\Anaconda3\\lib\\site-packages\\seaborn\\_decorators.py:36: FutureWarning: Pass the following variable as a keyword arg: x. From version 0.12, the only valid positional argument will be `data`, and passing other arguments without an explicit keyword will result in an error or misinterpretation.\n",
      "  warnings.warn(\n"
     ]
    },
    {
     "data": {
      "image/png": "[encoded data removed]",
      "text/plain": [
       "<Figure size 288x216 with 1 Axes>"
      ]
     },
     "metadata": {
      "needs_background": "light"
     },
     "output_type": "display_data"
    }
   ],
   "source": [
    "plt.figure(figsize=(4, 3))\n",
    "sns.countplot(predict_cdiscount_class1)\n",
    "plt.show();"
   ]
  },
  {
   "cell_type": "markdown",
   "id": "14ed6ff5",
   "metadata": {},
   "source": [
    "### Calcul des prédictions négatives et positives sur le jeu de test amazon"
   ]
  },
  {
   "cell_type": "code",
   "execution_count": null,
   "id": "5ccf1520",
   "metadata": {},
   "outputs": [],
   "source": []
  },
  {
   "cell_type": "code",
   "execution_count": 139,
   "id": "1ed4f2fe",
   "metadata": {},
   "outputs": [],
   "source": [
    "# séparation de la variable cible et des variables explicatives\n",
    "check_set_amazon = df_test_0_1['commentaire'].values"
   ]
  },
  {
   "cell_type": "code",
   "execution_count": 140,
   "id": "3ba91546",
   "metadata": {},
   "outputs": [],
   "source": [
    "# vectorisation des token\n",
    "check_seq_amazon = tk.texts_to_sequences(check_set_amazon)"
   ]
  },
  {
   "cell_type": "code",
   "execution_count": 141,
   "id": "f8a34a06",
   "metadata": {},
   "outputs": [],
   "source": [
    "# mise sous matrice numpy\n",
    "check_pad_amazon = pad_sequences(check_seq_amazon, maxlen=max_words, padding='post')"
   ]
  },
  {
   "cell_type": "code",
   "execution_count": 142,
   "id": "f0032936",
   "metadata": {},
   "outputs": [
    {
     "name": "stdout",
     "output_type": "stream",
     "text": [
      "3/3 [==============================] - 0s 3ms/step\n"
     ]
    }
   ],
   "source": [
    "# création des prédictions du jeu de test amazon à partir du modèle\n",
    "check_predict_0_1 = model_0_1_embedding_1.predict(check_pad_amazon, verbose=1)"
   ]
  },
  {
   "cell_type": "code",
   "execution_count": 143,
   "id": "8f815ae9",
   "metadata": {},
   "outputs": [
    {
     "name": "stdout",
     "output_type": "stream",
     "text": [
      "[0.20762032]\n",
      "[0.14937669]\n",
      "[0.35791108]\n",
      "[0.15300229]\n",
      "[0.00162762]\n",
      "[0.01252696]\n",
      "[0.02229959]\n",
      "[0.01726428]\n",
      "[0.14545631]\n",
      "[0.00091267]\n"
     ]
    }
   ],
   "source": [
    "for i in range(10):\n",
    "    print(check_predict_0_1[i])"
   ]
  },
  {
   "cell_type": "code",
   "execution_count": 144,
   "id": "dcc62e2e",
   "metadata": {},
   "outputs": [
    {
     "data": {
      "text/plain": [
       "array([0, 0, 0, 0, 0, 0, 0, 0, 0, 0, 0, 0, 0, 1, 0, 0, 0, 0, 0, 0, 0, 0,\n",
       "       0, 0, 0, 0, 0, 0, 0, 0, 0, 0, 0, 0, 0, 0, 0, 0, 0, 0, 0, 1, 1, 1,\n",
       "       1, 1, 1, 1, 0, 1, 1, 1, 1, 1, 0, 0, 0, 1, 1, 1, 1, 1, 1, 1, 1, 1,\n",
       "       0, 1, 0, 1, 1, 1, 1, 1, 1, 0, 1, 1, 1, 1])"
      ]
     },
     "execution_count": 144,
     "metadata": {},
     "output_type": "execute_result"
    }
   ],
   "source": [
    "check_predict_0_1_class = check_predict_0_1.round().astype('int').ravel()\n",
    "check_predict_0_1_class"
   ]
  },
  {
   "cell_type": "code",
   "execution_count": 145,
   "id": "3517deb6",
   "metadata": {},
   "outputs": [
    {
     "name": "stderr",
     "output_type": "stream",
     "text": [
      "C:\\Users\\t.fourtouill\\Anaconda3\\lib\\site-packages\\seaborn\\_decorators.py:36: FutureWarning: Pass the following variable as a keyword arg: x. From version 0.12, the only valid positional argument will be `data`, and passing other arguments without an explicit keyword will result in an error or misinterpretation.\n",
      "  warnings.warn(\n"
     ]
    },
    {
     "data": {
      "image/png": "[encoded data removed]",
      "text/plain": [
       "<Figure size 288x216 with 1 Axes>"
      ]
     },
     "metadata": {
      "needs_background": "light"
     },
     "output_type": "display_data"
    }
   ],
   "source": [
    "plt.figure(figsize=(4, 3))\n",
    "sns.countplot(check_predict_0_1_class)\n",
    "plt.show();"
   ]
  },
  {
   "cell_type": "code",
   "execution_count": 146,
   "id": "494df9a3",
   "metadata": {},
   "outputs": [
    {
     "data": {
      "text/html": [
       "<div>\n",
       "<style scoped>\n",
       "    .dataframe tbody tr th:only-of-type {\n",
       "        vertical-align: middle;\n",
       "    }\n",
       "\n",
       "    .dataframe tbody tr th {\n",
       "        vertical-align: top;\n",
       "    }\n",
       "\n",
       "    .dataframe thead th {\n",
       "        text-align: right;\n",
       "    }\n",
       "</style>\n",
       "<table border=\"1\" class=\"dataframe\">\n",
       "  <thead>\n",
       "    <tr style=\"text-align: right;\">\n",
       "      <th></th>\n",
       "      <th>commentaire</th>\n",
       "      <th>note</th>\n",
       "      <th>prediction</th>\n",
       "    </tr>\n",
       "  </thead>\n",
       "  <tbody>\n",
       "    <tr>\n",
       "      <th>0</th>\n",
       "      <td>MENZZONous aimerions savoir pourquoi vous ne retournez pas l'argent de vos clients et vous continuez à trouver des excuses à ce sujet. Les personnes qui donnent leur avis sur les réseaux sociaux vous bloqueront et leurs mails ne recevront pas de réponse. Pensez-vous que c'est normal?</td>\n",
       "      <td>1</td>\n",
       "      <td>1</td>\n",
       "    </tr>\n",
       "    <tr>\n",
       "      <th>1</th>\n",
       "      <td>Voulant acheter un pare soleil  de marque pour mon appareil photo le prix étant de 28 € environ quel a pas était ma surprise de voir ce prix  grimper  à 45 € en l'espace  de 5 mn et tous ça  sur le site Amazon y a t'il d'autres  personnes à qui cela est  arrivé , je serai curieux  de  lire vos témoignages  ( pratiques de voyous)</td>\n",
       "      <td>1</td>\n",
       "      <td>1</td>\n",
       "    </tr>\n",
       "    <tr>\n",
       "      <th>2</th>\n",
       "      <td>Comment souvent problème d'envoi ou réception de marchandise biensure service client au téléphone ce n est pas leur faute c est les gens de l emballage belle esprit d équipe je ne commanderai plus chez vous</td>\n",
       "      <td>1</td>\n",
       "      <td>1</td>\n",
       "    </tr>\n",
       "    <tr>\n",
       "      <th>3</th>\n",
       "      <td>L’arnaque des livreurs qui ne respectent pas les instructions des livraison, laissent le clos n’importe où le marquent livres alors qu ils ont pas livres! Le service client à part dire ; on va faire remonter l’info et ouvrir une enquête », ne fait rien! Avec l’argent qu engrange Amazon il s’agirait de s entourer de livreurs fiables !!</td>\n",
       "      <td>1</td>\n",
       "      <td>1</td>\n",
       "    </tr>\n",
       "    <tr>\n",
       "      <th>4</th>\n",
       "      <td>J’ai commandé un article très cher qui est supposé être neuf. A ma surprise en recevant le colis l l’article semble déjà ouvert/voir même déjà utilisé, le carton de l’article était déchiré.. étant la grosse somme que j’ai dépensé sur cet article je ne peux accepter de recevoir du reconditionné au prix du neuf. En demandant le retour Amazon refuse de me rembourser sur carte bancaire mais plutôt uniquement par avoir et ça c’est absurde car c’est pas de ma faute c’est la faute à Amazon, d’ailleurs pourquoi m’obliger à consommer par force une telle grosse somme sur leur site, moi je veux pas d’avoir je veux mon argent sur mon compte bancaire !!!! J’ai commencé les démarches pour ouvrir un contentieux contre Amazon !</td>\n",
       "      <td>1</td>\n",
       "      <td>1</td>\n",
       "    </tr>\n",
       "  </tbody>\n",
       "</table>\n",
       "</div>"
      ],
      "text/plain": [
       "                                                                                                                                                                                                                                                                                                                                                                                                                                                                                                                                                                                                                                                                                                                                         commentaire  \\\n",
       "0                                                                                                                                                                                                                                                                                                                                                                                                                                                       MENZZONous aimerions savoir pourquoi vous ne retournez pas l'argent de vos clients et vous continuez à trouver des excuses à ce sujet. Les personnes qui donnent leur avis sur les réseaux sociaux vous bloqueront et leurs mails ne recevront pas de réponse. Pensez-vous que c'est normal?   \n",
       "1                                                                                                                                                                                                                                                                                                                                                                                                         Voulant acheter un pare soleil  de marque pour mon appareil photo le prix étant de 28 € environ quel a pas était ma surprise de voir ce prix  grimper  à 45 € en l'espace  de 5 mn et tous ça  sur le site Amazon y a t'il d'autres  personnes à qui cela est  arrivé , je serai curieux  de  lire vos témoignages  ( pratiques de voyous)   \n",
       "2                                                                                                                                                                                                                                                                                                                                                                                                                                                                                                                                     Comment souvent problème d'envoi ou réception de marchandise biensure service client au téléphone ce n est pas leur faute c est les gens de l emballage belle esprit d équipe je ne commanderai plus chez vous   \n",
       "3                                                                                                                                                                                                                                                                                                                                                                                                   L’arnaque des livreurs qui ne respectent pas les instructions des livraison, laissent le clos n’importe où le marquent livres alors qu ils ont pas livres! Le service client à part dire ; on va faire remonter l’info et ouvrir une enquête », ne fait rien! Avec l’argent qu engrange Amazon il s’agirait de s entourer de livreurs fiables !!   \n",
       "4  J’ai commandé un article très cher qui est supposé être neuf. A ma surprise en recevant le colis l l’article semble déjà ouvert/voir même déjà utilisé, le carton de l’article était déchiré.. étant la grosse somme que j’ai dépensé sur cet article je ne peux accepter de recevoir du reconditionné au prix du neuf. En demandant le retour Amazon refuse de me rembourser sur carte bancaire mais plutôt uniquement par avoir et ça c’est absurde car c’est pas de ma faute c’est la faute à Amazon, d’ailleurs pourquoi m’obliger à consommer par force une telle grosse somme sur leur site, moi je veux pas d’avoir je veux mon argent sur mon compte bancaire !!!! J’ai commencé les démarches pour ouvrir un contentieux contre Amazon !   \n",
       "\n",
       "   note  prediction  \n",
       "0     1           1  \n",
       "1     1           1  \n",
       "2     1           1  \n",
       "3     1           1  \n",
       "4     1           1  "
      ]
     },
     "execution_count": 146,
     "metadata": {},
     "output_type": "execute_result"
    }
   ],
   "source": [
    "# comparaison des prédictions et des notes du jeu de test\n",
    "check_df_0_1 = pd.DataFrame(list(zip(df_test_0_1.commentaire, df_test_0_1.note, check_predict_0_1_class)), columns=['commentaire', 'note', 'prediction'])\n",
    "check_df.head()"
   ]
  },
  {
   "cell_type": "code",
   "execution_count": 147,
   "id": "1965e9a5",
   "metadata": {},
   "outputs": [
    {
     "name": "stdout",
     "output_type": "stream",
     "text": [
      "              precision    recall  f1-score   support\n",
      "\n",
      "           0       0.83      0.97      0.90        40\n",
      "           1       0.97      0.80      0.88        40\n",
      "\n",
      "    accuracy                           0.89        80\n",
      "   macro avg       0.90      0.89      0.89        80\n",
      "weighted avg       0.90      0.89      0.89        80\n",
      "\n"
     ]
    },
    {
     "data": {
      "text/html": [
       "<div>\n",
       "<style scoped>\n",
       "    .dataframe tbody tr th:only-of-type {\n",
       "        vertical-align: middle;\n",
       "    }\n",
       "\n",
       "    .dataframe tbody tr th {\n",
       "        vertical-align: top;\n",
       "    }\n",
       "\n",
       "    .dataframe thead th {\n",
       "        text-align: right;\n",
       "    }\n",
       "</style>\n",
       "<table border=\"1\" class=\"dataframe\">\n",
       "  <thead>\n",
       "    <tr style=\"text-align: right;\">\n",
       "      <th>predictions</th>\n",
       "      <th>0</th>\n",
       "      <th>1</th>\n",
       "    </tr>\n",
       "    <tr>\n",
       "      <th>données réelles</th>\n",
       "      <th></th>\n",
       "      <th></th>\n",
       "    </tr>\n",
       "  </thead>\n",
       "  <tbody>\n",
       "    <tr>\n",
       "      <th>0</th>\n",
       "      <td>39</td>\n",
       "      <td>1</td>\n",
       "    </tr>\n",
       "    <tr>\n",
       "      <th>1</th>\n",
       "      <td>8</td>\n",
       "      <td>32</td>\n",
       "    </tr>\n",
       "  </tbody>\n",
       "</table>\n",
       "</div>"
      ],
      "text/plain": [
       "predictions       0   1\n",
       "données réelles        \n",
       "0                39   1\n",
       "1                 8  32"
      ]
     },
     "metadata": {},
     "output_type": "display_data"
    },
    {
     "data": {
      "text/html": [
       "<div>\n",
       "<style scoped>\n",
       "    .dataframe tbody tr th:only-of-type {\n",
       "        vertical-align: middle;\n",
       "    }\n",
       "\n",
       "    .dataframe tbody tr th {\n",
       "        vertical-align: top;\n",
       "    }\n",
       "\n",
       "    .dataframe thead th {\n",
       "        text-align: right;\n",
       "    }\n",
       "</style>\n",
       "<table border=\"1\" class=\"dataframe\">\n",
       "  <thead>\n",
       "    <tr style=\"text-align: right;\">\n",
       "      <th>predictions</th>\n",
       "      <th>0</th>\n",
       "      <th>1</th>\n",
       "    </tr>\n",
       "    <tr>\n",
       "      <th>données réelles</th>\n",
       "      <th></th>\n",
       "      <th></th>\n",
       "    </tr>\n",
       "  </thead>\n",
       "  <tbody>\n",
       "    <tr>\n",
       "      <th>0</th>\n",
       "      <td>0.975</td>\n",
       "      <td>0.025</td>\n",
       "    </tr>\n",
       "    <tr>\n",
       "      <th>1</th>\n",
       "      <td>0.200</td>\n",
       "      <td>0.800</td>\n",
       "    </tr>\n",
       "  </tbody>\n",
       "</table>\n",
       "</div>"
      ],
      "text/plain": [
       "predictions          0      1\n",
       "données réelles              \n",
       "0                0.975  0.025\n",
       "1                0.200  0.800"
      ]
     },
     "metadata": {},
     "output_type": "display_data"
    },
    {
     "name": "stdout",
     "output_type": "stream",
     "text": [
      "les prédictions correctes sont supérieures à 50% pour 0 étoile(s) avec 98%\n",
      "les prédictions correctes sont supérieures à 50% pour 1 étoile(s) avec 80%\n"
     ]
    }
   ],
   "source": [
    "from sklearn.metrics import classification_report\n",
    "\n",
    "# vérification des résultats sur un jeu de test externe (100 commentaires amazon également répartis entre les étoiles)\n",
    "\n",
    "cm_test1_0_1 = classification_report(df_test_0_1.note, check_predict_0_1_class)\n",
    "print(cm_test1_0_1)\n",
    "\n",
    "cm_test2_0_1 = pd.crosstab(df_test_0_1.note, check_predict_0_1_class, rownames=['données réelles'], colnames=['predictions'])\n",
    "display(cm_test2_0_1)\n",
    "\n",
    "cm_test3_0_1 = pd.crosstab(df_test_0_1.note, check_predict_0_1_class, rownames=['données réelles'], colnames=['predictions'], normalize=0)\n",
    "display(cm_test3_0_1)\n",
    "\n",
    "for i in cm_test3_0_1.index:\n",
    "    for j in cm_test3_0_1.columns :\n",
    "        if (i==j and cm_test3_0_1.loc[i, j] > 0.5) :\n",
    "            print(\"les prédictions correctes sont supérieures à 50% pour {} étoile(s) avec {:0.0%}\".format(i, cm_test3_0_1.loc[i, j]))"
   ]
  },
  {
   "cell_type": "code",
   "execution_count": 148,
   "id": "e40ea974",
   "metadata": {},
   "outputs": [
    {
     "name": "stdout",
     "output_type": "stream",
     "text": [
      "INFO:tensorflow:Assets written to: datasets/SatisfactionClients/model_0_1_embedding5\\assets\n"
     ]
    }
   ],
   "source": [
    "import os\n",
    "path = \"/Users/t.fourtouill/Downloads/SatisfactionClients\"\n",
    "os.makedirs(path, exist_ok=True)\n",
    "model_0_1_embedding_1.save('datasets/SatisfactionClients/model_0_1_embedding7')"
   ]
  }
 ],
 "metadata": {
  "kernelspec": {
   "display_name": "Python 3 (ipykernel)",
   "language": "python",
   "name": "python3"
  },
  "language_info": {
   "codemirror_mode": {
    "name": "ipython",
    "version": 3
   },
   "file_extension": ".py",
   "mimetype": "text/x-python",
   "name": "python",
   "nbconvert_exporter": "python",
   "pygments_lexer": "ipython3",
   "version": "3.9.7"
  }
 },
 "nbformat": 4,
 "nbformat_minor": 5
}
